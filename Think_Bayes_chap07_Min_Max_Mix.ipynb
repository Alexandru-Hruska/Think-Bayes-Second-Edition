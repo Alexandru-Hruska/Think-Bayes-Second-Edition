{
  "cells": [
    {
      "cell_type": "markdown",
      "metadata": {
        "id": "cmbQQIR27F_F"
      },
      "source": [
        "# Minimum, Maximum, and Mixture"
      ]
    },
    {
      "cell_type": "markdown",
      "metadata": {
        "tags": [],
        "id": "_EeO66Gf7F_H"
      },
      "source": [
        "Think Bayes, Second Edition\n",
        "\n",
        "Copyright 2020 Allen B. Downey\n",
        "\n",
        "License: [Attribution-NonCommercial-ShareAlike 4.0 International (CC BY-NC-SA 4.0)](https://creativecommons.org/licenses/by-nc-sa/4.0/)"
      ]
    },
    {
      "cell_type": "code",
      "execution_count": 3,
      "metadata": {
        "execution": {
          "iopub.execute_input": "2021-04-16T19:35:30.749769Z",
          "iopub.status.busy": "2021-04-16T19:35:30.748995Z",
          "iopub.status.idle": "2021-04-16T19:35:30.752221Z",
          "shell.execute_reply": "2021-04-16T19:35:30.751509Z"
        },
        "tags": [],
        "id": "Y9icl88X7F_H",
        "colab": {
          "base_uri": "https://localhost:8080/"
        },
        "outputId": "d3423b05-9bf6-4a17-aeff-05d8710a4021"
      },
      "outputs": [
        {
          "output_type": "stream",
          "name": "stdout",
          "text": [
            "Collecting empiricaldist\n",
            "  Downloading empiricaldist-0.7.2.tar.gz (12 kB)\n",
            "  Installing build dependencies ... \u001b[?25l\u001b[?25hdone\n",
            "  Getting requirements to build wheel ... \u001b[?25l\u001b[?25hdone\n",
            "  Preparing metadata (pyproject.toml) ... \u001b[?25l\u001b[?25hdone\n",
            "Building wheels for collected packages: empiricaldist\n",
            "  Building wheel for empiricaldist (pyproject.toml) ... \u001b[?25l\u001b[?25hdone\n",
            "  Created wheel for empiricaldist: filename=empiricaldist-0.7.2-py3-none-any.whl size=12205 sha256=6a4e0e9778b97f4b697e981407767ae13bbea9d2fc389e9d047677940accd16f\n",
            "  Stored in directory: /root/.cache/pip/wheels/e9/57/8a/15b864f4d5dc20cef626e3a015fec88b19df385ef30a8364cc\n",
            "Successfully built empiricaldist\n",
            "Installing collected packages: empiricaldist\n",
            "Successfully installed empiricaldist-0.7.2\n"
          ]
        }
      ],
      "source": [
        "# If we're running on Colab, install empiricaldist\n",
        "# https://pypi.org/project/empiricaldist/\n",
        "\n",
        "import sys\n",
        "IN_COLAB = 'google.colab' in sys.modules\n",
        "\n",
        "if IN_COLAB:\n",
        "    !pip install empiricaldist"
      ]
    },
    {
      "cell_type": "code",
      "execution_count": 4,
      "metadata": {
        "execution": {
          "iopub.execute_input": "2021-04-16T19:35:30.756174Z",
          "iopub.status.busy": "2021-04-16T19:35:30.755765Z",
          "iopub.status.idle": "2021-04-16T19:35:30.757511Z",
          "shell.execute_reply": "2021-04-16T19:35:30.757889Z"
        },
        "tags": [],
        "id": "gTfxl6yx7F_J",
        "colab": {
          "base_uri": "https://localhost:8080/"
        },
        "outputId": "895d3892-b0e9-4660-9d48-5f466d9fbd0d"
      },
      "outputs": [
        {
          "output_type": "stream",
          "name": "stdout",
          "text": [
            "Downloaded utils.py\n"
          ]
        }
      ],
      "source": [
        "# Get utils.py\n",
        "\n",
        "from os.path import basename, exists\n",
        "\n",
        "def download(url):\n",
        "    filename = basename(url)\n",
        "    if not exists(filename):\n",
        "        from urllib.request import urlretrieve\n",
        "        local, _ = urlretrieve(url, filename)\n",
        "        print('Downloaded ' + local)\n",
        "\n",
        "download('https://github.com/AllenDowney/ThinkBayes2/raw/master/soln/utils.py')"
      ]
    },
    {
      "cell_type": "code",
      "execution_count": 5,
      "metadata": {
        "execution": {
          "iopub.execute_input": "2021-04-16T19:35:30.760611Z",
          "iopub.status.busy": "2021-04-16T19:35:30.760188Z",
          "iopub.status.idle": "2021-04-16T19:35:31.437686Z",
          "shell.execute_reply": "2021-04-16T19:35:31.438042Z"
        },
        "tags": [],
        "id": "QIH_2VY87F_K"
      },
      "outputs": [],
      "source": [
        "from utils import set_pyplot_params\n",
        "set_pyplot_params()"
      ]
    },
    {
      "cell_type": "markdown",
      "metadata": {
        "id": "kb47W5Qo7F_K"
      },
      "source": [
        "In the previous chapter we computed distributions of sums.\n",
        "In this chapter, we'll compute distributions of minimums and maximums, and use them to solve both forward and inverse problems.\n",
        "\n",
        "Then we'll look at distributions that are mixtures of other distributions, which will turn out to be particularly useful for making predictions.\n",
        "\n",
        "But we'll start with a powerful tool for working with distributions, the cumulative distribution function."
      ]
    },
    {
      "cell_type": "markdown",
      "metadata": {
        "id": "yx48NQnD7F_L"
      },
      "source": [
        "## Cumulative Distribution Functions\n",
        "\n",
        "So far we have been using probability mass functions to represent distributions.\n",
        "A useful alternative is the **cumulative distribution function**, or CDF.\n",
        "\n",
        "As an example, I'll use the posterior distribution from the Euro problem, which we computed in <<_BayesianEstimation>>.\n",
        "\n",
        "Here's the uniform prior we started with."
      ]
    },
    {
      "cell_type": "code",
      "execution_count": 6,
      "metadata": {
        "execution": {
          "iopub.execute_input": "2021-04-16T19:35:31.442337Z",
          "iopub.status.busy": "2021-04-16T19:35:31.441797Z",
          "iopub.status.idle": "2021-04-16T19:35:31.443480Z",
          "shell.execute_reply": "2021-04-16T19:35:31.443832Z"
        },
        "id": "UEMsx0UW7F_O"
      },
      "outputs": [],
      "source": [
        "import numpy as np\n",
        "from empiricaldist import Pmf\n",
        "\n",
        "hypos = np.linspace(0, 1, 101)\n",
        "pmf = Pmf(1, hypos)\n",
        "data = 140, 250"
      ]
    },
    {
      "cell_type": "markdown",
      "metadata": {
        "id": "xq3o7dvs7F_O"
      },
      "source": [
        "And here's the update."
      ]
    },
    {
      "cell_type": "code",
      "execution_count": 8,
      "metadata": {
        "execution": {
          "iopub.execute_input": "2021-04-16T19:35:31.447686Z",
          "iopub.status.busy": "2021-04-16T19:35:31.447185Z",
          "iopub.status.idle": "2021-04-16T19:35:31.449283Z",
          "shell.execute_reply": "2021-04-16T19:35:31.448866Z"
        },
        "id": "O9rRVxc47F_P"
      },
      "outputs": [],
      "source": [
        "from scipy.stats import binom\n",
        "\n",
        "def update_binomial(pmf, data):\n",
        "    \"\"\"Update pmf using the binomial distribution.\"\"\"\n",
        "    k, n = data\n",
        "    xs = pmf.qs\n",
        "    likelihood = binom.pmf(k, n, xs)\n",
        "    pmf *= likelihood\n",
        "    pmf.normalize()"
      ]
    },
    {
      "cell_type": "code",
      "execution_count": 9,
      "metadata": {
        "execution": {
          "iopub.execute_input": "2021-04-16T19:35:31.454274Z",
          "iopub.status.busy": "2021-04-16T19:35:31.453576Z",
          "iopub.status.idle": "2021-04-16T19:35:31.459248Z",
          "shell.execute_reply": "2021-04-16T19:35:31.458812Z"
        },
        "id": "U7ZADvR37F_Q"
      },
      "outputs": [],
      "source": [
        "update_binomial(pmf, data)"
      ]
    },
    {
      "cell_type": "markdown",
      "metadata": {
        "id": "Kvh_0e-o7F_R"
      },
      "source": [
        "The CDF is the cumulative sum of the PMF, so we can compute it like this:"
      ]
    },
    {
      "cell_type": "code",
      "execution_count": 10,
      "metadata": {
        "execution": {
          "iopub.execute_input": "2021-04-16T19:35:31.462631Z",
          "iopub.status.busy": "2021-04-16T19:35:31.462163Z",
          "iopub.status.idle": "2021-04-16T19:35:31.463845Z",
          "shell.execute_reply": "2021-04-16T19:35:31.464199Z"
        },
        "id": "DWmaWbcA7F_T"
      },
      "outputs": [],
      "source": [
        "cumulative = pmf.cumsum()"
      ]
    },
    {
      "cell_type": "markdown",
      "metadata": {
        "id": "GFWLJrGQ7F_T"
      },
      "source": [
        "Here's what it looks like, along with the PMF."
      ]
    },
    {
      "cell_type": "code",
      "execution_count": 26,
      "metadata": {
        "execution": {
          "iopub.execute_input": "2021-04-16T19:35:31.467579Z",
          "iopub.status.busy": "2021-04-16T19:35:31.467137Z",
          "iopub.status.idle": "2021-04-16T19:35:31.469147Z",
          "shell.execute_reply": "2021-04-16T19:35:31.468672Z"
        },
        "tags": [],
        "id": "TP1sq3FZ7F_U"
      },
      "outputs": [],
      "source": [
        "from utils import decorate\n",
        "\n",
        "def decorate_euro(title):\n",
        "    decorate(xlabel='Proportion of heads (x)',\n",
        "             ylabel='Probability',\n",
        "             title=title)"
      ]
    },
    {
      "cell_type": "code",
      "execution_count": 12,
      "metadata": {
        "execution": {
          "iopub.execute_input": "2021-04-16T19:35:31.474021Z",
          "iopub.status.busy": "2021-04-16T19:35:31.472944Z",
          "iopub.status.idle": "2021-04-16T19:35:31.677455Z",
          "shell.execute_reply": "2021-04-16T19:35:31.677848Z"
        },
        "tags": [],
        "id": "iw2j_8sh7F_U",
        "colab": {
          "base_uri": "https://localhost:8080/",
          "height": 487
        },
        "outputId": "00da2f85-2bb2-4674-ec1b-b6475f3a187b"
      },
      "outputs": [
        {
          "output_type": "display_data",
          "data": {
            "text/plain": [
              "<Figure size 640x480 with 1 Axes>"
            ],
            "image/png": "[encoded data removed]"
          },
          "metadata": {}
        }
      ],
      "source": [
        "cumulative.plot(label='CDF')\n",
        "pmf.plot(label='PMF')\n",
        "decorate_euro(title='Posterior distribution for the Euro problem')"
      ]
    },
    {
      "cell_type": "markdown",
      "metadata": {
        "id": "vW--yiA67F_U"
      },
      "source": [
        "The range of the CDF is always from 0 to 1, in contrast with the PMF, where the maximum can be any probability.\n",
        "\n",
        "The result from `cumsum` is a Pandas `Series`, so we can use the bracket operator to select an element:"
      ]
    },
    {
      "cell_type": "code",
      "execution_count": 13,
      "metadata": {
        "execution": {
          "iopub.execute_input": "2021-04-16T19:35:31.681378Z",
          "iopub.status.busy": "2021-04-16T19:35:31.680792Z",
          "iopub.status.idle": "2021-04-16T19:35:31.684176Z",
          "shell.execute_reply": "2021-04-16T19:35:31.683818Z"
        },
        "id": "TaG8LM4U7F_U",
        "colab": {
          "base_uri": "https://localhost:8080/"
        },
        "outputId": "8185e18d-b1bf-4f1c-a458-d5f305419534"
      },
      "outputs": [
        {
          "output_type": "execute_result",
          "data": {
            "text/plain": [
              "0.9638303193984253"
            ]
          },
          "metadata": {},
          "execution_count": 13
        }
      ],
      "source": [
        "cumulative[0.61]"
      ]
    },
    {
      "cell_type": "markdown",
      "metadata": {
        "id": "H-4uS7VT7F_U"
      },
      "source": [
        "The result is about 0.96, which means that the total probability of all quantities less than or equal to 0.61 is 96%.\n",
        "\n",
        "To go the other way --- to look up a probability and get the corresponding quantile --- we can use interpolation:"
      ]
    },
    {
      "cell_type": "code",
      "execution_count": 14,
      "metadata": {
        "execution": {
          "iopub.execute_input": "2021-04-16T19:35:31.688718Z",
          "iopub.status.busy": "2021-04-16T19:35:31.688069Z",
          "iopub.status.idle": "2021-04-16T19:35:31.691063Z",
          "shell.execute_reply": "2021-04-16T19:35:31.690624Z"
        },
        "id": "3hkhLgkU7F_V",
        "colab": {
          "base_uri": "https://localhost:8080/"
        },
        "outputId": "63905a84-b01a-4876-ff3b-27b7c1657005"
      },
      "outputs": [
        {
          "output_type": "execute_result",
          "data": {
            "text/plain": [
              "array(0.60890171)"
            ]
          },
          "metadata": {},
          "execution_count": 14
        }
      ],
      "source": [
        "from scipy.interpolate import interp1d\n",
        "\n",
        "ps = cumulative.values\n",
        "qs = cumulative.index\n",
        "\n",
        "interp = interp1d(ps, qs)\n",
        "interp(0.96)"
      ]
    },
    {
      "cell_type": "markdown",
      "metadata": {
        "id": "hMZ2fPmq7F_V"
      },
      "source": [
        "The result is about 0.61, so that confirms that the 96th percentile of this distribution is 0.61.\n",
        "\n",
        "`empiricaldist` provides a class called `Cdf` that represents a cumulative distribution function.\n",
        "Given a `Pmf`, you can compute a `Cdf` like this:"
      ]
    },
    {
      "cell_type": "code",
      "execution_count": 22,
      "metadata": {
        "execution": {
          "iopub.execute_input": "2021-04-16T19:35:31.694831Z",
          "iopub.status.busy": "2021-04-16T19:35:31.694113Z",
          "iopub.status.idle": "2021-04-16T19:35:31.696012Z",
          "shell.execute_reply": "2021-04-16T19:35:31.696439Z"
        },
        "id": "tfr4-BkB7F_V"
      },
      "outputs": [],
      "source": [
        "cdf = pmf.make_cdf()"
      ]
    },
    {
      "cell_type": "markdown",
      "metadata": {
        "id": "WFYnnibP7F_Z"
      },
      "source": [
        "`make_cdf` uses `np.cumsum` to compute the cumulative sum of the probabilities.\n",
        "\n",
        "You can use brackets to select an element from a `Cdf`:"
      ]
    },
    {
      "cell_type": "code",
      "execution_count": 16,
      "metadata": {
        "execution": {
          "iopub.execute_input": "2021-04-16T19:35:31.700286Z",
          "iopub.status.busy": "2021-04-16T19:35:31.699659Z",
          "iopub.status.idle": "2021-04-16T19:35:31.702626Z",
          "shell.execute_reply": "2021-04-16T19:35:31.703050Z"
        },
        "id": "gN4Ey8EP7F_Z",
        "colab": {
          "base_uri": "https://localhost:8080/"
        },
        "outputId": "50fa6061-1e20-412b-ee1a-aedf46901c40"
      },
      "outputs": [
        {
          "output_type": "execute_result",
          "data": {
            "text/plain": [
              "0.9638303193984253"
            ]
          },
          "metadata": {},
          "execution_count": 16
        }
      ],
      "source": [
        "cdf[0.61]"
      ]
    },
    {
      "cell_type": "markdown",
      "metadata": {
        "id": "321kw65v7F_a"
      },
      "source": [
        "But if you look up a quantity that's not in the distribution, you get a `KeyError`.\n"
      ]
    },
    {
      "cell_type": "code",
      "execution_count": 17,
      "metadata": {
        "execution": {
          "iopub.execute_input": "2021-04-16T19:35:31.707236Z",
          "iopub.status.busy": "2021-04-16T19:35:31.706612Z",
          "iopub.status.idle": "2021-04-16T19:35:31.709290Z",
          "shell.execute_reply": "2021-04-16T19:35:31.709801Z"
        },
        "tags": [],
        "id": "tXdjyg3c7F_a",
        "colab": {
          "base_uri": "https://localhost:8080/"
        },
        "outputId": "6e45ad99-1026-469d-b16e-be1e2eaa835a"
      },
      "outputs": [
        {
          "output_type": "stream",
          "name": "stdout",
          "text": [
            "KeyError(0.615)\n"
          ]
        }
      ],
      "source": [
        "try:\n",
        "    cdf[0.615]\n",
        "except KeyError as e:\n",
        "    print(repr(e))"
      ]
    },
    {
      "cell_type": "markdown",
      "metadata": {
        "id": "WI0M7RGN7F_c"
      },
      "source": [
        "To avoid this problem, you can call a `Cdf` as a function, using parentheses.\n",
        "If the argument does not appear in the `Cdf`, it interpolates between quantities."
      ]
    },
    {
      "cell_type": "code",
      "execution_count": 18,
      "metadata": {
        "execution": {
          "iopub.execute_input": "2021-04-16T19:35:31.714823Z",
          "iopub.status.busy": "2021-04-16T19:35:31.714082Z",
          "iopub.status.idle": "2021-04-16T19:35:31.718078Z",
          "shell.execute_reply": "2021-04-16T19:35:31.717545Z"
        },
        "id": "Vy6pr_5k7F_c",
        "colab": {
          "base_uri": "https://localhost:8080/"
        },
        "outputId": "b113a0c2-4346-418c-e5cd-d16be6fe1898"
      },
      "outputs": [
        {
          "output_type": "execute_result",
          "data": {
            "text/plain": [
              "array(0.96383032)"
            ]
          },
          "metadata": {},
          "execution_count": 18
        }
      ],
      "source": [
        "cdf(0.615)"
      ]
    },
    {
      "cell_type": "markdown",
      "metadata": {
        "id": "jvenCNrR7F_c"
      },
      "source": [
        "Going the other way, you can use `quantile` to look up a cumulative probability and get the corresponding quantity:\n"
      ]
    },
    {
      "cell_type": "code",
      "execution_count": 19,
      "metadata": {
        "execution": {
          "iopub.execute_input": "2021-04-16T19:35:31.722903Z",
          "iopub.status.busy": "2021-04-16T19:35:31.722203Z",
          "iopub.status.idle": "2021-04-16T19:35:31.725892Z",
          "shell.execute_reply": "2021-04-16T19:35:31.725379Z"
        },
        "id": "Oxo3ZrrX7F_d",
        "colab": {
          "base_uri": "https://localhost:8080/"
        },
        "outputId": "6d872a7a-a718-4bee-f338-337352665be6"
      },
      "outputs": [
        {
          "output_type": "execute_result",
          "data": {
            "text/plain": [
              "array(0.61)"
            ]
          },
          "metadata": {},
          "execution_count": 19
        }
      ],
      "source": [
        "cdf.quantile(0.9638303)"
      ]
    },
    {
      "cell_type": "markdown",
      "metadata": {
        "id": "98A4YJ--7F_k"
      },
      "source": [
        "`Cdf` also provides `credible_interval`, which computes a credible interval that contains the given probability:\n"
      ]
    },
    {
      "cell_type": "code",
      "execution_count": 20,
      "metadata": {
        "execution": {
          "iopub.execute_input": "2021-04-16T19:35:31.730655Z",
          "iopub.status.busy": "2021-04-16T19:35:31.730044Z",
          "iopub.status.idle": "2021-04-16T19:35:31.733376Z",
          "shell.execute_reply": "2021-04-16T19:35:31.733908Z"
        },
        "id": "rd58R0Ao7F_k",
        "colab": {
          "base_uri": "https://localhost:8080/"
        },
        "outputId": "3636eb85-4b97-4434-c6b8-0e86cd29c2a5"
      },
      "outputs": [
        {
          "output_type": "execute_result",
          "data": {
            "text/plain": [
              "array([0.51, 0.61])"
            ]
          },
          "metadata": {},
          "execution_count": 20
        }
      ],
      "source": [
        "cdf.credible_interval(0.9)"
      ]
    },
    {
      "cell_type": "markdown",
      "metadata": {
        "id": "geVFN4Fj7F_k"
      },
      "source": [
        "CDFs and PMFs are equivalent in the sense that they contain the\n",
        "same information about the distribution, and you can always convert\n",
        "from one to the other.\n",
        "Given a `Cdf`, you can get the equivalent `Pmf` like this:"
      ]
    },
    {
      "cell_type": "code",
      "execution_count": 21,
      "metadata": {
        "execution": {
          "iopub.execute_input": "2021-04-16T19:35:31.738651Z",
          "iopub.status.busy": "2021-04-16T19:35:31.738024Z",
          "iopub.status.idle": "2021-04-16T19:35:31.740320Z",
          "shell.execute_reply": "2021-04-16T19:35:31.740851Z"
        },
        "id": "84yFBT9Z7F_k"
      },
      "outputs": [],
      "source": [
        "pmf = cdf.make_pmf()"
      ]
    },
    {
      "cell_type": "markdown",
      "metadata": {
        "id": "WMCqc4qD7F_k"
      },
      "source": [
        "`make_pmf` uses `np.diff` to compute differences between consecutive cumulative probabilities.\n",
        "\n",
        "One reason `Cdf` objects are useful is that they compute quantiles efficiently.\n",
        "Another is that they make it easy to compute the distribution of a maximum or minimum, as we'll see in the next section."
      ]
    },
    {
      "cell_type": "markdown",
      "metadata": {
        "id": "xjTvOQcl7F_l"
      },
      "source": [
        "## Best Three of Four\n",
        "\n",
        "In *Dungeons & Dragons*, each character has six attributes: strength, intelligence, wisdom, dexterity, constitution, and charisma.\n",
        "\n",
        "To generate a new character, players roll four 6-sided dice for each attribute and add up the best three.\n",
        "For example, if I roll for strength and get 1, 2, 3, 4 on the dice, my character's strength would be the sum of 2, 3, and 4, which is 9.\n",
        "\n",
        "As an exercise, let's figure out the distribution of these attributes.\n",
        "Then, for each character, we'll figure out the distribution of their best attribute.\n",
        "\n",
        "I'll import two functions from the previous chapter: `make_die`, which makes a `Pmf` that represents the outcome of rolling a die, and `add_dist_seq`, which takes a sequence of `Pmf` objects and computes the distribution of their sum.\n",
        "\n",
        "Here's a `Pmf` that represents a six-sided die and a sequence with three references to it."
      ]
    },
    {
      "cell_type": "code",
      "execution_count": 14,
      "metadata": {
        "execution": {
          "iopub.execute_input": "2021-04-16T19:35:31.746067Z",
          "iopub.status.busy": "2021-04-16T19:35:31.745270Z",
          "iopub.status.idle": "2021-04-16T19:35:31.748598Z",
          "shell.execute_reply": "2021-04-16T19:35:31.747789Z"
        },
        "id": "Q4WV3TXV7F_t"
      },
      "outputs": [],
      "source": [
        "from utils import make_die\n",
        "\n",
        "die = make_die(6)\n",
        "dice = [die] * 3"
      ]
    },
    {
      "cell_type": "markdown",
      "metadata": {
        "id": "7v4xzJAM7F_u"
      },
      "source": [
        "And here's the distribution of the sum of three dice."
      ]
    },
    {
      "cell_type": "code",
      "execution_count": 23,
      "metadata": {
        "execution": {
          "iopub.execute_input": "2021-04-16T19:35:31.755067Z",
          "iopub.status.busy": "2021-04-16T19:35:31.753615Z",
          "iopub.status.idle": "2021-04-16T19:35:31.757421Z",
          "shell.execute_reply": "2021-04-16T19:35:31.757933Z"
        },
        "id": "MniFu19E7F_u"
      },
      "outputs": [],
      "source": [
        "from utils import add_dist_seq\n",
        "\n",
        "pmf_3d6 = add_dist_seq(dice)"
      ]
    },
    {
      "cell_type": "markdown",
      "metadata": {
        "id": "sJULH67p7GAG"
      },
      "source": [
        "Here's what it looks like:"
      ]
    },
    {
      "cell_type": "code",
      "execution_count": 24,
      "metadata": {
        "execution": {
          "iopub.execute_input": "2021-04-16T19:35:31.762372Z",
          "iopub.status.busy": "2021-04-16T19:35:31.761881Z",
          "iopub.status.idle": "2021-04-16T19:35:31.764211Z",
          "shell.execute_reply": "2021-04-16T19:35:31.763786Z"
        },
        "tags": [],
        "id": "pNALirT27GAG"
      },
      "outputs": [],
      "source": [
        "def decorate_dice(title=''):\n",
        "    decorate(xlabel='Outcome',\n",
        "             ylabel='PMF',\n",
        "             title=title)"
      ]
    },
    {
      "cell_type": "code",
      "execution_count": 25,
      "metadata": {
        "execution": {
          "iopub.execute_input": "2021-04-16T19:35:31.799186Z",
          "iopub.status.busy": "2021-04-16T19:35:31.784859Z",
          "iopub.status.idle": "2021-04-16T19:35:31.931262Z",
          "shell.execute_reply": "2021-04-16T19:35:31.930892Z"
        },
        "tags": [],
        "id": "OpKVbZgH7GAG",
        "colab": {
          "base_uri": "https://localhost:8080/",
          "height": 487
        },
        "outputId": "afcdfe97-1ae3-4f44-9228-c45d2c741933"
      },
      "outputs": [
        {
          "output_type": "display_data",
          "data": {
            "text/plain": [
              "<Figure size 640x480 with 1 Axes>"
            ],
            "image/png": "[encoded data removed]"
          },
          "metadata": {}
        }
      ],
      "source": [
        "pmf_3d6.plot()\n",
        "decorate_dice('Distribution of attributes')"
      ]
    },
    {
      "cell_type": "markdown",
      "metadata": {
        "id": "-QPTD_-a7GAH"
      },
      "source": [
        "If we roll four dice and add up the best three, computing the distribution of the sum is a bit more complicated.\n",
        "I'll estimate the distribution by simulating 10,000 rolls.\n",
        "\n",
        "First I'll create an array of random values from 1 to 6, with 10,000 rows and 4 columns:"
      ]
    },
    {
      "cell_type": "code",
      "execution_count": 26,
      "metadata": {
        "execution": {
          "iopub.execute_input": "2021-04-16T19:35:31.934466Z",
          "iopub.status.busy": "2021-04-16T19:35:31.934017Z",
          "iopub.status.idle": "2021-04-16T19:35:31.936034Z",
          "shell.execute_reply": "2021-04-16T19:35:31.936379Z"
        },
        "id": "DQJEoMrl7GAH"
      },
      "outputs": [],
      "source": [
        "n = 10000\n",
        "a = np.random.randint(1, 7, size=(n, 4))"
      ]
    },
    {
      "cell_type": "markdown",
      "metadata": {
        "id": "C58vjl8B7GAH"
      },
      "source": [
        "To find the best three outcomes in each row, I'll use `sort` with `axis=1`, which sorts the rows in ascending order."
      ]
    },
    {
      "cell_type": "code",
      "execution_count": 27,
      "metadata": {
        "execution": {
          "iopub.execute_input": "2021-04-16T19:35:31.939312Z",
          "iopub.status.busy": "2021-04-16T19:35:31.938870Z",
          "iopub.status.idle": "2021-04-16T19:35:31.940846Z",
          "shell.execute_reply": "2021-04-16T19:35:31.941280Z"
        },
        "id": "el8Jtdur7GAK"
      },
      "outputs": [],
      "source": [
        "a.sort(axis=1)"
      ]
    },
    {
      "cell_type": "markdown",
      "metadata": {
        "id": "O1wJjQSs7GAL"
      },
      "source": [
        "Finally, I'll select the last three columns and add them up."
      ]
    },
    {
      "cell_type": "code",
      "execution_count": 28,
      "metadata": {
        "execution": {
          "iopub.execute_input": "2021-04-16T19:35:31.944292Z",
          "iopub.status.busy": "2021-04-16T19:35:31.943874Z",
          "iopub.status.idle": "2021-04-16T19:35:31.945874Z",
          "shell.execute_reply": "2021-04-16T19:35:31.946275Z"
        },
        "id": "W89G958m7GAL"
      },
      "outputs": [],
      "source": [
        "t = a[:, 1:].sum(axis=1)"
      ]
    },
    {
      "cell_type": "markdown",
      "metadata": {
        "id": "xdbzpuw37GAL"
      },
      "source": [
        "Now `t` is an array with a single column and 10,000 rows.\n",
        "We can compute the PMF of the values in `t` like this:"
      ]
    },
    {
      "cell_type": "code",
      "execution_count": 29,
      "metadata": {
        "execution": {
          "iopub.execute_input": "2021-04-16T19:35:31.950862Z",
          "iopub.status.busy": "2021-04-16T19:35:31.949475Z",
          "iopub.status.idle": "2021-04-16T19:35:31.953994Z",
          "shell.execute_reply": "2021-04-16T19:35:31.953526Z"
        },
        "id": "hbML_qIc7GAL"
      },
      "outputs": [],
      "source": [
        "pmf_best3 = Pmf.from_seq(t)"
      ]
    },
    {
      "cell_type": "markdown",
      "metadata": {
        "id": "YWcwxkz27GAL"
      },
      "source": [
        "The following figure shows the distribution of the sum of three dice, `pmf_3d6`, and the distribution of the best three out of four, `pmf_best3`."
      ]
    },
    {
      "cell_type": "code",
      "execution_count": 30,
      "metadata": {
        "execution": {
          "iopub.execute_input": "2021-04-16T19:35:31.997678Z",
          "iopub.status.busy": "2021-04-16T19:35:31.996921Z",
          "iopub.status.idle": "2021-04-16T19:35:32.130553Z",
          "shell.execute_reply": "2021-04-16T19:35:32.130960Z"
        },
        "tags": [],
        "id": "Haq68yYp7GAM",
        "colab": {
          "base_uri": "https://localhost:8080/",
          "height": 487
        },
        "outputId": "1cec1c14-d2a2-4d54-d7ac-c407da9137f7"
      },
      "outputs": [
        {
          "output_type": "display_data",
          "data": {
            "text/plain": [
              "<Figure size 640x480 with 1 Axes>"
            ],
            "image/png": "[encoded data removed]"
          },
          "metadata": {}
        }
      ],
      "source": [
        "pmf_3d6.plot(label='sum of 3 dice')\n",
        "pmf_best3.plot(label='best 3 of 4', ls='--')\n",
        "\n",
        "decorate_dice('Distribution of attributes')"
      ]
    },
    {
      "cell_type": "markdown",
      "metadata": {
        "id": "lYxQgRWf7GAM"
      },
      "source": [
        "As you might expect, choosing the best three out of four tends to yield higher values.\n",
        "\n",
        "Next we'll find the distribution for the maximum of six attributes, each the sum of the best three of four dice."
      ]
    },
    {
      "cell_type": "markdown",
      "metadata": {
        "id": "8iM1vLmh7GAM"
      },
      "source": [
        "## Maximum\n",
        "\n",
        "To compute the distribution of a maximum or minimum, we can make good use of the cumulative distribution function.\n",
        "First, I'll compute the `Cdf` of the best three of four distribution:"
      ]
    },
    {
      "cell_type": "code",
      "execution_count": 32,
      "metadata": {
        "execution": {
          "iopub.execute_input": "2021-04-16T19:35:32.134886Z",
          "iopub.status.busy": "2021-04-16T19:35:32.134220Z",
          "iopub.status.idle": "2021-04-16T19:35:32.135956Z",
          "shell.execute_reply": "2021-04-16T19:35:32.136306Z"
        },
        "id": "iqTqDwdS7GAM"
      },
      "outputs": [],
      "source": [
        "cdf_best3 = pmf_best3.make_cdf()"
      ]
    },
    {
      "cell_type": "markdown",
      "metadata": {
        "id": "O1tr0_i47GAM"
      },
      "source": [
        "Recall that `Cdf(x)` is the sum of probabilities for quantities less than or equal to `x`.\n",
        "Equivalently, it is the probability that a random value chosen from the distribution is less than or equal to `x`.\n",
        "\n",
        "Now suppose I draw 6 values from this distribution.\n",
        "The probability that all 6 of them are less than or equal to `x` is `Cdf(x)` raised to the 6th power, which we can compute like this:"
      ]
    },
    {
      "cell_type": "code",
      "execution_count": 33,
      "metadata": {
        "execution": {
          "iopub.execute_input": "2021-04-16T19:35:32.141260Z",
          "iopub.status.busy": "2021-04-16T19:35:32.140745Z",
          "iopub.status.idle": "2021-04-16T19:35:32.143280Z",
          "shell.execute_reply": "2021-04-16T19:35:32.143621Z"
        },
        "tags": [],
        "id": "mMxeidR17GAP",
        "colab": {
          "base_uri": "https://localhost:8080/"
        },
        "outputId": "97faabac-38b6-4d8c-f327-6fc25c81cb21"
      },
      "outputs": [
        {
          "output_type": "execute_result",
          "data": {
            "text/plain": [
              "3     2.985984e-18\n",
              "4     4.218053e-14\n",
              "5     4.608274e-12\n",
              "6     8.536981e-10\n",
              "7     4.090992e-08\n",
              "8     1.355484e-06\n",
              "9     2.746622e-05\n",
              "10    3.566375e-04\n",
              "11    3.166307e-03\n",
              "12    1.784617e-02\n",
              "13    7.281179e-02\n",
              "14    2.138396e-01\n",
              "15    4.454207e-01\n",
              "16    6.934000e-01\n",
              "17    8.961972e-01\n",
              "18    1.000000e+00\n",
              "Name: proportion, dtype: float64"
            ]
          },
          "metadata": {},
          "execution_count": 33
        }
      ],
      "source": [
        "cdf_best3**6"
      ]
    },
    {
      "cell_type": "markdown",
      "metadata": {
        "id": "57u9wPM67GAd"
      },
      "source": [
        "If all 6 values are less than or equal to `x`, that means that their maximum is less than or equal to `x`.\n",
        "So the result is the CDF of their maximum.\n",
        "We can convert it to a `Cdf` object, like this:"
      ]
    },
    {
      "cell_type": "code",
      "execution_count": 34,
      "metadata": {
        "execution": {
          "iopub.execute_input": "2021-04-16T19:35:32.147141Z",
          "iopub.status.busy": "2021-04-16T19:35:32.146607Z",
          "iopub.status.idle": "2021-04-16T19:35:32.148575Z",
          "shell.execute_reply": "2021-04-16T19:35:32.148928Z"
        },
        "id": "dKY2Ksyk7GAd"
      },
      "outputs": [],
      "source": [
        "from empiricaldist import Cdf\n",
        "\n",
        "cdf_max6 = Cdf(cdf_best3**6)"
      ]
    },
    {
      "cell_type": "markdown",
      "metadata": {
        "tags": [],
        "id": "qPnpcJMF7GAd"
      },
      "source": [
        "And compute the equivalent `Pmf` like this:"
      ]
    },
    {
      "cell_type": "code",
      "execution_count": 35,
      "metadata": {
        "execution": {
          "iopub.execute_input": "2021-04-16T19:35:32.152335Z",
          "iopub.status.busy": "2021-04-16T19:35:32.151777Z",
          "iopub.status.idle": "2021-04-16T19:35:32.153560Z",
          "shell.execute_reply": "2021-04-16T19:35:32.154071Z"
        },
        "tags": [],
        "id": "VdHBZeEY7GAe"
      },
      "outputs": [],
      "source": [
        "pmf_max6 = cdf_max6.make_pmf()"
      ]
    },
    {
      "cell_type": "markdown",
      "metadata": {
        "tags": [],
        "id": "UeWjCos67GAe"
      },
      "source": [
        "The following figure shows the result."
      ]
    },
    {
      "cell_type": "code",
      "execution_count": 36,
      "metadata": {
        "execution": {
          "iopub.execute_input": "2021-04-16T19:35:32.174609Z",
          "iopub.status.busy": "2021-04-16T19:35:32.169559Z",
          "iopub.status.idle": "2021-04-16T19:35:32.328490Z",
          "shell.execute_reply": "2021-04-16T19:35:32.328844Z"
        },
        "tags": [],
        "id": "tAJIz-dG7GAe",
        "colab": {
          "base_uri": "https://localhost:8080/",
          "height": 487
        },
        "outputId": "42c0ff20-104b-461a-d22e-b0c8b3d1b20b"
      },
      "outputs": [
        {
          "output_type": "display_data",
          "data": {
            "text/plain": [
              "<Figure size 640x480 with 1 Axes>"
            ],
            "image/png": "[encoded data removed]"
          },
          "metadata": {}
        }
      ],
      "source": [
        "pmf_max6.plot(label='max of 6 attributes')\n",
        "\n",
        "decorate_dice('Distribution of attributes')"
      ]
    },
    {
      "cell_type": "markdown",
      "metadata": {
        "tags": [],
        "id": "ZyPmaHGX7GAf"
      },
      "source": [
        "Most characters have at least one attribute greater than 12; almost 10% of them have an 18."
      ]
    },
    {
      "cell_type": "markdown",
      "metadata": {
        "id": "C2UbGqFu7GAf"
      },
      "source": [
        "The following figure shows the CDFs for the three distributions we have computed."
      ]
    },
    {
      "cell_type": "code",
      "execution_count": 37,
      "metadata": {
        "execution": {
          "iopub.execute_input": "2021-04-16T19:35:32.376448Z",
          "iopub.status.busy": "2021-04-16T19:35:32.371540Z",
          "iopub.status.idle": "2021-04-16T19:35:32.535663Z",
          "shell.execute_reply": "2021-04-16T19:35:32.536011Z"
        },
        "tags": [],
        "id": "IobJ4Sv67GAf",
        "colab": {
          "base_uri": "https://localhost:8080/",
          "height": 487
        },
        "outputId": "846f1a36-97ec-4633-f4c7-bea3234236e9"
      },
      "outputs": [
        {
          "output_type": "display_data",
          "data": {
            "text/plain": [
              "<Figure size 640x480 with 1 Axes>"
            ],
            "image/png": "[encoded data removed]"
          },
          "metadata": {}
        }
      ],
      "source": [
        "import matplotlib.pyplot as plt\n",
        "\n",
        "cdf_3d6 = pmf_3d6.make_cdf()\n",
        "cdf_3d6.plot(label='sum of 3 dice')\n",
        "\n",
        "cdf_best3 = pmf_best3.make_cdf()\n",
        "cdf_best3.plot(label='best 3 of 4 dice', ls='--')\n",
        "\n",
        "cdf_max6.plot(label='max of 6 attributes', ls=':')\n",
        "\n",
        "decorate_dice('Distribution of attributes')\n",
        "plt.ylabel('CDF');"
      ]
    },
    {
      "cell_type": "markdown",
      "metadata": {
        "id": "9LZ5Cs-x7GAf"
      },
      "source": [
        "`Cdf` provides `max_dist`, which does the same computation, so we can also compute the `Cdf` of the maximum like this:"
      ]
    },
    {
      "cell_type": "code",
      "execution_count": 38,
      "metadata": {
        "execution": {
          "iopub.execute_input": "2021-04-16T19:35:32.539561Z",
          "iopub.status.busy": "2021-04-16T19:35:32.539069Z",
          "iopub.status.idle": "2021-04-16T19:35:32.541075Z",
          "shell.execute_reply": "2021-04-16T19:35:32.540695Z"
        },
        "id": "cuz_nfhH7GAt"
      },
      "outputs": [],
      "source": [
        "cdf_max_dist6 = cdf_best3.max_dist(6)"
      ]
    },
    {
      "cell_type": "markdown",
      "metadata": {
        "tags": [],
        "id": "Z5ZaiyJu7GAw"
      },
      "source": [
        "And we can confirm that the differences are small."
      ]
    },
    {
      "cell_type": "code",
      "execution_count": 39,
      "metadata": {
        "execution": {
          "iopub.execute_input": "2021-04-16T19:35:32.544620Z",
          "iopub.status.busy": "2021-04-16T19:35:32.544171Z",
          "iopub.status.idle": "2021-04-16T19:35:32.546496Z",
          "shell.execute_reply": "2021-04-16T19:35:32.546875Z"
        },
        "tags": [],
        "id": "8kukMRz27GAx",
        "colab": {
          "base_uri": "https://localhost:8080/"
        },
        "outputId": "ce3a1d66-3eb6-47fc-ecd3-171ebeb068e2"
      },
      "outputs": [
        {
          "output_type": "execute_result",
          "data": {
            "text/plain": [
              "True"
            ]
          },
          "metadata": {},
          "execution_count": 39
        }
      ],
      "source": [
        "np.allclose(cdf_max_dist6, cdf_max6)"
      ]
    },
    {
      "cell_type": "markdown",
      "metadata": {
        "id": "lTpGH8Iv7GAx"
      },
      "source": [
        "In the next section we'll find the distribution of the minimum.\n",
        "The process is similar, but a little more complicated.\n",
        "See if you can figure it out before you go on."
      ]
    },
    {
      "cell_type": "markdown",
      "metadata": {
        "id": "Iy6aJBKc7GAx"
      },
      "source": [
        "## Minimum\n",
        "\n",
        "In the previous section we computed the distribution of a character's best attribute.\n",
        "Now let's compute the distribution of the worst.\n",
        "\n",
        "To compute the distribution of the minimum, we'll use the **complementary CDF**, which we can compute like this:"
      ]
    },
    {
      "cell_type": "code",
      "execution_count": 40,
      "metadata": {
        "execution": {
          "iopub.execute_input": "2021-04-16T19:35:32.550107Z",
          "iopub.status.busy": "2021-04-16T19:35:32.549668Z",
          "iopub.status.idle": "2021-04-16T19:35:32.551795Z",
          "shell.execute_reply": "2021-04-16T19:35:32.552222Z"
        },
        "id": "0ImuEanq7GAx"
      },
      "outputs": [],
      "source": [
        "prob_gt = 1 - cdf_best3"
      ]
    },
    {
      "cell_type": "markdown",
      "metadata": {
        "id": "TWoeAtyq7GAx"
      },
      "source": [
        "As the variable name suggests, the complementary CDF is the probability that a value from the distribution is greater than `x`.\n",
        "If we draw 6 values from the distribution, the probability that all 6 exceed `x` is:"
      ]
    },
    {
      "cell_type": "code",
      "execution_count": 41,
      "metadata": {
        "execution": {
          "iopub.execute_input": "2021-04-16T19:35:32.556052Z",
          "iopub.status.busy": "2021-04-16T19:35:32.555455Z",
          "iopub.status.idle": "2021-04-16T19:35:32.557352Z",
          "shell.execute_reply": "2021-04-16T19:35:32.557778Z"
        },
        "id": "v4q4DOoK7GAy"
      },
      "outputs": [],
      "source": [
        "prob_gt6 = prob_gt**6"
      ]
    },
    {
      "cell_type": "markdown",
      "metadata": {
        "id": "HcG-pkAj7GAy"
      },
      "source": [
        "If all 6 exceed `x`, that means their minimum exceeds `x`, so `prob_gt6` is the complementary CDF of the minimum.\n",
        "And that means we can compute the CDF of the minimum like this:"
      ]
    },
    {
      "cell_type": "code",
      "execution_count": 42,
      "metadata": {
        "execution": {
          "iopub.execute_input": "2021-04-16T19:35:32.561848Z",
          "iopub.status.busy": "2021-04-16T19:35:32.561049Z",
          "iopub.status.idle": "2021-04-16T19:35:32.562922Z",
          "shell.execute_reply": "2021-04-16T19:35:32.563376Z"
        },
        "id": "v2F2QNUA7GAy"
      },
      "outputs": [],
      "source": [
        "prob_le6 = 1 - prob_gt6"
      ]
    },
    {
      "cell_type": "markdown",
      "metadata": {
        "id": "KieCRhfk7GAy"
      },
      "source": [
        "The result is a Pandas `Series` that represents the CDF of the minimum of six attributes.  We can put those values in a `Cdf` object like this:"
      ]
    },
    {
      "cell_type": "code",
      "execution_count": 43,
      "metadata": {
        "execution": {
          "iopub.execute_input": "2021-04-16T19:35:32.566892Z",
          "iopub.status.busy": "2021-04-16T19:35:32.566369Z",
          "iopub.status.idle": "2021-04-16T19:35:32.568328Z",
          "shell.execute_reply": "2021-04-16T19:35:32.568768Z"
        },
        "id": "VCiOx8J37GAy"
      },
      "outputs": [],
      "source": [
        "cdf_min6 = Cdf(prob_le6)"
      ]
    },
    {
      "cell_type": "markdown",
      "metadata": {
        "id": "-_7Vo87s7GAy"
      },
      "source": [
        "Here's what it looks like, along with the distribution of the maximum."
      ]
    },
    {
      "cell_type": "code",
      "execution_count": 44,
      "metadata": {
        "execution": {
          "iopub.execute_input": "2021-04-16T19:35:32.613126Z",
          "iopub.status.busy": "2021-04-16T19:35:32.604907Z",
          "iopub.status.idle": "2021-04-16T19:35:32.762095Z",
          "shell.execute_reply": "2021-04-16T19:35:32.761655Z"
        },
        "tags": [],
        "id": "5oRDq0wJ7GA2",
        "colab": {
          "base_uri": "https://localhost:8080/",
          "height": 487
        },
        "outputId": "cd9be72c-fb44-4a59-c0fc-a8de27ca1ec6"
      },
      "outputs": [
        {
          "output_type": "display_data",
          "data": {
            "text/plain": [
              "<Figure size 640x480 with 1 Axes>"
            ],
            "image/png": "[encoded data removed]"
          },
          "metadata": {}
        }
      ],
      "source": [
        "cdf_min6.plot(color='C4', label='minimum of 6')\n",
        "cdf_max6.plot(color='C2', label='maximum of 6', ls=':')\n",
        "decorate_dice('Minimum and maximum of six attributes')\n",
        "plt.ylabel('CDF');"
      ]
    },
    {
      "cell_type": "markdown",
      "metadata": {
        "id": "kiPepCvW7GA3"
      },
      "source": [
        "`Cdf` provides `min_dist`, which does the same computation, so we can also compute the `Cdf` of the minimum like this:"
      ]
    },
    {
      "cell_type": "code",
      "execution_count": 45,
      "metadata": {
        "execution": {
          "iopub.execute_input": "2021-04-16T19:35:32.766536Z",
          "iopub.status.busy": "2021-04-16T19:35:32.766111Z",
          "iopub.status.idle": "2021-04-16T19:35:32.767892Z",
          "shell.execute_reply": "2021-04-16T19:35:32.768318Z"
        },
        "id": "H5hHE0yU7GA3"
      },
      "outputs": [],
      "source": [
        "cdf_min_dist6 = cdf_best3.min_dist(6)"
      ]
    },
    {
      "cell_type": "markdown",
      "metadata": {
        "id": "rAS2nN3n7GA3"
      },
      "source": [
        "And we can confirm that the differences are small."
      ]
    },
    {
      "cell_type": "code",
      "execution_count": 46,
      "metadata": {
        "execution": {
          "iopub.execute_input": "2021-04-16T19:35:32.772657Z",
          "iopub.status.busy": "2021-04-16T19:35:32.772097Z",
          "iopub.status.idle": "2021-04-16T19:35:32.774638Z",
          "shell.execute_reply": "2021-04-16T19:35:32.775069Z"
        },
        "id": "Jmo5D1JZ7GA3",
        "colab": {
          "base_uri": "https://localhost:8080/"
        },
        "outputId": "b03ac562-7365-4759-d926-d45fadb0568a"
      },
      "outputs": [
        {
          "output_type": "execute_result",
          "data": {
            "text/plain": [
              "True"
            ]
          },
          "metadata": {},
          "execution_count": 46
        }
      ],
      "source": [
        "np.allclose(cdf_min_dist6, cdf_min6)"
      ]
    },
    {
      "cell_type": "markdown",
      "metadata": {
        "id": "BdXhRrkd7GA4"
      },
      "source": [
        "In the exercises at the end of this chapter, you'll use distributions of the minimum and maximum to do Bayesian inference.\n",
        "But first we'll see what happens when we mix distributions."
      ]
    },
    {
      "cell_type": "markdown",
      "metadata": {
        "id": "q9gB-0MW7GA4"
      },
      "source": [
        "## Mixture\n",
        "\n",
        "In this section I'll show how we can compute a distribution which is a mixture of other distributions.\n",
        "I'll explain what that means with some simple examples;\n",
        "then, more usefully, we'll see how these mixtures are used to make predictions.\n",
        "\n",
        "Here's another example inspired by *Dungeons & Dragons*:\n",
        "\n",
        "* Suppose your character is armed with a dagger in one hand and a short sword in the other.\n",
        "\n",
        "* During each round, you attack a monster with one of your two weapons, chosen at random.\n",
        "\n",
        "* The dagger causes one 4-sided die of damage; the short sword causes one 6-sided die of damage.\n",
        "\n",
        "What is the distribution of damage you inflict in each round?\n",
        "\n",
        "To answer this question, I'll make a `Pmf` to represent the 4-sided and 6-sided dice:"
      ]
    },
    {
      "cell_type": "code",
      "execution_count": 47,
      "metadata": {
        "execution": {
          "iopub.execute_input": "2021-04-16T19:35:32.779457Z",
          "iopub.status.busy": "2021-04-16T19:35:32.778936Z",
          "iopub.status.idle": "2021-04-16T19:35:32.781650Z",
          "shell.execute_reply": "2021-04-16T19:35:32.781084Z"
        },
        "id": "wR90cd9e7GA4"
      },
      "outputs": [],
      "source": [
        "d4 = make_die(4)\n",
        "d6 = make_die(6)"
      ]
    },
    {
      "cell_type": "markdown",
      "metadata": {
        "id": "6i7fWfRe7GA4"
      },
      "source": [
        "Now, let's compute the probability you inflict 1 point of damage.\n",
        "\n",
        "* If you attacked with the dagger, it's 1/4.\n",
        "\n",
        "* If you attacked with the short sword, it's 1/6.\n",
        "\n",
        "Because the probability of choosing either weapon is 1/2, the total probability is the average:"
      ]
    },
    {
      "cell_type": "code",
      "execution_count": 48,
      "metadata": {
        "execution": {
          "iopub.execute_input": "2021-04-16T19:35:32.786557Z",
          "iopub.status.busy": "2021-04-16T19:35:32.785642Z",
          "iopub.status.idle": "2021-04-16T19:35:32.788922Z",
          "shell.execute_reply": "2021-04-16T19:35:32.789450Z"
        },
        "id": "2Zcq8UVT7GA4",
        "colab": {
          "base_uri": "https://localhost:8080/"
        },
        "outputId": "25e60892-7609-46f6-a6fb-af1277e324cb"
      },
      "outputs": [
        {
          "output_type": "execute_result",
          "data": {
            "text/plain": [
              "0.20833333333333331"
            ]
          },
          "metadata": {},
          "execution_count": 48
        }
      ],
      "source": [
        "prob_1 = (d4(1) + d6(1)) / 2\n",
        "prob_1"
      ]
    },
    {
      "cell_type": "markdown",
      "metadata": {
        "id": "-bDOP1cq7GA5"
      },
      "source": [
        "For the outcomes 2, 3, and 4, the probability is the same, but for 5 and 6 it's different, because those outcomes are impossible with the 4-sided die."
      ]
    },
    {
      "cell_type": "code",
      "execution_count": 49,
      "metadata": {
        "execution": {
          "iopub.execute_input": "2021-04-16T19:35:32.794121Z",
          "iopub.status.busy": "2021-04-16T19:35:32.793553Z",
          "iopub.status.idle": "2021-04-16T19:35:32.796490Z",
          "shell.execute_reply": "2021-04-16T19:35:32.796042Z"
        },
        "id": "_o9CxhEs7GA5",
        "colab": {
          "base_uri": "https://localhost:8080/"
        },
        "outputId": "b5bae72f-705e-40a5-9e17-098622b73a15"
      },
      "outputs": [
        {
          "output_type": "execute_result",
          "data": {
            "text/plain": [
              "0.08333333333333333"
            ]
          },
          "metadata": {},
          "execution_count": 49
        }
      ],
      "source": [
        "prob_6 = (d4(6) + d6(6)) / 2\n",
        "prob_6"
      ]
    },
    {
      "cell_type": "markdown",
      "metadata": {
        "id": "nvdiTeAj7GA5"
      },
      "source": [
        "To compute the distribution of the mixture, we could loop through the possible outcomes and compute their probabilities.\n",
        "\n",
        "But we can do the same computation using the `+` operator:"
      ]
    },
    {
      "cell_type": "code",
      "execution_count": 50,
      "metadata": {
        "execution": {
          "iopub.execute_input": "2021-04-16T19:35:32.802178Z",
          "iopub.status.busy": "2021-04-16T19:35:32.801710Z",
          "iopub.status.idle": "2021-04-16T19:35:32.803562Z",
          "shell.execute_reply": "2021-04-16T19:35:32.803939Z"
        },
        "id": "n-KfnZr_7GA5"
      },
      "outputs": [],
      "source": [
        "mix1 = (d4 + d6) / 2"
      ]
    },
    {
      "cell_type": "markdown",
      "metadata": {
        "id": "lhx0lost7GA5"
      },
      "source": [
        "Here's what the mixture of these distributions looks like."
      ]
    },
    {
      "cell_type": "code",
      "execution_count": 51,
      "metadata": {
        "execution": {
          "iopub.execute_input": "2021-04-16T19:35:32.828505Z",
          "iopub.status.busy": "2021-04-16T19:35:32.820367Z",
          "iopub.status.idle": "2021-04-16T19:35:32.966618Z",
          "shell.execute_reply": "2021-04-16T19:35:32.966177Z"
        },
        "tags": [],
        "id": "KOCrc-xq7GA5",
        "colab": {
          "base_uri": "https://localhost:8080/",
          "height": 487
        },
        "outputId": "2ee762ce-9356-485d-d476-6f78e11151f7"
      },
      "outputs": [
        {
          "output_type": "display_data",
          "data": {
            "text/plain": [
              "<Figure size 640x480 with 1 Axes>"
            ],
            "image/png": "[encoded data removed]"
          },
          "metadata": {}
        }
      ],
      "source": [
        "mix1.bar(alpha=0.7)\n",
        "decorate_dice('Mixture of one 4-sided and one 6-sided die')"
      ]
    },
    {
      "cell_type": "markdown",
      "metadata": {
        "id": "bVWNHH6t7GA5"
      },
      "source": [
        "Now suppose you are fighting three monsters:\n",
        "\n",
        "* One has a club, which causes one 4-sided die of damage.\n",
        "\n",
        "* One has a mace, which causes one 6-sided die.\n",
        "\n",
        "* And one has a quarterstaff, which also causes one 6-sided die.\n",
        "\n",
        "Because the melee is disorganized, you are attacked by one of these monsters each round, chosen at random.\n",
        "To find the distribution of the damage they inflict, we can compute a weighted average of the distributions, like this:"
      ]
    },
    {
      "cell_type": "code",
      "execution_count": 52,
      "metadata": {
        "execution": {
          "iopub.execute_input": "2021-04-16T19:35:32.971304Z",
          "iopub.status.busy": "2021-04-16T19:35:32.970806Z",
          "iopub.status.idle": "2021-04-16T19:35:32.972845Z",
          "shell.execute_reply": "2021-04-16T19:35:32.972416Z"
        },
        "id": "xw32ky077GA6"
      },
      "outputs": [],
      "source": [
        "mix2 = (d4 + 2*d6) / 3"
      ]
    },
    {
      "cell_type": "markdown",
      "metadata": {
        "id": "bUY3Obvx7GA6"
      },
      "source": [
        "This distribution is a mixture of one 4-sided die and two 6-sided dice.\n",
        "Here's what it looks like."
      ]
    },
    {
      "cell_type": "code",
      "execution_count": 53,
      "metadata": {
        "execution": {
          "iopub.execute_input": "2021-04-16T19:35:32.995932Z",
          "iopub.status.busy": "2021-04-16T19:35:32.995150Z",
          "iopub.status.idle": "2021-04-16T19:35:33.117724Z",
          "shell.execute_reply": "2021-04-16T19:35:33.117207Z"
        },
        "tags": [],
        "id": "8wvr-xlx7GA6",
        "colab": {
          "base_uri": "https://localhost:8080/",
          "height": 487
        },
        "outputId": "6fd55533-19b6-4894-fd22-eceef3e9c3c6"
      },
      "outputs": [
        {
          "output_type": "display_data",
          "data": {
            "text/plain": [
              "<Figure size 640x480 with 1 Axes>"
            ],
            "image/png": "[encoded data removed]"
          },
          "metadata": {}
        }
      ],
      "source": [
        "mix2.bar(alpha=0.7)\n",
        "decorate_dice('Mixture of one 4-sided and two 6-sided die')"
      ]
    },
    {
      "cell_type": "markdown",
      "metadata": {
        "id": "RNNyWR9k7GA6"
      },
      "source": [
        "In this section we used the `+` operator, which adds the probabilities in the distributions, not to be confused with `Pmf.add_dist`, which computes the distribution of the sum of the distributions.\n",
        "\n",
        "To demonstrate the difference, I'll use `Pmf.add_dist` to compute the distribution of the total damage done per round, which is the sum of the two mixtures:"
      ]
    },
    {
      "cell_type": "code",
      "execution_count": 54,
      "metadata": {
        "execution": {
          "iopub.execute_input": "2021-04-16T19:35:33.122025Z",
          "iopub.status.busy": "2021-04-16T19:35:33.121481Z",
          "iopub.status.idle": "2021-04-16T19:35:33.123747Z",
          "shell.execute_reply": "2021-04-16T19:35:33.123236Z"
        },
        "id": "P9grGMpI7GA6"
      },
      "outputs": [],
      "source": [
        "total_damage = Pmf.add_dist(mix1, mix2)"
      ]
    },
    {
      "cell_type": "markdown",
      "metadata": {
        "id": "aspDh_tH7GA6"
      },
      "source": [
        "And here's what it looks like."
      ]
    },
    {
      "cell_type": "code",
      "execution_count": 55,
      "metadata": {
        "execution": {
          "iopub.execute_input": "2021-04-16T19:35:33.139228Z",
          "iopub.status.busy": "2021-04-16T19:35:33.136581Z",
          "iopub.status.idle": "2021-04-16T19:35:33.278941Z",
          "shell.execute_reply": "2021-04-16T19:35:33.279427Z"
        },
        "id": "KhgFmkYr7GA6",
        "colab": {
          "base_uri": "https://localhost:8080/",
          "height": 487
        },
        "outputId": "18b408f5-b2f7-442b-f1e8-55a33378eee4"
      },
      "outputs": [
        {
          "output_type": "display_data",
          "data": {
            "text/plain": [
              "<Figure size 640x480 with 1 Axes>"
            ],
            "image/png": "[encoded data removed]"
          },
          "metadata": {}
        }
      ],
      "source": [
        "total_damage.bar(alpha=0.7)\n",
        "decorate_dice('Total damage inflicted by both parties')"
      ]
    },
    {
      "cell_type": "markdown",
      "metadata": {
        "id": "2bnfocn27GA6"
      },
      "source": [
        "## General Mixtures\n",
        "\n",
        "In the previous section we computed mixtures in an *ad hoc* way.\n",
        "Now we'll see a more general solution.\n",
        "In future chapters, we'll use this solution to generate predictions for real-world problems, not just role-playing games.\n",
        "But if you'll bear with me, we'll continue the previous example for one more section.\n",
        "\n",
        "Suppose three more monsters join the combat, each of them with a battle axe that causes one 8-sided die of damage.\n",
        "Still, only one monster attacks per round, chosen at random, so the damage they inflict is a mixture of:\n",
        "\n",
        "* One 4-sided die,\n",
        "* Two 6-sided dice, and\n",
        "* Three 8-sided dice.\n",
        "\n",
        "I'll use a `Pmf` to represent a randomly chosen monster:"
      ]
    },
    {
      "cell_type": "code",
      "execution_count": 56,
      "metadata": {
        "execution": {
          "iopub.execute_input": "2021-04-16T19:35:33.286725Z",
          "iopub.status.busy": "2021-04-16T19:35:33.284730Z",
          "iopub.status.idle": "2021-04-16T19:35:33.290910Z",
          "shell.execute_reply": "2021-04-16T19:35:33.290555Z"
        },
        "id": "gcMtnGhh7GA7",
        "colab": {
          "base_uri": "https://localhost:8080/",
          "height": 143
        },
        "outputId": "ae620575-102a-46f9-9a07-45a3ddda5ec8"
      },
      "outputs": [
        {
          "output_type": "execute_result",
          "data": {
            "text/plain": [
              "4    0.166667\n",
              "6    0.333333\n",
              "8    0.500000\n",
              "dtype: float64"
            ],
            "text/html": [
              "<div>\n",
              "<style scoped>\n",
              "    .dataframe tbody tr th:only-of-type {\n",
              "        vertical-align: middle;\n",
              "    }\n",
              "\n",
              "    .dataframe tbody tr th {\n",
              "        vertical-align: top;\n",
              "    }\n",
              "\n",
              "    .dataframe thead th {\n",
              "        text-align: right;\n",
              "    }\n",
              "</style>\n",
              "<table border=\"1\" class=\"dataframe\">\n",
              "  <thead>\n",
              "    <tr style=\"text-align: right;\">\n",
              "      <th></th>\n",
              "      <th>probs</th>\n",
              "    </tr>\n",
              "  </thead>\n",
              "  <tbody>\n",
              "    <tr>\n",
              "      <th>4</th>\n",
              "      <td>0.166667</td>\n",
              "    </tr>\n",
              "    <tr>\n",
              "      <th>6</th>\n",
              "      <td>0.333333</td>\n",
              "    </tr>\n",
              "    <tr>\n",
              "      <th>8</th>\n",
              "      <td>0.500000</td>\n",
              "    </tr>\n",
              "  </tbody>\n",
              "</table>\n",
              "</div>"
            ]
          },
          "metadata": {},
          "execution_count": 56
        }
      ],
      "source": [
        "hypos = [4,6,8]\n",
        "counts = [1,2,3]\n",
        "pmf_dice = Pmf(counts, hypos)\n",
        "pmf_dice.normalize()\n",
        "pmf_dice"
      ]
    },
    {
      "cell_type": "markdown",
      "metadata": {
        "id": "h_Zi05rX7GA7"
      },
      "source": [
        "This distribution represents the number of sides on the die we'll roll and the probability of rolling each one.\n",
        "For example, one of the six monsters has a dagger, so the probability is $1/6$ that we roll a 4-sided die.\n",
        "\n",
        "Next I'll make a sequence of `Pmf` objects to represent the dice:"
      ]
    },
    {
      "cell_type": "code",
      "execution_count": 57,
      "metadata": {
        "execution": {
          "iopub.execute_input": "2021-04-16T19:35:33.294783Z",
          "iopub.status.busy": "2021-04-16T19:35:33.294222Z",
          "iopub.status.idle": "2021-04-16T19:35:33.295894Z",
          "shell.execute_reply": "2021-04-16T19:35:33.296242Z"
        },
        "id": "Wj3VRQgW7GA7"
      },
      "outputs": [],
      "source": [
        "dice = [make_die(sides) for sides in hypos]"
      ]
    },
    {
      "cell_type": "markdown",
      "metadata": {
        "id": "ZaCmjkPr7GA7"
      },
      "source": [
        "To compute the distribution of the mixture, I'll compute the weighted average of the dice, using the probabilities in `pmf_dice` as the weights.\n",
        "\n",
        "To express this computation concisely, it is convenient to put the distributions into a Pandas `DataFrame`:"
      ]
    },
    {
      "cell_type": "code",
      "execution_count": 58,
      "metadata": {
        "execution": {
          "iopub.execute_input": "2021-04-16T19:35:33.300969Z",
          "iopub.status.busy": "2021-04-16T19:35:33.300520Z",
          "iopub.status.idle": "2021-04-16T19:35:33.309423Z",
          "shell.execute_reply": "2021-04-16T19:35:33.309778Z"
        },
        "id": "5hPwGbXA7GA7",
        "colab": {
          "base_uri": "https://localhost:8080/",
          "height": 143
        },
        "outputId": "b1570141-2cca-444e-d876-d8207f1deb96"
      },
      "outputs": [
        {
          "output_type": "execute_result",
          "data": {
            "text/plain": [
              "          1         2         3         4         5         6      7      8\n",
              "0  0.250000  0.250000  0.250000  0.250000       NaN       NaN    NaN    NaN\n",
              "1  0.166667  0.166667  0.166667  0.166667  0.166667  0.166667    NaN    NaN\n",
              "2  0.125000  0.125000  0.125000  0.125000  0.125000  0.125000  0.125  0.125"
            ],
            "text/html": [
              "\n",
              "  <div id=\"df-3df60ca6-80b8-40ce-b527-781e626cf84b\" class=\"colab-df-container\">\n",
              "    <div>\n",
              "<style scoped>\n",
              "    .dataframe tbody tr th:only-of-type {\n",
              "        vertical-align: middle;\n",
              "    }\n",
              "\n",
              "    .dataframe tbody tr th {\n",
              "        vertical-align: top;\n",
              "    }\n",
              "\n",
              "    .dataframe thead th {\n",
              "        text-align: right;\n",
              "    }\n",
              "</style>\n",
              "<table border=\"1\" class=\"dataframe\">\n",
              "  <thead>\n",
              "    <tr style=\"text-align: right;\">\n",
              "      <th></th>\n",
              "      <th>1</th>\n",
              "      <th>2</th>\n",
              "      <th>3</th>\n",
              "      <th>4</th>\n",
              "      <th>5</th>\n",
              "      <th>6</th>\n",
              "      <th>7</th>\n",
              "      <th>8</th>\n",
              "    </tr>\n",
              "  </thead>\n",
              "  <tbody>\n",
              "    <tr>\n",
              "      <th>0</th>\n",
              "      <td>0.250000</td>\n",
              "      <td>0.250000</td>\n",
              "      <td>0.250000</td>\n",
              "      <td>0.250000</td>\n",
              "      <td>NaN</td>\n",
              "      <td>NaN</td>\n",
              "      <td>NaN</td>\n",
              "      <td>NaN</td>\n",
              "    </tr>\n",
              "    <tr>\n",
              "      <th>1</th>\n",
              "      <td>0.166667</td>\n",
              "      <td>0.166667</td>\n",
              "      <td>0.166667</td>\n",
              "      <td>0.166667</td>\n",
              "      <td>0.166667</td>\n",
              "      <td>0.166667</td>\n",
              "      <td>NaN</td>\n",
              "      <td>NaN</td>\n",
              "    </tr>\n",
              "    <tr>\n",
              "      <th>2</th>\n",
              "      <td>0.125000</td>\n",
              "      <td>0.125000</td>\n",
              "      <td>0.125000</td>\n",
              "      <td>0.125000</td>\n",
              "      <td>0.125000</td>\n",
              "      <td>0.125000</td>\n",
              "      <td>0.125</td>\n",
              "      <td>0.125</td>\n",
              "    </tr>\n",
              "  </tbody>\n",
              "</table>\n",
              "</div>\n",
              "    <div class=\"colab-df-buttons\">\n",
              "\n",
              "  <div class=\"colab-df-container\">\n",
              "    <button class=\"colab-df-convert\" onclick=\"convertToInteractive('df-3df60ca6-80b8-40ce-b527-781e626cf84b')\"\n",
              "            title=\"Convert this dataframe to an interactive table.\"\n",
              "            style=\"display:none;\">\n",
              "\n",
              "  <svg xmlns=\"http://www.w3.org/2000/svg\" height=\"24px\" viewBox=\"0 -960 960 960\">\n",
              "    <path d=\"M120-120v-720h720v720H120Zm60-500h600v-160H180v160Zm220 220h160v-160H400v160Zm0 220h160v-160H400v160ZM180-400h160v-160H180v160Zm440 0h160v-160H620v160ZM180-180h160v-160H180v160Zm440 0h160v-160H620v160Z\"/>\n",
              "  </svg>\n",
              "    </button>\n",
              "\n",
              "  <style>\n",
              "    .colab-df-container {\n",
              "      display:flex;\n",
              "      gap: 12px;\n",
              "    }\n",
              "\n",
              "    .colab-df-convert {\n",
              "      background-color: #E8F0FE;\n",
              "      border: none;\n",
              "      border-radius: 50%;\n",
              "      cursor: pointer;\n",
              "      display: none;\n",
              "      fill: #1967D2;\n",
              "      height: 32px;\n",
              "      padding: 0 0 0 0;\n",
              "      width: 32px;\n",
              "    }\n",
              "\n",
              "    .colab-df-convert:hover {\n",
              "      background-color: #E2EBFA;\n",
              "      box-shadow: 0px 1px 2px rgba(60, 64, 67, 0.3), 0px 1px 3px 1px rgba(60, 64, 67, 0.15);\n",
              "      fill: #174EA6;\n",
              "    }\n",
              "\n",
              "    .colab-df-buttons div {\n",
              "      margin-bottom: 4px;\n",
              "    }\n",
              "\n",
              "    [theme=dark] .colab-df-convert {\n",
              "      background-color: #3B4455;\n",
              "      fill: #D2E3FC;\n",
              "    }\n",
              "\n",
              "    [theme=dark] .colab-df-convert:hover {\n",
              "      background-color: #434B5C;\n",
              "      box-shadow: 0px 1px 3px 1px rgba(0, 0, 0, 0.15);\n",
              "      filter: drop-shadow(0px 1px 2px rgba(0, 0, 0, 0.3));\n",
              "      fill: #FFFFFF;\n",
              "    }\n",
              "  </style>\n",
              "\n",
              "    <script>\n",
              "      const buttonEl =\n",
              "        document.querySelector('#df-3df60ca6-80b8-40ce-b527-781e626cf84b button.colab-df-convert');\n",
              "      buttonEl.style.display =\n",
              "        google.colab.kernel.accessAllowed ? 'block' : 'none';\n",
              "\n",
              "      async function convertToInteractive(key) {\n",
              "        const element = document.querySelector('#df-3df60ca6-80b8-40ce-b527-781e626cf84b');\n",
              "        const dataTable =\n",
              "          await google.colab.kernel.invokeFunction('convertToInteractive',\n",
              "                                                    [key], {});\n",
              "        if (!dataTable) return;\n",
              "\n",
              "        const docLinkHtml = 'Like what you see? Visit the ' +\n",
              "          '<a target=\"_blank\" href=https://colab.research.google.com/notebooks/data_table.ipynb>data table notebook</a>'\n",
              "          + ' to learn more about interactive tables.';\n",
              "        element.innerHTML = '';\n",
              "        dataTable['output_type'] = 'display_data';\n",
              "        await google.colab.output.renderOutput(dataTable, element);\n",
              "        const docLink = document.createElement('div');\n",
              "        docLink.innerHTML = docLinkHtml;\n",
              "        element.appendChild(docLink);\n",
              "      }\n",
              "    </script>\n",
              "  </div>\n",
              "\n",
              "\n",
              "<div id=\"df-2a96257a-b74d-48aa-a1f4-a3d55e7eada0\">\n",
              "  <button class=\"colab-df-quickchart\" onclick=\"quickchart('df-2a96257a-b74d-48aa-a1f4-a3d55e7eada0')\"\n",
              "            title=\"Suggest charts\"\n",
              "            style=\"display:none;\">\n",
              "\n",
              "<svg xmlns=\"http://www.w3.org/2000/svg\" height=\"24px\"viewBox=\"0 0 24 24\"\n",
              "     width=\"24px\">\n",
              "    <g>\n",
              "        <path d=\"M19 3H5c-1.1 0-2 .9-2 2v14c0 1.1.9 2 2 2h14c1.1 0 2-.9 2-2V5c0-1.1-.9-2-2-2zM9 17H7v-7h2v7zm4 0h-2V7h2v10zm4 0h-2v-4h2v4z\"/>\n",
              "    </g>\n",
              "</svg>\n",
              "  </button>\n",
              "\n",
              "<style>\n",
              "  .colab-df-quickchart {\n",
              "      --bg-color: #E8F0FE;\n",
              "      --fill-color: #1967D2;\n",
              "      --hover-bg-color: #E2EBFA;\n",
              "      --hover-fill-color: #174EA6;\n",
              "      --disabled-fill-color: #AAA;\n",
              "      --disabled-bg-color: #DDD;\n",
              "  }\n",
              "\n",
              "  [theme=dark] .colab-df-quickchart {\n",
              "      --bg-color: #3B4455;\n",
              "      --fill-color: #D2E3FC;\n",
              "      --hover-bg-color: #434B5C;\n",
              "      --hover-fill-color: #FFFFFF;\n",
              "      --disabled-bg-color: #3B4455;\n",
              "      --disabled-fill-color: #666;\n",
              "  }\n",
              "\n",
              "  .colab-df-quickchart {\n",
              "    background-color: var(--bg-color);\n",
              "    border: none;\n",
              "    border-radius: 50%;\n",
              "    cursor: pointer;\n",
              "    display: none;\n",
              "    fill: var(--fill-color);\n",
              "    height: 32px;\n",
              "    padding: 0;\n",
              "    width: 32px;\n",
              "  }\n",
              "\n",
              "  .colab-df-quickchart:hover {\n",
              "    background-color: var(--hover-bg-color);\n",
              "    box-shadow: 0 1px 2px rgba(60, 64, 67, 0.3), 0 1px 3px 1px rgba(60, 64, 67, 0.15);\n",
              "    fill: var(--button-hover-fill-color);\n",
              "  }\n",
              "\n",
              "  .colab-df-quickchart-complete:disabled,\n",
              "  .colab-df-quickchart-complete:disabled:hover {\n",
              "    background-color: var(--disabled-bg-color);\n",
              "    fill: var(--disabled-fill-color);\n",
              "    box-shadow: none;\n",
              "  }\n",
              "\n",
              "  .colab-df-spinner {\n",
              "    border: 2px solid var(--fill-color);\n",
              "    border-color: transparent;\n",
              "    border-bottom-color: var(--fill-color);\n",
              "    animation:\n",
              "      spin 1s steps(1) infinite;\n",
              "  }\n",
              "\n",
              "  @keyframes spin {\n",
              "    0% {\n",
              "      border-color: transparent;\n",
              "      border-bottom-color: var(--fill-color);\n",
              "      border-left-color: var(--fill-color);\n",
              "    }\n",
              "    20% {\n",
              "      border-color: transparent;\n",
              "      border-left-color: var(--fill-color);\n",
              "      border-top-color: var(--fill-color);\n",
              "    }\n",
              "    30% {\n",
              "      border-color: transparent;\n",
              "      border-left-color: var(--fill-color);\n",
              "      border-top-color: var(--fill-color);\n",
              "      border-right-color: var(--fill-color);\n",
              "    }\n",
              "    40% {\n",
              "      border-color: transparent;\n",
              "      border-right-color: var(--fill-color);\n",
              "      border-top-color: var(--fill-color);\n",
              "    }\n",
              "    60% {\n",
              "      border-color: transparent;\n",
              "      border-right-color: var(--fill-color);\n",
              "    }\n",
              "    80% {\n",
              "      border-color: transparent;\n",
              "      border-right-color: var(--fill-color);\n",
              "      border-bottom-color: var(--fill-color);\n",
              "    }\n",
              "    90% {\n",
              "      border-color: transparent;\n",
              "      border-bottom-color: var(--fill-color);\n",
              "    }\n",
              "  }\n",
              "</style>\n",
              "\n",
              "  <script>\n",
              "    async function quickchart(key) {\n",
              "      const quickchartButtonEl =\n",
              "        document.querySelector('#' + key + ' button');\n",
              "      quickchartButtonEl.disabled = true;  // To prevent multiple clicks.\n",
              "      quickchartButtonEl.classList.add('colab-df-spinner');\n",
              "      try {\n",
              "        const charts = await google.colab.kernel.invokeFunction(\n",
              "            'suggestCharts', [key], {});\n",
              "      } catch (error) {\n",
              "        console.error('Error during call to suggestCharts:', error);\n",
              "      }\n",
              "      quickchartButtonEl.classList.remove('colab-df-spinner');\n",
              "      quickchartButtonEl.classList.add('colab-df-quickchart-complete');\n",
              "    }\n",
              "    (() => {\n",
              "      let quickchartButtonEl =\n",
              "        document.querySelector('#df-2a96257a-b74d-48aa-a1f4-a3d55e7eada0 button');\n",
              "      quickchartButtonEl.style.display =\n",
              "        google.colab.kernel.accessAllowed ? 'block' : 'none';\n",
              "    })();\n",
              "  </script>\n",
              "</div>\n",
              "\n",
              "    </div>\n",
              "  </div>\n"
            ],
            "application/vnd.google.colaboratory.intrinsic+json": {
              "type": "dataframe",
              "summary": "{\n  \"name\": \"pd\",\n  \"rows\": 3,\n  \"fields\": [\n    {\n      \"column\": 1,\n      \"properties\": {\n        \"dtype\": \"number\",\n        \"std\": 0.06364688465216445,\n        \"min\": 0.125,\n        \"max\": 0.25,\n        \"num_unique_values\": 3,\n        \"samples\": [\n          0.25,\n          0.16666666666666666,\n          0.125\n        ],\n        \"semantic_type\": \"\",\n        \"description\": \"\"\n      }\n    },\n    {\n      \"column\": 2,\n      \"properties\": {\n        \"dtype\": \"number\",\n        \"std\": 0.06364688465216445,\n        \"min\": 0.125,\n        \"max\": 0.25,\n        \"num_unique_values\": 3,\n        \"samples\": [\n          0.25,\n          0.16666666666666666,\n          0.125\n        ],\n        \"semantic_type\": \"\",\n        \"description\": \"\"\n      }\n    },\n    {\n      \"column\": 3,\n      \"properties\": {\n        \"dtype\": \"number\",\n        \"std\": 0.06364688465216445,\n        \"min\": 0.125,\n        \"max\": 0.25,\n        \"num_unique_values\": 3,\n        \"samples\": [\n          0.25,\n          0.16666666666666666,\n          0.125\n        ],\n        \"semantic_type\": \"\",\n        \"description\": \"\"\n      }\n    },\n    {\n      \"column\": 4,\n      \"properties\": {\n        \"dtype\": \"number\",\n        \"std\": 0.06364688465216445,\n        \"min\": 0.125,\n        \"max\": 0.25,\n        \"num_unique_values\": 3,\n        \"samples\": [\n          0.25,\n          0.16666666666666666,\n          0.125\n        ],\n        \"semantic_type\": \"\",\n        \"description\": \"\"\n      }\n    },\n    {\n      \"column\": 5,\n      \"properties\": {\n        \"dtype\": \"number\",\n        \"std\": 0.029462782549439473,\n        \"min\": 0.125,\n        \"max\": 0.16666666666666666,\n        \"num_unique_values\": 2,\n        \"samples\": [\n          0.125,\n          0.16666666666666666\n        ],\n        \"semantic_type\": \"\",\n        \"description\": \"\"\n      }\n    },\n    {\n      \"column\": 6,\n      \"properties\": {\n        \"dtype\": \"number\",\n        \"std\": 0.029462782549439473,\n        \"min\": 0.125,\n        \"max\": 0.16666666666666666,\n        \"num_unique_values\": 2,\n        \"samples\": [\n          0.125,\n          0.16666666666666666\n        ],\n        \"semantic_type\": \"\",\n        \"description\": \"\"\n      }\n    },\n    {\n      \"column\": 7,\n      \"properties\": {\n        \"dtype\": \"number\",\n        \"std\": null,\n        \"min\": 0.125,\n        \"max\": 0.125,\n        \"num_unique_values\": 1,\n        \"samples\": [\n          0.125\n        ],\n        \"semantic_type\": \"\",\n        \"description\": \"\"\n      }\n    },\n    {\n      \"column\": 8,\n      \"properties\": {\n        \"dtype\": \"number\",\n        \"std\": null,\n        \"min\": 0.125,\n        \"max\": 0.125,\n        \"num_unique_values\": 1,\n        \"samples\": [\n          0.125\n        ],\n        \"semantic_type\": \"\",\n        \"description\": \"\"\n      }\n    }\n  ]\n}"
            }
          },
          "metadata": {},
          "execution_count": 58
        }
      ],
      "source": [
        "import pandas as pd\n",
        "\n",
        "pd.DataFrame(dice)"
      ]
    },
    {
      "cell_type": "markdown",
      "metadata": {
        "id": "AizEYBjH7GA8"
      },
      "source": [
        "The result is a `DataFrame` with one row for each distribution and one column for each possible outcome.\n",
        "Not all rows are the same length, so Pandas fills the extra spaces with the special value `NaN`, which stands for \"not a number\".\n",
        "We can use `fillna` to replace the `NaN` values with 0."
      ]
    },
    {
      "cell_type": "raw",
      "metadata": {
        "execution": {
          "iopub.execute_input": "2021-04-12T15:01:40.666810Z",
          "iopub.status.busy": "2021-04-12T15:01:40.666262Z",
          "iopub.status.idle": "2021-04-12T15:01:40.669604Z",
          "shell.execute_reply": "2021-04-12T15:01:40.669178Z"
        },
        "id": "Wr68LyiD7GA8"
      },
      "source": [
        "pd.DataFrame(dice).fillna(0)"
      ]
    },
    {
      "cell_type": "code",
      "source": [
        "pd.DataFrame(dice).fillna(0)"
      ],
      "metadata": {
        "colab": {
          "base_uri": "https://localhost:8080/",
          "height": 143
        },
        "id": "yr4hFbx4J0PH",
        "outputId": "c7648285-6546-499a-c783-b848a9dc9ae3"
      },
      "execution_count": 59,
      "outputs": [
        {
          "output_type": "execute_result",
          "data": {
            "text/plain": [
              "          1         2         3         4         5         6      7      8\n",
              "0  0.250000  0.250000  0.250000  0.250000  0.000000  0.000000  0.000  0.000\n",
              "1  0.166667  0.166667  0.166667  0.166667  0.166667  0.166667  0.000  0.000\n",
              "2  0.125000  0.125000  0.125000  0.125000  0.125000  0.125000  0.125  0.125"
            ],
            "text/html": [
              "\n",
              "  <div id=\"df-5078cab2-9c44-4fb4-901a-46554038a9c2\" class=\"colab-df-container\">\n",
              "    <div>\n",
              "<style scoped>\n",
              "    .dataframe tbody tr th:only-of-type {\n",
              "        vertical-align: middle;\n",
              "    }\n",
              "\n",
              "    .dataframe tbody tr th {\n",
              "        vertical-align: top;\n",
              "    }\n",
              "\n",
              "    .dataframe thead th {\n",
              "        text-align: right;\n",
              "    }\n",
              "</style>\n",
              "<table border=\"1\" class=\"dataframe\">\n",
              "  <thead>\n",
              "    <tr style=\"text-align: right;\">\n",
              "      <th></th>\n",
              "      <th>1</th>\n",
              "      <th>2</th>\n",
              "      <th>3</th>\n",
              "      <th>4</th>\n",
              "      <th>5</th>\n",
              "      <th>6</th>\n",
              "      <th>7</th>\n",
              "      <th>8</th>\n",
              "    </tr>\n",
              "  </thead>\n",
              "  <tbody>\n",
              "    <tr>\n",
              "      <th>0</th>\n",
              "      <td>0.250000</td>\n",
              "      <td>0.250000</td>\n",
              "      <td>0.250000</td>\n",
              "      <td>0.250000</td>\n",
              "      <td>0.000000</td>\n",
              "      <td>0.000000</td>\n",
              "      <td>0.000</td>\n",
              "      <td>0.000</td>\n",
              "    </tr>\n",
              "    <tr>\n",
              "      <th>1</th>\n",
              "      <td>0.166667</td>\n",
              "      <td>0.166667</td>\n",
              "      <td>0.166667</td>\n",
              "      <td>0.166667</td>\n",
              "      <td>0.166667</td>\n",
              "      <td>0.166667</td>\n",
              "      <td>0.000</td>\n",
              "      <td>0.000</td>\n",
              "    </tr>\n",
              "    <tr>\n",
              "      <th>2</th>\n",
              "      <td>0.125000</td>\n",
              "      <td>0.125000</td>\n",
              "      <td>0.125000</td>\n",
              "      <td>0.125000</td>\n",
              "      <td>0.125000</td>\n",
              "      <td>0.125000</td>\n",
              "      <td>0.125</td>\n",
              "      <td>0.125</td>\n",
              "    </tr>\n",
              "  </tbody>\n",
              "</table>\n",
              "</div>\n",
              "    <div class=\"colab-df-buttons\">\n",
              "\n",
              "  <div class=\"colab-df-container\">\n",
              "    <button class=\"colab-df-convert\" onclick=\"convertToInteractive('df-5078cab2-9c44-4fb4-901a-46554038a9c2')\"\n",
              "            title=\"Convert this dataframe to an interactive table.\"\n",
              "            style=\"display:none;\">\n",
              "\n",
              "  <svg xmlns=\"http://www.w3.org/2000/svg\" height=\"24px\" viewBox=\"0 -960 960 960\">\n",
              "    <path d=\"M120-120v-720h720v720H120Zm60-500h600v-160H180v160Zm220 220h160v-160H400v160Zm0 220h160v-160H400v160ZM180-400h160v-160H180v160Zm440 0h160v-160H620v160ZM180-180h160v-160H180v160Zm440 0h160v-160H620v160Z\"/>\n",
              "  </svg>\n",
              "    </button>\n",
              "\n",
              "  <style>\n",
              "    .colab-df-container {\n",
              "      display:flex;\n",
              "      gap: 12px;\n",
              "    }\n",
              "\n",
              "    .colab-df-convert {\n",
              "      background-color: #E8F0FE;\n",
              "      border: none;\n",
              "      border-radius: 50%;\n",
              "      cursor: pointer;\n",
              "      display: none;\n",
              "      fill: #1967D2;\n",
              "      height: 32px;\n",
              "      padding: 0 0 0 0;\n",
              "      width: 32px;\n",
              "    }\n",
              "\n",
              "    .colab-df-convert:hover {\n",
              "      background-color: #E2EBFA;\n",
              "      box-shadow: 0px 1px 2px rgba(60, 64, 67, 0.3), 0px 1px 3px 1px rgba(60, 64, 67, 0.15);\n",
              "      fill: #174EA6;\n",
              "    }\n",
              "\n",
              "    .colab-df-buttons div {\n",
              "      margin-bottom: 4px;\n",
              "    }\n",
              "\n",
              "    [theme=dark] .colab-df-convert {\n",
              "      background-color: #3B4455;\n",
              "      fill: #D2E3FC;\n",
              "    }\n",
              "\n",
              "    [theme=dark] .colab-df-convert:hover {\n",
              "      background-color: #434B5C;\n",
              "      box-shadow: 0px 1px 3px 1px rgba(0, 0, 0, 0.15);\n",
              "      filter: drop-shadow(0px 1px 2px rgba(0, 0, 0, 0.3));\n",
              "      fill: #FFFFFF;\n",
              "    }\n",
              "  </style>\n",
              "\n",
              "    <script>\n",
              "      const buttonEl =\n",
              "        document.querySelector('#df-5078cab2-9c44-4fb4-901a-46554038a9c2 button.colab-df-convert');\n",
              "      buttonEl.style.display =\n",
              "        google.colab.kernel.accessAllowed ? 'block' : 'none';\n",
              "\n",
              "      async function convertToInteractive(key) {\n",
              "        const element = document.querySelector('#df-5078cab2-9c44-4fb4-901a-46554038a9c2');\n",
              "        const dataTable =\n",
              "          await google.colab.kernel.invokeFunction('convertToInteractive',\n",
              "                                                    [key], {});\n",
              "        if (!dataTable) return;\n",
              "\n",
              "        const docLinkHtml = 'Like what you see? Visit the ' +\n",
              "          '<a target=\"_blank\" href=https://colab.research.google.com/notebooks/data_table.ipynb>data table notebook</a>'\n",
              "          + ' to learn more about interactive tables.';\n",
              "        element.innerHTML = '';\n",
              "        dataTable['output_type'] = 'display_data';\n",
              "        await google.colab.output.renderOutput(dataTable, element);\n",
              "        const docLink = document.createElement('div');\n",
              "        docLink.innerHTML = docLinkHtml;\n",
              "        element.appendChild(docLink);\n",
              "      }\n",
              "    </script>\n",
              "  </div>\n",
              "\n",
              "\n",
              "<div id=\"df-267a7580-cf0f-44af-93ec-5fec3c3a70a1\">\n",
              "  <button class=\"colab-df-quickchart\" onclick=\"quickchart('df-267a7580-cf0f-44af-93ec-5fec3c3a70a1')\"\n",
              "            title=\"Suggest charts\"\n",
              "            style=\"display:none;\">\n",
              "\n",
              "<svg xmlns=\"http://www.w3.org/2000/svg\" height=\"24px\"viewBox=\"0 0 24 24\"\n",
              "     width=\"24px\">\n",
              "    <g>\n",
              "        <path d=\"M19 3H5c-1.1 0-2 .9-2 2v14c0 1.1.9 2 2 2h14c1.1 0 2-.9 2-2V5c0-1.1-.9-2-2-2zM9 17H7v-7h2v7zm4 0h-2V7h2v10zm4 0h-2v-4h2v4z\"/>\n",
              "    </g>\n",
              "</svg>\n",
              "  </button>\n",
              "\n",
              "<style>\n",
              "  .colab-df-quickchart {\n",
              "      --bg-color: #E8F0FE;\n",
              "      --fill-color: #1967D2;\n",
              "      --hover-bg-color: #E2EBFA;\n",
              "      --hover-fill-color: #174EA6;\n",
              "      --disabled-fill-color: #AAA;\n",
              "      --disabled-bg-color: #DDD;\n",
              "  }\n",
              "\n",
              "  [theme=dark] .colab-df-quickchart {\n",
              "      --bg-color: #3B4455;\n",
              "      --fill-color: #D2E3FC;\n",
              "      --hover-bg-color: #434B5C;\n",
              "      --hover-fill-color: #FFFFFF;\n",
              "      --disabled-bg-color: #3B4455;\n",
              "      --disabled-fill-color: #666;\n",
              "  }\n",
              "\n",
              "  .colab-df-quickchart {\n",
              "    background-color: var(--bg-color);\n",
              "    border: none;\n",
              "    border-radius: 50%;\n",
              "    cursor: pointer;\n",
              "    display: none;\n",
              "    fill: var(--fill-color);\n",
              "    height: 32px;\n",
              "    padding: 0;\n",
              "    width: 32px;\n",
              "  }\n",
              "\n",
              "  .colab-df-quickchart:hover {\n",
              "    background-color: var(--hover-bg-color);\n",
              "    box-shadow: 0 1px 2px rgba(60, 64, 67, 0.3), 0 1px 3px 1px rgba(60, 64, 67, 0.15);\n",
              "    fill: var(--button-hover-fill-color);\n",
              "  }\n",
              "\n",
              "  .colab-df-quickchart-complete:disabled,\n",
              "  .colab-df-quickchart-complete:disabled:hover {\n",
              "    background-color: var(--disabled-bg-color);\n",
              "    fill: var(--disabled-fill-color);\n",
              "    box-shadow: none;\n",
              "  }\n",
              "\n",
              "  .colab-df-spinner {\n",
              "    border: 2px solid var(--fill-color);\n",
              "    border-color: transparent;\n",
              "    border-bottom-color: var(--fill-color);\n",
              "    animation:\n",
              "      spin 1s steps(1) infinite;\n",
              "  }\n",
              "\n",
              "  @keyframes spin {\n",
              "    0% {\n",
              "      border-color: transparent;\n",
              "      border-bottom-color: var(--fill-color);\n",
              "      border-left-color: var(--fill-color);\n",
              "    }\n",
              "    20% {\n",
              "      border-color: transparent;\n",
              "      border-left-color: var(--fill-color);\n",
              "      border-top-color: var(--fill-color);\n",
              "    }\n",
              "    30% {\n",
              "      border-color: transparent;\n",
              "      border-left-color: var(--fill-color);\n",
              "      border-top-color: var(--fill-color);\n",
              "      border-right-color: var(--fill-color);\n",
              "    }\n",
              "    40% {\n",
              "      border-color: transparent;\n",
              "      border-right-color: var(--fill-color);\n",
              "      border-top-color: var(--fill-color);\n",
              "    }\n",
              "    60% {\n",
              "      border-color: transparent;\n",
              "      border-right-color: var(--fill-color);\n",
              "    }\n",
              "    80% {\n",
              "      border-color: transparent;\n",
              "      border-right-color: var(--fill-color);\n",
              "      border-bottom-color: var(--fill-color);\n",
              "    }\n",
              "    90% {\n",
              "      border-color: transparent;\n",
              "      border-bottom-color: var(--fill-color);\n",
              "    }\n",
              "  }\n",
              "</style>\n",
              "\n",
              "  <script>\n",
              "    async function quickchart(key) {\n",
              "      const quickchartButtonEl =\n",
              "        document.querySelector('#' + key + ' button');\n",
              "      quickchartButtonEl.disabled = true;  // To prevent multiple clicks.\n",
              "      quickchartButtonEl.classList.add('colab-df-spinner');\n",
              "      try {\n",
              "        const charts = await google.colab.kernel.invokeFunction(\n",
              "            'suggestCharts', [key], {});\n",
              "      } catch (error) {\n",
              "        console.error('Error during call to suggestCharts:', error);\n",
              "      }\n",
              "      quickchartButtonEl.classList.remove('colab-df-spinner');\n",
              "      quickchartButtonEl.classList.add('colab-df-quickchart-complete');\n",
              "    }\n",
              "    (() => {\n",
              "      let quickchartButtonEl =\n",
              "        document.querySelector('#df-267a7580-cf0f-44af-93ec-5fec3c3a70a1 button');\n",
              "      quickchartButtonEl.style.display =\n",
              "        google.colab.kernel.accessAllowed ? 'block' : 'none';\n",
              "    })();\n",
              "  </script>\n",
              "</div>\n",
              "\n",
              "    </div>\n",
              "  </div>\n"
            ],
            "application/vnd.google.colaboratory.intrinsic+json": {
              "type": "dataframe",
              "summary": "{\n  \"name\": \"pd\",\n  \"rows\": 3,\n  \"fields\": [\n    {\n      \"column\": 1,\n      \"properties\": {\n        \"dtype\": \"number\",\n        \"std\": 0.06364688465216445,\n        \"min\": 0.125,\n        \"max\": 0.25,\n        \"num_unique_values\": 3,\n        \"samples\": [\n          0.25,\n          0.16666666666666666,\n          0.125\n        ],\n        \"semantic_type\": \"\",\n        \"description\": \"\"\n      }\n    },\n    {\n      \"column\": 2,\n      \"properties\": {\n        \"dtype\": \"number\",\n        \"std\": 0.06364688465216445,\n        \"min\": 0.125,\n        \"max\": 0.25,\n        \"num_unique_values\": 3,\n        \"samples\": [\n          0.25,\n          0.16666666666666666,\n          0.125\n        ],\n        \"semantic_type\": \"\",\n        \"description\": \"\"\n      }\n    },\n    {\n      \"column\": 3,\n      \"properties\": {\n        \"dtype\": \"number\",\n        \"std\": 0.06364688465216445,\n        \"min\": 0.125,\n        \"max\": 0.25,\n        \"num_unique_values\": 3,\n        \"samples\": [\n          0.25,\n          0.16666666666666666,\n          0.125\n        ],\n        \"semantic_type\": \"\",\n        \"description\": \"\"\n      }\n    },\n    {\n      \"column\": 4,\n      \"properties\": {\n        \"dtype\": \"number\",\n        \"std\": 0.06364688465216445,\n        \"min\": 0.125,\n        \"max\": 0.25,\n        \"num_unique_values\": 3,\n        \"samples\": [\n          0.25,\n          0.16666666666666666,\n          0.125\n        ],\n        \"semantic_type\": \"\",\n        \"description\": \"\"\n      }\n    },\n    {\n      \"column\": 5,\n      \"properties\": {\n        \"dtype\": \"number\",\n        \"std\": 0.08673608331108885,\n        \"min\": 0.0,\n        \"max\": 0.16666666666666666,\n        \"num_unique_values\": 3,\n        \"samples\": [\n          0.0,\n          0.16666666666666666,\n          0.125\n        ],\n        \"semantic_type\": \"\",\n        \"description\": \"\"\n      }\n    },\n    {\n      \"column\": 6,\n      \"properties\": {\n        \"dtype\": \"number\",\n        \"std\": 0.08673608331108885,\n        \"min\": 0.0,\n        \"max\": 0.16666666666666666,\n        \"num_unique_values\": 3,\n        \"samples\": [\n          0.0,\n          0.16666666666666666,\n          0.125\n        ],\n        \"semantic_type\": \"\",\n        \"description\": \"\"\n      }\n    },\n    {\n      \"column\": 7,\n      \"properties\": {\n        \"dtype\": \"number\",\n        \"std\": 0.07216878364870323,\n        \"min\": 0.0,\n        \"max\": 0.125,\n        \"num_unique_values\": 2,\n        \"samples\": [\n          0.125,\n          0.0\n        ],\n        \"semantic_type\": \"\",\n        \"description\": \"\"\n      }\n    },\n    {\n      \"column\": 8,\n      \"properties\": {\n        \"dtype\": \"number\",\n        \"std\": 0.07216878364870323,\n        \"min\": 0.0,\n        \"max\": 0.125,\n        \"num_unique_values\": 2,\n        \"samples\": [\n          0.125,\n          0.0\n        ],\n        \"semantic_type\": \"\",\n        \"description\": \"\"\n      }\n    }\n  ]\n}"
            }
          },
          "metadata": {},
          "execution_count": 59
        }
      ]
    },
    {
      "cell_type": "markdown",
      "metadata": {
        "id": "4Ba90atQ7GA8"
      },
      "source": [
        "The next step is to multiply each row by the probabilities in `pmf_dice`, which turns out to be easier if we transpose the matrix so the distributions run down the columns rather than across the rows:"
      ]
    },
    {
      "cell_type": "code",
      "execution_count": 60,
      "metadata": {
        "execution": {
          "iopub.execute_input": "2021-04-16T19:35:33.314949Z",
          "iopub.status.busy": "2021-04-16T19:35:33.314409Z",
          "iopub.status.idle": "2021-04-16T19:35:33.316129Z",
          "shell.execute_reply": "2021-04-16T19:35:33.316499Z"
        },
        "id": "E57mkbMX7GA8"
      },
      "outputs": [],
      "source": [
        "df = pd.DataFrame(dice).fillna(0).transpose()"
      ]
    },
    {
      "cell_type": "code",
      "execution_count": 61,
      "metadata": {
        "execution": {
          "iopub.execute_input": "2021-04-16T19:35:33.324161Z",
          "iopub.status.busy": "2021-04-16T19:35:33.323375Z",
          "iopub.status.idle": "2021-04-16T19:35:33.326601Z",
          "shell.execute_reply": "2021-04-16T19:35:33.326987Z"
        },
        "tags": [],
        "id": "hNTVv5447GA8",
        "colab": {
          "base_uri": "https://localhost:8080/",
          "height": 300
        },
        "outputId": "e08e5d3a-e21b-48e4-e924-22eacf58f1eb"
      },
      "outputs": [
        {
          "output_type": "execute_result",
          "data": {
            "text/plain": [
              "      0         1      2\n",
              "1  0.25  0.166667  0.125\n",
              "2  0.25  0.166667  0.125\n",
              "3  0.25  0.166667  0.125\n",
              "4  0.25  0.166667  0.125\n",
              "5  0.00  0.166667  0.125\n",
              "6  0.00  0.166667  0.125\n",
              "7  0.00  0.000000  0.125\n",
              "8  0.00  0.000000  0.125"
            ],
            "text/html": [
              "\n",
              "  <div id=\"df-f82c29fe-48b5-4df4-953b-989adcf5e714\" class=\"colab-df-container\">\n",
              "    <div>\n",
              "<style scoped>\n",
              "    .dataframe tbody tr th:only-of-type {\n",
              "        vertical-align: middle;\n",
              "    }\n",
              "\n",
              "    .dataframe tbody tr th {\n",
              "        vertical-align: top;\n",
              "    }\n",
              "\n",
              "    .dataframe thead th {\n",
              "        text-align: right;\n",
              "    }\n",
              "</style>\n",
              "<table border=\"1\" class=\"dataframe\">\n",
              "  <thead>\n",
              "    <tr style=\"text-align: right;\">\n",
              "      <th></th>\n",
              "      <th>0</th>\n",
              "      <th>1</th>\n",
              "      <th>2</th>\n",
              "    </tr>\n",
              "  </thead>\n",
              "  <tbody>\n",
              "    <tr>\n",
              "      <th>1</th>\n",
              "      <td>0.25</td>\n",
              "      <td>0.166667</td>\n",
              "      <td>0.125</td>\n",
              "    </tr>\n",
              "    <tr>\n",
              "      <th>2</th>\n",
              "      <td>0.25</td>\n",
              "      <td>0.166667</td>\n",
              "      <td>0.125</td>\n",
              "    </tr>\n",
              "    <tr>\n",
              "      <th>3</th>\n",
              "      <td>0.25</td>\n",
              "      <td>0.166667</td>\n",
              "      <td>0.125</td>\n",
              "    </tr>\n",
              "    <tr>\n",
              "      <th>4</th>\n",
              "      <td>0.25</td>\n",
              "      <td>0.166667</td>\n",
              "      <td>0.125</td>\n",
              "    </tr>\n",
              "    <tr>\n",
              "      <th>5</th>\n",
              "      <td>0.00</td>\n",
              "      <td>0.166667</td>\n",
              "      <td>0.125</td>\n",
              "    </tr>\n",
              "    <tr>\n",
              "      <th>6</th>\n",
              "      <td>0.00</td>\n",
              "      <td>0.166667</td>\n",
              "      <td>0.125</td>\n",
              "    </tr>\n",
              "    <tr>\n",
              "      <th>7</th>\n",
              "      <td>0.00</td>\n",
              "      <td>0.000000</td>\n",
              "      <td>0.125</td>\n",
              "    </tr>\n",
              "    <tr>\n",
              "      <th>8</th>\n",
              "      <td>0.00</td>\n",
              "      <td>0.000000</td>\n",
              "      <td>0.125</td>\n",
              "    </tr>\n",
              "  </tbody>\n",
              "</table>\n",
              "</div>\n",
              "    <div class=\"colab-df-buttons\">\n",
              "\n",
              "  <div class=\"colab-df-container\">\n",
              "    <button class=\"colab-df-convert\" onclick=\"convertToInteractive('df-f82c29fe-48b5-4df4-953b-989adcf5e714')\"\n",
              "            title=\"Convert this dataframe to an interactive table.\"\n",
              "            style=\"display:none;\">\n",
              "\n",
              "  <svg xmlns=\"http://www.w3.org/2000/svg\" height=\"24px\" viewBox=\"0 -960 960 960\">\n",
              "    <path d=\"M120-120v-720h720v720H120Zm60-500h600v-160H180v160Zm220 220h160v-160H400v160Zm0 220h160v-160H400v160ZM180-400h160v-160H180v160Zm440 0h160v-160H620v160ZM180-180h160v-160H180v160Zm440 0h160v-160H620v160Z\"/>\n",
              "  </svg>\n",
              "    </button>\n",
              "\n",
              "  <style>\n",
              "    .colab-df-container {\n",
              "      display:flex;\n",
              "      gap: 12px;\n",
              "    }\n",
              "\n",
              "    .colab-df-convert {\n",
              "      background-color: #E8F0FE;\n",
              "      border: none;\n",
              "      border-radius: 50%;\n",
              "      cursor: pointer;\n",
              "      display: none;\n",
              "      fill: #1967D2;\n",
              "      height: 32px;\n",
              "      padding: 0 0 0 0;\n",
              "      width: 32px;\n",
              "    }\n",
              "\n",
              "    .colab-df-convert:hover {\n",
              "      background-color: #E2EBFA;\n",
              "      box-shadow: 0px 1px 2px rgba(60, 64, 67, 0.3), 0px 1px 3px 1px rgba(60, 64, 67, 0.15);\n",
              "      fill: #174EA6;\n",
              "    }\n",
              "\n",
              "    .colab-df-buttons div {\n",
              "      margin-bottom: 4px;\n",
              "    }\n",
              "\n",
              "    [theme=dark] .colab-df-convert {\n",
              "      background-color: #3B4455;\n",
              "      fill: #D2E3FC;\n",
              "    }\n",
              "\n",
              "    [theme=dark] .colab-df-convert:hover {\n",
              "      background-color: #434B5C;\n",
              "      box-shadow: 0px 1px 3px 1px rgba(0, 0, 0, 0.15);\n",
              "      filter: drop-shadow(0px 1px 2px rgba(0, 0, 0, 0.3));\n",
              "      fill: #FFFFFF;\n",
              "    }\n",
              "  </style>\n",
              "\n",
              "    <script>\n",
              "      const buttonEl =\n",
              "        document.querySelector('#df-f82c29fe-48b5-4df4-953b-989adcf5e714 button.colab-df-convert');\n",
              "      buttonEl.style.display =\n",
              "        google.colab.kernel.accessAllowed ? 'block' : 'none';\n",
              "\n",
              "      async function convertToInteractive(key) {\n",
              "        const element = document.querySelector('#df-f82c29fe-48b5-4df4-953b-989adcf5e714');\n",
              "        const dataTable =\n",
              "          await google.colab.kernel.invokeFunction('convertToInteractive',\n",
              "                                                    [key], {});\n",
              "        if (!dataTable) return;\n",
              "\n",
              "        const docLinkHtml = 'Like what you see? Visit the ' +\n",
              "          '<a target=\"_blank\" href=https://colab.research.google.com/notebooks/data_table.ipynb>data table notebook</a>'\n",
              "          + ' to learn more about interactive tables.';\n",
              "        element.innerHTML = '';\n",
              "        dataTable['output_type'] = 'display_data';\n",
              "        await google.colab.output.renderOutput(dataTable, element);\n",
              "        const docLink = document.createElement('div');\n",
              "        docLink.innerHTML = docLinkHtml;\n",
              "        element.appendChild(docLink);\n",
              "      }\n",
              "    </script>\n",
              "  </div>\n",
              "\n",
              "\n",
              "<div id=\"df-d56c53c0-a1cb-4828-90bb-f4f5a5f92d59\">\n",
              "  <button class=\"colab-df-quickchart\" onclick=\"quickchart('df-d56c53c0-a1cb-4828-90bb-f4f5a5f92d59')\"\n",
              "            title=\"Suggest charts\"\n",
              "            style=\"display:none;\">\n",
              "\n",
              "<svg xmlns=\"http://www.w3.org/2000/svg\" height=\"24px\"viewBox=\"0 0 24 24\"\n",
              "     width=\"24px\">\n",
              "    <g>\n",
              "        <path d=\"M19 3H5c-1.1 0-2 .9-2 2v14c0 1.1.9 2 2 2h14c1.1 0 2-.9 2-2V5c0-1.1-.9-2-2-2zM9 17H7v-7h2v7zm4 0h-2V7h2v10zm4 0h-2v-4h2v4z\"/>\n",
              "    </g>\n",
              "</svg>\n",
              "  </button>\n",
              "\n",
              "<style>\n",
              "  .colab-df-quickchart {\n",
              "      --bg-color: #E8F0FE;\n",
              "      --fill-color: #1967D2;\n",
              "      --hover-bg-color: #E2EBFA;\n",
              "      --hover-fill-color: #174EA6;\n",
              "      --disabled-fill-color: #AAA;\n",
              "      --disabled-bg-color: #DDD;\n",
              "  }\n",
              "\n",
              "  [theme=dark] .colab-df-quickchart {\n",
              "      --bg-color: #3B4455;\n",
              "      --fill-color: #D2E3FC;\n",
              "      --hover-bg-color: #434B5C;\n",
              "      --hover-fill-color: #FFFFFF;\n",
              "      --disabled-bg-color: #3B4455;\n",
              "      --disabled-fill-color: #666;\n",
              "  }\n",
              "\n",
              "  .colab-df-quickchart {\n",
              "    background-color: var(--bg-color);\n",
              "    border: none;\n",
              "    border-radius: 50%;\n",
              "    cursor: pointer;\n",
              "    display: none;\n",
              "    fill: var(--fill-color);\n",
              "    height: 32px;\n",
              "    padding: 0;\n",
              "    width: 32px;\n",
              "  }\n",
              "\n",
              "  .colab-df-quickchart:hover {\n",
              "    background-color: var(--hover-bg-color);\n",
              "    box-shadow: 0 1px 2px rgba(60, 64, 67, 0.3), 0 1px 3px 1px rgba(60, 64, 67, 0.15);\n",
              "    fill: var(--button-hover-fill-color);\n",
              "  }\n",
              "\n",
              "  .colab-df-quickchart-complete:disabled,\n",
              "  .colab-df-quickchart-complete:disabled:hover {\n",
              "    background-color: var(--disabled-bg-color);\n",
              "    fill: var(--disabled-fill-color);\n",
              "    box-shadow: none;\n",
              "  }\n",
              "\n",
              "  .colab-df-spinner {\n",
              "    border: 2px solid var(--fill-color);\n",
              "    border-color: transparent;\n",
              "    border-bottom-color: var(--fill-color);\n",
              "    animation:\n",
              "      spin 1s steps(1) infinite;\n",
              "  }\n",
              "\n",
              "  @keyframes spin {\n",
              "    0% {\n",
              "      border-color: transparent;\n",
              "      border-bottom-color: var(--fill-color);\n",
              "      border-left-color: var(--fill-color);\n",
              "    }\n",
              "    20% {\n",
              "      border-color: transparent;\n",
              "      border-left-color: var(--fill-color);\n",
              "      border-top-color: var(--fill-color);\n",
              "    }\n",
              "    30% {\n",
              "      border-color: transparent;\n",
              "      border-left-color: var(--fill-color);\n",
              "      border-top-color: var(--fill-color);\n",
              "      border-right-color: var(--fill-color);\n",
              "    }\n",
              "    40% {\n",
              "      border-color: transparent;\n",
              "      border-right-color: var(--fill-color);\n",
              "      border-top-color: var(--fill-color);\n",
              "    }\n",
              "    60% {\n",
              "      border-color: transparent;\n",
              "      border-right-color: var(--fill-color);\n",
              "    }\n",
              "    80% {\n",
              "      border-color: transparent;\n",
              "      border-right-color: var(--fill-color);\n",
              "      border-bottom-color: var(--fill-color);\n",
              "    }\n",
              "    90% {\n",
              "      border-color: transparent;\n",
              "      border-bottom-color: var(--fill-color);\n",
              "    }\n",
              "  }\n",
              "</style>\n",
              "\n",
              "  <script>\n",
              "    async function quickchart(key) {\n",
              "      const quickchartButtonEl =\n",
              "        document.querySelector('#' + key + ' button');\n",
              "      quickchartButtonEl.disabled = true;  // To prevent multiple clicks.\n",
              "      quickchartButtonEl.classList.add('colab-df-spinner');\n",
              "      try {\n",
              "        const charts = await google.colab.kernel.invokeFunction(\n",
              "            'suggestCharts', [key], {});\n",
              "      } catch (error) {\n",
              "        console.error('Error during call to suggestCharts:', error);\n",
              "      }\n",
              "      quickchartButtonEl.classList.remove('colab-df-spinner');\n",
              "      quickchartButtonEl.classList.add('colab-df-quickchart-complete');\n",
              "    }\n",
              "    (() => {\n",
              "      let quickchartButtonEl =\n",
              "        document.querySelector('#df-d56c53c0-a1cb-4828-90bb-f4f5a5f92d59 button');\n",
              "      quickchartButtonEl.style.display =\n",
              "        google.colab.kernel.accessAllowed ? 'block' : 'none';\n",
              "    })();\n",
              "  </script>\n",
              "</div>\n",
              "\n",
              "  <div id=\"id_182cb55c-40d8-42c3-b3ac-0f72cd734954\">\n",
              "    <style>\n",
              "      .colab-df-generate {\n",
              "        background-color: #E8F0FE;\n",
              "        border: none;\n",
              "        border-radius: 50%;\n",
              "        cursor: pointer;\n",
              "        display: none;\n",
              "        fill: #1967D2;\n",
              "        height: 32px;\n",
              "        padding: 0 0 0 0;\n",
              "        width: 32px;\n",
              "      }\n",
              "\n",
              "      .colab-df-generate:hover {\n",
              "        background-color: #E2EBFA;\n",
              "        box-shadow: 0px 1px 2px rgba(60, 64, 67, 0.3), 0px 1px 3px 1px rgba(60, 64, 67, 0.15);\n",
              "        fill: #174EA6;\n",
              "      }\n",
              "\n",
              "      [theme=dark] .colab-df-generate {\n",
              "        background-color: #3B4455;\n",
              "        fill: #D2E3FC;\n",
              "      }\n",
              "\n",
              "      [theme=dark] .colab-df-generate:hover {\n",
              "        background-color: #434B5C;\n",
              "        box-shadow: 0px 1px 3px 1px rgba(0, 0, 0, 0.15);\n",
              "        filter: drop-shadow(0px 1px 2px rgba(0, 0, 0, 0.3));\n",
              "        fill: #FFFFFF;\n",
              "      }\n",
              "    </style>\n",
              "    <button class=\"colab-df-generate\" onclick=\"generateWithVariable('df')\"\n",
              "            title=\"Generate code using this dataframe.\"\n",
              "            style=\"display:none;\">\n",
              "\n",
              "  <svg xmlns=\"http://www.w3.org/2000/svg\" height=\"24px\"viewBox=\"0 0 24 24\"\n",
              "       width=\"24px\">\n",
              "    <path d=\"M7,19H8.4L18.45,9,17,7.55,7,17.6ZM5,21V16.75L18.45,3.32a2,2,0,0,1,2.83,0l1.4,1.43a1.91,1.91,0,0,1,.58,1.4,1.91,1.91,0,0,1-.58,1.4L9.25,21ZM18.45,9,17,7.55Zm-12,3A5.31,5.31,0,0,0,4.9,8.1,5.31,5.31,0,0,0,1,6.5,5.31,5.31,0,0,0,4.9,4.9,5.31,5.31,0,0,0,6.5,1,5.31,5.31,0,0,0,8.1,4.9,5.31,5.31,0,0,0,12,6.5,5.46,5.46,0,0,0,6.5,12Z\"/>\n",
              "  </svg>\n",
              "    </button>\n",
              "    <script>\n",
              "      (() => {\n",
              "      const buttonEl =\n",
              "        document.querySelector('#id_182cb55c-40d8-42c3-b3ac-0f72cd734954 button.colab-df-generate');\n",
              "      buttonEl.style.display =\n",
              "        google.colab.kernel.accessAllowed ? 'block' : 'none';\n",
              "\n",
              "      buttonEl.onclick = () => {\n",
              "        google.colab.notebook.generateWithVariable('df');\n",
              "      }\n",
              "      })();\n",
              "    </script>\n",
              "  </div>\n",
              "\n",
              "    </div>\n",
              "  </div>\n"
            ],
            "application/vnd.google.colaboratory.intrinsic+json": {
              "type": "dataframe",
              "variable_name": "df",
              "summary": "{\n  \"name\": \"df\",\n  \"rows\": 8,\n  \"fields\": [\n    {\n      \"column\": 0,\n      \"properties\": {\n        \"dtype\": \"number\",\n        \"std\": 0.1336306209562122,\n        \"min\": 0.0,\n        \"max\": 0.25,\n        \"num_unique_values\": 2,\n        \"samples\": [\n          0.0,\n          0.25\n        ],\n        \"semantic_type\": \"\",\n        \"description\": \"\"\n      }\n    },\n    {\n      \"column\": 1,\n      \"properties\": {\n        \"dtype\": \"number\",\n        \"std\": 0.07715167498104596,\n        \"min\": 0.0,\n        \"max\": 0.16666666666666666,\n        \"num_unique_values\": 2,\n        \"samples\": [\n          0.0,\n          0.16666666666666666\n        ],\n        \"semantic_type\": \"\",\n        \"description\": \"\"\n      }\n    },\n    {\n      \"column\": 2,\n      \"properties\": {\n        \"dtype\": \"number\",\n        \"std\": 0.0,\n        \"min\": 0.125,\n        \"max\": 0.125,\n        \"num_unique_values\": 1,\n        \"samples\": [\n          0.125\n        ],\n        \"semantic_type\": \"\",\n        \"description\": \"\"\n      }\n    }\n  ]\n}"
            }
          },
          "metadata": {},
          "execution_count": 61
        }
      ],
      "source": [
        "df"
      ]
    },
    {
      "cell_type": "markdown",
      "metadata": {
        "id": "GxDsi0x67GA8"
      },
      "source": [
        "Now we can multiply by the probabilities in `pmf_dice`:\n"
      ]
    },
    {
      "cell_type": "code",
      "execution_count": 62,
      "metadata": {
        "execution": {
          "iopub.execute_input": "2021-04-16T19:35:33.330625Z",
          "iopub.status.busy": "2021-04-16T19:35:33.328502Z",
          "iopub.status.idle": "2021-04-16T19:35:33.332816Z",
          "shell.execute_reply": "2021-04-16T19:35:33.332380Z"
        },
        "id": "L5R0wJGf7GA9"
      },
      "outputs": [],
      "source": [
        "df *= pmf_dice.ps"
      ]
    },
    {
      "cell_type": "code",
      "execution_count": 63,
      "metadata": {
        "execution": {
          "iopub.execute_input": "2021-04-16T19:35:33.340823Z",
          "iopub.status.busy": "2021-04-16T19:35:33.340224Z",
          "iopub.status.idle": "2021-04-16T19:35:33.343890Z",
          "shell.execute_reply": "2021-04-16T19:35:33.343386Z"
        },
        "id": "jn8Sr3LY7GA9",
        "colab": {
          "base_uri": "https://localhost:8080/",
          "height": 300
        },
        "outputId": "3800f89e-7570-4898-a714-c73bed33b3db"
      },
      "outputs": [
        {
          "output_type": "execute_result",
          "data": {
            "text/plain": [
              "          0         1       2\n",
              "1  0.041667  0.055556  0.0625\n",
              "2  0.041667  0.055556  0.0625\n",
              "3  0.041667  0.055556  0.0625\n",
              "4  0.041667  0.055556  0.0625\n",
              "5  0.000000  0.055556  0.0625\n",
              "6  0.000000  0.055556  0.0625\n",
              "7  0.000000  0.000000  0.0625\n",
              "8  0.000000  0.000000  0.0625"
            ],
            "text/html": [
              "\n",
              "  <div id=\"df-29e44e3a-ce81-4343-8fe0-933f1ad23469\" class=\"colab-df-container\">\n",
              "    <div>\n",
              "<style scoped>\n",
              "    .dataframe tbody tr th:only-of-type {\n",
              "        vertical-align: middle;\n",
              "    }\n",
              "\n",
              "    .dataframe tbody tr th {\n",
              "        vertical-align: top;\n",
              "    }\n",
              "\n",
              "    .dataframe thead th {\n",
              "        text-align: right;\n",
              "    }\n",
              "</style>\n",
              "<table border=\"1\" class=\"dataframe\">\n",
              "  <thead>\n",
              "    <tr style=\"text-align: right;\">\n",
              "      <th></th>\n",
              "      <th>0</th>\n",
              "      <th>1</th>\n",
              "      <th>2</th>\n",
              "    </tr>\n",
              "  </thead>\n",
              "  <tbody>\n",
              "    <tr>\n",
              "      <th>1</th>\n",
              "      <td>0.041667</td>\n",
              "      <td>0.055556</td>\n",
              "      <td>0.0625</td>\n",
              "    </tr>\n",
              "    <tr>\n",
              "      <th>2</th>\n",
              "      <td>0.041667</td>\n",
              "      <td>0.055556</td>\n",
              "      <td>0.0625</td>\n",
              "    </tr>\n",
              "    <tr>\n",
              "      <th>3</th>\n",
              "      <td>0.041667</td>\n",
              "      <td>0.055556</td>\n",
              "      <td>0.0625</td>\n",
              "    </tr>\n",
              "    <tr>\n",
              "      <th>4</th>\n",
              "      <td>0.041667</td>\n",
              "      <td>0.055556</td>\n",
              "      <td>0.0625</td>\n",
              "    </tr>\n",
              "    <tr>\n",
              "      <th>5</th>\n",
              "      <td>0.000000</td>\n",
              "      <td>0.055556</td>\n",
              "      <td>0.0625</td>\n",
              "    </tr>\n",
              "    <tr>\n",
              "      <th>6</th>\n",
              "      <td>0.000000</td>\n",
              "      <td>0.055556</td>\n",
              "      <td>0.0625</td>\n",
              "    </tr>\n",
              "    <tr>\n",
              "      <th>7</th>\n",
              "      <td>0.000000</td>\n",
              "      <td>0.000000</td>\n",
              "      <td>0.0625</td>\n",
              "    </tr>\n",
              "    <tr>\n",
              "      <th>8</th>\n",
              "      <td>0.000000</td>\n",
              "      <td>0.000000</td>\n",
              "      <td>0.0625</td>\n",
              "    </tr>\n",
              "  </tbody>\n",
              "</table>\n",
              "</div>\n",
              "    <div class=\"colab-df-buttons\">\n",
              "\n",
              "  <div class=\"colab-df-container\">\n",
              "    <button class=\"colab-df-convert\" onclick=\"convertToInteractive('df-29e44e3a-ce81-4343-8fe0-933f1ad23469')\"\n",
              "            title=\"Convert this dataframe to an interactive table.\"\n",
              "            style=\"display:none;\">\n",
              "\n",
              "  <svg xmlns=\"http://www.w3.org/2000/svg\" height=\"24px\" viewBox=\"0 -960 960 960\">\n",
              "    <path d=\"M120-120v-720h720v720H120Zm60-500h600v-160H180v160Zm220 220h160v-160H400v160Zm0 220h160v-160H400v160ZM180-400h160v-160H180v160Zm440 0h160v-160H620v160ZM180-180h160v-160H180v160Zm440 0h160v-160H620v160Z\"/>\n",
              "  </svg>\n",
              "    </button>\n",
              "\n",
              "  <style>\n",
              "    .colab-df-container {\n",
              "      display:flex;\n",
              "      gap: 12px;\n",
              "    }\n",
              "\n",
              "    .colab-df-convert {\n",
              "      background-color: #E8F0FE;\n",
              "      border: none;\n",
              "      border-radius: 50%;\n",
              "      cursor: pointer;\n",
              "      display: none;\n",
              "      fill: #1967D2;\n",
              "      height: 32px;\n",
              "      padding: 0 0 0 0;\n",
              "      width: 32px;\n",
              "    }\n",
              "\n",
              "    .colab-df-convert:hover {\n",
              "      background-color: #E2EBFA;\n",
              "      box-shadow: 0px 1px 2px rgba(60, 64, 67, 0.3), 0px 1px 3px 1px rgba(60, 64, 67, 0.15);\n",
              "      fill: #174EA6;\n",
              "    }\n",
              "\n",
              "    .colab-df-buttons div {\n",
              "      margin-bottom: 4px;\n",
              "    }\n",
              "\n",
              "    [theme=dark] .colab-df-convert {\n",
              "      background-color: #3B4455;\n",
              "      fill: #D2E3FC;\n",
              "    }\n",
              "\n",
              "    [theme=dark] .colab-df-convert:hover {\n",
              "      background-color: #434B5C;\n",
              "      box-shadow: 0px 1px 3px 1px rgba(0, 0, 0, 0.15);\n",
              "      filter: drop-shadow(0px 1px 2px rgba(0, 0, 0, 0.3));\n",
              "      fill: #FFFFFF;\n",
              "    }\n",
              "  </style>\n",
              "\n",
              "    <script>\n",
              "      const buttonEl =\n",
              "        document.querySelector('#df-29e44e3a-ce81-4343-8fe0-933f1ad23469 button.colab-df-convert');\n",
              "      buttonEl.style.display =\n",
              "        google.colab.kernel.accessAllowed ? 'block' : 'none';\n",
              "\n",
              "      async function convertToInteractive(key) {\n",
              "        const element = document.querySelector('#df-29e44e3a-ce81-4343-8fe0-933f1ad23469');\n",
              "        const dataTable =\n",
              "          await google.colab.kernel.invokeFunction('convertToInteractive',\n",
              "                                                    [key], {});\n",
              "        if (!dataTable) return;\n",
              "\n",
              "        const docLinkHtml = 'Like what you see? Visit the ' +\n",
              "          '<a target=\"_blank\" href=https://colab.research.google.com/notebooks/data_table.ipynb>data table notebook</a>'\n",
              "          + ' to learn more about interactive tables.';\n",
              "        element.innerHTML = '';\n",
              "        dataTable['output_type'] = 'display_data';\n",
              "        await google.colab.output.renderOutput(dataTable, element);\n",
              "        const docLink = document.createElement('div');\n",
              "        docLink.innerHTML = docLinkHtml;\n",
              "        element.appendChild(docLink);\n",
              "      }\n",
              "    </script>\n",
              "  </div>\n",
              "\n",
              "\n",
              "<div id=\"df-b2427dc8-06c5-457b-aa67-2eec38c8e935\">\n",
              "  <button class=\"colab-df-quickchart\" onclick=\"quickchart('df-b2427dc8-06c5-457b-aa67-2eec38c8e935')\"\n",
              "            title=\"Suggest charts\"\n",
              "            style=\"display:none;\">\n",
              "\n",
              "<svg xmlns=\"http://www.w3.org/2000/svg\" height=\"24px\"viewBox=\"0 0 24 24\"\n",
              "     width=\"24px\">\n",
              "    <g>\n",
              "        <path d=\"M19 3H5c-1.1 0-2 .9-2 2v14c0 1.1.9 2 2 2h14c1.1 0 2-.9 2-2V5c0-1.1-.9-2-2-2zM9 17H7v-7h2v7zm4 0h-2V7h2v10zm4 0h-2v-4h2v4z\"/>\n",
              "    </g>\n",
              "</svg>\n",
              "  </button>\n",
              "\n",
              "<style>\n",
              "  .colab-df-quickchart {\n",
              "      --bg-color: #E8F0FE;\n",
              "      --fill-color: #1967D2;\n",
              "      --hover-bg-color: #E2EBFA;\n",
              "      --hover-fill-color: #174EA6;\n",
              "      --disabled-fill-color: #AAA;\n",
              "      --disabled-bg-color: #DDD;\n",
              "  }\n",
              "\n",
              "  [theme=dark] .colab-df-quickchart {\n",
              "      --bg-color: #3B4455;\n",
              "      --fill-color: #D2E3FC;\n",
              "      --hover-bg-color: #434B5C;\n",
              "      --hover-fill-color: #FFFFFF;\n",
              "      --disabled-bg-color: #3B4455;\n",
              "      --disabled-fill-color: #666;\n",
              "  }\n",
              "\n",
              "  .colab-df-quickchart {\n",
              "    background-color: var(--bg-color);\n",
              "    border: none;\n",
              "    border-radius: 50%;\n",
              "    cursor: pointer;\n",
              "    display: none;\n",
              "    fill: var(--fill-color);\n",
              "    height: 32px;\n",
              "    padding: 0;\n",
              "    width: 32px;\n",
              "  }\n",
              "\n",
              "  .colab-df-quickchart:hover {\n",
              "    background-color: var(--hover-bg-color);\n",
              "    box-shadow: 0 1px 2px rgba(60, 64, 67, 0.3), 0 1px 3px 1px rgba(60, 64, 67, 0.15);\n",
              "    fill: var(--button-hover-fill-color);\n",
              "  }\n",
              "\n",
              "  .colab-df-quickchart-complete:disabled,\n",
              "  .colab-df-quickchart-complete:disabled:hover {\n",
              "    background-color: var(--disabled-bg-color);\n",
              "    fill: var(--disabled-fill-color);\n",
              "    box-shadow: none;\n",
              "  }\n",
              "\n",
              "  .colab-df-spinner {\n",
              "    border: 2px solid var(--fill-color);\n",
              "    border-color: transparent;\n",
              "    border-bottom-color: var(--fill-color);\n",
              "    animation:\n",
              "      spin 1s steps(1) infinite;\n",
              "  }\n",
              "\n",
              "  @keyframes spin {\n",
              "    0% {\n",
              "      border-color: transparent;\n",
              "      border-bottom-color: var(--fill-color);\n",
              "      border-left-color: var(--fill-color);\n",
              "    }\n",
              "    20% {\n",
              "      border-color: transparent;\n",
              "      border-left-color: var(--fill-color);\n",
              "      border-top-color: var(--fill-color);\n",
              "    }\n",
              "    30% {\n",
              "      border-color: transparent;\n",
              "      border-left-color: var(--fill-color);\n",
              "      border-top-color: var(--fill-color);\n",
              "      border-right-color: var(--fill-color);\n",
              "    }\n",
              "    40% {\n",
              "      border-color: transparent;\n",
              "      border-right-color: var(--fill-color);\n",
              "      border-top-color: var(--fill-color);\n",
              "    }\n",
              "    60% {\n",
              "      border-color: transparent;\n",
              "      border-right-color: var(--fill-color);\n",
              "    }\n",
              "    80% {\n",
              "      border-color: transparent;\n",
              "      border-right-color: var(--fill-color);\n",
              "      border-bottom-color: var(--fill-color);\n",
              "    }\n",
              "    90% {\n",
              "      border-color: transparent;\n",
              "      border-bottom-color: var(--fill-color);\n",
              "    }\n",
              "  }\n",
              "</style>\n",
              "\n",
              "  <script>\n",
              "    async function quickchart(key) {\n",
              "      const quickchartButtonEl =\n",
              "        document.querySelector('#' + key + ' button');\n",
              "      quickchartButtonEl.disabled = true;  // To prevent multiple clicks.\n",
              "      quickchartButtonEl.classList.add('colab-df-spinner');\n",
              "      try {\n",
              "        const charts = await google.colab.kernel.invokeFunction(\n",
              "            'suggestCharts', [key], {});\n",
              "      } catch (error) {\n",
              "        console.error('Error during call to suggestCharts:', error);\n",
              "      }\n",
              "      quickchartButtonEl.classList.remove('colab-df-spinner');\n",
              "      quickchartButtonEl.classList.add('colab-df-quickchart-complete');\n",
              "    }\n",
              "    (() => {\n",
              "      let quickchartButtonEl =\n",
              "        document.querySelector('#df-b2427dc8-06c5-457b-aa67-2eec38c8e935 button');\n",
              "      quickchartButtonEl.style.display =\n",
              "        google.colab.kernel.accessAllowed ? 'block' : 'none';\n",
              "    })();\n",
              "  </script>\n",
              "</div>\n",
              "\n",
              "  <div id=\"id_c0067c7b-0258-4522-a528-ce178c7d2b2a\">\n",
              "    <style>\n",
              "      .colab-df-generate {\n",
              "        background-color: #E8F0FE;\n",
              "        border: none;\n",
              "        border-radius: 50%;\n",
              "        cursor: pointer;\n",
              "        display: none;\n",
              "        fill: #1967D2;\n",
              "        height: 32px;\n",
              "        padding: 0 0 0 0;\n",
              "        width: 32px;\n",
              "      }\n",
              "\n",
              "      .colab-df-generate:hover {\n",
              "        background-color: #E2EBFA;\n",
              "        box-shadow: 0px 1px 2px rgba(60, 64, 67, 0.3), 0px 1px 3px 1px rgba(60, 64, 67, 0.15);\n",
              "        fill: #174EA6;\n",
              "      }\n",
              "\n",
              "      [theme=dark] .colab-df-generate {\n",
              "        background-color: #3B4455;\n",
              "        fill: #D2E3FC;\n",
              "      }\n",
              "\n",
              "      [theme=dark] .colab-df-generate:hover {\n",
              "        background-color: #434B5C;\n",
              "        box-shadow: 0px 1px 3px 1px rgba(0, 0, 0, 0.15);\n",
              "        filter: drop-shadow(0px 1px 2px rgba(0, 0, 0, 0.3));\n",
              "        fill: #FFFFFF;\n",
              "      }\n",
              "    </style>\n",
              "    <button class=\"colab-df-generate\" onclick=\"generateWithVariable('df')\"\n",
              "            title=\"Generate code using this dataframe.\"\n",
              "            style=\"display:none;\">\n",
              "\n",
              "  <svg xmlns=\"http://www.w3.org/2000/svg\" height=\"24px\"viewBox=\"0 0 24 24\"\n",
              "       width=\"24px\">\n",
              "    <path d=\"M7,19H8.4L18.45,9,17,7.55,7,17.6ZM5,21V16.75L18.45,3.32a2,2,0,0,1,2.83,0l1.4,1.43a1.91,1.91,0,0,1,.58,1.4,1.91,1.91,0,0,1-.58,1.4L9.25,21ZM18.45,9,17,7.55Zm-12,3A5.31,5.31,0,0,0,4.9,8.1,5.31,5.31,0,0,0,1,6.5,5.31,5.31,0,0,0,4.9,4.9,5.31,5.31,0,0,0,6.5,1,5.31,5.31,0,0,0,8.1,4.9,5.31,5.31,0,0,0,12,6.5,5.46,5.46,0,0,0,6.5,12Z\"/>\n",
              "  </svg>\n",
              "    </button>\n",
              "    <script>\n",
              "      (() => {\n",
              "      const buttonEl =\n",
              "        document.querySelector('#id_c0067c7b-0258-4522-a528-ce178c7d2b2a button.colab-df-generate');\n",
              "      buttonEl.style.display =\n",
              "        google.colab.kernel.accessAllowed ? 'block' : 'none';\n",
              "\n",
              "      buttonEl.onclick = () => {\n",
              "        google.colab.notebook.generateWithVariable('df');\n",
              "      }\n",
              "      })();\n",
              "    </script>\n",
              "  </div>\n",
              "\n",
              "    </div>\n",
              "  </div>\n"
            ],
            "application/vnd.google.colaboratory.intrinsic+json": {
              "type": "dataframe",
              "variable_name": "df",
              "summary": "{\n  \"name\": \"df\",\n  \"rows\": 8,\n  \"fields\": [\n    {\n      \"column\": 0,\n      \"properties\": {\n        \"dtype\": \"number\",\n        \"std\": 0.0222717701593687,\n        \"min\": 0.0,\n        \"max\": 0.041666666666666664,\n        \"num_unique_values\": 2,\n        \"samples\": [\n          0.0,\n          0.041666666666666664\n        ],\n        \"semantic_type\": \"\",\n        \"description\": \"\"\n      }\n    },\n    {\n      \"column\": 1,\n      \"properties\": {\n        \"dtype\": \"number\",\n        \"std\": 0.025717224993681984,\n        \"min\": 0.0,\n        \"max\": 0.05555555555555555,\n        \"num_unique_values\": 2,\n        \"samples\": [\n          0.0,\n          0.05555555555555555\n        ],\n        \"semantic_type\": \"\",\n        \"description\": \"\"\n      }\n    },\n    {\n      \"column\": 2,\n      \"properties\": {\n        \"dtype\": \"number\",\n        \"std\": 0.0,\n        \"min\": 0.0625,\n        \"max\": 0.0625,\n        \"num_unique_values\": 1,\n        \"samples\": [\n          0.0625\n        ],\n        \"semantic_type\": \"\",\n        \"description\": \"\"\n      }\n    }\n  ]\n}"
            }
          },
          "metadata": {},
          "execution_count": 63
        }
      ],
      "source": [
        "df"
      ]
    },
    {
      "cell_type": "markdown",
      "metadata": {
        "id": "eYdcIHAi7GA9"
      },
      "source": [
        "And add up the weighted distributions:"
      ]
    },
    {
      "cell_type": "code",
      "execution_count": 64,
      "metadata": {
        "execution": {
          "iopub.execute_input": "2021-04-16T19:35:33.349701Z",
          "iopub.status.busy": "2021-04-16T19:35:33.348913Z",
          "iopub.status.idle": "2021-04-16T19:35:33.352453Z",
          "shell.execute_reply": "2021-04-16T19:35:33.351964Z"
        },
        "tags": [],
        "id": "nzC5DMOw7GA9",
        "colab": {
          "base_uri": "https://localhost:8080/"
        },
        "outputId": "ee449eca-e059-48ee-8e48-0deabfb68d51"
      },
      "outputs": [
        {
          "output_type": "execute_result",
          "data": {
            "text/plain": [
              "1    0.159722\n",
              "2    0.159722\n",
              "3    0.159722\n",
              "4    0.159722\n",
              "5    0.118056\n",
              "6    0.118056\n",
              "7    0.062500\n",
              "8    0.062500\n",
              "dtype: float64"
            ]
          },
          "metadata": {},
          "execution_count": 64
        }
      ],
      "source": [
        "df.sum(axis=1)"
      ]
    },
    {
      "cell_type": "markdown",
      "metadata": {
        "id": "xGAOTWYS7GA9"
      },
      "source": [
        "The argument `axis=1` means we want to sum across the rows.\n",
        "The result is a Pandas `Series`.\n",
        "\n",
        "Putting it all together, here's a function that makes a weighted mixture of distributions."
      ]
    },
    {
      "cell_type": "code",
      "execution_count": 1,
      "metadata": {
        "execution": {
          "iopub.execute_input": "2021-04-16T19:35:33.356915Z",
          "iopub.status.busy": "2021-04-16T19:35:33.356141Z",
          "iopub.status.idle": "2021-04-16T19:35:33.358351Z",
          "shell.execute_reply": "2021-04-16T19:35:33.358991Z"
        },
        "id": "L4spY95R7GA9"
      },
      "outputs": [],
      "source": [
        "def make_mixture(pmf, pmf_seq):\n",
        "    \"\"\"Make a mixture of distributions.\"\"\"\n",
        "    df = pd.DataFrame(pmf_seq).fillna(0).transpose()\n",
        "    df *= np.array(pmf)\n",
        "    total = df.sum(axis=1)\n",
        "    return Pmf(total)"
      ]
    },
    {
      "cell_type": "markdown",
      "metadata": {
        "id": "mpM_zLtd7GA9"
      },
      "source": [
        "The first parameter is a `Pmf` that maps from each hypothesis to a probability.\n",
        "The second parameter is a sequence of `Pmf` objects, one for each hypothesis.\n",
        "We can call it like this:"
      ]
    },
    {
      "cell_type": "code",
      "execution_count": 66,
      "metadata": {
        "execution": {
          "iopub.execute_input": "2021-04-16T19:35:33.365638Z",
          "iopub.status.busy": "2021-04-16T19:35:33.363553Z",
          "iopub.status.idle": "2021-04-16T19:35:33.367689Z",
          "shell.execute_reply": "2021-04-16T19:35:33.368168Z"
        },
        "id": "zTqVErmo7GA9"
      },
      "outputs": [],
      "source": [
        "mix = make_mixture(pmf_dice, dice)"
      ]
    },
    {
      "cell_type": "markdown",
      "metadata": {
        "id": "iVU015Cc7GA-"
      },
      "source": [
        "And here's what it looks like."
      ]
    },
    {
      "cell_type": "code",
      "execution_count": 67,
      "metadata": {
        "execution": {
          "iopub.execute_input": "2021-04-16T19:35:33.399930Z",
          "iopub.status.busy": "2021-04-16T19:35:33.390116Z",
          "iopub.status.idle": "2021-04-16T19:35:33.566607Z",
          "shell.execute_reply": "2021-04-16T19:35:33.566961Z"
        },
        "tags": [],
        "id": "rE4SWoaP7GA-",
        "colab": {
          "base_uri": "https://localhost:8080/",
          "height": 487
        },
        "outputId": "755eb2fb-36e0-401c-e93d-b1634a500fe8"
      },
      "outputs": [
        {
          "output_type": "display_data",
          "data": {
            "text/plain": [
              "<Figure size 640x480 with 1 Axes>"
            ],
            "image/png": "[encoded data removed]"
          },
          "metadata": {}
        }
      ],
      "source": [
        "mix.bar(label='mixture', alpha=0.6)\n",
        "decorate_dice('Distribution of damage with three different weapons')"
      ]
    },
    {
      "cell_type": "markdown",
      "metadata": {
        "id": "VQ4qVCsr7GA-"
      },
      "source": [
        "In this section I used Pandas so that `make_mixture` is concise, efficient, and hopefully not too hard to understand.\n",
        "In the exercises at the end of the chapter, you'll have a chance to practice with mixtures, and we will use `make_mixture` again in the next chapter."
      ]
    },
    {
      "cell_type": "markdown",
      "metadata": {
        "id": "Hk4q8D1f7GBB"
      },
      "source": [
        "## Summary\n",
        "\n",
        "This chapter introduces the `Cdf` object, which represents the cumulative distribution function (CDF).\n",
        "\n",
        "A `Pmf` and the corresponding `Cdf` are equivalent in the sense that they contain the same information, so you can convert from one to the other.  \n",
        "The primary difference between them is performance: some operations are faster and easier with a `Pmf`; others are faster with a `Cdf`.\n",
        "\n",
        "In this chapter we used `Cdf` objects to compute distributions of maximums and minimums; these distributions are useful for inference if we are given a maximum or minimum as data.\n",
        "You will see some examples in the exercises, and in future chapters.\n",
        "We also computed mixtures of distributions, which we will use in the next chapter to make predictions.\n",
        "\n",
        "But first you might want to work on these exercises."
      ]
    },
    {
      "cell_type": "markdown",
      "metadata": {
        "id": "qBaCRc427GBB"
      },
      "source": [
        "## Exercises"
      ]
    },
    {
      "cell_type": "markdown",
      "metadata": {
        "id": "3pRAUqzG7GBB"
      },
      "source": [
        "**Exercise:** When you generate a D&D character, instead of rolling dice, you can use the \"standard array\" of attributes, which is 15, 14, 13, 12, 10, and 8.\n",
        "Do you think you are better off using the standard array or (literally) rolling the dice?\n",
        "\n",
        "Compare the distribution of the values in the standard array to the distribution we computed for the best three out of four:\n",
        "\n",
        "* Which distribution has higher mean?  Use the `mean` method.\n",
        "\n",
        "* Which distribution has higher standard deviation?  Use the `std` method.\n",
        "\n",
        "* The lowest value in the standard array is 8.  For each attribute, what is the probability of getting a value less than 8?  If you roll the dice six times, what's the probability that at least one of your attributes is less than 8?\n",
        "\n",
        "* The highest value in the standard array is 15.  For each attribute, what is the probability of getting a value greater than 15?  If you roll the dice six times, what's the probability that at least one of your attributes is greater than 15?"
      ]
    },
    {
      "cell_type": "markdown",
      "metadata": {
        "tags": [],
        "id": "yG0d6ESN7GBC"
      },
      "source": [
        "To get you started, here's a `Cdf` that represents the distribution of attributes in the standard array:"
      ]
    },
    {
      "cell_type": "code",
      "execution_count": 68,
      "metadata": {
        "execution": {
          "iopub.execute_input": "2021-04-16T19:35:33.571476Z",
          "iopub.status.busy": "2021-04-16T19:35:33.571037Z",
          "iopub.status.idle": "2021-04-16T19:35:33.573281Z",
          "shell.execute_reply": "2021-04-16T19:35:33.572815Z"
        },
        "tags": [],
        "id": "xBXngYe07GBC"
      },
      "outputs": [],
      "source": [
        "standard = [15,14,13,12,10,8]\n",
        "cdf_standard = Cdf.from_seq(standard)"
      ]
    },
    {
      "cell_type": "markdown",
      "metadata": {
        "tags": [],
        "id": "sZnuwSsP7GBC"
      },
      "source": [
        "We can compare it to the distribution of attributes you get by rolling four dice at adding up the best three."
      ]
    },
    {
      "cell_type": "code",
      "execution_count": 69,
      "metadata": {
        "execution": {
          "iopub.execute_input": "2021-04-16T19:35:33.667038Z",
          "iopub.status.busy": "2021-04-16T19:35:33.649741Z",
          "iopub.status.idle": "2021-04-16T19:35:33.820988Z",
          "shell.execute_reply": "2021-04-16T19:35:33.820486Z"
        },
        "tags": [],
        "id": "xPTfs8S67GBC",
        "colab": {
          "base_uri": "https://localhost:8080/",
          "height": 487
        },
        "outputId": "fa468d4e-2301-4d45-c64f-c7095f27eb80"
      },
      "outputs": [
        {
          "output_type": "display_data",
          "data": {
            "text/plain": [
              "<Figure size 640x480 with 1 Axes>"
            ],
            "image/png": "[encoded data removed]"
          },
          "metadata": {}
        }
      ],
      "source": [
        "cdf_best3.plot(label='best 3 of 4', color='C1', ls='--')\n",
        "cdf_standard.step(label='standard set', color='C7')\n",
        "\n",
        "decorate_dice('Distribution of attributes')\n",
        "plt.ylabel('CDF');"
      ]
    },
    {
      "cell_type": "markdown",
      "metadata": {
        "tags": [],
        "id": "lZA7Lt2p7GBC"
      },
      "source": [
        "I plotted `cdf_standard` as a step function to show more clearly that it contains only a few quantities."
      ]
    },
    {
      "cell_type": "code",
      "execution_count": 70,
      "metadata": {
        "execution": {
          "iopub.execute_input": "2021-04-16T19:35:33.825146Z",
          "iopub.status.busy": "2021-04-16T19:35:33.824423Z",
          "iopub.status.idle": "2021-04-16T19:35:33.827188Z",
          "shell.execute_reply": "2021-04-16T19:35:33.826753Z"
        },
        "id": "X_tR6IHF7GBC",
        "colab": {
          "base_uri": "https://localhost:8080/"
        },
        "outputId": "f0ef703a-aca0-49c4-e6dd-85653781c4da"
      },
      "outputs": [
        {
          "output_type": "execute_result",
          "data": {
            "text/plain": [
              "(12.2348, 12.0)"
            ]
          },
          "metadata": {},
          "execution_count": 70
        }
      ],
      "source": [
        "# Here are the means\n",
        "cdf_best3.mean(), cdf_standard.mean()\n",
        "\n",
        "# Best of 3 has a higher mean"
      ]
    },
    {
      "cell_type": "code",
      "execution_count": 71,
      "metadata": {
        "execution": {
          "iopub.execute_input": "2021-04-16T19:35:33.831439Z",
          "iopub.status.busy": "2021-04-16T19:35:33.830792Z",
          "iopub.status.idle": "2021-04-16T19:35:33.833271Z",
          "shell.execute_reply": "2021-04-16T19:35:33.833623Z"
        },
        "scrolled": true,
        "id": "CXevJxje7GBC",
        "colab": {
          "base_uri": "https://localhost:8080/"
        },
        "outputId": "b66471ce-3369-4d4b-8ebc-34826fffc307"
      },
      "outputs": [
        {
          "output_type": "execute_result",
          "data": {
            "text/plain": [
              "(2.858997894367884, 2.3804761428476167)"
            ]
          },
          "metadata": {},
          "execution_count": 71
        }
      ],
      "source": [
        "# And the standard deviations\n",
        "cdf_best3.std(), cdf_standard.std()\n",
        "\n",
        "# Best of 3 has a higher standard deviations"
      ]
    },
    {
      "cell_type": "code",
      "execution_count": 72,
      "metadata": {
        "execution": {
          "iopub.execute_input": "2021-04-16T19:35:33.837780Z",
          "iopub.status.busy": "2021-04-16T19:35:33.837233Z",
          "iopub.status.idle": "2021-04-16T19:35:33.839569Z",
          "shell.execute_reply": "2021-04-16T19:35:33.839916Z"
        },
        "id": "FKs1QhbP7GBE",
        "colab": {
          "base_uri": "https://localhost:8080/"
        },
        "outputId": "d308e492-94d8-45ff-91b4-34380f74c209"
      },
      "outputs": [
        {
          "output_type": "execute_result",
          "data": {
            "text/plain": [
              "0.0587"
            ]
          },
          "metadata": {},
          "execution_count": 72
        }
      ],
      "source": [
        "# Here's the probability that a single attribute is less than 8\n",
        "cdf_best3.lt_dist(8)"
      ]
    },
    {
      "cell_type": "code",
      "execution_count": 73,
      "metadata": {
        "execution": {
          "iopub.execute_input": "2021-04-16T19:35:33.843912Z",
          "iopub.status.busy": "2021-04-16T19:35:33.843367Z",
          "iopub.status.idle": "2021-04-16T19:35:33.845820Z",
          "shell.execute_reply": "2021-04-16T19:35:33.846168Z"
        },
        "id": "771LsFYh7GBE",
        "colab": {
          "base_uri": "https://localhost:8080/"
        },
        "outputId": "462884b1-7a95-43c0-b17d-b6de7f09fec1"
      },
      "outputs": [
        {
          "output_type": "execute_result",
          "data": {
            "text/plain": [
              "0.12609999999999988"
            ]
          },
          "metadata": {},
          "execution_count": 73
        }
      ],
      "source": [
        "# And the probability that a single attribute is greater than 15\n",
        "cdf_best3.gt_dist(15)"
      ]
    },
    {
      "cell_type": "code",
      "execution_count": 74,
      "metadata": {
        "execution": {
          "iopub.execute_input": "2021-04-16T19:35:33.850671Z",
          "iopub.status.busy": "2021-04-16T19:35:33.850253Z",
          "iopub.status.idle": "2021-04-16T19:35:33.854102Z",
          "shell.execute_reply": "2021-04-16T19:35:33.853687Z"
        },
        "id": "n6ZGL7xu7GBF",
        "colab": {
          "base_uri": "https://localhost:8080/"
        },
        "outputId": "e841b84f-8776-4a96-82ac-a9745191c530"
      },
      "outputs": [
        {
          "output_type": "execute_result",
          "data": {
            "text/plain": [
              "(0.30438593904940725, 0.30438593904940725)"
            ]
          },
          "metadata": {},
          "execution_count": 74
        }
      ],
      "source": [
        "# Here are two ways to compute the probability that at\n",
        "# least one attribute is less than 8\n",
        "cdf_min6.lt_dist(8), 1 - (1-cdf_best3.lt_dist(8))**6"
      ]
    },
    {
      "cell_type": "code",
      "execution_count": 75,
      "metadata": {
        "execution": {
          "iopub.execute_input": "2021-04-16T19:35:33.858526Z",
          "iopub.status.busy": "2021-04-16T19:35:33.858063Z",
          "iopub.status.idle": "2021-04-16T19:35:33.860312Z",
          "shell.execute_reply": "2021-04-16T19:35:33.860666Z"
        },
        "id": "ampVmba_7GBF",
        "colab": {
          "base_uri": "https://localhost:8080/"
        },
        "outputId": "ce375b16-f180-46d5-e621-b081587b9939"
      },
      "outputs": [
        {
          "output_type": "execute_result",
          "data": {
            "text/plain": [
              "(0.5545792589908305, 0.5545792589908305)"
            ]
          },
          "metadata": {},
          "execution_count": 75
        }
      ],
      "source": [
        "# And two ways to compute the probability that at least\n",
        "# one attribute is greater than 15\n",
        "cdf_max6.gt_dist(15), 1 - (1-cdf_best3.gt_dist(15))**6"
      ]
    },
    {
      "cell_type": "markdown",
      "metadata": {
        "id": "QAJk60IH7GBF"
      },
      "source": [
        "**Exercise:** Suppose you are fighting three monsters:\n",
        "\n",
        "* One is armed with a short sword that causes one 6-sided die of damage,\n",
        "\n",
        "* One is armed with a battle axe that causes one 8-sided die of damage, and\n",
        "\n",
        "* One is armed with a bastard sword that causes one 10-sided die of damage.\n",
        "\n",
        "One of the monsters, chosen at random, attacks you and does 1 point of damage.\n",
        "\n",
        "Which monster do you think it was?  Compute the posterior probability that each monster was the attacker.\n",
        "\n",
        "If the same monster attacks you again, what is the probability that you suffer 6 points of damage?\n",
        "\n",
        "Hint: Compute a posterior distribution as we have done before and pass it as one of the arguments to `make_mixture`."
      ]
    },
    {
      "cell_type": "code",
      "execution_count": 10,
      "metadata": {
        "execution": {
          "iopub.execute_input": "2021-04-16T19:35:33.869825Z",
          "iopub.status.busy": "2021-04-16T19:35:33.869229Z",
          "iopub.status.idle": "2021-04-16T19:35:33.871979Z",
          "shell.execute_reply": "2021-04-16T19:35:33.872359Z"
        },
        "id": "Qnm0vxOR7GBF",
        "colab": {
          "base_uri": "https://localhost:8080/",
          "height": 143
        },
        "outputId": "4222d87e-bcb6-40ab-e044-271b8a086f9d"
      },
      "outputs": [
        {
          "output_type": "execute_result",
          "data": {
            "text/plain": [
              "6     0.425532\n",
              "8     0.319149\n",
              "10    0.255319\n",
              "dtype: float64"
            ],
            "text/html": [
              "<div>\n",
              "<style scoped>\n",
              "    .dataframe tbody tr th:only-of-type {\n",
              "        vertical-align: middle;\n",
              "    }\n",
              "\n",
              "    .dataframe tbody tr th {\n",
              "        vertical-align: top;\n",
              "    }\n",
              "\n",
              "    .dataframe thead th {\n",
              "        text-align: right;\n",
              "    }\n",
              "</style>\n",
              "<table border=\"1\" class=\"dataframe\">\n",
              "  <thead>\n",
              "    <tr style=\"text-align: right;\">\n",
              "      <th></th>\n",
              "      <th>probs</th>\n",
              "    </tr>\n",
              "  </thead>\n",
              "  <tbody>\n",
              "    <tr>\n",
              "      <th>6</th>\n",
              "      <td>0.425532</td>\n",
              "    </tr>\n",
              "    <tr>\n",
              "      <th>8</th>\n",
              "      <td>0.319149</td>\n",
              "    </tr>\n",
              "    <tr>\n",
              "      <th>10</th>\n",
              "      <td>0.255319</td>\n",
              "    </tr>\n",
              "  </tbody>\n",
              "</table>\n",
              "</div>"
            ]
          },
          "metadata": {},
          "execution_count": 10
        }
      ],
      "source": [
        "hypos = [6,8,10]\n",
        "prior = Pmf(1, hypos)\n",
        "likelihood=1/prior.qs\n",
        "posterior = prior * likelihood\n",
        "posterior.normalize()\n",
        "posterior"
      ]
    },
    {
      "cell_type": "code",
      "source": [
        "# Here's a sequence that represents the three dice\n",
        "\n",
        "d6 = make_die(6)\n",
        "d8 = make_die(8)\n",
        "d10 = make_die(10)\n",
        "\n",
        "dice = d6, d8, d10"
      ],
      "metadata": {
        "id": "e2Xrvvb1kLif"
      },
      "execution_count": 15,
      "outputs": []
    },
    {
      "cell_type": "code",
      "source": [
        "# And here's a mixture of the three dice, weighting\n",
        "# each one with the probability from the posterior distribution\n",
        "\n",
        "mix3 = make_mixture(posterior, dice)\n",
        "mix3.bar()"
      ],
      "metadata": {
        "colab": {
          "base_uri": "https://localhost:8080/",
          "height": 430
        },
        "id": "ZUZsHYCrkdZK",
        "outputId": "a36021c6-2d78-4ff1-f69b-b0980e4d6fd3"
      },
      "execution_count": 18,
      "outputs": [
        {
          "output_type": "display_data",
          "data": {
            "text/plain": [
              "<Figure size 640x480 with 1 Axes>"
            ],
            "image/png": "[encoded data removed]"
          },
          "metadata": {}
        }
      ]
    },
    {
      "cell_type": "code",
      "execution_count": 19,
      "metadata": {
        "execution": {
          "iopub.execute_input": "2021-04-16T19:35:33.903730Z",
          "iopub.status.busy": "2021-04-16T19:35:33.901601Z",
          "iopub.status.idle": "2021-04-16T19:35:34.009597Z",
          "shell.execute_reply": "2021-04-16T19:35:34.009942Z"
        },
        "id": "bSxzVuOL7GBF",
        "colab": {
          "base_uri": "https://localhost:8080/"
        },
        "outputId": "324add0a-db0c-479c-9481-9454e6af8b2f"
      },
      "outputs": [
        {
          "output_type": "execute_result",
          "data": {
            "text/plain": [
              "0.13634751773049647"
            ]
          },
          "metadata": {},
          "execution_count": 19
        }
      ],
      "source": [
        "# From the mixture, we can pull out the probability of\n",
        "# rolling a 6.\n",
        "\n",
        "mix3[6]"
      ]
    },
    {
      "cell_type": "markdown",
      "metadata": {
        "id": "fuRAm_9U7GBG"
      },
      "source": [
        "**Exercise:** Henri Poincaré was a French mathematician who taught at the Sorbonne around 1900. The following anecdote about him is probably fiction, but it makes an interesting probability problem.\n",
        "\n",
        "Supposedly Poincaré suspected that his local bakery was selling loaves of bread that were lighter than the advertised weight of 1 kg, so every day for a year he bought a loaf of bread, brought it home and weighed it. At the end of the year, he plotted the distribution of his measurements and showed that it fit a normal distribution with mean 950 g and standard deviation 50 g. He brought this evidence to the bread police, who gave the baker a warning.\n",
        "\n",
        "For the next year, Poincaré continued to weigh his bread every day. At the end of the year, he found that the average weight was 1000 g, just as it should be, but again he complained to the bread police, and this time they fined the baker.\n",
        "\n",
        "Why? Because the shape of the new distribution was asymmetric. Unlike the normal distribution, it was skewed to the right, which is consistent with the hypothesis that the baker was still making 950 g loaves, but deliberately giving Poincaré the heavier ones.\n",
        "\n",
        "To see whether this anecdote is plausible, let's suppose that when the baker sees Poincaré coming, he hefts `n` loaves of bread and gives Poincaré the heaviest one.  How many loaves would the baker have to heft to make the average of the maximum 1000 g?"
      ]
    },
    {
      "cell_type": "markdown",
      "metadata": {
        "tags": [],
        "id": "GU_F65UO7GBG"
      },
      "source": [
        "To get you started, I'll generate a year's worth of data from a normal distribution with the given parameters."
      ]
    },
    {
      "cell_type": "code",
      "execution_count": 20,
      "metadata": {
        "execution": {
          "iopub.execute_input": "2021-04-16T19:35:34.019380Z",
          "iopub.status.busy": "2021-04-16T19:35:34.018836Z",
          "iopub.status.idle": "2021-04-16T19:35:34.020500Z",
          "shell.execute_reply": "2021-04-16T19:35:34.020849Z"
        },
        "tags": [],
        "id": "sc23aUSr7GBG"
      },
      "outputs": [],
      "source": [
        "mean = 950\n",
        "std = 50\n",
        "\n",
        "np.random.seed(17)\n",
        "sample = np.random.normal(mean, std, size=365)"
      ]
    },
    {
      "cell_type": "code",
      "execution_count": 24,
      "metadata": {
        "execution": {
          "iopub.execute_input": "2021-04-16T19:35:34.027571Z",
          "iopub.status.busy": "2021-04-16T19:35:34.024739Z",
          "iopub.status.idle": "2021-04-16T19:35:34.031491Z",
          "shell.execute_reply": "2021-04-16T19:35:34.031066Z"
        },
        "id": "mgdysVAL7GBG",
        "colab": {
          "base_uri": "https://localhost:8080/"
        },
        "outputId": "f23e4da3-1a51-4fde-e3e0-b377b651afd2"
      },
      "outputs": [
        {
          "output_type": "stream",
          "name": "stdout",
          "text": [
            "2 978.4666876067706\n",
            "3 992.7589004318227\n",
            "4 1002.0372868686195\n",
            "5 1008.8226939493089\n"
          ]
        }
      ],
      "source": [
        "# Here's the mean of the maximum of `n` loaves,\n",
        "# for a range of values of `n`\n",
        "\n",
        "cdf = cdf.from_seq(sample)\n",
        "\n",
        "for n in range(2, 6):\n",
        "    cdf_max = cdf.max_dist(n)\n",
        "    print(n, cdf_max.mean())"
      ]
    },
    {
      "cell_type": "code",
      "execution_count": 27,
      "metadata": {
        "execution": {
          "iopub.execute_input": "2021-04-16T19:35:34.071771Z",
          "iopub.status.busy": "2021-04-16T19:35:34.052696Z",
          "iopub.status.idle": "2021-04-16T19:35:34.214328Z",
          "shell.execute_reply": "2021-04-16T19:35:34.213871Z"
        },
        "id": "1JeuRKsY7GBG",
        "colab": {
          "base_uri": "https://localhost:8080/",
          "height": 487
        },
        "outputId": "7897a9a5-2f24-45af-df27-acf641393294"
      },
      "outputs": [
        {
          "output_type": "display_data",
          "data": {
            "text/plain": [
              "<Figure size 640x480 with 1 Axes>"
            ],
            "image/png": "[encoded data removed]"
          },
          "metadata": {}
        }
      ],
      "source": [
        "cdf.plot(label='one loaf')\n",
        "cdf.max_dist(4).plot(label='maximum of four loaves')\n",
        "\n",
        "decorate(xlabel='Weight in grams',\n",
        "         ylabel='CDF')"
      ]
    },
    {
      "cell_type": "code",
      "source": [],
      "metadata": {
        "id": "lpCJ1qcMmUfv"
      },
      "execution_count": null,
      "outputs": []
    }
  ],
  "metadata": {
    "celltoolbar": "Tags",
    "kernelspec": {
      "display_name": "Python 3 (ipykernel)",
      "language": "python",
      "name": "python3"
    },
    "language_info": {
      "codemirror_mode": {
        "name": "ipython",
        "version": 3
      },
      "file_extension": ".py",
      "mimetype": "text/x-python",
      "name": "python",
      "nbconvert_exporter": "python",
      "pygments_lexer": "ipython3",
      "version": "3.8.12"
    },
    "colab": {
      "provenance": []
    }
  },
  "nbformat": 4,
  "nbformat_minor": 0
}