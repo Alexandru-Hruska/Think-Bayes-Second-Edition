{
  "cells": [
    {
      "cell_type": "markdown",
      "metadata": {
        "id": "7rUjlxX_x5Zx"
      },
      "source": [
        "# Testing"
      ]
    },
    {
      "cell_type": "markdown",
      "metadata": {
        "tags": [],
        "id": "75NHASAPx5Z3"
      },
      "source": [
        "Think Bayes, Second Edition\n",
        "\n",
        "Copyright 2020 Allen B. Downey\n",
        "\n",
        "License: [Attribution-NonCommercial-ShareAlike 4.0 International (CC BY-NC-SA 4.0)](https://creativecommons.org/licenses/by-nc-sa/4.0/)"
      ]
    },
    {
      "cell_type": "code",
      "execution_count": 1,
      "metadata": {
        "execution": {
          "iopub.execute_input": "2021-04-16T19:35:57.008876Z",
          "iopub.status.busy": "2021-04-16T19:35:57.008345Z",
          "iopub.status.idle": "2021-04-16T19:35:57.010962Z",
          "shell.execute_reply": "2021-04-16T19:35:57.010380Z"
        },
        "tags": [],
        "id": "kT9lNsTAx5Z4",
        "colab": {
          "base_uri": "https://localhost:8080/"
        },
        "outputId": "eb54a3c1-8be1-4ae7-9d78-b4e5177c3216"
      },
      "outputs": [
        {
          "output_type": "stream",
          "name": "stdout",
          "text": [
            "Collecting empiricaldist\n",
            "  Downloading empiricaldist-0.7.2.tar.gz (12 kB)\n",
            "  Installing build dependencies ... \u001b[?25l\u001b[?25hdone\n",
            "  Getting requirements to build wheel ... \u001b[?25l\u001b[?25hdone\n",
            "  Preparing metadata (pyproject.toml) ... \u001b[?25l\u001b[?25hdone\n",
            "Building wheels for collected packages: empiricaldist\n",
            "  Building wheel for empiricaldist (pyproject.toml) ... \u001b[?25l\u001b[?25hdone\n",
            "  Created wheel for empiricaldist: filename=empiricaldist-0.7.2-py3-none-any.whl size=12205 sha256=ec92643be9ef5cba51099e4ba7f80179c7daff6e9dcb7211f0b38c0329a35f59\n",
            "  Stored in directory: /root/.cache/pip/wheels/e9/57/8a/15b864f4d5dc20cef626e3a015fec88b19df385ef30a8364cc\n",
            "Successfully built empiricaldist\n",
            "Installing collected packages: empiricaldist\n",
            "Successfully installed empiricaldist-0.7.2\n"
          ]
        }
      ],
      "source": [
        "# If we're running on Colab, install empiricaldist\n",
        "# https://pypi.org/project/empiricaldist/\n",
        "\n",
        "import sys\n",
        "IN_COLAB = 'google.colab' in sys.modules\n",
        "\n",
        "if IN_COLAB:\n",
        "    !pip install empiricaldist"
      ]
    },
    {
      "cell_type": "code",
      "execution_count": 2,
      "metadata": {
        "execution": {
          "iopub.execute_input": "2021-04-16T19:35:57.015477Z",
          "iopub.status.busy": "2021-04-16T19:35:57.014870Z",
          "iopub.status.idle": "2021-04-16T19:35:57.017060Z",
          "shell.execute_reply": "2021-04-16T19:35:57.017656Z"
        },
        "tags": [],
        "id": "3V6M5j8bx5Z6",
        "colab": {
          "base_uri": "https://localhost:8080/"
        },
        "outputId": "f3245333-5248-416a-ad88-df988de242a0"
      },
      "outputs": [
        {
          "output_type": "stream",
          "name": "stdout",
          "text": [
            "Downloaded utils.py\n"
          ]
        }
      ],
      "source": [
        "# Get utils.py\n",
        "\n",
        "from os.path import basename, exists\n",
        "\n",
        "def download(url):\n",
        "    filename = basename(url)\n",
        "    if not exists(filename):\n",
        "        from urllib.request import urlretrieve\n",
        "        local, _ = urlretrieve(url, filename)\n",
        "        print('Downloaded ' + local)\n",
        "\n",
        "download('https://github.com/AllenDowney/ThinkBayes2/raw/master/soln/utils.py')"
      ]
    },
    {
      "cell_type": "code",
      "execution_count": 3,
      "metadata": {
        "execution": {
          "iopub.execute_input": "2021-04-16T19:35:57.022776Z",
          "iopub.status.busy": "2021-04-16T19:35:57.021815Z",
          "iopub.status.idle": "2021-04-16T19:35:57.803761Z",
          "shell.execute_reply": "2021-04-16T19:35:57.802992Z"
        },
        "tags": [],
        "id": "GH1TObSsx5Z7"
      },
      "outputs": [],
      "source": [
        "from utils import set_pyplot_params\n",
        "set_pyplot_params()"
      ]
    },
    {
      "cell_type": "markdown",
      "metadata": {
        "id": "W7Jd2u5Lx5Z7"
      },
      "source": [
        "In <<_TheEuroProblem>> I presented a problem from David MacKay's book, [*Information Theory, Inference, and Learning Algorithms*](http://www.inference.org.uk/mackay/itila/p0.html):\n",
        "\n",
        "\"A statistical statement appeared in *The Guardian* on Friday January 4, 2002:\n",
        "\n",
        "> When spun on edge 250 times, a Belgian one-euro coin came up heads 140 times and tails 110.  \\`It looks very suspicious to me,' said Barry Blight, a statistics lecturer at the London School of Economics.  \\`If the coin were unbiased, the chance of getting a result as extreme as that would be less than 7%.'\n",
        "\n",
        "\"But [MacKay asks] do these data give evidence that the coin is biased rather than fair?\"\n",
        "\n",
        "We started to answer this question in <<_EstimatingProportions>>; to review, our answer was based on these modeling decisions:\n",
        "\n",
        "* If you spin a coin on edge, there is some probability, $x$, that it will land heads up.\n",
        "\n",
        "* The value of $x$ varies from one coin to the next, depending on how the coin is balanced and possibly other factors.\n",
        "\n",
        "Starting with a uniform prior distribution for $x$, we updated it with the given data, 140 heads and 110 tails.  Then we used the posterior distribution to compute the most likely value of $x$, the posterior mean, and a credible interval.\n",
        "\n",
        "But we never really answered MacKay's question: \"Do these data give evidence that the coin is biased rather than fair?\"\n",
        "\n",
        "In this chapter, finally, we will."
      ]
    },
    {
      "cell_type": "markdown",
      "metadata": {
        "id": "3FF7gHkQx5Z8"
      },
      "source": [
        "## Estimation\n",
        "\n",
        "Let's review the solution to the Euro problem from <<_TheBinomialLikelihoodFunction>>.  We started with a uniform prior."
      ]
    },
    {
      "cell_type": "code",
      "execution_count": 4,
      "metadata": {
        "execution": {
          "iopub.execute_input": "2021-04-16T19:35:57.810691Z",
          "iopub.status.busy": "2021-04-16T19:35:57.810259Z",
          "iopub.status.idle": "2021-04-16T19:35:57.812763Z",
          "shell.execute_reply": "2021-04-16T19:35:57.812378Z"
        },
        "id": "9G34siXjx5Z8"
      },
      "outputs": [],
      "source": [
        "import numpy as np\n",
        "from empiricaldist import Pmf\n",
        "\n",
        "xs = np.linspace(0, 1, 101)\n",
        "uniform = Pmf(1, xs)"
      ]
    },
    {
      "cell_type": "markdown",
      "metadata": {
        "id": "qwUya4d1x5Z9"
      },
      "source": [
        "And we used the binomial distribution to compute the probability of the data for each possible value of $x$."
      ]
    },
    {
      "cell_type": "code",
      "execution_count": 5,
      "metadata": {
        "execution": {
          "iopub.execute_input": "2021-04-16T19:35:57.816818Z",
          "iopub.status.busy": "2021-04-16T19:35:57.816328Z",
          "iopub.status.idle": "2021-04-16T19:35:57.818361Z",
          "shell.execute_reply": "2021-04-16T19:35:57.817986Z"
        },
        "id": "9SEQYm2jx5Z9"
      },
      "outputs": [],
      "source": [
        "from scipy.stats import binom\n",
        "\n",
        "k, n = 140, 250\n",
        "likelihood = binom.pmf(k, n, xs)"
      ]
    },
    {
      "cell_type": "markdown",
      "metadata": {
        "id": "LtmrvYtux5Z_"
      },
      "source": [
        "We computed the posterior distribution in the usual way."
      ]
    },
    {
      "cell_type": "code",
      "execution_count": 6,
      "metadata": {
        "execution": {
          "iopub.execute_input": "2021-04-16T19:35:57.823943Z",
          "iopub.status.busy": "2021-04-16T19:35:57.823225Z",
          "iopub.status.idle": "2021-04-16T19:35:57.833447Z",
          "shell.execute_reply": "2021-04-16T19:35:57.833883Z"
        },
        "tags": [],
        "id": "94TpjBq0x5Z_",
        "colab": {
          "base_uri": "https://localhost:8080/"
        },
        "outputId": "a198d1b3-45a3-4fb3-947d-47b946036c64"
      },
      "outputs": [
        {
          "output_type": "execute_result",
          "data": {
            "text/plain": [
              "0.3984063745019918"
            ]
          },
          "metadata": {},
          "execution_count": 6
        }
      ],
      "source": [
        "posterior = uniform * likelihood\n",
        "posterior.normalize()"
      ]
    },
    {
      "cell_type": "markdown",
      "metadata": {
        "id": "3lLHpu7-x5aA"
      },
      "source": [
        "And here's what it looks like."
      ]
    },
    {
      "cell_type": "code",
      "execution_count": 7,
      "metadata": {
        "execution": {
          "iopub.execute_input": "2021-04-16T19:35:57.838678Z",
          "iopub.status.busy": "2021-04-16T19:35:57.837996Z",
          "iopub.status.idle": "2021-04-16T19:35:58.041887Z",
          "shell.execute_reply": "2021-04-16T19:35:58.042248Z"
        },
        "tags": [],
        "id": "zGdfhDcLx5aA",
        "colab": {
          "base_uri": "https://localhost:8080/",
          "height": 487
        },
        "outputId": "2f54473f-94eb-4a55-e355-dd90e5371922"
      },
      "outputs": [
        {
          "output_type": "display_data",
          "data": {
            "text/plain": [
              "<Figure size 640x480 with 1 Axes>"
            ],
            "image/png": "[encoded data removed]"
          },
          "metadata": {}
        }
      ],
      "source": [
        "from utils import decorate\n",
        "\n",
        "posterior.plot(label='140 heads out of 250')\n",
        "\n",
        "decorate(xlabel='Proportion of heads (x)',\n",
        "         ylabel='Probability',\n",
        "         title='Posterior distribution of x')"
      ]
    },
    {
      "cell_type": "markdown",
      "metadata": {
        "id": "b50vo8xex5aA"
      },
      "source": [
        "Again, the posterior mean is about 0.56, with a 90% credible interval from 0.51 to 0.61."
      ]
    },
    {
      "cell_type": "code",
      "execution_count": 8,
      "metadata": {
        "execution": {
          "iopub.execute_input": "2021-04-16T19:35:58.046639Z",
          "iopub.status.busy": "2021-04-16T19:35:58.046025Z",
          "iopub.status.idle": "2021-04-16T19:35:58.048789Z",
          "shell.execute_reply": "2021-04-16T19:35:58.048386Z"
        },
        "id": "UoeiFLRUx5aA",
        "colab": {
          "base_uri": "https://localhost:8080/"
        },
        "outputId": "20e47ada-706a-4d53-cf9c-4cf8a45d1ce4"
      },
      "outputs": [
        {
          "output_type": "stream",
          "name": "stdout",
          "text": [
            "0.5595238095238095 [0.51 0.61]\n"
          ]
        }
      ],
      "source": [
        "print(posterior.mean(),\n",
        "      posterior.credible_interval(0.9))"
      ]
    },
    {
      "cell_type": "markdown",
      "metadata": {
        "id": "WMkBwhAOx5aA"
      },
      "source": [
        "The prior mean was 0.5, and the posterior mean is 0.56, so it seems like the data is evidence that the coin is biased.\n",
        "\n",
        "But, it turns out not to be that simple."
      ]
    },
    {
      "cell_type": "markdown",
      "metadata": {
        "id": "J2CVUOuLx5aB"
      },
      "source": [
        "## Evidence\n",
        "\n",
        "In <<_OliversBlood>>, I said that data are considered evidence in favor of a hypothesis, $A$, if the data are more likely under $A$ than under the alternative, $B$; that is if\n",
        "\n",
        "$$P(D|A) > P(D|B)$$\n",
        "\n",
        "Furthermore, we can quantify the strength of the evidence by computing the ratio of these likelihoods, which is known as the [Bayes factor](https://en.wikipedia.org/wiki/Bayes_factor) and often denoted $K$:\n",
        "\n",
        "$$K = \\frac{P(D|A)}{P(D|B)}$$\n",
        "\n",
        "So, for the Euro problem, let's consider two hypotheses, `fair` and `biased`, and compute the likelihood of the data under each hypothesis.\n",
        "\n",
        "If the coin is fair, the probability of heads is 50%, and we can compute the probability of the data (140 heads out of 250 spins) using the binomial distribution:"
      ]
    },
    {
      "cell_type": "code",
      "execution_count": 9,
      "metadata": {
        "execution": {
          "iopub.execute_input": "2021-04-16T19:35:58.053831Z",
          "iopub.status.busy": "2021-04-16T19:35:58.053237Z",
          "iopub.status.idle": "2021-04-16T19:35:58.057509Z",
          "shell.execute_reply": "2021-04-16T19:35:58.057086Z"
        },
        "id": "NZfMRAYlx5aC",
        "colab": {
          "base_uri": "https://localhost:8080/"
        },
        "outputId": "e1b88b4b-99ea-42d2-cd00-d90a65e586b1"
      },
      "outputs": [
        {
          "output_type": "execute_result",
          "data": {
            "text/plain": [
              "0.008357181724918188"
            ]
          },
          "metadata": {},
          "execution_count": 9
        }
      ],
      "source": [
        "k = 140\n",
        "n = 250\n",
        "\n",
        "like_fair = binom.pmf(k, n, p=0.5)\n",
        "like_fair"
      ]
    },
    {
      "cell_type": "markdown",
      "metadata": {
        "id": "bNfWK-oxx5aF"
      },
      "source": [
        "That's the probability of the data, given that the coin is fair.\n",
        "\n",
        "But if the coin is biased, what's the probability of the data?  That depends on what \"biased\" means.\n",
        "If we know ahead of time that \"biased\" means the probability of heads is 56%, we can use the binomial distribution again:"
      ]
    },
    {
      "cell_type": "code",
      "execution_count": 10,
      "metadata": {
        "execution": {
          "iopub.execute_input": "2021-04-16T19:35:58.061641Z",
          "iopub.status.busy": "2021-04-16T19:35:58.061171Z",
          "iopub.status.idle": "2021-04-16T19:35:58.063847Z",
          "shell.execute_reply": "2021-04-16T19:35:58.064196Z"
        },
        "id": "u1rv0T1Lx5aF",
        "colab": {
          "base_uri": "https://localhost:8080/"
        },
        "outputId": "a4bee112-de80-46be-ae05-0b3ccf7a9941"
      },
      "outputs": [
        {
          "output_type": "execute_result",
          "data": {
            "text/plain": [
              "0.05077815959518337"
            ]
          },
          "metadata": {},
          "execution_count": 10
        }
      ],
      "source": [
        "like_biased = binom.pmf(k, n, p=0.56)\n",
        "like_biased"
      ]
    },
    {
      "cell_type": "markdown",
      "metadata": {
        "id": "tbYZhkj7x5aG"
      },
      "source": [
        "Now we can compute the likelihood ratio:"
      ]
    },
    {
      "cell_type": "code",
      "execution_count": 11,
      "metadata": {
        "execution": {
          "iopub.execute_input": "2021-04-16T19:35:58.067262Z",
          "iopub.status.busy": "2021-04-16T19:35:58.066813Z",
          "iopub.status.idle": "2021-04-16T19:35:58.069918Z",
          "shell.execute_reply": "2021-04-16T19:35:58.069347Z"
        },
        "id": "tU8or9Pnx5aG",
        "colab": {
          "base_uri": "https://localhost:8080/"
        },
        "outputId": "d155a5ab-c351-4892-d361-04501e3f67d8"
      },
      "outputs": [
        {
          "output_type": "execute_result",
          "data": {
            "text/plain": [
              "6.075990838368477"
            ]
          },
          "metadata": {},
          "execution_count": 11
        }
      ],
      "source": [
        "K = like_biased / like_fair\n",
        "K"
      ]
    },
    {
      "cell_type": "markdown",
      "metadata": {
        "id": "5_J3eMzJx5aG"
      },
      "source": [
        "The data are about 6 times more likely if the coin is biased, by this definition, than if it is fair.\n",
        "\n",
        "But we used the data to define the hypothesis, which seems like cheating.  To be fair, we should define \"biased\" before we see the data."
      ]
    },
    {
      "cell_type": "markdown",
      "metadata": {
        "id": "dYnohBnHx5aG"
      },
      "source": [
        "## Uniformly Distributed Bias\n",
        "\n",
        "Suppose \"biased\" means that the probability of heads is anything except 50%, and all other values are equally likely.\n",
        "\n",
        "We can represent that definition by making a uniform distribution and removing 50%."
      ]
    },
    {
      "cell_type": "code",
      "execution_count": 12,
      "metadata": {
        "execution": {
          "iopub.execute_input": "2021-04-16T19:35:58.074465Z",
          "iopub.status.busy": "2021-04-16T19:35:58.073171Z",
          "iopub.status.idle": "2021-04-16T19:35:58.077599Z",
          "shell.execute_reply": "2021-04-16T19:35:58.077998Z"
        },
        "tags": [],
        "id": "kNzHXYRzx5aH",
        "colab": {
          "base_uri": "https://localhost:8080/"
        },
        "outputId": "93627586-c914-40eb-9dbf-a8c3359ad51c"
      },
      "outputs": [
        {
          "output_type": "execute_result",
          "data": {
            "text/plain": [
              "100"
            ]
          },
          "metadata": {},
          "execution_count": 12
        }
      ],
      "source": [
        "biased_uniform = uniform.copy()\n",
        "biased_uniform[0.5] = 0\n",
        "biased_uniform.normalize()"
      ]
    },
    {
      "cell_type": "markdown",
      "metadata": {
        "id": "lM62ENM4x5aH"
      },
      "source": [
        "To compute the total probability of the data under this hypothesis, we compute the conditional probability of the data for each value of $x$."
      ]
    },
    {
      "cell_type": "code",
      "execution_count": 13,
      "metadata": {
        "execution": {
          "iopub.execute_input": "2021-04-16T19:35:58.081758Z",
          "iopub.status.busy": "2021-04-16T19:35:58.081326Z",
          "iopub.status.idle": "2021-04-16T19:35:58.082976Z",
          "shell.execute_reply": "2021-04-16T19:35:58.083364Z"
        },
        "id": "ZUqy-6cqx5aM"
      },
      "outputs": [],
      "source": [
        "xs = biased_uniform.qs\n",
        "likelihood = binom.pmf(k, n, xs)"
      ]
    },
    {
      "cell_type": "markdown",
      "metadata": {
        "id": "2bEnJ9XRx5aM"
      },
      "source": [
        "Then multiply by the prior probabilities and add up the products:"
      ]
    },
    {
      "cell_type": "code",
      "execution_count": 14,
      "metadata": {
        "execution": {
          "iopub.execute_input": "2021-04-16T19:35:58.088242Z",
          "iopub.status.busy": "2021-04-16T19:35:58.087311Z",
          "iopub.status.idle": "2021-04-16T19:35:58.093392Z",
          "shell.execute_reply": "2021-04-16T19:35:58.092951Z"
        },
        "id": "QbXG6-Cix5aM",
        "colab": {
          "base_uri": "https://localhost:8080/"
        },
        "outputId": "f53c0a3c-4251-4c3c-d969-e31985a87f6b"
      },
      "outputs": [
        {
          "output_type": "execute_result",
          "data": {
            "text/plain": [
              "0.0039004919277707355"
            ]
          },
          "metadata": {},
          "execution_count": 14
        }
      ],
      "source": [
        "like_uniform = np.sum(biased_uniform * likelihood)\n",
        "like_uniform"
      ]
    },
    {
      "cell_type": "markdown",
      "metadata": {
        "id": "qY7CxStAx5aN"
      },
      "source": [
        "So that's the probability of the data under the \"biased uniform\" hypothesis.\n",
        "\n",
        "Now we can compute the likelihood ratio of the data under the `fair` and `biased uniform` hypotheses:"
      ]
    },
    {
      "cell_type": "code",
      "execution_count": 15,
      "metadata": {
        "execution": {
          "iopub.execute_input": "2021-04-16T19:35:58.098055Z",
          "iopub.status.busy": "2021-04-16T19:35:58.097522Z",
          "iopub.status.idle": "2021-04-16T19:35:58.100321Z",
          "shell.execute_reply": "2021-04-16T19:35:58.100683Z"
        },
        "id": "zVFNEhN4x5aN",
        "colab": {
          "base_uri": "https://localhost:8080/"
        },
        "outputId": "7523d3c4-953e-4f04-f50d-494d894bdcab"
      },
      "outputs": [
        {
          "output_type": "execute_result",
          "data": {
            "text/plain": [
              "2.142596851801358"
            ]
          },
          "metadata": {},
          "execution_count": 15
        }
      ],
      "source": [
        "K = like_fair / like_uniform\n",
        "K"
      ]
    },
    {
      "cell_type": "markdown",
      "metadata": {
        "id": "P0RYvS0dx5aN"
      },
      "source": [
        "The data are about two times more likely if the coin is fair than if it is biased, by this definition of \"biased\".\n",
        "\n",
        "To get a sense of how strong that evidence is, we can apply Bayes's rule.\n",
        "For example, if the prior probability is 50% that the coin is biased, the prior odds are 1, so the posterior odds are about 2.1 to 1 and the posterior probability is about 68%."
      ]
    },
    {
      "cell_type": "code",
      "execution_count": 16,
      "metadata": {
        "execution": {
          "iopub.execute_input": "2021-04-16T19:35:58.105140Z",
          "iopub.status.busy": "2021-04-16T19:35:58.104540Z",
          "iopub.status.idle": "2021-04-16T19:35:58.107287Z",
          "shell.execute_reply": "2021-04-16T19:35:58.107715Z"
        },
        "id": "nbx_6i8qx5aN",
        "colab": {
          "base_uri": "https://localhost:8080/"
        },
        "outputId": "30743536-ddda-456a-e498-24872e6413a4"
      },
      "outputs": [
        {
          "output_type": "execute_result",
          "data": {
            "text/plain": [
              "2.142596851801358"
            ]
          },
          "metadata": {},
          "execution_count": 16
        }
      ],
      "source": [
        "prior_odds = 1\n",
        "posterior_odds = prior_odds * K\n",
        "posterior_odds"
      ]
    },
    {
      "cell_type": "code",
      "execution_count": 17,
      "metadata": {
        "execution": {
          "iopub.execute_input": "2021-04-16T19:35:58.112140Z",
          "iopub.status.busy": "2021-04-16T19:35:58.111425Z",
          "iopub.status.idle": "2021-04-16T19:35:58.114066Z",
          "shell.execute_reply": "2021-04-16T19:35:58.113607Z"
        },
        "id": "yNjq2rfCx5aN"
      },
      "outputs": [],
      "source": [
        "def prob(o):\n",
        "    return o / (o+1)"
      ]
    },
    {
      "cell_type": "code",
      "execution_count": 18,
      "metadata": {
        "execution": {
          "iopub.execute_input": "2021-04-16T19:35:58.118640Z",
          "iopub.status.busy": "2021-04-16T19:35:58.117930Z",
          "iopub.status.idle": "2021-04-16T19:35:58.121841Z",
          "shell.execute_reply": "2021-04-16T19:35:58.121067Z"
        },
        "id": "67ReFO3cx5aN",
        "colab": {
          "base_uri": "https://localhost:8080/"
        },
        "outputId": "972620b9-a7d9-4c06-f48e-c223d118e646"
      },
      "outputs": [
        {
          "output_type": "execute_result",
          "data": {
            "text/plain": [
              "0.6817918278551087"
            ]
          },
          "metadata": {},
          "execution_count": 18
        }
      ],
      "source": [
        "posterior_probability = prob(posterior_odds)\n",
        "posterior_probability"
      ]
    },
    {
      "cell_type": "markdown",
      "metadata": {
        "id": "BBoo1cJnx5aN"
      },
      "source": [
        "Evidence that \"moves the needle\" from 50% to 68% is not very strong."
      ]
    },
    {
      "cell_type": "markdown",
      "metadata": {
        "id": "FMZOZt3Wx5aO"
      },
      "source": [
        "Now suppose \"biased\" doesn't mean every value of $x$ is equally likely.  Maybe values near 50% are more likely and values near the extremes are less likely.\n",
        "We could use a triangle-shaped distribution to represent this alternative definition of \"biased\":"
      ]
    },
    {
      "cell_type": "code",
      "execution_count": 19,
      "metadata": {
        "execution": {
          "iopub.execute_input": "2021-04-16T19:35:58.129005Z",
          "iopub.status.busy": "2021-04-16T19:35:58.128299Z",
          "iopub.status.idle": "2021-04-16T19:35:58.130682Z",
          "shell.execute_reply": "2021-04-16T19:35:58.131027Z"
        },
        "tags": [],
        "id": "DtDZaoldx5aO",
        "colab": {
          "base_uri": "https://localhost:8080/"
        },
        "outputId": "8b73ea52-91f7-4ef1-d2e3-107c9e060935"
      },
      "outputs": [
        {
          "output_type": "execute_result",
          "data": {
            "text/plain": [
              "2500"
            ]
          },
          "metadata": {},
          "execution_count": 19
        }
      ],
      "source": [
        "ramp_up = np.arange(50)\n",
        "ramp_down = np.arange(50, -1, -1)\n",
        "a = np.append(ramp_up, ramp_down)\n",
        "\n",
        "triangle = Pmf(a, xs, name='triangle')\n",
        "triangle.normalize()"
      ]
    },
    {
      "cell_type": "markdown",
      "metadata": {
        "id": "j4SaM0Igx5aY"
      },
      "source": [
        "As we did with the uniform distribution, we can remove 50% as a possible value of $x$ (but it doesn't make much difference if we skip this detail)."
      ]
    },
    {
      "cell_type": "code",
      "execution_count": 20,
      "metadata": {
        "execution": {
          "iopub.execute_input": "2021-04-16T19:35:58.135933Z",
          "iopub.status.busy": "2021-04-16T19:35:58.135294Z",
          "iopub.status.idle": "2021-04-16T19:35:58.138207Z",
          "shell.execute_reply": "2021-04-16T19:35:58.137815Z"
        },
        "tags": [],
        "id": "W_LPo0-0x5aY",
        "colab": {
          "base_uri": "https://localhost:8080/"
        },
        "outputId": "f8fc3d68-fddc-49e0-e840-f56c786f0250"
      },
      "outputs": [
        {
          "output_type": "execute_result",
          "data": {
            "text/plain": [
              "0.98"
            ]
          },
          "metadata": {},
          "execution_count": 20
        }
      ],
      "source": [
        "biased_triangle = triangle.copy()\n",
        "biased_triangle[0.5] = 0\n",
        "biased_triangle.normalize()"
      ]
    },
    {
      "cell_type": "markdown",
      "metadata": {
        "id": "hoRLukf5x5aY"
      },
      "source": [
        "Here's what the triangle prior looks like, compared to the uniform prior."
      ]
    },
    {
      "cell_type": "code",
      "execution_count": 21,
      "metadata": {
        "execution": {
          "iopub.execute_input": "2021-04-16T19:35:58.173569Z",
          "iopub.status.busy": "2021-04-16T19:35:58.156145Z",
          "iopub.status.idle": "2021-04-16T19:35:58.338847Z",
          "shell.execute_reply": "2021-04-16T19:35:58.337549Z"
        },
        "id": "disJyPicx5aY",
        "colab": {
          "base_uri": "https://localhost:8080/",
          "height": 487
        },
        "outputId": "31b292d9-18f4-453e-c952-90c6da3f49fc"
      },
      "outputs": [
        {
          "output_type": "display_data",
          "data": {
            "text/plain": [
              "<Figure size 640x480 with 1 Axes>"
            ],
            "image/png": "[encoded data removed]"
          },
          "metadata": {}
        }
      ],
      "source": [
        "biased_uniform.plot(label='uniform prior')\n",
        "biased_triangle.plot(label='triangle prior')\n",
        "\n",
        "decorate(xlabel='Proportion of heads (x)',\n",
        "         ylabel='Probability',\n",
        "         title='Uniform and triangle prior distributions')"
      ]
    },
    {
      "cell_type": "markdown",
      "metadata": {
        "id": "DtwrMunsx5aZ"
      },
      "source": [
        "**Exercise:** Now compute the total probability of the data under this definition of \"biased\" and compute the Bayes factor, compared with the fair hypothesis.\n",
        "Is the data evidence that the coin is biased?"
      ]
    },
    {
      "cell_type": "code",
      "execution_count": 22,
      "metadata": {
        "execution": {
          "iopub.execute_input": "2021-04-16T19:35:58.343799Z",
          "iopub.status.busy": "2021-04-16T19:35:58.343267Z",
          "iopub.status.idle": "2021-04-16T19:35:58.345785Z",
          "shell.execute_reply": "2021-04-16T19:35:58.346132Z"
        },
        "id": "ZvwLlw_sx5aZ",
        "colab": {
          "base_uri": "https://localhost:8080/"
        },
        "outputId": "4ca5a9c9-1f2a-4519-8fbc-41c3bdebbab1"
      },
      "outputs": [
        {
          "output_type": "execute_result",
          "data": {
            "text/plain": [
              "0.0069813254648578805"
            ]
          },
          "metadata": {},
          "execution_count": 22
        }
      ],
      "source": [
        "like_triangle = np.sum(biased_triangle * likelihood)\n",
        "like_triangle"
      ]
    },
    {
      "cell_type": "code",
      "execution_count": 23,
      "metadata": {
        "execution": {
          "iopub.execute_input": "2021-04-16T19:35:58.349999Z",
          "iopub.status.busy": "2021-04-16T19:35:58.349509Z",
          "iopub.status.idle": "2021-04-16T19:35:58.352346Z",
          "shell.execute_reply": "2021-04-16T19:35:58.352665Z"
        },
        "id": "9Bmc12bUx5aZ",
        "colab": {
          "base_uri": "https://localhost:8080/"
        },
        "outputId": "d9fb94ee-d26b-4f2b-e89a-1035595d6a7d"
      },
      "outputs": [
        {
          "output_type": "execute_result",
          "data": {
            "text/plain": [
              "1.1970766535647133"
            ]
          },
          "metadata": {},
          "execution_count": 23
        }
      ],
      "source": [
        "K = like_fair / like_triangle\n",
        "K"
      ]
    },
    {
      "cell_type": "markdown",
      "source": [
        "Since K>1 it means that the like_fair is greater then like_triangle. So the fairness has a slightly higher chance"
      ],
      "metadata": {
        "id": "y4tBSPsGejsW"
      }
    },
    {
      "cell_type": "markdown",
      "metadata": {
        "id": "GobAixnCx5aZ"
      },
      "source": [
        "## Bayesian Hypothesis Testing\n",
        "\n",
        "What we've done so far in this chapter is sometimes called \"Bayesian hypothesis testing\" in contrast with [statistical hypothesis testing](https://en.wikipedia.org/wiki/Statistical_hypothesis_testing).\n",
        "\n",
        "In statistical hypothesis testing, we compute a p-value, which is hard to define concisely, and use it to determine whether the results are \"statistically significant\", which is also  hard to define concisely.\n",
        "\n",
        "The Bayesian alternative is to report the Bayes factor, $K$, which summarizes the strength of the evidence in favor of one hypothesis or the other.\n",
        "\n",
        "Some people think it is better to report $K$ than a posterior probability because $K$ does not depend on a prior probability.\n",
        "But as we saw in this example, $K$ often depends on a precise definition of the hypotheses, which can be just as controversial as a prior probability.\n",
        "\n",
        "In my opinion, Bayesian hypothesis testing is better because it measures the strength of the evidence on a continuum, rather that trying to make a binary determination.\n",
        "But it doesn't solve what I think is the fundamental problem, which is that hypothesis testing is not asking the question we really care about."
      ]
    },
    {
      "cell_type": "markdown",
      "metadata": {
        "id": "xIxBbkTxx5aa"
      },
      "source": [
        "To see why, suppose you test the coin and decide that it is biased after all.  What can you do with this answer?  In my opinion, not much.\n",
        "In contrast, there are two questions I think are more useful (and therefore more meaningful):\n",
        "\n",
        "* Prediction: Based on what we know about the coin, what should we expect to happen in the future?\n",
        "\n",
        "* Decision-making: Can we use those predictions to make better decisions?\n",
        "\n",
        "At this point, we've seen a few examples of prediction.  For example, in <<_PoissonProcesses>> we used the posterior distribution of goal-scoring rates to predict the outcome of soccer games.\n",
        "\n",
        "And we've seen one previous example of decision analysis: In <<_DecisionAnalysis>> we used the distribution of prices to choose an optimal bid on *The Price is Right*.\n",
        "\n",
        "So let's finish this chapter with another example of Bayesian decision analysis, the Bayesian Bandit strategy."
      ]
    },
    {
      "cell_type": "markdown",
      "metadata": {
        "id": "ckFMg3DPx5aa"
      },
      "source": [
        "## Bayesian Bandits\n",
        "\n",
        "If you have ever been to a casino, you have probably seen a slot machine, which is sometimes called a \"one-armed bandit\" because it has a handle like an arm and the ability to take money like a bandit.\n",
        "\n",
        "The Bayesian Bandit strategy is named after one-armed bandits because it solves a problem based on a simplified version of a slot machine.\n",
        "\n",
        "Suppose that each time you play a slot machine, there is a fixed probability that you win.  And suppose that different machines give you different probabilities of winning, but you don't know what the probabilities are.\n",
        "\n",
        "Initially, you have the same prior belief about each of the machines, so you have no reason to prefer one over the others.  But if you play each machine a few times, you can use the results to estimate the probabilities.  And you can use the estimated probabilities to decide which machine to play next.\n",
        "\n",
        "At a high level, that's the Bayesian bandit strategy.  Now let's see the details."
      ]
    },
    {
      "cell_type": "markdown",
      "metadata": {
        "id": "dJ8EqlB2x5aa"
      },
      "source": [
        "## Prior Beliefs\n",
        "\n",
        "If we know nothing about the probability of winning, we can start with a uniform prior."
      ]
    },
    {
      "cell_type": "code",
      "execution_count": 24,
      "metadata": {
        "execution": {
          "iopub.execute_input": "2021-04-16T19:35:58.362415Z",
          "iopub.status.busy": "2021-04-16T19:35:58.361811Z",
          "iopub.status.idle": "2021-04-16T19:35:58.364588Z",
          "shell.execute_reply": "2021-04-16T19:35:58.364200Z"
        },
        "tags": [],
        "id": "euB20G43x5aa",
        "colab": {
          "base_uri": "https://localhost:8080/"
        },
        "outputId": "2ae8c5c1-5967-435f-9d70-53221831d28f"
      },
      "outputs": [
        {
          "output_type": "execute_result",
          "data": {
            "text/plain": [
              "101"
            ]
          },
          "metadata": {},
          "execution_count": 24
        }
      ],
      "source": [
        "xs = np.linspace(0, 1, 101)\n",
        "prior = Pmf(1, xs)\n",
        "prior.normalize()"
      ]
    },
    {
      "cell_type": "markdown",
      "metadata": {
        "id": "I8fIFmycx5aa"
      },
      "source": [
        "Supposing we are choosing from four slot machines, I'll make four copies of the prior, one for each machine."
      ]
    },
    {
      "cell_type": "code",
      "execution_count": 25,
      "metadata": {
        "execution": {
          "iopub.execute_input": "2021-04-16T19:35:58.368917Z",
          "iopub.status.busy": "2021-04-16T19:35:58.368277Z",
          "iopub.status.idle": "2021-04-16T19:35:58.372099Z",
          "shell.execute_reply": "2021-04-16T19:35:58.372588Z"
        },
        "id": "wXrpj-y7x5ac"
      },
      "outputs": [],
      "source": [
        "beliefs = [prior.copy() for i in range(4)]"
      ]
    },
    {
      "cell_type": "markdown",
      "metadata": {
        "tags": [],
        "id": "lY-qSokHx5ad"
      },
      "source": [
        "This function displays four distributions in a grid."
      ]
    },
    {
      "cell_type": "code",
      "execution_count": 26,
      "metadata": {
        "execution": {
          "iopub.execute_input": "2021-04-16T19:35:58.378500Z",
          "iopub.status.busy": "2021-04-16T19:35:58.377897Z",
          "iopub.status.idle": "2021-04-16T19:35:58.379963Z",
          "shell.execute_reply": "2021-04-16T19:35:58.380451Z"
        },
        "tags": [],
        "id": "DvWIhgo9x5ad"
      },
      "outputs": [],
      "source": [
        "import matplotlib.pyplot as plt\n",
        "\n",
        "options = dict(xticklabels='invisible', yticklabels='invisible')\n",
        "\n",
        "def plot(beliefs, **options):\n",
        "    for i, pmf in enumerate(beliefs):\n",
        "        plt.subplot(2, 2, i+1)\n",
        "        pmf.plot(label='Machine %s' % i)\n",
        "        decorate(yticklabels=[])\n",
        "\n",
        "        if i in [0, 2]:\n",
        "            decorate(ylabel='PDF')\n",
        "\n",
        "        if i in [2, 3]:\n",
        "            decorate(xlabel='Probability of winning')\n",
        "\n",
        "    plt.tight_layout()"
      ]
    },
    {
      "cell_type": "markdown",
      "metadata": {
        "id": "fh1eonKGx5ad"
      },
      "source": [
        "Here's what the prior distributions look like for the four machines."
      ]
    },
    {
      "cell_type": "code",
      "execution_count": 27,
      "metadata": {
        "execution": {
          "iopub.execute_input": "2021-04-16T19:35:58.416688Z",
          "iopub.status.busy": "2021-04-16T19:35:58.402941Z",
          "iopub.status.idle": "2021-04-16T19:35:59.013473Z",
          "shell.execute_reply": "2021-04-16T19:35:59.013020Z"
        },
        "scrolled": false,
        "id": "Kg_Dd1Scx5ad",
        "colab": {
          "base_uri": "https://localhost:8080/",
          "height": 487
        },
        "outputId": "e53a53c0-bf30-4364-8692-abe9ed24d51d"
      },
      "outputs": [
        {
          "output_type": "display_data",
          "data": {
            "text/plain": [
              "<Figure size 640x480 with 4 Axes>"
            ],
            "image/png": "[encoded data removed]"
          },
          "metadata": {}
        }
      ],
      "source": [
        "plot(beliefs)"
      ]
    },
    {
      "cell_type": "markdown",
      "metadata": {
        "id": "2Vuxn1iAx5ad"
      },
      "source": [
        "## The Update\n",
        "\n",
        "Each time we play a machine, we can use the outcome to update our beliefs.  The following function does the update."
      ]
    },
    {
      "cell_type": "code",
      "execution_count": 28,
      "metadata": {
        "execution": {
          "iopub.execute_input": "2021-04-16T19:35:59.016676Z",
          "iopub.status.busy": "2021-04-16T19:35:59.016156Z",
          "iopub.status.idle": "2021-04-16T19:35:59.017869Z",
          "shell.execute_reply": "2021-04-16T19:35:59.018210Z"
        },
        "id": "HTplk9msx5ae"
      },
      "outputs": [],
      "source": [
        "likelihood = {\n",
        "    'W': xs,\n",
        "    'L': 1 - xs\n",
        "}"
      ]
    },
    {
      "cell_type": "code",
      "execution_count": 29,
      "metadata": {
        "execution": {
          "iopub.execute_input": "2021-04-16T19:35:59.022657Z",
          "iopub.status.busy": "2021-04-16T19:35:59.022046Z",
          "iopub.status.idle": "2021-04-16T19:35:59.024564Z",
          "shell.execute_reply": "2021-04-16T19:35:59.024066Z"
        },
        "id": "WBwtxptmx5ae"
      },
      "outputs": [],
      "source": [
        "def update(pmf, data):\n",
        "    \"\"\"Update the probability of winning.\"\"\"\n",
        "    pmf *= likelihood[data]\n",
        "    pmf.normalize()"
      ]
    },
    {
      "cell_type": "markdown",
      "metadata": {
        "id": "OfAQeJM9x5ae"
      },
      "source": [
        "This function updates the prior distribution in place.\n",
        "`pmf` is a `Pmf` that represents the prior distribution of `x`, which is the probability of winning.\n",
        "\n",
        "`data` is a string, either `W` if the outcome is a win or `L` if the outcome is a loss.\n",
        "\n",
        "The likelihood of the data is either `xs` or `1-xs`, depending on the outcome.\n",
        "\n",
        "Suppose we choose a machine, play 10 times, and win once.  We can compute the posterior distribution of `x`, based on this outcome, like this:"
      ]
    },
    {
      "cell_type": "code",
      "execution_count": 30,
      "metadata": {
        "execution": {
          "iopub.execute_input": "2021-04-16T19:35:59.028218Z",
          "iopub.status.busy": "2021-04-16T19:35:59.027687Z",
          "iopub.status.idle": "2021-04-16T19:35:59.030098Z",
          "shell.execute_reply": "2021-04-16T19:35:59.029565Z"
        },
        "tags": [],
        "id": "2pk05c6ex5ae"
      },
      "outputs": [],
      "source": [
        "np.random.seed(17)"
      ]
    },
    {
      "cell_type": "code",
      "execution_count": 31,
      "metadata": {
        "execution": {
          "iopub.execute_input": "2021-04-16T19:35:59.042870Z",
          "iopub.status.busy": "2021-04-16T19:35:59.042257Z",
          "iopub.status.idle": "2021-04-16T19:35:59.044114Z",
          "shell.execute_reply": "2021-04-16T19:35:59.044493Z"
        },
        "id": "Z3bHgqQax5ae"
      },
      "outputs": [],
      "source": [
        "bandit = prior.copy()\n",
        "\n",
        "for outcome in 'WLLLLLLLLL':\n",
        "    update(bandit, outcome)"
      ]
    },
    {
      "cell_type": "markdown",
      "metadata": {
        "id": "15gSY3aWx5ae"
      },
      "source": [
        "Here's what the posterior looks like."
      ]
    },
    {
      "cell_type": "code",
      "execution_count": 32,
      "metadata": {
        "execution": {
          "iopub.execute_input": "2021-04-16T19:35:59.067179Z",
          "iopub.status.busy": "2021-04-16T19:35:59.058633Z",
          "iopub.status.idle": "2021-04-16T19:35:59.174296Z",
          "shell.execute_reply": "2021-04-16T19:35:59.173745Z"
        },
        "scrolled": true,
        "tags": [],
        "id": "h-H0yWFFx5ae",
        "colab": {
          "base_uri": "https://localhost:8080/",
          "height": 487
        },
        "outputId": "c4d9e319-00aa-4668-93e6-01d0a5012a1d"
      },
      "outputs": [
        {
          "output_type": "display_data",
          "data": {
            "text/plain": [
              "<Figure size 640x480 with 1 Axes>"
            ],
            "image/png": "[encoded data removed]"
          },
          "metadata": {}
        }
      ],
      "source": [
        "bandit.plot()\n",
        "decorate(xlabel='Probability of winning',\n",
        "         ylabel='PDF',\n",
        "         title='Posterior distribution, nine losses, one win')"
      ]
    },
    {
      "cell_type": "markdown",
      "metadata": {
        "id": "nvlIEM7_x5af"
      },
      "source": [
        "## Multiple Bandits"
      ]
    },
    {
      "cell_type": "markdown",
      "metadata": {
        "id": "lK5eihypx5af"
      },
      "source": [
        "Now suppose we have four machines with these probabilities:"
      ]
    },
    {
      "cell_type": "code",
      "execution_count": 33,
      "metadata": {
        "execution": {
          "iopub.execute_input": "2021-04-16T19:35:59.177407Z",
          "iopub.status.busy": "2021-04-16T19:35:59.176903Z",
          "iopub.status.idle": "2021-04-16T19:35:59.180228Z",
          "shell.execute_reply": "2021-04-16T19:35:59.179776Z"
        },
        "id": "6H7cpbzBx5af"
      },
      "outputs": [],
      "source": [
        "actual_probs = [0.10, 0.20, 0.30, 0.40]"
      ]
    },
    {
      "cell_type": "markdown",
      "metadata": {
        "id": "b8lzKwhCx5af"
      },
      "source": [
        "Remember that as a player, we don't know these probabilities.\n",
        "\n",
        "The following function takes the index of a machine, simulates playing the machine once, and returns the outcome, `W` or `L`."
      ]
    },
    {
      "cell_type": "code",
      "execution_count": 34,
      "metadata": {
        "execution": {
          "iopub.execute_input": "2021-04-16T19:35:59.184112Z",
          "iopub.status.busy": "2021-04-16T19:35:59.183689Z",
          "iopub.status.idle": "2021-04-16T19:35:59.186969Z",
          "shell.execute_reply": "2021-04-16T19:35:59.186469Z"
        },
        "id": "UGSWH9avx5ag"
      },
      "outputs": [],
      "source": [
        "from collections import Counter\n",
        "\n",
        "# count how many times we've played each machine\n",
        "counter = Counter()\n",
        "\n",
        "def play(i):\n",
        "    \"\"\"Play machine i.\n",
        "\n",
        "    i: index of the machine to play\n",
        "\n",
        "    returns: string 'W' or 'L'\n",
        "    \"\"\"\n",
        "    counter[i] += 1\n",
        "    p = actual_probs[i]\n",
        "    if np.random.random() < p:\n",
        "        return 'W'\n",
        "    else:\n",
        "        return 'L'"
      ]
    },
    {
      "cell_type": "markdown",
      "metadata": {
        "id": "IyNg8YMMx5ag"
      },
      "source": [
        "`counter` is a `Counter`, which is a kind of dictionary we'll use to keep track of how many times each machine is played.\n",
        "\n",
        "Here's a test that plays each machine 10 times."
      ]
    },
    {
      "cell_type": "code",
      "execution_count": 35,
      "metadata": {
        "execution": {
          "iopub.execute_input": "2021-04-16T19:35:59.214098Z",
          "iopub.status.busy": "2021-04-16T19:35:59.213601Z",
          "iopub.status.idle": "2021-04-16T19:35:59.215958Z",
          "shell.execute_reply": "2021-04-16T19:35:59.215585Z"
        },
        "id": "PRWJL_gix5ag"
      },
      "outputs": [],
      "source": [
        "for i in range(4):\n",
        "    for _ in range(10):\n",
        "        outcome = play(i)\n",
        "        update(beliefs[i], outcome)"
      ]
    },
    {
      "cell_type": "markdown",
      "metadata": {
        "id": "QQiSzWNjx5ah"
      },
      "source": [
        "Each time through the inner loop, we play one machine and update our beliefs.\n",
        "\n",
        "Here's what our posterior beliefs look like."
      ]
    },
    {
      "cell_type": "code",
      "execution_count": 36,
      "metadata": {
        "execution": {
          "iopub.execute_input": "2021-04-16T19:35:59.228398Z",
          "iopub.status.busy": "2021-04-16T19:35:59.227960Z",
          "iopub.status.idle": "2021-04-16T19:35:59.826737Z",
          "shell.execute_reply": "2021-04-16T19:35:59.827463Z"
        },
        "id": "EYE4bFkXx5ah",
        "colab": {
          "base_uri": "https://localhost:8080/",
          "height": 487
        },
        "outputId": "74f7ceea-727a-4e66-daa8-49fa7e7ee48f"
      },
      "outputs": [
        {
          "output_type": "display_data",
          "data": {
            "text/plain": [
              "<Figure size 640x480 with 4 Axes>"
            ],
            "image/png": "[encoded data removed]"
          },
          "metadata": {}
        }
      ],
      "source": [
        "plot(beliefs)"
      ]
    },
    {
      "cell_type": "markdown",
      "metadata": {
        "id": "QMRQwAnqx5ah"
      },
      "source": [
        "Here are the actual probabilities, posterior means, and 90% credible intervals."
      ]
    },
    {
      "cell_type": "code",
      "execution_count": 37,
      "metadata": {
        "execution": {
          "iopub.execute_input": "2021-04-16T19:35:59.834767Z",
          "iopub.status.busy": "2021-04-16T19:35:59.833729Z",
          "iopub.status.idle": "2021-04-16T19:35:59.838437Z",
          "shell.execute_reply": "2021-04-16T19:35:59.838980Z"
        },
        "tags": [],
        "id": "4iJF5BB4x5ah"
      },
      "outputs": [],
      "source": [
        "import pandas as pd\n",
        "\n",
        "def summarize_beliefs(beliefs):\n",
        "    \"\"\"Compute means and credible intervals.\n",
        "\n",
        "    beliefs: sequence of Pmf\n",
        "\n",
        "    returns: DataFrame\n",
        "    \"\"\"\n",
        "    columns = ['Actual P(win)',\n",
        "               'Posterior mean',\n",
        "               'Credible interval']\n",
        "\n",
        "    df = pd.DataFrame(columns=columns)\n",
        "    for i, b in enumerate(beliefs):\n",
        "        mean = np.round(b.mean(), 3)\n",
        "        ci = b.credible_interval(0.9)\n",
        "        ci = np.round(ci, 3)\n",
        "        df.loc[i] = actual_probs[i], mean, ci\n",
        "    return df"
      ]
    },
    {
      "cell_type": "code",
      "execution_count": 38,
      "metadata": {
        "execution": {
          "iopub.execute_input": "2021-04-16T19:35:59.866461Z",
          "iopub.status.busy": "2021-04-16T19:35:59.865346Z",
          "iopub.status.idle": "2021-04-16T19:35:59.891615Z",
          "shell.execute_reply": "2021-04-16T19:35:59.891015Z"
        },
        "tags": [],
        "id": "y59YpsMcx5ai",
        "colab": {
          "base_uri": "https://localhost:8080/",
          "height": 175
        },
        "outputId": "0ffb768f-794a-4ba5-ee1e-f3d35d01d4cf"
      },
      "outputs": [
        {
          "output_type": "execute_result",
          "data": {
            "text/plain": [
              "   Actual P(win)  Posterior mean Credible interval\n",
              "0            0.1           0.250      [0.08, 0.47]\n",
              "1            0.2           0.250      [0.08, 0.47]\n",
              "2            0.3           0.500      [0.27, 0.73]\n",
              "3            0.4           0.417       [0.2, 0.65]"
            ],
            "text/html": [
              "\n",
              "  <div id=\"df-c534734a-949e-4720-9b9e-476e10005d2a\" class=\"colab-df-container\">\n",
              "    <div>\n",
              "<style scoped>\n",
              "    .dataframe tbody tr th:only-of-type {\n",
              "        vertical-align: middle;\n",
              "    }\n",
              "\n",
              "    .dataframe tbody tr th {\n",
              "        vertical-align: top;\n",
              "    }\n",
              "\n",
              "    .dataframe thead th {\n",
              "        text-align: right;\n",
              "    }\n",
              "</style>\n",
              "<table border=\"1\" class=\"dataframe\">\n",
              "  <thead>\n",
              "    <tr style=\"text-align: right;\">\n",
              "      <th></th>\n",
              "      <th>Actual P(win)</th>\n",
              "      <th>Posterior mean</th>\n",
              "      <th>Credible interval</th>\n",
              "    </tr>\n",
              "  </thead>\n",
              "  <tbody>\n",
              "    <tr>\n",
              "      <th>0</th>\n",
              "      <td>0.1</td>\n",
              "      <td>0.250</td>\n",
              "      <td>[0.08, 0.47]</td>\n",
              "    </tr>\n",
              "    <tr>\n",
              "      <th>1</th>\n",
              "      <td>0.2</td>\n",
              "      <td>0.250</td>\n",
              "      <td>[0.08, 0.47]</td>\n",
              "    </tr>\n",
              "    <tr>\n",
              "      <th>2</th>\n",
              "      <td>0.3</td>\n",
              "      <td>0.500</td>\n",
              "      <td>[0.27, 0.73]</td>\n",
              "    </tr>\n",
              "    <tr>\n",
              "      <th>3</th>\n",
              "      <td>0.4</td>\n",
              "      <td>0.417</td>\n",
              "      <td>[0.2, 0.65]</td>\n",
              "    </tr>\n",
              "  </tbody>\n",
              "</table>\n",
              "</div>\n",
              "    <div class=\"colab-df-buttons\">\n",
              "\n",
              "  <div class=\"colab-df-container\">\n",
              "    <button class=\"colab-df-convert\" onclick=\"convertToInteractive('df-c534734a-949e-4720-9b9e-476e10005d2a')\"\n",
              "            title=\"Convert this dataframe to an interactive table.\"\n",
              "            style=\"display:none;\">\n",
              "\n",
              "  <svg xmlns=\"http://www.w3.org/2000/svg\" height=\"24px\" viewBox=\"0 -960 960 960\">\n",
              "    <path d=\"M120-120v-720h720v720H120Zm60-500h600v-160H180v160Zm220 220h160v-160H400v160Zm0 220h160v-160H400v160ZM180-400h160v-160H180v160Zm440 0h160v-160H620v160ZM180-180h160v-160H180v160Zm440 0h160v-160H620v160Z\"/>\n",
              "  </svg>\n",
              "    </button>\n",
              "\n",
              "  <style>\n",
              "    .colab-df-container {\n",
              "      display:flex;\n",
              "      gap: 12px;\n",
              "    }\n",
              "\n",
              "    .colab-df-convert {\n",
              "      background-color: #E8F0FE;\n",
              "      border: none;\n",
              "      border-radius: 50%;\n",
              "      cursor: pointer;\n",
              "      display: none;\n",
              "      fill: #1967D2;\n",
              "      height: 32px;\n",
              "      padding: 0 0 0 0;\n",
              "      width: 32px;\n",
              "    }\n",
              "\n",
              "    .colab-df-convert:hover {\n",
              "      background-color: #E2EBFA;\n",
              "      box-shadow: 0px 1px 2px rgba(60, 64, 67, 0.3), 0px 1px 3px 1px rgba(60, 64, 67, 0.15);\n",
              "      fill: #174EA6;\n",
              "    }\n",
              "\n",
              "    .colab-df-buttons div {\n",
              "      margin-bottom: 4px;\n",
              "    }\n",
              "\n",
              "    [theme=dark] .colab-df-convert {\n",
              "      background-color: #3B4455;\n",
              "      fill: #D2E3FC;\n",
              "    }\n",
              "\n",
              "    [theme=dark] .colab-df-convert:hover {\n",
              "      background-color: #434B5C;\n",
              "      box-shadow: 0px 1px 3px 1px rgba(0, 0, 0, 0.15);\n",
              "      filter: drop-shadow(0px 1px 2px rgba(0, 0, 0, 0.3));\n",
              "      fill: #FFFFFF;\n",
              "    }\n",
              "  </style>\n",
              "\n",
              "    <script>\n",
              "      const buttonEl =\n",
              "        document.querySelector('#df-c534734a-949e-4720-9b9e-476e10005d2a button.colab-df-convert');\n",
              "      buttonEl.style.display =\n",
              "        google.colab.kernel.accessAllowed ? 'block' : 'none';\n",
              "\n",
              "      async function convertToInteractive(key) {\n",
              "        const element = document.querySelector('#df-c534734a-949e-4720-9b9e-476e10005d2a');\n",
              "        const dataTable =\n",
              "          await google.colab.kernel.invokeFunction('convertToInteractive',\n",
              "                                                    [key], {});\n",
              "        if (!dataTable) return;\n",
              "\n",
              "        const docLinkHtml = 'Like what you see? Visit the ' +\n",
              "          '<a target=\"_blank\" href=https://colab.research.google.com/notebooks/data_table.ipynb>data table notebook</a>'\n",
              "          + ' to learn more about interactive tables.';\n",
              "        element.innerHTML = '';\n",
              "        dataTable['output_type'] = 'display_data';\n",
              "        await google.colab.output.renderOutput(dataTable, element);\n",
              "        const docLink = document.createElement('div');\n",
              "        docLink.innerHTML = docLinkHtml;\n",
              "        element.appendChild(docLink);\n",
              "      }\n",
              "    </script>\n",
              "  </div>\n",
              "\n",
              "\n",
              "<div id=\"df-06903334-4ba6-42a0-8544-80cf23db4793\">\n",
              "  <button class=\"colab-df-quickchart\" onclick=\"quickchart('df-06903334-4ba6-42a0-8544-80cf23db4793')\"\n",
              "            title=\"Suggest charts\"\n",
              "            style=\"display:none;\">\n",
              "\n",
              "<svg xmlns=\"http://www.w3.org/2000/svg\" height=\"24px\"viewBox=\"0 0 24 24\"\n",
              "     width=\"24px\">\n",
              "    <g>\n",
              "        <path d=\"M19 3H5c-1.1 0-2 .9-2 2v14c0 1.1.9 2 2 2h14c1.1 0 2-.9 2-2V5c0-1.1-.9-2-2-2zM9 17H7v-7h2v7zm4 0h-2V7h2v10zm4 0h-2v-4h2v4z\"/>\n",
              "    </g>\n",
              "</svg>\n",
              "  </button>\n",
              "\n",
              "<style>\n",
              "  .colab-df-quickchart {\n",
              "      --bg-color: #E8F0FE;\n",
              "      --fill-color: #1967D2;\n",
              "      --hover-bg-color: #E2EBFA;\n",
              "      --hover-fill-color: #174EA6;\n",
              "      --disabled-fill-color: #AAA;\n",
              "      --disabled-bg-color: #DDD;\n",
              "  }\n",
              "\n",
              "  [theme=dark] .colab-df-quickchart {\n",
              "      --bg-color: #3B4455;\n",
              "      --fill-color: #D2E3FC;\n",
              "      --hover-bg-color: #434B5C;\n",
              "      --hover-fill-color: #FFFFFF;\n",
              "      --disabled-bg-color: #3B4455;\n",
              "      --disabled-fill-color: #666;\n",
              "  }\n",
              "\n",
              "  .colab-df-quickchart {\n",
              "    background-color: var(--bg-color);\n",
              "    border: none;\n",
              "    border-radius: 50%;\n",
              "    cursor: pointer;\n",
              "    display: none;\n",
              "    fill: var(--fill-color);\n",
              "    height: 32px;\n",
              "    padding: 0;\n",
              "    width: 32px;\n",
              "  }\n",
              "\n",
              "  .colab-df-quickchart:hover {\n",
              "    background-color: var(--hover-bg-color);\n",
              "    box-shadow: 0 1px 2px rgba(60, 64, 67, 0.3), 0 1px 3px 1px rgba(60, 64, 67, 0.15);\n",
              "    fill: var(--button-hover-fill-color);\n",
              "  }\n",
              "\n",
              "  .colab-df-quickchart-complete:disabled,\n",
              "  .colab-df-quickchart-complete:disabled:hover {\n",
              "    background-color: var(--disabled-bg-color);\n",
              "    fill: var(--disabled-fill-color);\n",
              "    box-shadow: none;\n",
              "  }\n",
              "\n",
              "  .colab-df-spinner {\n",
              "    border: 2px solid var(--fill-color);\n",
              "    border-color: transparent;\n",
              "    border-bottom-color: var(--fill-color);\n",
              "    animation:\n",
              "      spin 1s steps(1) infinite;\n",
              "  }\n",
              "\n",
              "  @keyframes spin {\n",
              "    0% {\n",
              "      border-color: transparent;\n",
              "      border-bottom-color: var(--fill-color);\n",
              "      border-left-color: var(--fill-color);\n",
              "    }\n",
              "    20% {\n",
              "      border-color: transparent;\n",
              "      border-left-color: var(--fill-color);\n",
              "      border-top-color: var(--fill-color);\n",
              "    }\n",
              "    30% {\n",
              "      border-color: transparent;\n",
              "      border-left-color: var(--fill-color);\n",
              "      border-top-color: var(--fill-color);\n",
              "      border-right-color: var(--fill-color);\n",
              "    }\n",
              "    40% {\n",
              "      border-color: transparent;\n",
              "      border-right-color: var(--fill-color);\n",
              "      border-top-color: var(--fill-color);\n",
              "    }\n",
              "    60% {\n",
              "      border-color: transparent;\n",
              "      border-right-color: var(--fill-color);\n",
              "    }\n",
              "    80% {\n",
              "      border-color: transparent;\n",
              "      border-right-color: var(--fill-color);\n",
              "      border-bottom-color: var(--fill-color);\n",
              "    }\n",
              "    90% {\n",
              "      border-color: transparent;\n",
              "      border-bottom-color: var(--fill-color);\n",
              "    }\n",
              "  }\n",
              "</style>\n",
              "\n",
              "  <script>\n",
              "    async function quickchart(key) {\n",
              "      const quickchartButtonEl =\n",
              "        document.querySelector('#' + key + ' button');\n",
              "      quickchartButtonEl.disabled = true;  // To prevent multiple clicks.\n",
              "      quickchartButtonEl.classList.add('colab-df-spinner');\n",
              "      try {\n",
              "        const charts = await google.colab.kernel.invokeFunction(\n",
              "            'suggestCharts', [key], {});\n",
              "      } catch (error) {\n",
              "        console.error('Error during call to suggestCharts:', error);\n",
              "      }\n",
              "      quickchartButtonEl.classList.remove('colab-df-spinner');\n",
              "      quickchartButtonEl.classList.add('colab-df-quickchart-complete');\n",
              "    }\n",
              "    (() => {\n",
              "      let quickchartButtonEl =\n",
              "        document.querySelector('#df-06903334-4ba6-42a0-8544-80cf23db4793 button');\n",
              "      quickchartButtonEl.style.display =\n",
              "        google.colab.kernel.accessAllowed ? 'block' : 'none';\n",
              "    })();\n",
              "  </script>\n",
              "</div>\n",
              "\n",
              "    </div>\n",
              "  </div>\n"
            ],
            "application/vnd.google.colaboratory.intrinsic+json": {
              "type": "dataframe",
              "summary": "{\n  \"name\": \"summarize_beliefs(beliefs)\",\n  \"rows\": 4,\n  \"fields\": [\n    {\n      \"column\": \"Actual P(win)\",\n      \"properties\": {\n        \"dtype\": \"number\",\n        \"std\": 0.12909944487358055,\n        \"min\": 0.1,\n        \"max\": 0.4,\n        \"num_unique_values\": 4,\n        \"samples\": [\n          0.2,\n          0.4,\n          0.1\n        ],\n        \"semantic_type\": \"\",\n        \"description\": \"\"\n      }\n    },\n    {\n      \"column\": \"Posterior mean\",\n      \"properties\": {\n        \"dtype\": \"number\",\n        \"std\": 0.12505565427707244,\n        \"min\": 0.25,\n        \"max\": 0.5,\n        \"num_unique_values\": 3,\n        \"samples\": [\n          0.25,\n          0.5,\n          0.417\n        ],\n        \"semantic_type\": \"\",\n        \"description\": \"\"\n      }\n    },\n    {\n      \"column\": \"Credible interval\",\n      \"properties\": {\n        \"dtype\": \"object\",\n        \"semantic_type\": \"\",\n        \"description\": \"\"\n      }\n    }\n  ]\n}"
            }
          },
          "metadata": {},
          "execution_count": 38
        }
      ],
      "source": [
        "summarize_beliefs(beliefs)"
      ]
    },
    {
      "cell_type": "markdown",
      "metadata": {
        "id": "9ycRXbhSx5aj"
      },
      "source": [
        "We expect the credible intervals to contain the actual probabilities most of the time."
      ]
    },
    {
      "cell_type": "markdown",
      "metadata": {
        "id": "FDH7axEWx5aj"
      },
      "source": [
        "## Explore and Exploit\n",
        "\n",
        "Based on these posterior distributions, which machine do you think we should play next?  One option would be to choose the machine with the highest posterior mean.  \n",
        "\n",
        "That would not be a bad idea, but it has a drawback: since we have only played each machine a few times, the posterior distributions are wide and overlapping, which means we are not sure which machine is the best; if we focus on one machine too soon, we might choose the wrong machine and play it more than we should.\n",
        "\n",
        "To avoid that problem, we could go to the other extreme and play all machines equally until we are confident we have identified the best machine, and then play it exclusively.\n",
        "\n",
        "That's not a bad idea either, but it has a drawback: while we are gathering data, we are not making good use of it; until we're sure which machine is the best, we are playing the others more than we should."
      ]
    },
    {
      "cell_type": "markdown",
      "metadata": {
        "id": "j9leC58Dx5aj"
      },
      "source": [
        "The Bayesian Bandits strategy avoids both drawbacks by gathering and using data at the same time.  In other words, it balances exploration and exploitation.\n",
        "\n",
        "The kernel of the idea is called [Thompson sampling](https://en.wikipedia.org/wiki/Thompson_sampling): when we choose a machine, we choose at random so that the probability of choosing each machine is proportional to the probability that it is the best.\n",
        "\n",
        "Given the posterior distributions, we can compute the \"probability of superiority\" for each machine.\n",
        "\n",
        "Here's one way to do it.  We can draw a sample of 1000 values from each posterior distribution, like this:"
      ]
    },
    {
      "cell_type": "code",
      "execution_count": 39,
      "metadata": {
        "execution": {
          "iopub.execute_input": "2021-04-16T19:35:59.897634Z",
          "iopub.status.busy": "2021-04-16T19:35:59.896107Z",
          "iopub.status.idle": "2021-04-16T19:35:59.904029Z",
          "shell.execute_reply": "2021-04-16T19:35:59.903164Z"
        },
        "id": "U9vEH2ftx5ak",
        "colab": {
          "base_uri": "https://localhost:8080/"
        },
        "outputId": "653d443d-bd88-48e5-dedc-3a495c0de788"
      },
      "outputs": [
        {
          "output_type": "execute_result",
          "data": {
            "text/plain": [
              "(4, 1000)"
            ]
          },
          "metadata": {},
          "execution_count": 39
        }
      ],
      "source": [
        "samples = np.array([b.choice(1000)\n",
        "                    for b in beliefs])\n",
        "samples.shape"
      ]
    },
    {
      "cell_type": "markdown",
      "metadata": {
        "id": "pF35LDY7x5ak"
      },
      "source": [
        "The result has 4 rows and 1000 columns.  We can use `argmax` to find the index of the largest value in each column:"
      ]
    },
    {
      "cell_type": "code",
      "execution_count": 40,
      "metadata": {
        "execution": {
          "iopub.execute_input": "2021-04-16T19:35:59.909255Z",
          "iopub.status.busy": "2021-04-16T19:35:59.908170Z",
          "iopub.status.idle": "2021-04-16T19:35:59.916958Z",
          "shell.execute_reply": "2021-04-16T19:35:59.916095Z"
        },
        "id": "ZhxwhxV3x5ak",
        "colab": {
          "base_uri": "https://localhost:8080/"
        },
        "outputId": "94aba307-a3fe-4bfc-e898-b2543c1b468a"
      },
      "outputs": [
        {
          "output_type": "execute_result",
          "data": {
            "text/plain": [
              "(1000,)"
            ]
          },
          "metadata": {},
          "execution_count": 40
        }
      ],
      "source": [
        "indices = np.argmax(samples, axis=0)\n",
        "indices.shape"
      ]
    },
    {
      "cell_type": "markdown",
      "metadata": {
        "id": "e-Dnry2Ax5ak"
      },
      "source": [
        "The `Pmf` of these indices is the fraction of times each machine yielded the highest values."
      ]
    },
    {
      "cell_type": "code",
      "execution_count": 41,
      "metadata": {
        "execution": {
          "iopub.execute_input": "2021-04-16T19:35:59.926458Z",
          "iopub.status.busy": "2021-04-16T19:35:59.925706Z",
          "iopub.status.idle": "2021-04-16T19:35:59.932359Z",
          "shell.execute_reply": "2021-04-16T19:35:59.931702Z"
        },
        "id": "3tIgy7O2x5ak",
        "colab": {
          "base_uri": "https://localhost:8080/",
          "height": 175
        },
        "outputId": "2df19a82-0fbc-4b5d-b147-91171c97e545"
      },
      "outputs": [
        {
          "output_type": "execute_result",
          "data": {
            "text/plain": [
              "0    0.048\n",
              "1    0.043\n",
              "2    0.625\n",
              "3    0.284\n",
              "Name: proportion, dtype: float64"
            ],
            "text/html": [
              "<div>\n",
              "<style scoped>\n",
              "    .dataframe tbody tr th:only-of-type {\n",
              "        vertical-align: middle;\n",
              "    }\n",
              "\n",
              "    .dataframe tbody tr th {\n",
              "        vertical-align: top;\n",
              "    }\n",
              "\n",
              "    .dataframe thead th {\n",
              "        text-align: right;\n",
              "    }\n",
              "</style>\n",
              "<table border=\"1\" class=\"dataframe\">\n",
              "  <thead>\n",
              "    <tr style=\"text-align: right;\">\n",
              "      <th></th>\n",
              "      <th>probs</th>\n",
              "    </tr>\n",
              "  </thead>\n",
              "  <tbody>\n",
              "    <tr>\n",
              "      <th>0</th>\n",
              "      <td>0.048</td>\n",
              "    </tr>\n",
              "    <tr>\n",
              "      <th>1</th>\n",
              "      <td>0.043</td>\n",
              "    </tr>\n",
              "    <tr>\n",
              "      <th>2</th>\n",
              "      <td>0.625</td>\n",
              "    </tr>\n",
              "    <tr>\n",
              "      <th>3</th>\n",
              "      <td>0.284</td>\n",
              "    </tr>\n",
              "  </tbody>\n",
              "</table>\n",
              "</div>"
            ]
          },
          "metadata": {},
          "execution_count": 41
        }
      ],
      "source": [
        "pmf = Pmf.from_seq(indices)\n",
        "pmf"
      ]
    },
    {
      "cell_type": "markdown",
      "metadata": {
        "id": "naHoZ60Px5al"
      },
      "source": [
        "These fractions approximate the probability of superiority for each machine.  So we could choose the next machine by choosing a value from this `Pmf`."
      ]
    },
    {
      "cell_type": "code",
      "execution_count": 42,
      "metadata": {
        "execution": {
          "iopub.execute_input": "2021-04-16T19:35:59.938638Z",
          "iopub.status.busy": "2021-04-16T19:35:59.936984Z",
          "iopub.status.idle": "2021-04-16T19:35:59.941814Z",
          "shell.execute_reply": "2021-04-16T19:35:59.942478Z"
        },
        "id": "8ZpL0ypCx5al",
        "colab": {
          "base_uri": "https://localhost:8080/"
        },
        "outputId": "3cc3f6d0-2e72-42fa-8d6f-8589ed4713ac"
      },
      "outputs": [
        {
          "output_type": "execute_result",
          "data": {
            "text/plain": [
              "1"
            ]
          },
          "metadata": {},
          "execution_count": 42
        }
      ],
      "source": [
        "pmf.choice()"
      ]
    },
    {
      "cell_type": "markdown",
      "metadata": {
        "id": "oXFm5ipox5al"
      },
      "source": [
        "But that's a lot of work to choose a single value, and it's not really necessary, because there's a shortcut.\n",
        "\n",
        "If we draw a single random value from each posterior distribution and select the machine that yields the highest value, it turns out that we'll select each machine in proportion to its probability of superiority.\n",
        "\n",
        "That's what the following function does."
      ]
    },
    {
      "cell_type": "code",
      "execution_count": 43,
      "metadata": {
        "execution": {
          "iopub.execute_input": "2021-04-16T19:35:59.949635Z",
          "iopub.status.busy": "2021-04-16T19:35:59.948833Z",
          "iopub.status.idle": "2021-04-16T19:35:59.950888Z",
          "shell.execute_reply": "2021-04-16T19:35:59.950296Z"
        },
        "id": "NLjW0Nfux5al"
      },
      "outputs": [],
      "source": [
        "def choose(beliefs):\n",
        "    \"\"\"Use Thompson sampling to choose a machine.\n",
        "\n",
        "    Draws a single sample from each distribution.\n",
        "\n",
        "    returns: index of the machine that yielded the highest value\n",
        "    \"\"\"\n",
        "    ps = [b.choice() for b in beliefs]\n",
        "    return np.argmax(ps)"
      ]
    },
    {
      "cell_type": "markdown",
      "metadata": {
        "id": "qC-2xeWSx5al"
      },
      "source": [
        "This function chooses one value from the posterior distribution of each machine and then uses `argmax` to find the index of the machine that yielded the highest value.\n",
        "\n",
        "Here's an example."
      ]
    },
    {
      "cell_type": "code",
      "execution_count": 44,
      "metadata": {
        "execution": {
          "iopub.execute_input": "2021-04-16T19:35:59.958607Z",
          "iopub.status.busy": "2021-04-16T19:35:59.957868Z",
          "iopub.status.idle": "2021-04-16T19:35:59.960724Z",
          "shell.execute_reply": "2021-04-16T19:35:59.959178Z"
        },
        "id": "_5jrbF4Xx5al",
        "colab": {
          "base_uri": "https://localhost:8080/"
        },
        "outputId": "25367a93-3dfd-41bf-b66b-94bf7e14eec1"
      },
      "outputs": [
        {
          "output_type": "execute_result",
          "data": {
            "text/plain": [
              "3"
            ]
          },
          "metadata": {},
          "execution_count": 44
        }
      ],
      "source": [
        "choose(beliefs)"
      ]
    },
    {
      "cell_type": "markdown",
      "metadata": {
        "id": "dYdvnPR5x5al"
      },
      "source": [
        "## The Strategy\n",
        "\n",
        "Putting it all together, the following function chooses a machine, plays once, and updates `beliefs`:"
      ]
    },
    {
      "cell_type": "code",
      "execution_count": 46,
      "metadata": {
        "execution": {
          "iopub.execute_input": "2021-04-16T19:35:59.965882Z",
          "iopub.status.busy": "2021-04-16T19:35:59.965161Z",
          "iopub.status.idle": "2021-04-16T19:35:59.971103Z",
          "shell.execute_reply": "2021-04-16T19:35:59.970557Z"
        },
        "id": "70c5onIdx5am"
      },
      "outputs": [],
      "source": [
        "def choose_play_update(beliefs):\n",
        "    \"\"\"Choose a machine, play it, and update beliefs.\"\"\"\n",
        "\n",
        "    # choose a machine\n",
        "    machine = choose(beliefs)\n",
        "\n",
        "    # play it\n",
        "    outcome = play(machine)\n",
        "\n",
        "    # update beliefs\n",
        "    update(beliefs[machine], outcome)"
      ]
    },
    {
      "cell_type": "markdown",
      "metadata": {
        "id": "whJbflevx5am"
      },
      "source": [
        "To test it out, let's start again with a fresh set of beliefs and an empty `Counter`."
      ]
    },
    {
      "cell_type": "code",
      "execution_count": 47,
      "metadata": {
        "execution": {
          "iopub.execute_input": "2021-04-16T19:35:59.976029Z",
          "iopub.status.busy": "2021-04-16T19:35:59.975106Z",
          "iopub.status.idle": "2021-04-16T19:35:59.978061Z",
          "shell.execute_reply": "2021-04-16T19:35:59.978970Z"
        },
        "id": "MzSoks69x5am"
      },
      "outputs": [],
      "source": [
        "beliefs = [prior.copy() for i in range(4)]\n",
        "counter = Counter()"
      ]
    },
    {
      "cell_type": "markdown",
      "metadata": {
        "id": "XGaCyXcjx5am"
      },
      "source": [
        "If we run the bandit algorithm 100 times, we can see how `beliefs` gets updated:"
      ]
    },
    {
      "cell_type": "code",
      "execution_count": 48,
      "metadata": {
        "execution": {
          "iopub.execute_input": "2021-04-16T19:35:59.982092Z",
          "iopub.status.busy": "2021-04-16T19:35:59.981421Z",
          "iopub.status.idle": "2021-04-16T19:36:00.969027Z",
          "shell.execute_reply": "2021-04-16T19:36:00.969685Z"
        },
        "id": "liRMqsF3x5am",
        "colab": {
          "base_uri": "https://localhost:8080/",
          "height": 487
        },
        "outputId": "ebac707d-02d9-43d5-86ed-1ed17d42d39c"
      },
      "outputs": [
        {
          "output_type": "display_data",
          "data": {
            "text/plain": [
              "<Figure size 640x480 with 4 Axes>"
            ],
            "image/png": "[encoded data removed]"
          },
          "metadata": {}
        }
      ],
      "source": [
        "num_plays = 100\n",
        "\n",
        "for i in range(num_plays):\n",
        "    choose_play_update(beliefs)\n",
        "\n",
        "plot(beliefs)"
      ]
    },
    {
      "cell_type": "markdown",
      "metadata": {
        "id": "8pupAFlDx5am"
      },
      "source": [
        "The following table summarizes the results."
      ]
    },
    {
      "cell_type": "code",
      "execution_count": 49,
      "metadata": {
        "execution": {
          "iopub.execute_input": "2021-04-16T19:36:00.997808Z",
          "iopub.status.busy": "2021-04-16T19:36:00.997037Z",
          "iopub.status.idle": "2021-04-16T19:36:01.000101Z",
          "shell.execute_reply": "2021-04-16T19:36:01.000816Z"
        },
        "tags": [],
        "id": "3idyxWKRx5am",
        "colab": {
          "base_uri": "https://localhost:8080/",
          "height": 175
        },
        "outputId": "5da0e067-5ad1-4357-9647-ffc3b4501670"
      },
      "outputs": [
        {
          "output_type": "execute_result",
          "data": {
            "text/plain": [
              "   Actual P(win)  Posterior mean Credible interval\n",
              "0            0.1           0.107       [0.0, 0.31]\n",
              "1            0.2           0.269      [0.14, 0.42]\n",
              "2            0.3           0.293      [0.18, 0.41]\n",
              "3            0.4           0.438       [0.3, 0.58]"
            ],
            "text/html": [
              "\n",
              "  <div id=\"df-e9001a85-6428-487f-b6b9-fe713b43e7bc\" class=\"colab-df-container\">\n",
              "    <div>\n",
              "<style scoped>\n",
              "    .dataframe tbody tr th:only-of-type {\n",
              "        vertical-align: middle;\n",
              "    }\n",
              "\n",
              "    .dataframe tbody tr th {\n",
              "        vertical-align: top;\n",
              "    }\n",
              "\n",
              "    .dataframe thead th {\n",
              "        text-align: right;\n",
              "    }\n",
              "</style>\n",
              "<table border=\"1\" class=\"dataframe\">\n",
              "  <thead>\n",
              "    <tr style=\"text-align: right;\">\n",
              "      <th></th>\n",
              "      <th>Actual P(win)</th>\n",
              "      <th>Posterior mean</th>\n",
              "      <th>Credible interval</th>\n",
              "    </tr>\n",
              "  </thead>\n",
              "  <tbody>\n",
              "    <tr>\n",
              "      <th>0</th>\n",
              "      <td>0.1</td>\n",
              "      <td>0.107</td>\n",
              "      <td>[0.0, 0.31]</td>\n",
              "    </tr>\n",
              "    <tr>\n",
              "      <th>1</th>\n",
              "      <td>0.2</td>\n",
              "      <td>0.269</td>\n",
              "      <td>[0.14, 0.42]</td>\n",
              "    </tr>\n",
              "    <tr>\n",
              "      <th>2</th>\n",
              "      <td>0.3</td>\n",
              "      <td>0.293</td>\n",
              "      <td>[0.18, 0.41]</td>\n",
              "    </tr>\n",
              "    <tr>\n",
              "      <th>3</th>\n",
              "      <td>0.4</td>\n",
              "      <td>0.438</td>\n",
              "      <td>[0.3, 0.58]</td>\n",
              "    </tr>\n",
              "  </tbody>\n",
              "</table>\n",
              "</div>\n",
              "    <div class=\"colab-df-buttons\">\n",
              "\n",
              "  <div class=\"colab-df-container\">\n",
              "    <button class=\"colab-df-convert\" onclick=\"convertToInteractive('df-e9001a85-6428-487f-b6b9-fe713b43e7bc')\"\n",
              "            title=\"Convert this dataframe to an interactive table.\"\n",
              "            style=\"display:none;\">\n",
              "\n",
              "  <svg xmlns=\"http://www.w3.org/2000/svg\" height=\"24px\" viewBox=\"0 -960 960 960\">\n",
              "    <path d=\"M120-120v-720h720v720H120Zm60-500h600v-160H180v160Zm220 220h160v-160H400v160Zm0 220h160v-160H400v160ZM180-400h160v-160H180v160Zm440 0h160v-160H620v160ZM180-180h160v-160H180v160Zm440 0h160v-160H620v160Z\"/>\n",
              "  </svg>\n",
              "    </button>\n",
              "\n",
              "  <style>\n",
              "    .colab-df-container {\n",
              "      display:flex;\n",
              "      gap: 12px;\n",
              "    }\n",
              "\n",
              "    .colab-df-convert {\n",
              "      background-color: #E8F0FE;\n",
              "      border: none;\n",
              "      border-radius: 50%;\n",
              "      cursor: pointer;\n",
              "      display: none;\n",
              "      fill: #1967D2;\n",
              "      height: 32px;\n",
              "      padding: 0 0 0 0;\n",
              "      width: 32px;\n",
              "    }\n",
              "\n",
              "    .colab-df-convert:hover {\n",
              "      background-color: #E2EBFA;\n",
              "      box-shadow: 0px 1px 2px rgba(60, 64, 67, 0.3), 0px 1px 3px 1px rgba(60, 64, 67, 0.15);\n",
              "      fill: #174EA6;\n",
              "    }\n",
              "\n",
              "    .colab-df-buttons div {\n",
              "      margin-bottom: 4px;\n",
              "    }\n",
              "\n",
              "    [theme=dark] .colab-df-convert {\n",
              "      background-color: #3B4455;\n",
              "      fill: #D2E3FC;\n",
              "    }\n",
              "\n",
              "    [theme=dark] .colab-df-convert:hover {\n",
              "      background-color: #434B5C;\n",
              "      box-shadow: 0px 1px 3px 1px rgba(0, 0, 0, 0.15);\n",
              "      filter: drop-shadow(0px 1px 2px rgba(0, 0, 0, 0.3));\n",
              "      fill: #FFFFFF;\n",
              "    }\n",
              "  </style>\n",
              "\n",
              "    <script>\n",
              "      const buttonEl =\n",
              "        document.querySelector('#df-e9001a85-6428-487f-b6b9-fe713b43e7bc button.colab-df-convert');\n",
              "      buttonEl.style.display =\n",
              "        google.colab.kernel.accessAllowed ? 'block' : 'none';\n",
              "\n",
              "      async function convertToInteractive(key) {\n",
              "        const element = document.querySelector('#df-e9001a85-6428-487f-b6b9-fe713b43e7bc');\n",
              "        const dataTable =\n",
              "          await google.colab.kernel.invokeFunction('convertToInteractive',\n",
              "                                                    [key], {});\n",
              "        if (!dataTable) return;\n",
              "\n",
              "        const docLinkHtml = 'Like what you see? Visit the ' +\n",
              "          '<a target=\"_blank\" href=https://colab.research.google.com/notebooks/data_table.ipynb>data table notebook</a>'\n",
              "          + ' to learn more about interactive tables.';\n",
              "        element.innerHTML = '';\n",
              "        dataTable['output_type'] = 'display_data';\n",
              "        await google.colab.output.renderOutput(dataTable, element);\n",
              "        const docLink = document.createElement('div');\n",
              "        docLink.innerHTML = docLinkHtml;\n",
              "        element.appendChild(docLink);\n",
              "      }\n",
              "    </script>\n",
              "  </div>\n",
              "\n",
              "\n",
              "<div id=\"df-f8a3cbb2-baee-4e58-aa80-6dd88de321a1\">\n",
              "  <button class=\"colab-df-quickchart\" onclick=\"quickchart('df-f8a3cbb2-baee-4e58-aa80-6dd88de321a1')\"\n",
              "            title=\"Suggest charts\"\n",
              "            style=\"display:none;\">\n",
              "\n",
              "<svg xmlns=\"http://www.w3.org/2000/svg\" height=\"24px\"viewBox=\"0 0 24 24\"\n",
              "     width=\"24px\">\n",
              "    <g>\n",
              "        <path d=\"M19 3H5c-1.1 0-2 .9-2 2v14c0 1.1.9 2 2 2h14c1.1 0 2-.9 2-2V5c0-1.1-.9-2-2-2zM9 17H7v-7h2v7zm4 0h-2V7h2v10zm4 0h-2v-4h2v4z\"/>\n",
              "    </g>\n",
              "</svg>\n",
              "  </button>\n",
              "\n",
              "<style>\n",
              "  .colab-df-quickchart {\n",
              "      --bg-color: #E8F0FE;\n",
              "      --fill-color: #1967D2;\n",
              "      --hover-bg-color: #E2EBFA;\n",
              "      --hover-fill-color: #174EA6;\n",
              "      --disabled-fill-color: #AAA;\n",
              "      --disabled-bg-color: #DDD;\n",
              "  }\n",
              "\n",
              "  [theme=dark] .colab-df-quickchart {\n",
              "      --bg-color: #3B4455;\n",
              "      --fill-color: #D2E3FC;\n",
              "      --hover-bg-color: #434B5C;\n",
              "      --hover-fill-color: #FFFFFF;\n",
              "      --disabled-bg-color: #3B4455;\n",
              "      --disabled-fill-color: #666;\n",
              "  }\n",
              "\n",
              "  .colab-df-quickchart {\n",
              "    background-color: var(--bg-color);\n",
              "    border: none;\n",
              "    border-radius: 50%;\n",
              "    cursor: pointer;\n",
              "    display: none;\n",
              "    fill: var(--fill-color);\n",
              "    height: 32px;\n",
              "    padding: 0;\n",
              "    width: 32px;\n",
              "  }\n",
              "\n",
              "  .colab-df-quickchart:hover {\n",
              "    background-color: var(--hover-bg-color);\n",
              "    box-shadow: 0 1px 2px rgba(60, 64, 67, 0.3), 0 1px 3px 1px rgba(60, 64, 67, 0.15);\n",
              "    fill: var(--button-hover-fill-color);\n",
              "  }\n",
              "\n",
              "  .colab-df-quickchart-complete:disabled,\n",
              "  .colab-df-quickchart-complete:disabled:hover {\n",
              "    background-color: var(--disabled-bg-color);\n",
              "    fill: var(--disabled-fill-color);\n",
              "    box-shadow: none;\n",
              "  }\n",
              "\n",
              "  .colab-df-spinner {\n",
              "    border: 2px solid var(--fill-color);\n",
              "    border-color: transparent;\n",
              "    border-bottom-color: var(--fill-color);\n",
              "    animation:\n",
              "      spin 1s steps(1) infinite;\n",
              "  }\n",
              "\n",
              "  @keyframes spin {\n",
              "    0% {\n",
              "      border-color: transparent;\n",
              "      border-bottom-color: var(--fill-color);\n",
              "      border-left-color: var(--fill-color);\n",
              "    }\n",
              "    20% {\n",
              "      border-color: transparent;\n",
              "      border-left-color: var(--fill-color);\n",
              "      border-top-color: var(--fill-color);\n",
              "    }\n",
              "    30% {\n",
              "      border-color: transparent;\n",
              "      border-left-color: var(--fill-color);\n",
              "      border-top-color: var(--fill-color);\n",
              "      border-right-color: var(--fill-color);\n",
              "    }\n",
              "    40% {\n",
              "      border-color: transparent;\n",
              "      border-right-color: var(--fill-color);\n",
              "      border-top-color: var(--fill-color);\n",
              "    }\n",
              "    60% {\n",
              "      border-color: transparent;\n",
              "      border-right-color: var(--fill-color);\n",
              "    }\n",
              "    80% {\n",
              "      border-color: transparent;\n",
              "      border-right-color: var(--fill-color);\n",
              "      border-bottom-color: var(--fill-color);\n",
              "    }\n",
              "    90% {\n",
              "      border-color: transparent;\n",
              "      border-bottom-color: var(--fill-color);\n",
              "    }\n",
              "  }\n",
              "</style>\n",
              "\n",
              "  <script>\n",
              "    async function quickchart(key) {\n",
              "      const quickchartButtonEl =\n",
              "        document.querySelector('#' + key + ' button');\n",
              "      quickchartButtonEl.disabled = true;  // To prevent multiple clicks.\n",
              "      quickchartButtonEl.classList.add('colab-df-spinner');\n",
              "      try {\n",
              "        const charts = await google.colab.kernel.invokeFunction(\n",
              "            'suggestCharts', [key], {});\n",
              "      } catch (error) {\n",
              "        console.error('Error during call to suggestCharts:', error);\n",
              "      }\n",
              "      quickchartButtonEl.classList.remove('colab-df-spinner');\n",
              "      quickchartButtonEl.classList.add('colab-df-quickchart-complete');\n",
              "    }\n",
              "    (() => {\n",
              "      let quickchartButtonEl =\n",
              "        document.querySelector('#df-f8a3cbb2-baee-4e58-aa80-6dd88de321a1 button');\n",
              "      quickchartButtonEl.style.display =\n",
              "        google.colab.kernel.accessAllowed ? 'block' : 'none';\n",
              "    })();\n",
              "  </script>\n",
              "</div>\n",
              "\n",
              "    </div>\n",
              "  </div>\n"
            ],
            "application/vnd.google.colaboratory.intrinsic+json": {
              "type": "dataframe",
              "summary": "{\n  \"name\": \"summarize_beliefs(beliefs)\",\n  \"rows\": 4,\n  \"fields\": [\n    {\n      \"column\": \"Actual P(win)\",\n      \"properties\": {\n        \"dtype\": \"number\",\n        \"std\": 0.12909944487358055,\n        \"min\": 0.1,\n        \"max\": 0.4,\n        \"num_unique_values\": 4,\n        \"samples\": [\n          0.2,\n          0.4,\n          0.1\n        ],\n        \"semantic_type\": \"\",\n        \"description\": \"\"\n      }\n    },\n    {\n      \"column\": \"Posterior mean\",\n      \"properties\": {\n        \"dtype\": \"number\",\n        \"std\": 0.13557378065097986,\n        \"min\": 0.107,\n        \"max\": 0.438,\n        \"num_unique_values\": 4,\n        \"samples\": [\n          0.269,\n          0.438,\n          0.107\n        ],\n        \"semantic_type\": \"\",\n        \"description\": \"\"\n      }\n    },\n    {\n      \"column\": \"Credible interval\",\n      \"properties\": {\n        \"dtype\": \"object\",\n        \"semantic_type\": \"\",\n        \"description\": \"\"\n      }\n    }\n  ]\n}"
            }
          },
          "metadata": {},
          "execution_count": 49
        }
      ],
      "source": [
        "summarize_beliefs(beliefs)"
      ]
    },
    {
      "cell_type": "markdown",
      "metadata": {
        "id": "AoQ5rlpnx5an"
      },
      "source": [
        "The credible intervals usually contain the actual probabilities of winning.\n",
        "The estimates are still rough, especially for the lower-probability machines.  But that's a feature, not a bug: the goal is to play the high-probability machines most often.  Making the estimates more precise is a means to that end, but not an end itself.\n",
        "\n",
        "More importantly, let's see how many times each machine got played.  "
      ]
    },
    {
      "cell_type": "code",
      "execution_count": 50,
      "metadata": {
        "execution": {
          "iopub.execute_input": "2021-04-16T19:36:01.007207Z",
          "iopub.status.busy": "2021-04-16T19:36:01.006002Z",
          "iopub.status.idle": "2021-04-16T19:36:01.012730Z",
          "shell.execute_reply": "2021-04-16T19:36:01.011748Z"
        },
        "tags": [],
        "id": "cfqs7VaAx5an"
      },
      "outputs": [],
      "source": [
        "def summarize_counter(counter):\n",
        "    \"\"\"Report the number of times each machine was played.\n",
        "\n",
        "    counter: Collections.Counter\n",
        "\n",
        "    returns: DataFrame\n",
        "    \"\"\"\n",
        "    index = range(4)\n",
        "    columns = ['Actual P(win)', 'Times played']\n",
        "    df = pd.DataFrame(index=index, columns=columns)\n",
        "    for i, count in counter.items():\n",
        "        df.loc[i] = actual_probs[i], count\n",
        "    return df"
      ]
    },
    {
      "cell_type": "code",
      "execution_count": 51,
      "metadata": {
        "execution": {
          "iopub.execute_input": "2021-04-16T19:36:01.028250Z",
          "iopub.status.busy": "2021-04-16T19:36:01.026782Z",
          "iopub.status.idle": "2021-04-16T19:36:01.031917Z",
          "shell.execute_reply": "2021-04-16T19:36:01.029480Z"
        },
        "tags": [],
        "id": "rkM8nj_ix5an",
        "colab": {
          "base_uri": "https://localhost:8080/",
          "height": 175
        },
        "outputId": "59a534d3-3fe1-47ee-eae2-34e6665ddb29"
      },
      "outputs": [
        {
          "output_type": "execute_result",
          "data": {
            "text/plain": [
              "  Actual P(win) Times played\n",
              "0           0.1            7\n",
              "1           0.2           24\n",
              "2           0.3           39\n",
              "3           0.4           30"
            ],
            "text/html": [
              "\n",
              "  <div id=\"df-f244c5d9-1b14-4c1f-8c0c-bb2ad2e923d7\" class=\"colab-df-container\">\n",
              "    <div>\n",
              "<style scoped>\n",
              "    .dataframe tbody tr th:only-of-type {\n",
              "        vertical-align: middle;\n",
              "    }\n",
              "\n",
              "    .dataframe tbody tr th {\n",
              "        vertical-align: top;\n",
              "    }\n",
              "\n",
              "    .dataframe thead th {\n",
              "        text-align: right;\n",
              "    }\n",
              "</style>\n",
              "<table border=\"1\" class=\"dataframe\">\n",
              "  <thead>\n",
              "    <tr style=\"text-align: right;\">\n",
              "      <th></th>\n",
              "      <th>Actual P(win)</th>\n",
              "      <th>Times played</th>\n",
              "    </tr>\n",
              "  </thead>\n",
              "  <tbody>\n",
              "    <tr>\n",
              "      <th>0</th>\n",
              "      <td>0.1</td>\n",
              "      <td>7</td>\n",
              "    </tr>\n",
              "    <tr>\n",
              "      <th>1</th>\n",
              "      <td>0.2</td>\n",
              "      <td>24</td>\n",
              "    </tr>\n",
              "    <tr>\n",
              "      <th>2</th>\n",
              "      <td>0.3</td>\n",
              "      <td>39</td>\n",
              "    </tr>\n",
              "    <tr>\n",
              "      <th>3</th>\n",
              "      <td>0.4</td>\n",
              "      <td>30</td>\n",
              "    </tr>\n",
              "  </tbody>\n",
              "</table>\n",
              "</div>\n",
              "    <div class=\"colab-df-buttons\">\n",
              "\n",
              "  <div class=\"colab-df-container\">\n",
              "    <button class=\"colab-df-convert\" onclick=\"convertToInteractive('df-f244c5d9-1b14-4c1f-8c0c-bb2ad2e923d7')\"\n",
              "            title=\"Convert this dataframe to an interactive table.\"\n",
              "            style=\"display:none;\">\n",
              "\n",
              "  <svg xmlns=\"http://www.w3.org/2000/svg\" height=\"24px\" viewBox=\"0 -960 960 960\">\n",
              "    <path d=\"M120-120v-720h720v720H120Zm60-500h600v-160H180v160Zm220 220h160v-160H400v160Zm0 220h160v-160H400v160ZM180-400h160v-160H180v160Zm440 0h160v-160H620v160ZM180-180h160v-160H180v160Zm440 0h160v-160H620v160Z\"/>\n",
              "  </svg>\n",
              "    </button>\n",
              "\n",
              "  <style>\n",
              "    .colab-df-container {\n",
              "      display:flex;\n",
              "      gap: 12px;\n",
              "    }\n",
              "\n",
              "    .colab-df-convert {\n",
              "      background-color: #E8F0FE;\n",
              "      border: none;\n",
              "      border-radius: 50%;\n",
              "      cursor: pointer;\n",
              "      display: none;\n",
              "      fill: #1967D2;\n",
              "      height: 32px;\n",
              "      padding: 0 0 0 0;\n",
              "      width: 32px;\n",
              "    }\n",
              "\n",
              "    .colab-df-convert:hover {\n",
              "      background-color: #E2EBFA;\n",
              "      box-shadow: 0px 1px 2px rgba(60, 64, 67, 0.3), 0px 1px 3px 1px rgba(60, 64, 67, 0.15);\n",
              "      fill: #174EA6;\n",
              "    }\n",
              "\n",
              "    .colab-df-buttons div {\n",
              "      margin-bottom: 4px;\n",
              "    }\n",
              "\n",
              "    [theme=dark] .colab-df-convert {\n",
              "      background-color: #3B4455;\n",
              "      fill: #D2E3FC;\n",
              "    }\n",
              "\n",
              "    [theme=dark] .colab-df-convert:hover {\n",
              "      background-color: #434B5C;\n",
              "      box-shadow: 0px 1px 3px 1px rgba(0, 0, 0, 0.15);\n",
              "      filter: drop-shadow(0px 1px 2px rgba(0, 0, 0, 0.3));\n",
              "      fill: #FFFFFF;\n",
              "    }\n",
              "  </style>\n",
              "\n",
              "    <script>\n",
              "      const buttonEl =\n",
              "        document.querySelector('#df-f244c5d9-1b14-4c1f-8c0c-bb2ad2e923d7 button.colab-df-convert');\n",
              "      buttonEl.style.display =\n",
              "        google.colab.kernel.accessAllowed ? 'block' : 'none';\n",
              "\n",
              "      async function convertToInteractive(key) {\n",
              "        const element = document.querySelector('#df-f244c5d9-1b14-4c1f-8c0c-bb2ad2e923d7');\n",
              "        const dataTable =\n",
              "          await google.colab.kernel.invokeFunction('convertToInteractive',\n",
              "                                                    [key], {});\n",
              "        if (!dataTable) return;\n",
              "\n",
              "        const docLinkHtml = 'Like what you see? Visit the ' +\n",
              "          '<a target=\"_blank\" href=https://colab.research.google.com/notebooks/data_table.ipynb>data table notebook</a>'\n",
              "          + ' to learn more about interactive tables.';\n",
              "        element.innerHTML = '';\n",
              "        dataTable['output_type'] = 'display_data';\n",
              "        await google.colab.output.renderOutput(dataTable, element);\n",
              "        const docLink = document.createElement('div');\n",
              "        docLink.innerHTML = docLinkHtml;\n",
              "        element.appendChild(docLink);\n",
              "      }\n",
              "    </script>\n",
              "  </div>\n",
              "\n",
              "\n",
              "<div id=\"df-4b364057-f828-4980-b53f-a74d84ee432e\">\n",
              "  <button class=\"colab-df-quickchart\" onclick=\"quickchart('df-4b364057-f828-4980-b53f-a74d84ee432e')\"\n",
              "            title=\"Suggest charts\"\n",
              "            style=\"display:none;\">\n",
              "\n",
              "<svg xmlns=\"http://www.w3.org/2000/svg\" height=\"24px\"viewBox=\"0 0 24 24\"\n",
              "     width=\"24px\">\n",
              "    <g>\n",
              "        <path d=\"M19 3H5c-1.1 0-2 .9-2 2v14c0 1.1.9 2 2 2h14c1.1 0 2-.9 2-2V5c0-1.1-.9-2-2-2zM9 17H7v-7h2v7zm4 0h-2V7h2v10zm4 0h-2v-4h2v4z\"/>\n",
              "    </g>\n",
              "</svg>\n",
              "  </button>\n",
              "\n",
              "<style>\n",
              "  .colab-df-quickchart {\n",
              "      --bg-color: #E8F0FE;\n",
              "      --fill-color: #1967D2;\n",
              "      --hover-bg-color: #E2EBFA;\n",
              "      --hover-fill-color: #174EA6;\n",
              "      --disabled-fill-color: #AAA;\n",
              "      --disabled-bg-color: #DDD;\n",
              "  }\n",
              "\n",
              "  [theme=dark] .colab-df-quickchart {\n",
              "      --bg-color: #3B4455;\n",
              "      --fill-color: #D2E3FC;\n",
              "      --hover-bg-color: #434B5C;\n",
              "      --hover-fill-color: #FFFFFF;\n",
              "      --disabled-bg-color: #3B4455;\n",
              "      --disabled-fill-color: #666;\n",
              "  }\n",
              "\n",
              "  .colab-df-quickchart {\n",
              "    background-color: var(--bg-color);\n",
              "    border: none;\n",
              "    border-radius: 50%;\n",
              "    cursor: pointer;\n",
              "    display: none;\n",
              "    fill: var(--fill-color);\n",
              "    height: 32px;\n",
              "    padding: 0;\n",
              "    width: 32px;\n",
              "  }\n",
              "\n",
              "  .colab-df-quickchart:hover {\n",
              "    background-color: var(--hover-bg-color);\n",
              "    box-shadow: 0 1px 2px rgba(60, 64, 67, 0.3), 0 1px 3px 1px rgba(60, 64, 67, 0.15);\n",
              "    fill: var(--button-hover-fill-color);\n",
              "  }\n",
              "\n",
              "  .colab-df-quickchart-complete:disabled,\n",
              "  .colab-df-quickchart-complete:disabled:hover {\n",
              "    background-color: var(--disabled-bg-color);\n",
              "    fill: var(--disabled-fill-color);\n",
              "    box-shadow: none;\n",
              "  }\n",
              "\n",
              "  .colab-df-spinner {\n",
              "    border: 2px solid var(--fill-color);\n",
              "    border-color: transparent;\n",
              "    border-bottom-color: var(--fill-color);\n",
              "    animation:\n",
              "      spin 1s steps(1) infinite;\n",
              "  }\n",
              "\n",
              "  @keyframes spin {\n",
              "    0% {\n",
              "      border-color: transparent;\n",
              "      border-bottom-color: var(--fill-color);\n",
              "      border-left-color: var(--fill-color);\n",
              "    }\n",
              "    20% {\n",
              "      border-color: transparent;\n",
              "      border-left-color: var(--fill-color);\n",
              "      border-top-color: var(--fill-color);\n",
              "    }\n",
              "    30% {\n",
              "      border-color: transparent;\n",
              "      border-left-color: var(--fill-color);\n",
              "      border-top-color: var(--fill-color);\n",
              "      border-right-color: var(--fill-color);\n",
              "    }\n",
              "    40% {\n",
              "      border-color: transparent;\n",
              "      border-right-color: var(--fill-color);\n",
              "      border-top-color: var(--fill-color);\n",
              "    }\n",
              "    60% {\n",
              "      border-color: transparent;\n",
              "      border-right-color: var(--fill-color);\n",
              "    }\n",
              "    80% {\n",
              "      border-color: transparent;\n",
              "      border-right-color: var(--fill-color);\n",
              "      border-bottom-color: var(--fill-color);\n",
              "    }\n",
              "    90% {\n",
              "      border-color: transparent;\n",
              "      border-bottom-color: var(--fill-color);\n",
              "    }\n",
              "  }\n",
              "</style>\n",
              "\n",
              "  <script>\n",
              "    async function quickchart(key) {\n",
              "      const quickchartButtonEl =\n",
              "        document.querySelector('#' + key + ' button');\n",
              "      quickchartButtonEl.disabled = true;  // To prevent multiple clicks.\n",
              "      quickchartButtonEl.classList.add('colab-df-spinner');\n",
              "      try {\n",
              "        const charts = await google.colab.kernel.invokeFunction(\n",
              "            'suggestCharts', [key], {});\n",
              "      } catch (error) {\n",
              "        console.error('Error during call to suggestCharts:', error);\n",
              "      }\n",
              "      quickchartButtonEl.classList.remove('colab-df-spinner');\n",
              "      quickchartButtonEl.classList.add('colab-df-quickchart-complete');\n",
              "    }\n",
              "    (() => {\n",
              "      let quickchartButtonEl =\n",
              "        document.querySelector('#df-4b364057-f828-4980-b53f-a74d84ee432e button');\n",
              "      quickchartButtonEl.style.display =\n",
              "        google.colab.kernel.accessAllowed ? 'block' : 'none';\n",
              "    })();\n",
              "  </script>\n",
              "</div>\n",
              "\n",
              "    </div>\n",
              "  </div>\n"
            ],
            "application/vnd.google.colaboratory.intrinsic+json": {
              "type": "dataframe",
              "summary": "{\n  \"name\": \"summarize_counter(counter)\",\n  \"rows\": 4,\n  \"fields\": [\n    {\n      \"column\": \"Actual P(win)\",\n      \"properties\": {\n        \"dtype\": \"date\",\n        \"min\": 0.1,\n        \"max\": 0.4,\n        \"num_unique_values\": 4,\n        \"samples\": [\n          0.2,\n          0.4,\n          0.1\n        ],\n        \"semantic_type\": \"\",\n        \"description\": \"\"\n      }\n    },\n    {\n      \"column\": \"Times played\",\n      \"properties\": {\n        \"dtype\": \"date\",\n        \"min\": 7,\n        \"max\": 39,\n        \"num_unique_values\": 4,\n        \"samples\": [\n          24,\n          30,\n          7\n        ],\n        \"semantic_type\": \"\",\n        \"description\": \"\"\n      }\n    }\n  ]\n}"
            }
          },
          "metadata": {},
          "execution_count": 51
        }
      ],
      "source": [
        "summarize_counter(counter)"
      ]
    },
    {
      "cell_type": "markdown",
      "metadata": {
        "id": "druTyUPYx5an"
      },
      "source": [
        "If things go according to plan, the machines with higher probabilities should get played more often."
      ]
    },
    {
      "cell_type": "markdown",
      "metadata": {
        "id": "bmxT0my_x5an"
      },
      "source": [
        "## Summary\n",
        "\n",
        "In this chapter we finally solved the Euro problem, determining whether the data support the hypothesis that the coin is fair or biased.  We found that the answer depends on how we define \"biased\".  And we summarized the results using a Bayes factor, which quantifies the strength of the evidence.\n",
        "\n",
        "But the answer wasn't satisfying because, in my opinion, the question wasn't interesting.  Knowing whether the coin is biased is not useful unless it helps us make better predictions and better decisions.\n",
        "\n",
        "As an example of a more interesting question, we looked at the \"one-armed bandit\" problem and a strategy for solving it, the Bayesian bandit algorithm, which tries to balance exploration and exploitation, that is, gathering more information and making the best use of the information we have.\n",
        "\n",
        "As an exercise, you'll have a chance to explore adaptive strategies for standardized testing.\n",
        "\n",
        "Bayesian bandits and adaptive testing are examples of [Bayesian decision theory](https://wiki.lesswrong.com/wiki/Bayesian_decision_theory), which is the idea of using a posterior distribution as part of a decision-making process, often by choosing an action that minimizes the costs we expect on average (or maximizes a benefit).\n",
        "\n",
        "The strategy we used in <<_MaximizingExpectedGain>> to bid on *The Price is Right* is another example.\n",
        "\n",
        "These strategies demonstrate what I think is the biggest advantage of Bayesian methods over classical statistics.  When we represent knowledge in the form of probability distributions, Bayes's theorem tells us how to change our beliefs as we get more data, and Bayesian decision theory tells us how to make that knowledge actionable."
      ]
    },
    {
      "cell_type": "markdown",
      "metadata": {
        "id": "02cHZvL0x5an"
      },
      "source": [
        "## Exercises\n",
        "\n",
        "**Exercise:** Standardized tests like the [SAT](https://en.wikipedia.org/wiki/SAT) are often used as part of the admission process at colleges and universities.\n",
        "The goal of the SAT is to measure the academic preparation of the test-takers; if it is accurate, their scores should reflect their actual ability in the domain of the test.\n",
        "\n",
        "Until recently, tests like the SAT were taken with paper and pencil, but now students have the option of taking the test online.  In the online format, it is possible for the test to be \"adaptive\", which means that it can [choose each question based on responses to previous questions](https://www.nytimes.com/2018/04/05/education/learning/tests-act-sat.html).\n",
        "\n",
        "If a student gets the first few questions right, the test can challenge them with harder questions.  If they are struggling, it can give them easier questions.\n",
        "Adaptive testing has the potential to be more \"efficient\", meaning that with the same number of questions an adaptive test could measure the ability of a tester more precisely.\n",
        "\n",
        "To see whether this is true, we will develop a model of an adaptive test and quantify the precision of its measurements.\n",
        "\n",
        "Details of this exercise are in the notebook."
      ]
    },
    {
      "cell_type": "markdown",
      "metadata": {
        "tags": [],
        "id": "fS9Chepmx5ao"
      },
      "source": [
        "## The Model\n",
        "\n",
        "The model we'll use is based on [item response theory](https://en.wikipedia.org/wiki/Item_response_theory), which assumes that we can quantify the difficulty of each question and the ability of each test-taker, and that the probability of a correct response is a function of difficulty and ability.\n",
        "\n",
        "Specifically, a common assumption is that this function is a three-parameter logistic function:\n",
        "\n",
        "$$\\mathrm{p} = c + \\frac{1-c}{1 + e^{-a (\\theta-b)}}$$\n",
        "\n",
        "where $\\theta$ is the ability of the test-taker and $b$ is the difficulty of the question.\n",
        "\n",
        "$c$ is the lowest probability of getting a question right, supposing the test-taker with the lowest ability tries to answer the hardest question.  On a multiple-choice test with four responses, $c$ might be 0.25, which is the probability of getting the right answer by guessing at random.\n",
        "\n",
        "$a$ controls the shape of the curve.\n",
        "\n",
        "The following function computes the probability of a correct answer, given `ability` and `difficulty`:"
      ]
    },
    {
      "cell_type": "code",
      "execution_count": 52,
      "metadata": {
        "execution": {
          "iopub.execute_input": "2021-04-16T19:36:01.036525Z",
          "iopub.status.busy": "2021-04-16T19:36:01.035610Z",
          "iopub.status.idle": "2021-04-16T19:36:01.043010Z",
          "shell.execute_reply": "2021-04-16T19:36:01.042192Z"
        },
        "tags": [],
        "id": "NEorQcLux5ao"
      },
      "outputs": [],
      "source": [
        "def prob_correct(ability, difficulty):\n",
        "    \"\"\"Probability of a correct response.\"\"\"\n",
        "    a = 100\n",
        "    c = 0.25\n",
        "    x = (ability - difficulty) / a\n",
        "    p = c + (1-c) / (1 + np.exp(-x))\n",
        "    return p"
      ]
    },
    {
      "cell_type": "markdown",
      "metadata": {
        "tags": [],
        "id": "9MGY55rCx5ao"
      },
      "source": [
        "I chose `a` to make the range of scores comparable to the SAT, which reports scores from 200 to 800.\n",
        "\n",
        "Here's what the logistic curve looks like for a question with difficulty 500 and a range of abilities."
      ]
    },
    {
      "cell_type": "code",
      "execution_count": 53,
      "metadata": {
        "execution": {
          "iopub.execute_input": "2021-04-16T19:36:01.051026Z",
          "iopub.status.busy": "2021-04-16T19:36:01.049832Z",
          "iopub.status.idle": "2021-04-16T19:36:01.055461Z",
          "shell.execute_reply": "2021-04-16T19:36:01.054373Z"
        },
        "tags": [],
        "id": "FLrGMvU3x5ao"
      },
      "outputs": [],
      "source": [
        "abilities = np.linspace(100, 900)\n",
        "diff = 500\n",
        "ps = prob_correct(abilities, diff)"
      ]
    },
    {
      "cell_type": "code",
      "execution_count": 54,
      "metadata": {
        "execution": {
          "iopub.execute_input": "2021-04-16T19:36:01.065949Z",
          "iopub.status.busy": "2021-04-16T19:36:01.064663Z",
          "iopub.status.idle": "2021-04-16T19:36:01.256592Z",
          "shell.execute_reply": "2021-04-16T19:36:01.257891Z"
        },
        "tags": [],
        "id": "IUN0qmHax5az",
        "colab": {
          "base_uri": "https://localhost:8080/",
          "height": 487
        },
        "outputId": "4363d4df-112a-4701-d5d0-881b90e19775"
      },
      "outputs": [
        {
          "output_type": "display_data",
          "data": {
            "text/plain": [
              "<Figure size 640x480 with 1 Axes>"
            ],
            "image/png": "[encoded data removed]"
          },
          "metadata": {}
        }
      ],
      "source": [
        "plt.plot(abilities, ps)\n",
        "decorate(xlabel='Ability',\n",
        "         ylabel='Probability correct',\n",
        "         title='Probability of correct answer, difficulty=500',\n",
        "         ylim=[0, 1.05])"
      ]
    },
    {
      "cell_type": "markdown",
      "metadata": {
        "tags": [],
        "id": "0OMg7ePpx5az"
      },
      "source": [
        "Someone with `ability=900` is nearly certain to get the right answer.\n",
        "Someone with `ability=100` has about a 25% change of getting the right answer by guessing."
      ]
    },
    {
      "cell_type": "markdown",
      "metadata": {
        "tags": [],
        "id": "k3PSxwQhx5az"
      },
      "source": [
        "## Simulating the Test\n",
        "\n",
        "To simulate the test, we'll use the same structure we used for the bandit strategy:\n",
        "\n",
        "* A function called `play` that simulates a test-taker answering one question.\n",
        "\n",
        "* A function called `choose` that chooses the next question to pose.\n",
        "\n",
        "* A function called `update` that uses the outcome (a correct response or not) to update the estimate of the test-taker's ability.\n",
        "\n",
        "Here's `play`, which takes `ability` and `difficulty` as parameters."
      ]
    },
    {
      "cell_type": "code",
      "execution_count": 55,
      "metadata": {
        "execution": {
          "iopub.execute_input": "2021-04-16T19:36:01.265718Z",
          "iopub.status.busy": "2021-04-16T19:36:01.264868Z",
          "iopub.status.idle": "2021-04-16T19:36:01.267337Z",
          "shell.execute_reply": "2021-04-16T19:36:01.268087Z"
        },
        "tags": [],
        "id": "vx79fXzwx5az"
      },
      "outputs": [],
      "source": [
        "def play(ability, difficulty):\n",
        "    \"\"\"Simulate a test-taker answering a question.\"\"\"\n",
        "    p = prob_correct(ability, difficulty)\n",
        "    return np.random.random() < p"
      ]
    },
    {
      "cell_type": "markdown",
      "metadata": {
        "tags": [],
        "id": "o6ZAmaGmx5az"
      },
      "source": [
        "`play` uses `prob_correct` to compute the probability of a correct answer and `np.random.random` to generate a random value between 0 and 1.  The return value is `True` for a correct response and `False` otherwise.\n",
        "\n",
        "As a test, let's simulate a test-taker with `ability=600` answering a question with `difficulty=500`.  The probability of a correct response is about 80%."
      ]
    },
    {
      "cell_type": "code",
      "execution_count": 56,
      "metadata": {
        "execution": {
          "iopub.execute_input": "2021-04-16T19:36:01.276639Z",
          "iopub.status.busy": "2021-04-16T19:36:01.275174Z",
          "iopub.status.idle": "2021-04-16T19:36:01.278834Z",
          "shell.execute_reply": "2021-04-16T19:36:01.279603Z"
        },
        "tags": [],
        "id": "xvN3Sqmwx5a0",
        "colab": {
          "base_uri": "https://localhost:8080/"
        },
        "outputId": "52542ad0-c197-4d62-e31a-e74431846e2c"
      },
      "outputs": [
        {
          "output_type": "execute_result",
          "data": {
            "text/plain": [
              "0.7982939339725037"
            ]
          },
          "metadata": {},
          "execution_count": 56
        }
      ],
      "source": [
        "prob_correct(600, 500)"
      ]
    },
    {
      "cell_type": "markdown",
      "metadata": {
        "tags": [],
        "id": "Z_EXaW-wx5a0"
      },
      "source": [
        "Suppose this person takes a test with 51 questions, all with the same difficulty, `500`.\n",
        "We expect them to get about 80% of the questions correct.\n",
        "\n",
        "Here's the result of one simulation."
      ]
    },
    {
      "cell_type": "code",
      "execution_count": 57,
      "metadata": {
        "execution": {
          "iopub.execute_input": "2021-04-16T19:36:01.282857Z",
          "iopub.status.busy": "2021-04-16T19:36:01.282096Z",
          "iopub.status.idle": "2021-04-16T19:36:01.286226Z",
          "shell.execute_reply": "2021-04-16T19:36:01.287063Z"
        },
        "tags": [],
        "id": "ePBE1m10x5a0"
      },
      "outputs": [],
      "source": [
        "np.random.seed(18)"
      ]
    },
    {
      "cell_type": "code",
      "execution_count": 58,
      "metadata": {
        "execution": {
          "iopub.execute_input": "2021-04-16T19:36:01.291285Z",
          "iopub.status.busy": "2021-04-16T19:36:01.290391Z",
          "iopub.status.idle": "2021-04-16T19:36:01.298808Z",
          "shell.execute_reply": "2021-04-16T19:36:01.299584Z"
        },
        "tags": [],
        "id": "BYOLj3COx5a0",
        "colab": {
          "base_uri": "https://localhost:8080/"
        },
        "outputId": "9527a663-2d3c-454f-cb12-d3d3704306c6"
      },
      "outputs": [
        {
          "output_type": "execute_result",
          "data": {
            "text/plain": [
              "0.803921568627451"
            ]
          },
          "metadata": {},
          "execution_count": 58
        }
      ],
      "source": [
        "num_questions = 51\n",
        "outcomes = [play(600, 500) for _ in range(num_questions)]\n",
        "np.mean(outcomes)"
      ]
    },
    {
      "cell_type": "markdown",
      "metadata": {
        "tags": [],
        "id": "_zd4JSogx5a0"
      },
      "source": [
        "We expect them to get about 80% of the questions right.\n",
        "\n",
        "Now let's suppose we don't know the test-taker's ability.  We can use the data we just generated to estimate it.\n",
        "And that's what we'll do next."
      ]
    },
    {
      "cell_type": "markdown",
      "metadata": {
        "tags": [],
        "id": "Mao_awWjx5a0"
      },
      "source": [
        "## The Prior\n",
        "\n",
        "The SAT is designed so the distribution of scores is roughly normal, with mean 500 and standard deviation 100.\n",
        "So the lowest score, 200, is three standard deviations below the mean, and the highest score, 800, is three standard deviations above.\n",
        "\n",
        "We could use that distribution as a prior, but it would tend to cut off the low and high ends of the distribution.\n",
        "Instead, I'll inflate the standard deviation to 300, to leave open the possibility that `ability` can be less than 200 or more than 800.\n",
        "\n",
        "Here's a `Pmf` that represents the prior distribution."
      ]
    },
    {
      "cell_type": "code",
      "execution_count": 59,
      "metadata": {
        "execution": {
          "iopub.execute_input": "2021-04-16T19:36:01.306918Z",
          "iopub.status.busy": "2021-04-16T19:36:01.306067Z",
          "iopub.status.idle": "2021-04-16T19:36:01.319073Z",
          "shell.execute_reply": "2021-04-16T19:36:01.318203Z"
        },
        "tags": [],
        "id": "uVi2NzCQx5a0",
        "colab": {
          "base_uri": "https://localhost:8080/"
        },
        "outputId": "2b780f04-4e13-4aba-f55b-5af18a3fb264"
      },
      "outputs": [
        {
          "output_type": "execute_result",
          "data": {
            "text/plain": [
              "0.04464186995102338"
            ]
          },
          "metadata": {},
          "execution_count": 59
        }
      ],
      "source": [
        "from scipy.stats import norm\n",
        "\n",
        "mean = 500\n",
        "std = 300\n",
        "\n",
        "qs = np.linspace(0, 1000)\n",
        "ps = norm(mean, std).pdf(qs)\n",
        "\n",
        "prior = Pmf(ps, qs)\n",
        "prior.normalize()"
      ]
    },
    {
      "cell_type": "markdown",
      "metadata": {
        "tags": [],
        "id": "fAEQvrrJx5a0"
      },
      "source": [
        "And here's what it looks like."
      ]
    },
    {
      "cell_type": "code",
      "execution_count": 60,
      "metadata": {
        "execution": {
          "iopub.execute_input": "2021-04-16T19:36:01.327517Z",
          "iopub.status.busy": "2021-04-16T19:36:01.326687Z",
          "iopub.status.idle": "2021-04-16T19:36:01.602546Z",
          "shell.execute_reply": "2021-04-16T19:36:01.602989Z"
        },
        "tags": [],
        "id": "WOww9IAKx5a1",
        "colab": {
          "base_uri": "https://localhost:8080/",
          "height": 487
        },
        "outputId": "f2da5108-8780-431b-e1d9-8df81ebec709"
      },
      "outputs": [
        {
          "output_type": "display_data",
          "data": {
            "text/plain": [
              "<Figure size 640x480 with 1 Axes>"
            ],
            "image/png": "[encoded data removed]"
          },
          "metadata": {}
        }
      ],
      "source": [
        "prior.plot(label='std=300', color='C5')\n",
        "\n",
        "decorate(xlabel='Ability',\n",
        "         ylabel='PDF',\n",
        "         title='Prior distribution of ability',\n",
        "         ylim=[0, 0.032])"
      ]
    },
    {
      "cell_type": "markdown",
      "metadata": {
        "tags": [],
        "id": "D76UNgSHx5a1"
      },
      "source": [
        "## The Update\n",
        "\n",
        "The following function takes a prior `Pmf` and the outcome of a single question, and updates the `Pmf` in place."
      ]
    },
    {
      "cell_type": "code",
      "execution_count": 61,
      "metadata": {
        "execution": {
          "iopub.execute_input": "2021-04-16T19:36:01.607271Z",
          "iopub.status.busy": "2021-04-16T19:36:01.606844Z",
          "iopub.status.idle": "2021-04-16T19:36:01.608679Z",
          "shell.execute_reply": "2021-04-16T19:36:01.609044Z"
        },
        "tags": [],
        "id": "_njZkHKpx5a1"
      },
      "outputs": [],
      "source": [
        "def update_ability(pmf, data):\n",
        "    \"\"\"Update the distribution of ability.\"\"\"\n",
        "    difficulty, outcome = data\n",
        "\n",
        "    abilities = pmf.qs\n",
        "    ps = prob_correct(abilities, difficulty)\n",
        "\n",
        "    if outcome:\n",
        "        pmf *= ps\n",
        "    else:\n",
        "        pmf *= 1 - ps\n",
        "\n",
        "    pmf.normalize()"
      ]
    },
    {
      "cell_type": "markdown",
      "metadata": {
        "tags": [],
        "id": "YXjLu3_Lx5a1"
      },
      "source": [
        "`data` is a tuple that contains the difficulty of a question and the outcome: `True` if the response was correct and `False` otherwise.\n",
        "\n",
        "As a test, let's do an update based on the outcomes we simulated previously, based on a person with `ability=600` answering 51 questions with `difficulty=500`."
      ]
    },
    {
      "cell_type": "code",
      "execution_count": 62,
      "metadata": {
        "execution": {
          "iopub.execute_input": "2021-04-16T19:36:01.654214Z",
          "iopub.status.busy": "2021-04-16T19:36:01.653478Z",
          "iopub.status.idle": "2021-04-16T19:36:01.656020Z",
          "shell.execute_reply": "2021-04-16T19:36:01.655560Z"
        },
        "tags": [],
        "id": "HR2F8ebhx5a1"
      },
      "outputs": [],
      "source": [
        "actual_600 = prior.copy()\n",
        "\n",
        "for outcome in outcomes:\n",
        "    data = (500, outcome)\n",
        "    update_ability(actual_600, data)"
      ]
    },
    {
      "cell_type": "markdown",
      "metadata": {
        "tags": [],
        "id": "KPDzSjA-x5a1"
      },
      "source": [
        "Here's what the posterior distribution looks like."
      ]
    },
    {
      "cell_type": "code",
      "execution_count": 63,
      "metadata": {
        "execution": {
          "iopub.execute_input": "2021-04-16T19:36:01.678509Z",
          "iopub.status.busy": "2021-04-16T19:36:01.663304Z",
          "iopub.status.idle": "2021-04-16T19:36:01.832256Z",
          "shell.execute_reply": "2021-04-16T19:36:01.832886Z"
        },
        "tags": [],
        "id": "GVlMyc48x5a1",
        "colab": {
          "base_uri": "https://localhost:8080/",
          "height": 487
        },
        "outputId": "17142c36-8c2f-4c9d-df86-c2a991cced92"
      },
      "outputs": [
        {
          "output_type": "display_data",
          "data": {
            "text/plain": [
              "<Figure size 640x480 with 1 Axes>"
            ],
            "image/png": "[encoded data removed]"
          },
          "metadata": {}
        }
      ],
      "source": [
        "actual_600.plot(color='C4')\n",
        "\n",
        "decorate(xlabel='Ability',\n",
        "         ylabel='PDF',\n",
        "         title='Posterior distribution of ability')"
      ]
    },
    {
      "cell_type": "markdown",
      "metadata": {
        "tags": [],
        "id": "FaxKiO_Ex5a2"
      },
      "source": [
        "The posterior mean is pretty close to the test-taker's actual ability, which is 600."
      ]
    },
    {
      "cell_type": "code",
      "execution_count": 64,
      "metadata": {
        "execution": {
          "iopub.execute_input": "2021-04-16T19:36:01.838050Z",
          "iopub.status.busy": "2021-04-16T19:36:01.837246Z",
          "iopub.status.idle": "2021-04-16T19:36:01.840157Z",
          "shell.execute_reply": "2021-04-16T19:36:01.840790Z"
        },
        "tags": [],
        "id": "7pF9NBz_x5a2",
        "colab": {
          "base_uri": "https://localhost:8080/"
        },
        "outputId": "089bf603-622d-4ee5-bcec-62d35c898779"
      },
      "outputs": [
        {
          "output_type": "execute_result",
          "data": {
            "text/plain": [
              "604.3325737356816"
            ]
          },
          "metadata": {},
          "execution_count": 64
        }
      ],
      "source": [
        "actual_600.mean()"
      ]
    },
    {
      "cell_type": "markdown",
      "metadata": {
        "tags": [],
        "id": "MrHuSjaix5a2"
      },
      "source": [
        "If we run this simulation again, we'll get different results."
      ]
    },
    {
      "cell_type": "markdown",
      "metadata": {
        "tags": [],
        "id": "N68F32Qfx5a2"
      },
      "source": [
        "## Adaptation\n",
        "\n",
        "Now let's simulate an adaptive test.\n",
        "I'll use the following function to choose questions, starting with the simplest strategy: all questions have the same difficulty."
      ]
    },
    {
      "cell_type": "code",
      "execution_count": 65,
      "metadata": {
        "execution": {
          "iopub.execute_input": "2021-04-16T19:36:01.844976Z",
          "iopub.status.busy": "2021-04-16T19:36:01.844147Z",
          "iopub.status.idle": "2021-04-16T19:36:01.846868Z",
          "shell.execute_reply": "2021-04-16T19:36:01.846106Z"
        },
        "tags": [],
        "id": "11Hsw1qmx5a2"
      },
      "outputs": [],
      "source": [
        "def choose(i, belief):\n",
        "    \"\"\"Choose the difficulty of the next question.\"\"\"\n",
        "    return 500"
      ]
    },
    {
      "cell_type": "markdown",
      "metadata": {
        "tags": [],
        "id": "Jtv8to_Qx5a3"
      },
      "source": [
        "As parameters, `choose` takes `i`, which is the index of the question, and `belief`, which is a `Pmf` representing the posterior distribution of `ability`, based on responses to previous questions.\n",
        "\n",
        "This version of `choose` doesn't use these parameters; they are there so we can test other strategies (see the exercises at the end of the chapter).\n",
        "\n",
        "The following function simulates a person taking a test, given that we know their actual ability."
      ]
    },
    {
      "cell_type": "code",
      "execution_count": 66,
      "metadata": {
        "execution": {
          "iopub.execute_input": "2021-04-16T19:36:01.855382Z",
          "iopub.status.busy": "2021-04-16T19:36:01.854536Z",
          "iopub.status.idle": "2021-04-16T19:36:01.859080Z",
          "shell.execute_reply": "2021-04-16T19:36:01.859755Z"
        },
        "tags": [],
        "id": "4OjK38Ecx5a3"
      },
      "outputs": [],
      "source": [
        "def simulate_test(actual_ability):\n",
        "    \"\"\"Simulate a person taking a test.\"\"\"\n",
        "    belief = prior.copy()\n",
        "    trace = pd.DataFrame(columns=['difficulty', 'outcome'])\n",
        "\n",
        "    for i in range(num_questions):\n",
        "        difficulty = choose(i, belief)\n",
        "        outcome = play(actual_ability, difficulty)\n",
        "        data = (difficulty, outcome)\n",
        "        update_ability(belief, data)\n",
        "        trace.loc[i] = difficulty, outcome\n",
        "\n",
        "    return belief, trace"
      ]
    },
    {
      "cell_type": "markdown",
      "metadata": {
        "tags": [],
        "id": "fiCSrK7Hx5a3"
      },
      "source": [
        "The return values are a `Pmf` representing the posterior distribution of ability and a `DataFrame` containing the difficulty of the questions and the outcomes.\n",
        "\n",
        "Here's an example, again for a test-taker with `ability=600`."
      ]
    },
    {
      "cell_type": "code",
      "execution_count": 67,
      "metadata": {
        "execution": {
          "iopub.execute_input": "2021-04-16T19:36:02.065735Z",
          "iopub.status.busy": "2021-04-16T19:36:01.972864Z",
          "iopub.status.idle": "2021-04-16T19:36:02.073027Z",
          "shell.execute_reply": "2021-04-16T19:36:02.073660Z"
        },
        "tags": [],
        "id": "L3BGTKnox5a3"
      },
      "outputs": [],
      "source": [
        "belief, trace = simulate_test(600)"
      ]
    },
    {
      "cell_type": "markdown",
      "metadata": {
        "tags": [],
        "id": "1Nuq1vOQx5a3"
      },
      "source": [
        "We can use the trace to see how many responses were correct."
      ]
    },
    {
      "cell_type": "code",
      "execution_count": 68,
      "metadata": {
        "execution": {
          "iopub.execute_input": "2021-04-16T19:36:02.078607Z",
          "iopub.status.busy": "2021-04-16T19:36:02.077821Z",
          "iopub.status.idle": "2021-04-16T19:36:02.080643Z",
          "shell.execute_reply": "2021-04-16T19:36:02.081214Z"
        },
        "tags": [],
        "id": "8PwM2Ogsx5a4",
        "colab": {
          "base_uri": "https://localhost:8080/"
        },
        "outputId": "7bdbc085-7028-4dc7-a08c-48a4a6ff157e"
      },
      "outputs": [
        {
          "output_type": "execute_result",
          "data": {
            "text/plain": [
              "42"
            ]
          },
          "metadata": {},
          "execution_count": 68
        }
      ],
      "source": [
        "trace['outcome'].sum()"
      ]
    },
    {
      "cell_type": "markdown",
      "metadata": {
        "tags": [],
        "id": "UegoKw--x5a4"
      },
      "source": [
        "And here's what the posterior looks like."
      ]
    },
    {
      "cell_type": "code",
      "execution_count": 69,
      "metadata": {
        "execution": {
          "iopub.execute_input": "2021-04-16T19:36:02.102082Z",
          "iopub.status.busy": "2021-04-16T19:36:02.100560Z",
          "iopub.status.idle": "2021-04-16T19:36:02.262629Z",
          "shell.execute_reply": "2021-04-16T19:36:02.262216Z"
        },
        "tags": [],
        "id": "Ad2FPxLBx5a4",
        "colab": {
          "base_uri": "https://localhost:8080/",
          "height": 487
        },
        "outputId": "2f5f9ee9-9dd7-48a8-dcf3-f64aff1abccb"
      },
      "outputs": [
        {
          "output_type": "display_data",
          "data": {
            "text/plain": [
              "<Figure size 640x480 with 1 Axes>"
            ],
            "image/png": "[encoded data removed]"
          },
          "metadata": {}
        }
      ],
      "source": [
        "belief.plot(color='C4', label='ability=600')\n",
        "\n",
        "decorate(xlabel='Ability',\n",
        "         ylabel='PDF',\n",
        "         title='Posterior distribution of ability')"
      ]
    },
    {
      "cell_type": "markdown",
      "metadata": {
        "tags": [],
        "id": "B4o0O3pqx5a4"
      },
      "source": [
        "Again, the posterior distribution represents a pretty good estimate of the test-taker's actual ability."
      ]
    },
    {
      "cell_type": "markdown",
      "metadata": {
        "tags": [],
        "id": "p4UZKI6tx5a4"
      },
      "source": [
        "## Quantifying Precision\n",
        "\n",
        "To quantify the precision of the estimates, I'll use the standard deviation of the posterior distribution.  The standard deviation measures the spread of the distribution, so higher value indicates more uncertainty about the ability of the test-taker.\n",
        "\n",
        "In the previous example, the standard deviation of the posterior distribution is about 40."
      ]
    },
    {
      "cell_type": "code",
      "execution_count": 70,
      "metadata": {
        "execution": {
          "iopub.execute_input": "2021-04-16T19:36:02.267364Z",
          "iopub.status.busy": "2021-04-16T19:36:02.266590Z",
          "iopub.status.idle": "2021-04-16T19:36:02.270685Z",
          "shell.execute_reply": "2021-04-16T19:36:02.271080Z"
        },
        "tags": [],
        "id": "Q20znKxXx5a4",
        "colab": {
          "base_uri": "https://localhost:8080/"
        },
        "outputId": "860973ff-8665-42ee-a0cb-9ee56be08d71"
      },
      "outputs": [
        {
          "output_type": "execute_result",
          "data": {
            "text/plain": [
              "(618.6942050450824, 40.08554296596485)"
            ]
          },
          "metadata": {},
          "execution_count": 70
        }
      ],
      "source": [
        "belief.mean(), belief.std()"
      ]
    },
    {
      "cell_type": "markdown",
      "metadata": {
        "tags": [],
        "id": "Ww6FN4_Sx5a4"
      },
      "source": [
        "For an exam where all questions have the same difficulty, the precision of the estimate depends strongly on the ability of the test-taker.  To show that, I'll loop through a range of abilities and simulate a test using the version of `choice` that always returns `difficulty=500`."
      ]
    },
    {
      "cell_type": "code",
      "execution_count": 71,
      "metadata": {
        "execution": {
          "iopub.execute_input": "2021-04-16T19:36:02.629755Z",
          "iopub.status.busy": "2021-04-16T19:36:02.453372Z",
          "iopub.status.idle": "2021-04-16T19:36:11.198947Z",
          "shell.execute_reply": "2021-04-16T19:36:11.198539Z"
        },
        "tags": [],
        "id": "gmXBHZUZx5a5"
      },
      "outputs": [],
      "source": [
        "actual_abilities = np.linspace(200, 800)\n",
        "results = pd.DataFrame(columns=['ability', 'posterior_std'])\n",
        "series = pd.Series(index=actual_abilities, dtype=float, name='std')\n",
        "\n",
        "for actual_ability in actual_abilities:\n",
        "    belief, trace = simulate_test(actual_ability)\n",
        "    series[actual_ability] = belief.std()"
      ]
    },
    {
      "cell_type": "markdown",
      "metadata": {
        "tags": [],
        "id": "ARjZGuqjx5a5"
      },
      "source": [
        "The following plot shows the standard deviation of the posterior distribution for one simulation at each level of ability.\n",
        "\n",
        "The results are noisy, so I also plot a curve fitted to the data by [local regression](https://en.wikipedia.org/wiki/Local_regression)."
      ]
    },
    {
      "cell_type": "code",
      "execution_count": 72,
      "metadata": {
        "execution": {
          "iopub.execute_input": "2021-04-16T19:36:11.221079Z",
          "iopub.status.busy": "2021-04-16T19:36:11.215993Z",
          "iopub.status.idle": "2021-04-16T19:36:11.368244Z",
          "shell.execute_reply": "2021-04-16T19:36:11.367858Z"
        },
        "tags": [],
        "id": "kdrWhYMhx5a5",
        "colab": {
          "base_uri": "https://localhost:8080/",
          "height": 487
        },
        "outputId": "dbeb4e3d-7a2f-4138-ad71-bee06422bdab"
      },
      "outputs": [
        {
          "output_type": "display_data",
          "data": {
            "text/plain": [
              "<Figure size 640x480 with 1 Axes>"
            ],
            "image/png": "[encoded data removed]"
          },
          "metadata": {}
        }
      ],
      "source": [
        "from utils import plot_series_lowess\n",
        "\n",
        "plot_series_lowess(series, 'C1')\n",
        "\n",
        "decorate(xlabel='Actual ability',\n",
        "         ylabel='Standard deviation of posterior')"
      ]
    },
    {
      "cell_type": "markdown",
      "metadata": {
        "tags": [],
        "id": "2Um16ybzx5a5"
      },
      "source": [
        "The test is most precise for people with ability between `500` and `600`, less precise for people at the high end of the range, and even worse for people at the low end.\n",
        "\n",
        "When all the questions have difficulty `500`, a person with `ability=800` has a high probability of getting them right.  So when they do, we don't learn very much about them.\n",
        "\n",
        "If the test includes questions with a range of difficulty, it provides more information about people at the high and low ends of the range.\n",
        "\n",
        "As an exercise at the end of the chapter, you'll have a chance to try out other strategies, including adaptive strategies that choose each question based on previous outcomes."
      ]
    },
    {
      "cell_type": "markdown",
      "metadata": {
        "tags": [],
        "id": "gUlO74Cex5a5"
      },
      "source": [
        "## Discriminatory Power\n",
        "\n",
        "In the previous section we used the standard deviation of the posterior distribution to quantify the precision of the estimates.  Another way to describe the performance of the test (as opposed to the performance of the test-takers) is to measure \"discriminatory power\", which is the ability of the test to distinguish correctly between test-takers with different ability.\n",
        "\n",
        "To measure discriminatory power, I'll simulate a person taking the test 100 times; after each simulation, I'll use the mean of the posterior distribution as their \"score\"."
      ]
    },
    {
      "cell_type": "code",
      "execution_count": 95,
      "metadata": {
        "execution": {
          "iopub.execute_input": "2021-04-16T19:36:11.372059Z",
          "iopub.status.busy": "2021-04-16T19:36:11.371637Z",
          "iopub.status.idle": "2021-04-16T19:36:11.374597Z",
          "shell.execute_reply": "2021-04-16T19:36:11.374249Z"
        },
        "tags": [],
        "id": "Bq2AVjzjx5a5"
      },
      "outputs": [],
      "source": [
        "def sample_posterior(actual_ability, iters):\n",
        "    \"\"\"Simulate multiple tests and compute posterior means.\n",
        "\n",
        "    actual_ability: number\n",
        "    iters: number of simulated tests\n",
        "\n",
        "    returns: array of scores\n",
        "    \"\"\"\n",
        "    scores = []\n",
        "\n",
        "    for i in range(iters):\n",
        "        belief, trace = simulate_test(actual_ability)\n",
        "        score = belief.mean()\n",
        "        scores.append(score)\n",
        "\n",
        "    return np.array(scores)"
      ]
    },
    {
      "cell_type": "markdown",
      "metadata": {
        "tags": [],
        "id": "WFmiRiUMx5a5"
      },
      "source": [
        "Here are samples of scores for people with several levels of ability."
      ]
    },
    {
      "cell_type": "code",
      "execution_count": 74,
      "metadata": {
        "execution": {
          "iopub.execute_input": "2021-04-16T19:36:11.466656Z",
          "iopub.status.busy": "2021-04-16T19:36:11.457736Z",
          "iopub.status.idle": "2021-04-16T19:36:25.733528Z",
          "shell.execute_reply": "2021-04-16T19:36:25.733071Z"
        },
        "tags": [],
        "id": "KBzXDRBdx5a5"
      },
      "outputs": [],
      "source": [
        "sample_500 = sample_posterior(500, iters=100)"
      ]
    },
    {
      "cell_type": "code",
      "execution_count": 75,
      "metadata": {
        "execution": {
          "iopub.execute_input": "2021-04-16T19:36:25.831461Z",
          "iopub.status.busy": "2021-04-16T19:36:25.740146Z",
          "iopub.status.idle": "2021-04-16T19:36:40.662218Z",
          "shell.execute_reply": "2021-04-16T19:36:40.661661Z"
        },
        "tags": [],
        "id": "J0qLdz0-x5a6"
      },
      "outputs": [],
      "source": [
        "sample_600 = sample_posterior(600, iters=100)"
      ]
    },
    {
      "cell_type": "code",
      "execution_count": 76,
      "metadata": {
        "execution": {
          "iopub.execute_input": "2021-04-16T19:36:40.901415Z",
          "iopub.status.busy": "2021-04-16T19:36:40.815282Z",
          "iopub.status.idle": "2021-04-16T19:36:55.401985Z",
          "shell.execute_reply": "2021-04-16T19:36:55.401400Z"
        },
        "tags": [],
        "id": "gqYuD748x5a6"
      },
      "outputs": [],
      "source": [
        "sample_700 = sample_posterior(700, iters=100)"
      ]
    },
    {
      "cell_type": "code",
      "execution_count": 77,
      "metadata": {
        "execution": {
          "iopub.execute_input": "2021-04-16T19:36:55.608897Z",
          "iopub.status.busy": "2021-04-16T19:36:55.579517Z",
          "iopub.status.idle": "2021-04-16T19:37:09.906444Z",
          "shell.execute_reply": "2021-04-16T19:37:09.905877Z"
        },
        "tags": [],
        "id": "FLxhAj9Fx5a6"
      },
      "outputs": [],
      "source": [
        "sample_800 = sample_posterior(800, iters=100)"
      ]
    },
    {
      "cell_type": "markdown",
      "metadata": {
        "tags": [],
        "id": "8qiQtxaXx5a6"
      },
      "source": [
        "Here's what the distributions of scores look like."
      ]
    },
    {
      "cell_type": "code",
      "execution_count": 78,
      "metadata": {
        "execution": {
          "iopub.execute_input": "2021-04-16T19:37:09.914937Z",
          "iopub.status.busy": "2021-04-16T19:37:09.914449Z",
          "iopub.status.idle": "2021-04-16T19:37:09.916439Z",
          "shell.execute_reply": "2021-04-16T19:37:09.916075Z"
        },
        "tags": [],
        "id": "XMqEtk93x5a6"
      },
      "outputs": [],
      "source": [
        "from empiricaldist import Cdf\n",
        "\n",
        "cdf_500 = Cdf.from_seq(sample_500)\n",
        "cdf_600 = Cdf.from_seq(sample_600)\n",
        "cdf_700 = Cdf.from_seq(sample_700)\n",
        "cdf_800 = Cdf.from_seq(sample_800)"
      ]
    },
    {
      "cell_type": "code",
      "execution_count": 79,
      "metadata": {
        "execution": {
          "iopub.execute_input": "2021-04-16T19:37:09.950414Z",
          "iopub.status.busy": "2021-04-16T19:37:09.932705Z",
          "iopub.status.idle": "2021-04-16T19:37:10.124621Z",
          "shell.execute_reply": "2021-04-16T19:37:10.124994Z"
        },
        "tags": [],
        "id": "3lDEd_NPx5a6",
        "colab": {
          "base_uri": "https://localhost:8080/",
          "height": 487
        },
        "outputId": "e1eff034-3809-46d0-c1cc-c14379289b15"
      },
      "outputs": [
        {
          "output_type": "display_data",
          "data": {
            "text/plain": [
              "<Figure size 640x480 with 1 Axes>"
            ],
            "image/png": "[encoded data removed]"
          },
          "metadata": {}
        }
      ],
      "source": [
        "cdf_500.plot(label='ability=500', color='C1',\n",
        "            linestyle='dashed')\n",
        "cdf_600.plot(label='ability=600', color='C3')\n",
        "cdf_700.plot(label='ability=700', color='C2',\n",
        "            linestyle='dashed')\n",
        "cdf_800.plot(label='ability=800', color='C0')\n",
        "\n",
        "decorate(xlabel='Test score',\n",
        "         ylabel='CDF',\n",
        "         title='Sampling distribution of test scores')"
      ]
    },
    {
      "cell_type": "markdown",
      "metadata": {
        "tags": [],
        "id": "n-kPJjFhx5a6"
      },
      "source": [
        "On average, people with higher ability get higher scores, but anyone can have a bad day, or a good day, so there is some overlap between the distributions.\n",
        "\n",
        "For people with ability between `500` and `600`, where the precision of the test is highest, the discriminatory power of the test is also high.\n",
        "\n",
        "If people with abilities `500` and `600` take the test, it is almost certain that the person with higher ability will get a higher score."
      ]
    },
    {
      "cell_type": "code",
      "execution_count": 80,
      "metadata": {
        "execution": {
          "iopub.execute_input": "2021-04-16T19:37:10.128844Z",
          "iopub.status.busy": "2021-04-16T19:37:10.128345Z",
          "iopub.status.idle": "2021-04-16T19:37:10.130952Z",
          "shell.execute_reply": "2021-04-16T19:37:10.130569Z"
        },
        "tags": [],
        "id": "MBtAqiWLx5a7",
        "colab": {
          "base_uri": "https://localhost:8080/"
        },
        "outputId": "14a9dbad-d03c-4e65-eece-809919f4f4c0"
      },
      "outputs": [
        {
          "output_type": "execute_result",
          "data": {
            "text/plain": [
              "0.98"
            ]
          },
          "metadata": {},
          "execution_count": 80
        }
      ],
      "source": [
        "np.mean(sample_600 > sample_500)"
      ]
    },
    {
      "cell_type": "markdown",
      "metadata": {
        "tags": [],
        "id": "2rtPj273x5a7"
      },
      "source": [
        "Between people with abilities `600` and `700`, it is less certain."
      ]
    },
    {
      "cell_type": "code",
      "execution_count": 81,
      "metadata": {
        "execution": {
          "iopub.execute_input": "2021-04-16T19:37:10.134774Z",
          "iopub.status.busy": "2021-04-16T19:37:10.134201Z",
          "iopub.status.idle": "2021-04-16T19:37:10.136839Z",
          "shell.execute_reply": "2021-04-16T19:37:10.137320Z"
        },
        "tags": [],
        "id": "gEj4Tobtx5a7",
        "colab": {
          "base_uri": "https://localhost:8080/"
        },
        "outputId": "e863a5ca-0d1a-419f-9d98-fd06d1e1d8b7"
      },
      "outputs": [
        {
          "output_type": "execute_result",
          "data": {
            "text/plain": [
              "0.95"
            ]
          },
          "metadata": {},
          "execution_count": 81
        }
      ],
      "source": [
        "np.mean(sample_700 > sample_600)"
      ]
    },
    {
      "cell_type": "markdown",
      "metadata": {
        "tags": [],
        "id": "sodmQXHAx5a7"
      },
      "source": [
        "And between people with abilities `700` and `800`, it is not certain at all."
      ]
    },
    {
      "cell_type": "code",
      "execution_count": 82,
      "metadata": {
        "execution": {
          "iopub.execute_input": "2021-04-16T19:37:10.141908Z",
          "iopub.status.busy": "2021-04-16T19:37:10.141293Z",
          "iopub.status.idle": "2021-04-16T19:37:10.144428Z",
          "shell.execute_reply": "2021-04-16T19:37:10.143952Z"
        },
        "tags": [],
        "id": "WehrDsohx5a7",
        "colab": {
          "base_uri": "https://localhost:8080/"
        },
        "outputId": "c88c7342-82b5-46c8-eb6e-3934eca13f6a"
      },
      "outputs": [
        {
          "output_type": "execute_result",
          "data": {
            "text/plain": [
              "0.85"
            ]
          },
          "metadata": {},
          "execution_count": 82
        }
      ],
      "source": [
        "np.mean(sample_800 > sample_700)"
      ]
    },
    {
      "cell_type": "markdown",
      "metadata": {
        "tags": [],
        "id": "T-E4S2_Bx5a7"
      },
      "source": [
        "But remember that these results are based on a test where all questions are equally difficult.\n",
        "If you do the exercises at the end of the chapter, you'll see that the performance of the test is better if it includes questions with a range of difficulties, and even better if the test it is adaptive."
      ]
    },
    {
      "cell_type": "markdown",
      "metadata": {
        "tags": [],
        "id": "6ysjUYSpx5a7"
      },
      "source": [
        " Go back and modify `choose`, which is the function that chooses the difficulty of the next question.\n",
        "\n",
        "1. Write a version of `choose` that returns a range of difficulties by using `i` as an index into a sequence of difficulties.\n",
        "\n",
        "2. Write a version of `choose` that is adaptive, so it choose the difficulty of the next question based `belief`, which is the posterior distribution of the test-taker's ability, based on the outcome of previous responses.\n",
        "\n",
        "For both new versions, run the simulations again to quantify the precision of the test and its discriminatory power.\n",
        "\n",
        "For the first version of `choose`, what is the ideal distribution of difficulties?\n",
        "\n",
        "For the second version, what is the adaptive strategy that maximizes the precision of the test over the range of abilities?"
      ]
    },
    {
      "cell_type": "markdown",
      "source": [
        "1. Write a version of `choose` that returns a range of difficulties by using `i` as an index into a sequence of difficulties."
      ],
      "metadata": {
        "id": "2vd7m2RYrMbA"
      }
    },
    {
      "cell_type": "code",
      "execution_count": 85,
      "metadata": {
        "execution": {
          "iopub.execute_input": "2021-04-16T19:37:10.149351Z",
          "iopub.status.busy": "2021-04-16T19:37:10.148492Z",
          "iopub.status.idle": "2021-04-16T19:37:10.150584Z",
          "shell.execute_reply": "2021-04-16T19:37:10.151025Z"
        },
        "id": "2GQXyY9Sx5a7"
      },
      "outputs": [],
      "source": [
        "num_questions = 51\n",
        "difficulties = np.linspace(200, 800, num_questions)\n",
        "\n",
        "def choose(i, belief):\n",
        "    return difficulties[i]"
      ]
    },
    {
      "cell_type": "code",
      "source": [
        "belief, trace = simulate_test(600)"
      ],
      "metadata": {
        "id": "3JIJPr66rlav"
      },
      "execution_count": 86,
      "outputs": []
    },
    {
      "cell_type": "code",
      "source": [
        "# how many responses were correct\n",
        "\n",
        "trace['outcome'].sum()"
      ],
      "metadata": {
        "colab": {
          "base_uri": "https://localhost:8080/"
        },
        "id": "d25woe9Kr1s2",
        "outputId": "a64332fe-100f-4cad-9872-386f42aa24ab"
      },
      "execution_count": 87,
      "outputs": [
        {
          "output_type": "execute_result",
          "data": {
            "text/plain": [
              "37"
            ]
          },
          "metadata": {},
          "execution_count": 87
        }
      ]
    },
    {
      "cell_type": "code",
      "source": [
        "belief.plot(color='C4', label='ability=600')\n",
        "\n",
        "decorate(xlabel='Ability',\n",
        "         ylabel='PDF',\n",
        "         title='Posterior distribution of ability')"
      ],
      "metadata": {
        "colab": {
          "base_uri": "https://localhost:8080/",
          "height": 487
        },
        "id": "bcNz_A-xr9fk",
        "outputId": "2f97160f-b83e-4e7d-a709-db0ce33519bf"
      },
      "execution_count": 88,
      "outputs": [
        {
          "output_type": "display_data",
          "data": {
            "text/plain": [
              "<Figure size 640x480 with 1 Axes>"
            ],
            "image/png": "[encoded data removed]"
          },
          "metadata": {}
        }
      ]
    },
    {
      "cell_type": "code",
      "source": [
        "# calculating precision\n",
        "\n",
        "belief.mean(), belief.std()"
      ],
      "metadata": {
        "colab": {
          "base_uri": "https://localhost:8080/"
        },
        "id": "oYIQ4ob_sNb_",
        "outputId": "b289b343-aba9-443c-dc33-e21534051863"
      },
      "execution_count": 89,
      "outputs": [
        {
          "output_type": "execute_result",
          "data": {
            "text/plain": [
              "(593.3325517611821, 47.85442553562367)"
            ]
          },
          "metadata": {},
          "execution_count": 89
        }
      ]
    },
    {
      "cell_type": "code",
      "source": [
        "actual_abilities = np.linspace(200, 800)\n",
        "results = pd.DataFrame(columns=['ability', 'posterior_std'])\n",
        "series = pd.Series(index=actual_abilities, dtype=float, name='std')\n",
        "\n",
        "for actual_ability in actual_abilities:\n",
        "    belief, trace = simulate_test(actual_ability)\n",
        "    series[actual_ability] = belief.std()"
      ],
      "metadata": {
        "id": "FTo7UpDpsW--"
      },
      "execution_count": 90,
      "outputs": []
    },
    {
      "cell_type": "code",
      "source": [
        "from utils import plot_series_lowess\n",
        "\n",
        "plot_series_lowess(series, 'C1')\n",
        "\n",
        "decorate(xlabel='Actual ability',\n",
        "         ylabel='Standard deviation of posterior')"
      ],
      "metadata": {
        "colab": {
          "base_uri": "https://localhost:8080/",
          "height": 487
        },
        "id": "HnEgHId1shLH",
        "outputId": "73eba3ef-3667-4f14-b434-6a99bdfc7009"
      },
      "execution_count": 91,
      "outputs": [
        {
          "output_type": "display_data",
          "data": {
            "text/plain": [
              "<Figure size 640x480 with 1 Axes>"
            ],
            "image/png": "[encoded data removed]"
          },
          "metadata": {}
        }
      ]
    },
    {
      "cell_type": "code",
      "execution_count": 96,
      "metadata": {
        "execution": {
          "iopub.execute_input": "2021-04-16T19:36:11.466656Z",
          "iopub.status.busy": "2021-04-16T19:36:11.457736Z",
          "iopub.status.idle": "2021-04-16T19:36:25.733528Z",
          "shell.execute_reply": "2021-04-16T19:36:25.733071Z"
        },
        "tags": [],
        "id": "ldAOWFrWsvg5"
      },
      "outputs": [],
      "source": [
        "# Discriminatory Power\n",
        "\n",
        "sample_500 = sample_posterior(500, iters=100)\n",
        "sample_600 = sample_posterior(600, iters=100)\n",
        "sample_700 = sample_posterior(700, iters=100)\n",
        "sample_800 = sample_posterior(800, iters=100)\n",
        "\n",
        "from empiricaldist import Cdf\n",
        "\n",
        "cdf_500 = Cdf.from_seq(sample_500)\n",
        "cdf_600 = Cdf.from_seq(sample_600)\n",
        "cdf_700 = Cdf.from_seq(sample_700)\n",
        "cdf_800 = Cdf.from_seq(sample_800)"
      ]
    },
    {
      "cell_type": "code",
      "source": [
        "np.mean(sample_600 > sample_500)"
      ],
      "metadata": {
        "colab": {
          "base_uri": "https://localhost:8080/"
        },
        "id": "Tmc7MIjms94N",
        "outputId": "9ddd020e-4a73-401e-bd5c-be98c59cd0e2"
      },
      "execution_count": 100,
      "outputs": [
        {
          "output_type": "execute_result",
          "data": {
            "text/plain": [
              "0.98"
            ]
          },
          "metadata": {},
          "execution_count": 100
        }
      ]
    },
    {
      "cell_type": "code",
      "source": [
        "np.mean(sample_700 > sample_600)"
      ],
      "metadata": {
        "colab": {
          "base_uri": "https://localhost:8080/"
        },
        "id": "XeE8GIxEs_sX",
        "outputId": "487bdd0d-5c7e-4ea7-a6a1-068497d6679d"
      },
      "execution_count": 101,
      "outputs": [
        {
          "output_type": "execute_result",
          "data": {
            "text/plain": [
              "0.95"
            ]
          },
          "metadata": {},
          "execution_count": 101
        }
      ]
    },
    {
      "cell_type": "code",
      "source": [
        "np.mean(sample_800 > sample_700)"
      ],
      "metadata": {
        "colab": {
          "base_uri": "https://localhost:8080/"
        },
        "id": "qntFKXmZtF6u",
        "outputId": "5347f75f-5cb8-4ac2-8e55-2fdb55b35466"
      },
      "execution_count": 102,
      "outputs": [
        {
          "output_type": "execute_result",
          "data": {
            "text/plain": [
              "0.87"
            ]
          },
          "metadata": {},
          "execution_count": 102
        }
      ]
    },
    {
      "cell_type": "markdown",
      "source": [],
      "metadata": {
        "id": "QrR1k9w4r1d2"
      }
    },
    {
      "cell_type": "markdown",
      "source": [
        "2. Write a version of `choose` that is adaptive, so it choose the difficulty of the next question based `belief`, which is the posterior distribution of the test-taker's ability, based on the outcome of previous responses."
      ],
      "metadata": {
        "id": "5NPC_J-XrQeR"
      }
    },
    {
      "cell_type": "code",
      "execution_count": 104,
      "metadata": {
        "execution": {
          "iopub.execute_input": "2021-04-16T19:37:10.154839Z",
          "iopub.status.busy": "2021-04-16T19:37:10.154301Z",
          "iopub.status.idle": "2021-04-16T19:37:10.157011Z",
          "shell.execute_reply": "2021-04-16T19:37:10.156470Z"
        },
        "id": "iubN9Dugx5a8"
      },
      "outputs": [],
      "source": [
        "def choose(i, belief):\n",
        "    return belief.mean()"
      ]
    },
    {
      "cell_type": "code",
      "source": [
        "belief, trace = simulate_test(600)"
      ],
      "metadata": {
        "id": "LdsGTMxjt7L2"
      },
      "execution_count": 105,
      "outputs": []
    },
    {
      "cell_type": "code",
      "source": [
        "# how many responses were correct\n",
        "\n",
        "trace['outcome'].sum()"
      ],
      "metadata": {
        "colab": {
          "base_uri": "https://localhost:8080/"
        },
        "id": "_Ahh0hdjt-PT",
        "outputId": "fe394437-eafe-447e-fac5-0226d13117ad"
      },
      "execution_count": 106,
      "outputs": [
        {
          "output_type": "execute_result",
          "data": {
            "text/plain": [
              "31"
            ]
          },
          "metadata": {},
          "execution_count": 106
        }
      ]
    },
    {
      "cell_type": "code",
      "source": [
        "belief.plot(color='C4', label='ability=600')\n",
        "\n",
        "decorate(xlabel='Ability',\n",
        "         ylabel='PDF',\n",
        "         title='Posterior distribution of ability')"
      ],
      "metadata": {
        "colab": {
          "base_uri": "https://localhost:8080/",
          "height": 487
        },
        "id": "zWYNoZKyuE87",
        "outputId": "11e06429-6a1d-4d0c-f00f-84d8b8049ce1"
      },
      "execution_count": 107,
      "outputs": [
        {
          "output_type": "display_data",
          "data": {
            "text/plain": [
              "<Figure size 640x480 with 1 Axes>"
            ],
            "image/png": "[encoded data removed]"
          },
          "metadata": {}
        }
      ]
    },
    {
      "cell_type": "code",
      "source": [
        "# calculating precision\n",
        "\n",
        "belief.mean(), belief.std()"
      ],
      "metadata": {
        "colab": {
          "base_uri": "https://localhost:8080/"
        },
        "id": "0nxTrCAouHW5",
        "outputId": "d3732f47-f54d-405e-cc3d-d056f6048661"
      },
      "execution_count": 108,
      "outputs": [
        {
          "output_type": "execute_result",
          "data": {
            "text/plain": [
              "(575.9629872450513, 38.38622101207645)"
            ]
          },
          "metadata": {},
          "execution_count": 108
        }
      ]
    },
    {
      "cell_type": "code",
      "source": [
        "actual_abilities = np.linspace(200, 800)\n",
        "results = pd.DataFrame(columns=['ability', 'posterior_std'])\n",
        "series = pd.Series(index=actual_abilities, dtype=float, name='std')\n",
        "\n",
        "for actual_ability in actual_abilities:\n",
        "    belief, trace = simulate_test(actual_ability)\n",
        "    series[actual_ability] = belief.std()"
      ],
      "metadata": {
        "id": "JLxuWZLmuJBG"
      },
      "execution_count": 109,
      "outputs": []
    },
    {
      "cell_type": "code",
      "source": [
        "from utils import plot_series_lowess\n",
        "\n",
        "plot_series_lowess(series, 'C1')\n",
        "\n",
        "decorate(xlabel='Actual ability',\n",
        "         ylabel='Standard deviation of posterior')"
      ],
      "metadata": {
        "colab": {
          "base_uri": "https://localhost:8080/",
          "height": 487
        },
        "id": "brmS9wviuKtu",
        "outputId": "44a287ad-a664-4531-d993-53a85f9e9bc6"
      },
      "execution_count": 110,
      "outputs": [
        {
          "output_type": "display_data",
          "data": {
            "text/plain": [
              "<Figure size 640x480 with 1 Axes>"
            ],
            "image/png": "[encoded data removed]"
          },
          "metadata": {}
        }
      ]
    },
    {
      "cell_type": "code",
      "source": [
        "# Discriminatory Power\n",
        "\n",
        "sample_500 = sample_posterior(500, iters=100)\n",
        "sample_600 = sample_posterior(600, iters=100)\n",
        "sample_700 = sample_posterior(700, iters=100)\n",
        "sample_800 = sample_posterior(800, iters=100)\n",
        "\n",
        "from empiricaldist import Cdf\n",
        "\n",
        "cdf_500 = Cdf.from_seq(sample_500)\n",
        "cdf_600 = Cdf.from_seq(sample_600)\n",
        "cdf_700 = Cdf.from_seq(sample_700)\n",
        "cdf_800 = Cdf.from_seq(sample_800)"
      ],
      "metadata": {
        "id": "Zz-bdua6uNqi"
      },
      "execution_count": 111,
      "outputs": []
    },
    {
      "cell_type": "code",
      "source": [
        "np.mean(sample_600 > sample_500)"
      ],
      "metadata": {
        "colab": {
          "base_uri": "https://localhost:8080/"
        },
        "id": "a6Qa5nwLuPWf",
        "outputId": "2555b215-fdec-4138-a366-c03f5c068009"
      },
      "execution_count": 112,
      "outputs": [
        {
          "output_type": "execute_result",
          "data": {
            "text/plain": [
              "0.96"
            ]
          },
          "metadata": {},
          "execution_count": 112
        }
      ]
    },
    {
      "cell_type": "code",
      "source": [
        "np.mean(sample_700 > sample_600)"
      ],
      "metadata": {
        "colab": {
          "base_uri": "https://localhost:8080/"
        },
        "id": "fg-mLyIruPuS",
        "outputId": "eeb54693-da02-4033-bd11-4bf7cfce2813"
      },
      "execution_count": 113,
      "outputs": [
        {
          "output_type": "execute_result",
          "data": {
            "text/plain": [
              "0.98"
            ]
          },
          "metadata": {},
          "execution_count": 113
        }
      ]
    },
    {
      "cell_type": "code",
      "source": [
        "np.mean(sample_800 > sample_700)"
      ],
      "metadata": {
        "colab": {
          "base_uri": "https://localhost:8080/"
        },
        "id": "5pAlBOM_uSZj",
        "outputId": "2f94f3fc-29f4-46d7-8158-a84d2e89a62e"
      },
      "execution_count": 114,
      "outputs": [
        {
          "output_type": "execute_result",
          "data": {
            "text/plain": [
              "0.98"
            ]
          },
          "metadata": {},
          "execution_count": 114
        }
      ]
    }
  ],
  "metadata": {
    "celltoolbar": "Tags",
    "kernelspec": {
      "display_name": "Python 3 (ipykernel)",
      "language": "python",
      "name": "python3"
    },
    "language_info": {
      "codemirror_mode": {
        "name": "ipython",
        "version": 3
      },
      "file_extension": ".py",
      "mimetype": "text/x-python",
      "name": "python",
      "nbconvert_exporter": "python",
      "pygments_lexer": "ipython3",
      "version": "3.9.7"
    },
    "colab": {
      "provenance": []
    }
  },
  "nbformat": 4,
  "nbformat_minor": 0
}