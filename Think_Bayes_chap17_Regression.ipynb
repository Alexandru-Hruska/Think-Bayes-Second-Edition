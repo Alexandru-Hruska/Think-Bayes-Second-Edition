{
  "cells": [
    {
      "cell_type": "markdown",
      "metadata": {
        "id": "Y4i8E7FjDILz"
      },
      "source": [
        "# Regression"
      ]
    },
    {
      "cell_type": "markdown",
      "metadata": {
        "tags": [],
        "id": "b8y0pWYLDIL1"
      },
      "source": [
        "Think Bayes, Second Edition\n",
        "\n",
        "Copyright 2020 Allen B. Downey\n",
        "\n",
        "License: [Attribution-NonCommercial-ShareAlike 4.0 International (CC BY-NC-SA 4.0)](https://creativecommons.org/licenses/by-nc-sa/4.0/)"
      ]
    },
    {
      "cell_type": "code",
      "execution_count": 1,
      "metadata": {
        "execution": {
          "iopub.execute_input": "2021-04-16T19:38:43.792591Z",
          "iopub.status.busy": "2021-04-16T19:38:43.792140Z",
          "iopub.status.idle": "2021-04-16T19:38:43.794041Z",
          "shell.execute_reply": "2021-04-16T19:38:43.794390Z"
        },
        "tags": [],
        "id": "aQ004aLIDIL1",
        "colab": {
          "base_uri": "https://localhost:8080/"
        },
        "outputId": "c873a11f-9da3-446c-b2ff-628fefb8ad86"
      },
      "outputs": [
        {
          "output_type": "stream",
          "name": "stdout",
          "text": [
            "Collecting empiricaldist\n",
            "  Downloading empiricaldist-0.7.2.tar.gz (12 kB)\n",
            "  Installing build dependencies ... \u001b[?25l\u001b[?25hdone\n",
            "  Getting requirements to build wheel ... \u001b[?25l\u001b[?25hdone\n",
            "  Preparing metadata (pyproject.toml) ... \u001b[?25l\u001b[?25hdone\n",
            "Building wheels for collected packages: empiricaldist\n",
            "  Building wheel for empiricaldist (pyproject.toml) ... \u001b[?25l\u001b[?25hdone\n",
            "  Created wheel for empiricaldist: filename=empiricaldist-0.7.2-py3-none-any.whl size=12205 sha256=8afeb81a31e07e1796ac376f7f2a151a30e03b566d13a3476801c29c9206a1b5\n",
            "  Stored in directory: /root/.cache/pip/wheels/e9/57/8a/15b864f4d5dc20cef626e3a015fec88b19df385ef30a8364cc\n",
            "Successfully built empiricaldist\n",
            "Installing collected packages: empiricaldist\n",
            "Successfully installed empiricaldist-0.7.2\n"
          ]
        }
      ],
      "source": [
        "# If we're running on Colab, install empiricaldist\n",
        "# https://pypi.org/project/empiricaldist/\n",
        "\n",
        "import sys\n",
        "IN_COLAB = 'google.colab' in sys.modules\n",
        "\n",
        "if IN_COLAB:\n",
        "    !pip install empiricaldist"
      ]
    },
    {
      "cell_type": "code",
      "execution_count": 2,
      "metadata": {
        "execution": {
          "iopub.execute_input": "2021-04-16T19:38:43.798000Z",
          "iopub.status.busy": "2021-04-16T19:38:43.797535Z",
          "iopub.status.idle": "2021-04-16T19:38:43.800051Z",
          "shell.execute_reply": "2021-04-16T19:38:43.799576Z"
        },
        "tags": [],
        "id": "-692CdW2DIL2",
        "colab": {
          "base_uri": "https://localhost:8080/"
        },
        "outputId": "cd9c1d86-c552-48e8-9647-d1d1aab6eb0b"
      },
      "outputs": [
        {
          "output_type": "stream",
          "name": "stdout",
          "text": [
            "Downloaded utils.py\n"
          ]
        }
      ],
      "source": [
        "# Get utils.py\n",
        "\n",
        "from os.path import basename, exists\n",
        "\n",
        "def download(url):\n",
        "    filename = basename(url)\n",
        "    if not exists(filename):\n",
        "        from urllib.request import urlretrieve\n",
        "        local, _ = urlretrieve(url, filename)\n",
        "        print('Downloaded ' + local)\n",
        "\n",
        "download('https://github.com/AllenDowney/ThinkBayes2/raw/master/soln/utils.py')"
      ]
    },
    {
      "cell_type": "code",
      "execution_count": 3,
      "metadata": {
        "execution": {
          "iopub.execute_input": "2021-04-16T19:38:43.803533Z",
          "iopub.status.busy": "2021-04-16T19:38:43.802836Z",
          "iopub.status.idle": "2021-04-16T19:38:44.488550Z",
          "shell.execute_reply": "2021-04-16T19:38:44.488120Z"
        },
        "tags": [],
        "id": "uaaQxPiNDIL3"
      },
      "outputs": [],
      "source": [
        "from utils import set_pyplot_params\n",
        "set_pyplot_params()"
      ]
    },
    {
      "cell_type": "markdown",
      "metadata": {
        "id": "Gjb4_AwODIL3"
      },
      "source": [
        "In the previous chapter we saw several examples of logistic regression, which is based on the assumption that the likelihood of an outcome, expressed in the form of log odds, is a linear function of some quantity (continuous or discrete).\n",
        "\n",
        "In this chapter we'll work on examples of simple linear regression, which models the relationship between two quantities.  Specifically, we'll look at changes over time in snowfall and the marathon world record.\n",
        "\n",
        "The models we'll use have three parameters, so you might want to review the tools we used for the three-parameter model in <<_MarkandRecapture>>."
      ]
    },
    {
      "cell_type": "markdown",
      "metadata": {
        "id": "8E92dyr6DIL3"
      },
      "source": [
        "## More Snow?\n",
        "\n",
        "I am under the impression that we don't get as much snow around here as we used to.  By \"around here\" I mean Norfolk County, Massachusetts, where I was born, grew up, and currently live.  And by \"used to\" I mean compared to when I was young, like in 1978 when we got [27 inches of snow](https://en.wikipedia.org/wiki/Northeastern_United_States_blizzard_of_1978) and I didn't have to go to school for a couple of weeks.\n",
        "\n",
        "Fortunately, we can test my conjecture with data.  Norfolk County happens to be the location of the [Blue Hill Meteorological Observatory](https://en.wikipedia.org/wiki/Blue_Hill_Meteorological_Observatory), which keeps the oldest continuous weather record in North America.\n",
        "\n",
        "Data from this and many other weather stations is available from the [National Oceanic and Atmospheric Administration](https://www.ncdc.noaa.gov/cdo-web/search) (NOAA).  I collected data from the Blue Hill Observatory from May 11, 1967 to May 11, 2020.  "
      ]
    },
    {
      "cell_type": "markdown",
      "metadata": {
        "tags": [],
        "id": "t3WhXthKDIL3"
      },
      "source": [
        "To get more data, go to [National Oceanic and Atmospheric Administration](https://www.ncdc.noaa.gov/cdo-web/search), select daily summaries, choose a date range, and search for Stations with search term \"Blue Hill Coop\". Add it to the cart.\n",
        "\n",
        "Open cart and select \"Custom GHCN-Daily CSV\", then continue.\n",
        "\n",
        "Select all data types (but particularly Precipitation) and continue.\n",
        "\n",
        "Provide an email address and submit order.\n",
        "\n",
        "You'll get an email with a download link. Download the CSV file and move it into the current directory."
      ]
    },
    {
      "cell_type": "markdown",
      "metadata": {
        "tags": [],
        "id": "2mZVFZtmDIL4"
      },
      "source": [
        "The following cell downloads the data as a CSV file."
      ]
    },
    {
      "cell_type": "code",
      "execution_count": 4,
      "metadata": {
        "execution": {
          "iopub.execute_input": "2021-04-16T19:38:44.492216Z",
          "iopub.status.busy": "2021-04-16T19:38:44.491795Z",
          "iopub.status.idle": "2021-04-16T19:38:44.493838Z",
          "shell.execute_reply": "2021-04-16T19:38:44.493472Z"
        },
        "tags": [],
        "id": "8_VL66zgDIL4",
        "colab": {
          "base_uri": "https://localhost:8080/"
        },
        "outputId": "c1878472-7e45-4c65-95ba-52a4197d8a7b"
      },
      "outputs": [
        {
          "output_type": "stream",
          "name": "stdout",
          "text": [
            "Downloaded 2239075.csv\n"
          ]
        }
      ],
      "source": [
        "download('https://github.com/AllenDowney/ThinkBayes2/raw/master/data/2239075.csv')"
      ]
    },
    {
      "cell_type": "markdown",
      "metadata": {
        "id": "0rcRdFQyDIL4"
      },
      "source": [
        "We can use Pandas to read the data into `DataFrame`:"
      ]
    },
    {
      "cell_type": "code",
      "execution_count": 5,
      "metadata": {
        "execution": {
          "iopub.execute_input": "2021-04-16T19:38:44.497478Z",
          "iopub.status.busy": "2021-04-16T19:38:44.496929Z",
          "iopub.status.idle": "2021-04-16T19:38:44.536916Z",
          "shell.execute_reply": "2021-04-16T19:38:44.537394Z"
        },
        "id": "RUEB5uDuDIL4"
      },
      "outputs": [],
      "source": [
        "import pandas as pd\n",
        "\n",
        "df = pd.read_csv('2239075.csv', parse_dates=[2])"
      ]
    },
    {
      "cell_type": "markdown",
      "metadata": {
        "tags": [],
        "id": "34-ocGvlDIL4"
      },
      "source": [
        "Here's what the last few rows look like."
      ]
    },
    {
      "cell_type": "code",
      "execution_count": 6,
      "metadata": {
        "execution": {
          "iopub.execute_input": "2021-04-16T19:38:44.549351Z",
          "iopub.status.busy": "2021-04-16T19:38:44.541697Z",
          "iopub.status.idle": "2021-04-16T19:38:44.560204Z",
          "shell.execute_reply": "2021-04-16T19:38:44.559851Z"
        },
        "tags": [],
        "id": "OjBzlML7DIL4",
        "colab": {
          "base_uri": "https://localhost:8080/",
          "height": 143
        },
        "outputId": "f2e88c1c-7485-4a44-8a3d-38fc19d87b91"
      },
      "outputs": [
        {
          "output_type": "execute_result",
          "data": {
            "text/plain": [
              "           STATION                   NAME       DATE  PRCP  SNOW  SNWD  TMAX  \\\n",
              "19357  USC00190736  BLUE HILL COOP, MA US 2020-05-09  0.45   0.0   0.0    57   \n",
              "19358  USC00190736  BLUE HILL COOP, MA US 2020-05-10  0.00   0.0   0.0    44   \n",
              "19359  USC00190736  BLUE HILL COOP, MA US 2020-05-11  0.00   0.0   0.0    59   \n",
              "\n",
              "       TMIN  TOBS  WESD  WT01  WT03  WT04  WT05  WT06  WT08  WT09  WT11  WT16  \\\n",
              "19357  34.0  34.0   NaN   1.0   NaN   NaN   NaN   NaN   NaN   NaN   NaN   NaN   \n",
              "19358  31.0  38.0   NaN   NaN   NaN   NaN   NaN   NaN   NaN   NaN   NaN   NaN   \n",
              "19359  38.0  50.0   NaN   NaN   NaN   NaN   NaN   NaN   NaN   NaN   NaN   NaN   \n",
              "\n",
              "       WT18  \n",
              "19357   NaN  \n",
              "19358   NaN  \n",
              "19359   NaN  "
            ],
            "text/html": [
              "\n",
              "  <div id=\"df-c879b3aa-2cb3-4074-a73a-1de306137beb\" class=\"colab-df-container\">\n",
              "    <div>\n",
              "<style scoped>\n",
              "    .dataframe tbody tr th:only-of-type {\n",
              "        vertical-align: middle;\n",
              "    }\n",
              "\n",
              "    .dataframe tbody tr th {\n",
              "        vertical-align: top;\n",
              "    }\n",
              "\n",
              "    .dataframe thead th {\n",
              "        text-align: right;\n",
              "    }\n",
              "</style>\n",
              "<table border=\"1\" class=\"dataframe\">\n",
              "  <thead>\n",
              "    <tr style=\"text-align: right;\">\n",
              "      <th></th>\n",
              "      <th>STATION</th>\n",
              "      <th>NAME</th>\n",
              "      <th>DATE</th>\n",
              "      <th>PRCP</th>\n",
              "      <th>SNOW</th>\n",
              "      <th>SNWD</th>\n",
              "      <th>TMAX</th>\n",
              "      <th>TMIN</th>\n",
              "      <th>TOBS</th>\n",
              "      <th>WESD</th>\n",
              "      <th>WT01</th>\n",
              "      <th>WT03</th>\n",
              "      <th>WT04</th>\n",
              "      <th>WT05</th>\n",
              "      <th>WT06</th>\n",
              "      <th>WT08</th>\n",
              "      <th>WT09</th>\n",
              "      <th>WT11</th>\n",
              "      <th>WT16</th>\n",
              "      <th>WT18</th>\n",
              "    </tr>\n",
              "  </thead>\n",
              "  <tbody>\n",
              "    <tr>\n",
              "      <th>19357</th>\n",
              "      <td>USC00190736</td>\n",
              "      <td>BLUE HILL COOP, MA US</td>\n",
              "      <td>2020-05-09</td>\n",
              "      <td>0.45</td>\n",
              "      <td>0.0</td>\n",
              "      <td>0.0</td>\n",
              "      <td>57</td>\n",
              "      <td>34.0</td>\n",
              "      <td>34.0</td>\n",
              "      <td>NaN</td>\n",
              "      <td>1.0</td>\n",
              "      <td>NaN</td>\n",
              "      <td>NaN</td>\n",
              "      <td>NaN</td>\n",
              "      <td>NaN</td>\n",
              "      <td>NaN</td>\n",
              "      <td>NaN</td>\n",
              "      <td>NaN</td>\n",
              "      <td>NaN</td>\n",
              "      <td>NaN</td>\n",
              "    </tr>\n",
              "    <tr>\n",
              "      <th>19358</th>\n",
              "      <td>USC00190736</td>\n",
              "      <td>BLUE HILL COOP, MA US</td>\n",
              "      <td>2020-05-10</td>\n",
              "      <td>0.00</td>\n",
              "      <td>0.0</td>\n",
              "      <td>0.0</td>\n",
              "      <td>44</td>\n",
              "      <td>31.0</td>\n",
              "      <td>38.0</td>\n",
              "      <td>NaN</td>\n",
              "      <td>NaN</td>\n",
              "      <td>NaN</td>\n",
              "      <td>NaN</td>\n",
              "      <td>NaN</td>\n",
              "      <td>NaN</td>\n",
              "      <td>NaN</td>\n",
              "      <td>NaN</td>\n",
              "      <td>NaN</td>\n",
              "      <td>NaN</td>\n",
              "      <td>NaN</td>\n",
              "    </tr>\n",
              "    <tr>\n",
              "      <th>19359</th>\n",
              "      <td>USC00190736</td>\n",
              "      <td>BLUE HILL COOP, MA US</td>\n",
              "      <td>2020-05-11</td>\n",
              "      <td>0.00</td>\n",
              "      <td>0.0</td>\n",
              "      <td>0.0</td>\n",
              "      <td>59</td>\n",
              "      <td>38.0</td>\n",
              "      <td>50.0</td>\n",
              "      <td>NaN</td>\n",
              "      <td>NaN</td>\n",
              "      <td>NaN</td>\n",
              "      <td>NaN</td>\n",
              "      <td>NaN</td>\n",
              "      <td>NaN</td>\n",
              "      <td>NaN</td>\n",
              "      <td>NaN</td>\n",
              "      <td>NaN</td>\n",
              "      <td>NaN</td>\n",
              "      <td>NaN</td>\n",
              "    </tr>\n",
              "  </tbody>\n",
              "</table>\n",
              "</div>\n",
              "    <div class=\"colab-df-buttons\">\n",
              "\n",
              "  <div class=\"colab-df-container\">\n",
              "    <button class=\"colab-df-convert\" onclick=\"convertToInteractive('df-c879b3aa-2cb3-4074-a73a-1de306137beb')\"\n",
              "            title=\"Convert this dataframe to an interactive table.\"\n",
              "            style=\"display:none;\">\n",
              "\n",
              "  <svg xmlns=\"http://www.w3.org/2000/svg\" height=\"24px\" viewBox=\"0 -960 960 960\">\n",
              "    <path d=\"M120-120v-720h720v720H120Zm60-500h600v-160H180v160Zm220 220h160v-160H400v160Zm0 220h160v-160H400v160ZM180-400h160v-160H180v160Zm440 0h160v-160H620v160ZM180-180h160v-160H180v160Zm440 0h160v-160H620v160Z\"/>\n",
              "  </svg>\n",
              "    </button>\n",
              "\n",
              "  <style>\n",
              "    .colab-df-container {\n",
              "      display:flex;\n",
              "      gap: 12px;\n",
              "    }\n",
              "\n",
              "    .colab-df-convert {\n",
              "      background-color: #E8F0FE;\n",
              "      border: none;\n",
              "      border-radius: 50%;\n",
              "      cursor: pointer;\n",
              "      display: none;\n",
              "      fill: #1967D2;\n",
              "      height: 32px;\n",
              "      padding: 0 0 0 0;\n",
              "      width: 32px;\n",
              "    }\n",
              "\n",
              "    .colab-df-convert:hover {\n",
              "      background-color: #E2EBFA;\n",
              "      box-shadow: 0px 1px 2px rgba(60, 64, 67, 0.3), 0px 1px 3px 1px rgba(60, 64, 67, 0.15);\n",
              "      fill: #174EA6;\n",
              "    }\n",
              "\n",
              "    .colab-df-buttons div {\n",
              "      margin-bottom: 4px;\n",
              "    }\n",
              "\n",
              "    [theme=dark] .colab-df-convert {\n",
              "      background-color: #3B4455;\n",
              "      fill: #D2E3FC;\n",
              "    }\n",
              "\n",
              "    [theme=dark] .colab-df-convert:hover {\n",
              "      background-color: #434B5C;\n",
              "      box-shadow: 0px 1px 3px 1px rgba(0, 0, 0, 0.15);\n",
              "      filter: drop-shadow(0px 1px 2px rgba(0, 0, 0, 0.3));\n",
              "      fill: #FFFFFF;\n",
              "    }\n",
              "  </style>\n",
              "\n",
              "    <script>\n",
              "      const buttonEl =\n",
              "        document.querySelector('#df-c879b3aa-2cb3-4074-a73a-1de306137beb button.colab-df-convert');\n",
              "      buttonEl.style.display =\n",
              "        google.colab.kernel.accessAllowed ? 'block' : 'none';\n",
              "\n",
              "      async function convertToInteractive(key) {\n",
              "        const element = document.querySelector('#df-c879b3aa-2cb3-4074-a73a-1de306137beb');\n",
              "        const dataTable =\n",
              "          await google.colab.kernel.invokeFunction('convertToInteractive',\n",
              "                                                    [key], {});\n",
              "        if (!dataTable) return;\n",
              "\n",
              "        const docLinkHtml = 'Like what you see? Visit the ' +\n",
              "          '<a target=\"_blank\" href=https://colab.research.google.com/notebooks/data_table.ipynb>data table notebook</a>'\n",
              "          + ' to learn more about interactive tables.';\n",
              "        element.innerHTML = '';\n",
              "        dataTable['output_type'] = 'display_data';\n",
              "        await google.colab.output.renderOutput(dataTable, element);\n",
              "        const docLink = document.createElement('div');\n",
              "        docLink.innerHTML = docLinkHtml;\n",
              "        element.appendChild(docLink);\n",
              "      }\n",
              "    </script>\n",
              "  </div>\n",
              "\n",
              "\n",
              "<div id=\"df-9290a19c-00d9-4f96-ba36-fe53bd3a6ec9\">\n",
              "  <button class=\"colab-df-quickchart\" onclick=\"quickchart('df-9290a19c-00d9-4f96-ba36-fe53bd3a6ec9')\"\n",
              "            title=\"Suggest charts\"\n",
              "            style=\"display:none;\">\n",
              "\n",
              "<svg xmlns=\"http://www.w3.org/2000/svg\" height=\"24px\"viewBox=\"0 0 24 24\"\n",
              "     width=\"24px\">\n",
              "    <g>\n",
              "        <path d=\"M19 3H5c-1.1 0-2 .9-2 2v14c0 1.1.9 2 2 2h14c1.1 0 2-.9 2-2V5c0-1.1-.9-2-2-2zM9 17H7v-7h2v7zm4 0h-2V7h2v10zm4 0h-2v-4h2v4z\"/>\n",
              "    </g>\n",
              "</svg>\n",
              "  </button>\n",
              "\n",
              "<style>\n",
              "  .colab-df-quickchart {\n",
              "      --bg-color: #E8F0FE;\n",
              "      --fill-color: #1967D2;\n",
              "      --hover-bg-color: #E2EBFA;\n",
              "      --hover-fill-color: #174EA6;\n",
              "      --disabled-fill-color: #AAA;\n",
              "      --disabled-bg-color: #DDD;\n",
              "  }\n",
              "\n",
              "  [theme=dark] .colab-df-quickchart {\n",
              "      --bg-color: #3B4455;\n",
              "      --fill-color: #D2E3FC;\n",
              "      --hover-bg-color: #434B5C;\n",
              "      --hover-fill-color: #FFFFFF;\n",
              "      --disabled-bg-color: #3B4455;\n",
              "      --disabled-fill-color: #666;\n",
              "  }\n",
              "\n",
              "  .colab-df-quickchart {\n",
              "    background-color: var(--bg-color);\n",
              "    border: none;\n",
              "    border-radius: 50%;\n",
              "    cursor: pointer;\n",
              "    display: none;\n",
              "    fill: var(--fill-color);\n",
              "    height: 32px;\n",
              "    padding: 0;\n",
              "    width: 32px;\n",
              "  }\n",
              "\n",
              "  .colab-df-quickchart:hover {\n",
              "    background-color: var(--hover-bg-color);\n",
              "    box-shadow: 0 1px 2px rgba(60, 64, 67, 0.3), 0 1px 3px 1px rgba(60, 64, 67, 0.15);\n",
              "    fill: var(--button-hover-fill-color);\n",
              "  }\n",
              "\n",
              "  .colab-df-quickchart-complete:disabled,\n",
              "  .colab-df-quickchart-complete:disabled:hover {\n",
              "    background-color: var(--disabled-bg-color);\n",
              "    fill: var(--disabled-fill-color);\n",
              "    box-shadow: none;\n",
              "  }\n",
              "\n",
              "  .colab-df-spinner {\n",
              "    border: 2px solid var(--fill-color);\n",
              "    border-color: transparent;\n",
              "    border-bottom-color: var(--fill-color);\n",
              "    animation:\n",
              "      spin 1s steps(1) infinite;\n",
              "  }\n",
              "\n",
              "  @keyframes spin {\n",
              "    0% {\n",
              "      border-color: transparent;\n",
              "      border-bottom-color: var(--fill-color);\n",
              "      border-left-color: var(--fill-color);\n",
              "    }\n",
              "    20% {\n",
              "      border-color: transparent;\n",
              "      border-left-color: var(--fill-color);\n",
              "      border-top-color: var(--fill-color);\n",
              "    }\n",
              "    30% {\n",
              "      border-color: transparent;\n",
              "      border-left-color: var(--fill-color);\n",
              "      border-top-color: var(--fill-color);\n",
              "      border-right-color: var(--fill-color);\n",
              "    }\n",
              "    40% {\n",
              "      border-color: transparent;\n",
              "      border-right-color: var(--fill-color);\n",
              "      border-top-color: var(--fill-color);\n",
              "    }\n",
              "    60% {\n",
              "      border-color: transparent;\n",
              "      border-right-color: var(--fill-color);\n",
              "    }\n",
              "    80% {\n",
              "      border-color: transparent;\n",
              "      border-right-color: var(--fill-color);\n",
              "      border-bottom-color: var(--fill-color);\n",
              "    }\n",
              "    90% {\n",
              "      border-color: transparent;\n",
              "      border-bottom-color: var(--fill-color);\n",
              "    }\n",
              "  }\n",
              "</style>\n",
              "\n",
              "  <script>\n",
              "    async function quickchart(key) {\n",
              "      const quickchartButtonEl =\n",
              "        document.querySelector('#' + key + ' button');\n",
              "      quickchartButtonEl.disabled = true;  // To prevent multiple clicks.\n",
              "      quickchartButtonEl.classList.add('colab-df-spinner');\n",
              "      try {\n",
              "        const charts = await google.colab.kernel.invokeFunction(\n",
              "            'suggestCharts', [key], {});\n",
              "      } catch (error) {\n",
              "        console.error('Error during call to suggestCharts:', error);\n",
              "      }\n",
              "      quickchartButtonEl.classList.remove('colab-df-spinner');\n",
              "      quickchartButtonEl.classList.add('colab-df-quickchart-complete');\n",
              "    }\n",
              "    (() => {\n",
              "      let quickchartButtonEl =\n",
              "        document.querySelector('#df-9290a19c-00d9-4f96-ba36-fe53bd3a6ec9 button');\n",
              "      quickchartButtonEl.style.display =\n",
              "        google.colab.kernel.accessAllowed ? 'block' : 'none';\n",
              "    })();\n",
              "  </script>\n",
              "</div>\n",
              "\n",
              "    </div>\n",
              "  </div>\n"
            ],
            "application/vnd.google.colaboratory.intrinsic+json": {
              "type": "dataframe",
              "summary": "{\n  \"name\": \"df\",\n  \"rows\": 3,\n  \"fields\": [\n    {\n      \"column\": \"STATION\",\n      \"properties\": {\n        \"dtype\": \"category\",\n        \"num_unique_values\": 1,\n        \"samples\": [\n          \"USC00190736\"\n        ],\n        \"semantic_type\": \"\",\n        \"description\": \"\"\n      }\n    },\n    {\n      \"column\": \"NAME\",\n      \"properties\": {\n        \"dtype\": \"category\",\n        \"num_unique_values\": 1,\n        \"samples\": [\n          \"BLUE HILL COOP, MA US\"\n        ],\n        \"semantic_type\": \"\",\n        \"description\": \"\"\n      }\n    },\n    {\n      \"column\": \"DATE\",\n      \"properties\": {\n        \"dtype\": \"date\",\n        \"min\": \"2020-05-09 00:00:00\",\n        \"max\": \"2020-05-11 00:00:00\",\n        \"num_unique_values\": 3,\n        \"samples\": [\n          \"2020-05-09 00:00:00\"\n        ],\n        \"semantic_type\": \"\",\n        \"description\": \"\"\n      }\n    },\n    {\n      \"column\": \"PRCP\",\n      \"properties\": {\n        \"dtype\": \"number\",\n        \"std\": 0.2598076211353316,\n        \"min\": 0.0,\n        \"max\": 0.45,\n        \"num_unique_values\": 2,\n        \"samples\": [\n          0.0\n        ],\n        \"semantic_type\": \"\",\n        \"description\": \"\"\n      }\n    },\n    {\n      \"column\": \"SNOW\",\n      \"properties\": {\n        \"dtype\": \"number\",\n        \"std\": 0.0,\n        \"min\": 0.0,\n        \"max\": 0.0,\n        \"num_unique_values\": 1,\n        \"samples\": [\n          0.0\n        ],\n        \"semantic_type\": \"\",\n        \"description\": \"\"\n      }\n    },\n    {\n      \"column\": \"SNWD\",\n      \"properties\": {\n        \"dtype\": \"number\",\n        \"std\": 0.0,\n        \"min\": 0.0,\n        \"max\": 0.0,\n        \"num_unique_values\": 1,\n        \"samples\": [\n          0.0\n        ],\n        \"semantic_type\": \"\",\n        \"description\": \"\"\n      }\n    },\n    {\n      \"column\": \"TMAX\",\n      \"properties\": {\n        \"dtype\": \"number\",\n        \"std\": 8,\n        \"min\": 44,\n        \"max\": 59,\n        \"num_unique_values\": 3,\n        \"samples\": [\n          57\n        ],\n        \"semantic_type\": \"\",\n        \"description\": \"\"\n      }\n    },\n    {\n      \"column\": \"TMIN\",\n      \"properties\": {\n        \"dtype\": \"number\",\n        \"std\": 3.511884584284246,\n        \"min\": 31.0,\n        \"max\": 38.0,\n        \"num_unique_values\": 3,\n        \"samples\": [\n          34.0\n        ],\n        \"semantic_type\": \"\",\n        \"description\": \"\"\n      }\n    },\n    {\n      \"column\": \"TOBS\",\n      \"properties\": {\n        \"dtype\": \"number\",\n        \"std\": 8.326663997864532,\n        \"min\": 34.0,\n        \"max\": 50.0,\n        \"num_unique_values\": 3,\n        \"samples\": [\n          34.0\n        ],\n        \"semantic_type\": \"\",\n        \"description\": \"\"\n      }\n    },\n    {\n      \"column\": \"WESD\",\n      \"properties\": {\n        \"dtype\": \"number\",\n        \"std\": null,\n        \"min\": null,\n        \"max\": null,\n        \"num_unique_values\": 0,\n        \"samples\": [],\n        \"semantic_type\": \"\",\n        \"description\": \"\"\n      }\n    },\n    {\n      \"column\": \"WT01\",\n      \"properties\": {\n        \"dtype\": \"number\",\n        \"std\": null,\n        \"min\": 1.0,\n        \"max\": 1.0,\n        \"num_unique_values\": 1,\n        \"samples\": [],\n        \"semantic_type\": \"\",\n        \"description\": \"\"\n      }\n    },\n    {\n      \"column\": \"WT03\",\n      \"properties\": {\n        \"dtype\": \"number\",\n        \"std\": null,\n        \"min\": null,\n        \"max\": null,\n        \"num_unique_values\": 0,\n        \"samples\": [],\n        \"semantic_type\": \"\",\n        \"description\": \"\"\n      }\n    },\n    {\n      \"column\": \"WT04\",\n      \"properties\": {\n        \"dtype\": \"number\",\n        \"std\": null,\n        \"min\": null,\n        \"max\": null,\n        \"num_unique_values\": 0,\n        \"samples\": [],\n        \"semantic_type\": \"\",\n        \"description\": \"\"\n      }\n    },\n    {\n      \"column\": \"WT05\",\n      \"properties\": {\n        \"dtype\": \"number\",\n        \"std\": null,\n        \"min\": null,\n        \"max\": null,\n        \"num_unique_values\": 0,\n        \"samples\": [],\n        \"semantic_type\": \"\",\n        \"description\": \"\"\n      }\n    },\n    {\n      \"column\": \"WT06\",\n      \"properties\": {\n        \"dtype\": \"number\",\n        \"std\": null,\n        \"min\": null,\n        \"max\": null,\n        \"num_unique_values\": 0,\n        \"samples\": [],\n        \"semantic_type\": \"\",\n        \"description\": \"\"\n      }\n    },\n    {\n      \"column\": \"WT08\",\n      \"properties\": {\n        \"dtype\": \"number\",\n        \"std\": null,\n        \"min\": null,\n        \"max\": null,\n        \"num_unique_values\": 0,\n        \"samples\": [],\n        \"semantic_type\": \"\",\n        \"description\": \"\"\n      }\n    },\n    {\n      \"column\": \"WT09\",\n      \"properties\": {\n        \"dtype\": \"number\",\n        \"std\": null,\n        \"min\": null,\n        \"max\": null,\n        \"num_unique_values\": 0,\n        \"samples\": [],\n        \"semantic_type\": \"\",\n        \"description\": \"\"\n      }\n    },\n    {\n      \"column\": \"WT11\",\n      \"properties\": {\n        \"dtype\": \"number\",\n        \"std\": null,\n        \"min\": null,\n        \"max\": null,\n        \"num_unique_values\": 0,\n        \"samples\": [],\n        \"semantic_type\": \"\",\n        \"description\": \"\"\n      }\n    },\n    {\n      \"column\": \"WT16\",\n      \"properties\": {\n        \"dtype\": \"number\",\n        \"std\": null,\n        \"min\": null,\n        \"max\": null,\n        \"num_unique_values\": 0,\n        \"samples\": [],\n        \"semantic_type\": \"\",\n        \"description\": \"\"\n      }\n    },\n    {\n      \"column\": \"WT18\",\n      \"properties\": {\n        \"dtype\": \"number\",\n        \"std\": null,\n        \"min\": null,\n        \"max\": null,\n        \"num_unique_values\": 0,\n        \"samples\": [],\n        \"semantic_type\": \"\",\n        \"description\": \"\"\n      }\n    }\n  ]\n}"
            }
          },
          "metadata": {},
          "execution_count": 6
        }
      ],
      "source": [
        "df.tail(3)"
      ]
    },
    {
      "cell_type": "markdown",
      "metadata": {
        "id": "nZjRiPpIDIL5"
      },
      "source": [
        "The columns we'll use are:\n",
        "\n",
        "* `DATE`, which is the date of each observation,\n",
        "\n",
        "* `SNOW`, which is the total snowfall in inches.\n",
        "\n",
        "I'll add a column that contains just the year part of the dates."
      ]
    },
    {
      "cell_type": "code",
      "execution_count": 7,
      "metadata": {
        "execution": {
          "iopub.execute_input": "2021-04-16T19:38:44.563856Z",
          "iopub.status.busy": "2021-04-16T19:38:44.563284Z",
          "iopub.status.idle": "2021-04-16T19:38:44.568089Z",
          "shell.execute_reply": "2021-04-16T19:38:44.567683Z"
        },
        "id": "B2GjHuV8DIL5"
      },
      "outputs": [],
      "source": [
        "df['YEAR'] = df['DATE'].dt.year"
      ]
    },
    {
      "cell_type": "markdown",
      "metadata": {
        "id": "31kjNgWGDIL5"
      },
      "source": [
        "And use `groupby` to add up the total snowfall in each year."
      ]
    },
    {
      "cell_type": "code",
      "execution_count": 8,
      "metadata": {
        "execution": {
          "iopub.execute_input": "2021-04-16T19:38:44.572178Z",
          "iopub.status.busy": "2021-04-16T19:38:44.571162Z",
          "iopub.status.idle": "2021-04-16T19:38:44.574545Z",
          "shell.execute_reply": "2021-04-16T19:38:44.574115Z"
        },
        "id": "-glP5zp5DIL5"
      },
      "outputs": [],
      "source": [
        "snow = df.groupby('YEAR')['SNOW'].sum()"
      ]
    },
    {
      "cell_type": "markdown",
      "metadata": {
        "tags": [],
        "id": "cKJVs-lKDIL5"
      },
      "source": [
        "The first and last years are not complete, so I'll drop them."
      ]
    },
    {
      "cell_type": "code",
      "execution_count": 9,
      "metadata": {
        "execution": {
          "iopub.execute_input": "2021-04-16T19:38:44.578061Z",
          "iopub.status.busy": "2021-04-16T19:38:44.577552Z",
          "iopub.status.idle": "2021-04-16T19:38:44.579968Z",
          "shell.execute_reply": "2021-04-16T19:38:44.580391Z"
        },
        "tags": [],
        "id": "v0QlL40rDIL5",
        "colab": {
          "base_uri": "https://localhost:8080/"
        },
        "outputId": "d0198793-bf16-4b79-9156-998e82f78313"
      },
      "outputs": [
        {
          "output_type": "execute_result",
          "data": {
            "text/plain": [
              "52"
            ]
          },
          "metadata": {},
          "execution_count": 9
        }
      ],
      "source": [
        "snow = snow.iloc[1:-1]\n",
        "len(snow)"
      ]
    },
    {
      "cell_type": "markdown",
      "metadata": {
        "id": "I0clEJ9HDIL5"
      },
      "source": [
        "The following figure shows total snowfall during each of the complete years in my lifetime."
      ]
    },
    {
      "cell_type": "code",
      "execution_count": 10,
      "metadata": {
        "execution": {
          "iopub.execute_input": "2021-04-16T19:38:44.584664Z",
          "iopub.status.busy": "2021-04-16T19:38:44.583819Z",
          "iopub.status.idle": "2021-04-16T19:38:44.768641Z",
          "shell.execute_reply": "2021-04-16T19:38:44.768224Z"
        },
        "tags": [],
        "id": "xEqhghgdDIL5",
        "colab": {
          "base_uri": "https://localhost:8080/",
          "height": 487
        },
        "outputId": "b39fb364-54d8-462e-c051-c017bce66c02"
      },
      "outputs": [
        {
          "output_type": "display_data",
          "data": {
            "text/plain": [
              "<Figure size 640x480 with 1 Axes>"
            ],
            "image/png": "[encoded data removed]"
          },
          "metadata": {}
        }
      ],
      "source": [
        "from utils import decorate\n",
        "\n",
        "snow.plot(ls='', marker='o', alpha=0.5)\n",
        "\n",
        "decorate(xlabel='Year',\n",
        "         ylabel='Total annual snowfall (inches)',\n",
        "         title='Total annual snowfall in Norfolk County, MA')"
      ]
    },
    {
      "cell_type": "markdown",
      "metadata": {
        "id": "w2tC8EvxDIL5"
      },
      "source": [
        "Looking at this plot, it's hard to say whether snowfall is increasing, decreasing, or unchanged.  In the last decade, we've had several years with more snow than 1978, including 2015, which was the snowiest winter in the Boston area in modern history, with a total of 141 inches.\n",
        "\n",
        "This kind of question -- looking at noisy data and wondering whether it is going up or down -- is precisely the question we can answer with Bayesian regression."
      ]
    },
    {
      "cell_type": "code",
      "execution_count": 11,
      "metadata": {
        "execution": {
          "iopub.execute_input": "2021-04-16T19:38:44.774042Z",
          "iopub.status.busy": "2021-04-16T19:38:44.773344Z",
          "iopub.status.idle": "2021-04-16T19:38:44.776141Z",
          "shell.execute_reply": "2021-04-16T19:38:44.776580Z"
        },
        "tags": [],
        "id": "EEt6tewwDIL5",
        "colab": {
          "base_uri": "https://localhost:8080/"
        },
        "outputId": "142e3ec8-53f0-4885-a4b6-289912fc3d28"
      },
      "outputs": [
        {
          "output_type": "execute_result",
          "data": {
            "text/plain": [
              "YEAR\n",
              "1978    100.6\n",
              "1996    124.2\n",
              "2015    141.1\n",
              "Name: SNOW, dtype: float64"
            ]
          },
          "metadata": {},
          "execution_count": 11
        }
      ],
      "source": [
        "snow.loc[[1978, 1996, 2015]]"
      ]
    },
    {
      "cell_type": "markdown",
      "metadata": {
        "id": "t5FqF6K1DIL5"
      },
      "source": [
        "## Regression Model\n",
        "\n",
        "The foundation of regression (Bayesian or not) is the assumption that a time series like this is the sum of two parts:\n",
        "\n",
        "1. A linear function of time, and\n",
        "\n",
        "2. A series of random values drawn from a distribution that is not changing over time.\n",
        "\n",
        "Mathematically, the regression model is\n",
        "\n",
        "$$y = a x + b + \\epsilon$$\n",
        "\n",
        "where $y$ is the series of measurements (snowfall in this example), $x$ is the series of times (years) and $\\epsilon$ is the series of random values.\n",
        "\n",
        "$a$ and $b$ are the slope and intercept of the line through the data.  They are unknown parameters, so we will use the data to estimate them.\n",
        "\n",
        "We don't know the distribution of $\\epsilon$, so we'll make the additional assumption that it is a normal distribution with mean 0 and unknown standard deviation, $\\sigma$.  \n",
        "To see whether this assumption is reasonable, I'll plot the distribution of total snowfall and a normal model with the same mean and standard deviation.\n",
        "\n",
        "Here's a `Pmf` object that represents the distribution of snowfall."
      ]
    },
    {
      "cell_type": "code",
      "execution_count": 12,
      "metadata": {
        "execution": {
          "iopub.execute_input": "2021-04-16T19:38:44.780474Z",
          "iopub.status.busy": "2021-04-16T19:38:44.779794Z",
          "iopub.status.idle": "2021-04-16T19:38:44.786003Z",
          "shell.execute_reply": "2021-04-16T19:38:44.785532Z"
        },
        "id": "UIlB3aeVDIL5"
      },
      "outputs": [],
      "source": [
        "from empiricaldist import Pmf\n",
        "\n",
        "pmf_snowfall = Pmf.from_seq(snow)"
      ]
    },
    {
      "cell_type": "markdown",
      "metadata": {
        "id": "tE6LpNNDDIL5"
      },
      "source": [
        "And here are the mean and standard deviation of the data."
      ]
    },
    {
      "cell_type": "code",
      "execution_count": 13,
      "metadata": {
        "execution": {
          "iopub.execute_input": "2021-04-16T19:38:44.789914Z",
          "iopub.status.busy": "2021-04-16T19:38:44.789309Z",
          "iopub.status.idle": "2021-04-16T19:38:44.791963Z",
          "shell.execute_reply": "2021-04-16T19:38:44.791602Z"
        },
        "id": "PcrglGObDIL5",
        "colab": {
          "base_uri": "https://localhost:8080/"
        },
        "outputId": "e54c48f7-92bf-4bab-8d8e-6b6a166f696c"
      },
      "outputs": [
        {
          "output_type": "execute_result",
          "data": {
            "text/plain": [
              "(64.19038461538462, 26.28802198439569)"
            ]
          },
          "metadata": {},
          "execution_count": 13
        }
      ],
      "source": [
        "mean, std = pmf_snowfall.mean(), pmf_snowfall.std()\n",
        "mean, std"
      ]
    },
    {
      "cell_type": "markdown",
      "metadata": {
        "id": "-5TOMsZQDIL6"
      },
      "source": [
        "I'll use the `norm` object from SciPy to compute the CDF of a normal distribution with the same mean and standard deviation."
      ]
    },
    {
      "cell_type": "code",
      "execution_count": 14,
      "metadata": {
        "execution": {
          "iopub.execute_input": "2021-04-16T19:38:44.796359Z",
          "iopub.status.busy": "2021-04-16T19:38:44.795815Z",
          "iopub.status.idle": "2021-04-16T19:38:44.797503Z",
          "shell.execute_reply": "2021-04-16T19:38:44.797862Z"
        },
        "id": "_-Ux5YV4DIL6"
      },
      "outputs": [],
      "source": [
        "from scipy.stats import norm\n",
        "\n",
        "dist = norm(mean, std)\n",
        "qs = pmf_snowfall.qs\n",
        "ps = dist.cdf(qs)"
      ]
    },
    {
      "cell_type": "markdown",
      "metadata": {
        "id": "mqNQJt7JDIL6"
      },
      "source": [
        "Here's what the distribution of the data looks like compared to the normal model."
      ]
    },
    {
      "cell_type": "code",
      "execution_count": 15,
      "metadata": {
        "execution": {
          "iopub.execute_input": "2021-04-16T19:38:44.821740Z",
          "iopub.status.busy": "2021-04-16T19:38:44.812987Z",
          "iopub.status.idle": "2021-04-16T19:38:44.975037Z",
          "shell.execute_reply": "2021-04-16T19:38:44.974589Z"
        },
        "tags": [],
        "id": "fuMtZBTbDIL6",
        "colab": {
          "base_uri": "https://localhost:8080/",
          "height": 487
        },
        "outputId": "02c46f26-2258-4d03-bbce-d5384d4d37d3"
      },
      "outputs": [
        {
          "output_type": "display_data",
          "data": {
            "text/plain": [
              "<Figure size 640x480 with 1 Axes>"
            ],
            "image/png": "[encoded data removed]"
          },
          "metadata": {}
        }
      ],
      "source": [
        "import matplotlib.pyplot as plt\n",
        "\n",
        "plt.plot(qs, ps, color='C5', label='model')\n",
        "pmf_snowfall.make_cdf().plot(label='data')\n",
        "\n",
        "decorate(xlabel='Total snowfall (inches)',\n",
        "         ylabel='CDF',\n",
        "         title='Normal model of variation in snowfall')"
      ]
    },
    {
      "cell_type": "markdown",
      "metadata": {
        "id": "PeiYreU_DIL6"
      },
      "source": [
        "We've had more winters below the mean than expected, but overall this looks like a reasonable model."
      ]
    },
    {
      "cell_type": "markdown",
      "metadata": {
        "id": "AE2Xp8_-DIL6"
      },
      "source": [
        "## Least Squares Regression\n",
        "\n",
        "Our regression model has three parameters: slope, intercept, and standard deviation of $\\epsilon$.\n",
        "Before we can estimate them, we have to choose priors.\n",
        "To help with that, I'll use StatsModel to fit a line to the data by [least squares regression](https://en.wikipedia.org/wiki/Least_squares).\n",
        "\n",
        "First, I'll use `reset_index` to convert `snow`, which is a `Series`, to a `DataFrame`."
      ]
    },
    {
      "cell_type": "code",
      "execution_count": 16,
      "metadata": {
        "execution": {
          "iopub.execute_input": "2021-04-16T19:38:44.985446Z",
          "iopub.status.busy": "2021-04-16T19:38:44.984866Z",
          "iopub.status.idle": "2021-04-16T19:38:44.988417Z",
          "shell.execute_reply": "2021-04-16T19:38:44.988051Z"
        },
        "id": "SM05-3DKDIL6",
        "colab": {
          "base_uri": "https://localhost:8080/",
          "height": 143
        },
        "outputId": "a1c2f75f-fab5-43e6-bf79-c422ad972502"
      },
      "outputs": [
        {
          "output_type": "execute_result",
          "data": {
            "text/plain": [
              "   YEAR  SNOW\n",
              "0  1968  44.7\n",
              "1  1969  99.2\n",
              "2  1970  66.8"
            ],
            "text/html": [
              "\n",
              "  <div id=\"df-a61b5050-a68d-4b6c-857a-1f7369e8d29a\" class=\"colab-df-container\">\n",
              "    <div>\n",
              "<style scoped>\n",
              "    .dataframe tbody tr th:only-of-type {\n",
              "        vertical-align: middle;\n",
              "    }\n",
              "\n",
              "    .dataframe tbody tr th {\n",
              "        vertical-align: top;\n",
              "    }\n",
              "\n",
              "    .dataframe thead th {\n",
              "        text-align: right;\n",
              "    }\n",
              "</style>\n",
              "<table border=\"1\" class=\"dataframe\">\n",
              "  <thead>\n",
              "    <tr style=\"text-align: right;\">\n",
              "      <th></th>\n",
              "      <th>YEAR</th>\n",
              "      <th>SNOW</th>\n",
              "    </tr>\n",
              "  </thead>\n",
              "  <tbody>\n",
              "    <tr>\n",
              "      <th>0</th>\n",
              "      <td>1968</td>\n",
              "      <td>44.7</td>\n",
              "    </tr>\n",
              "    <tr>\n",
              "      <th>1</th>\n",
              "      <td>1969</td>\n",
              "      <td>99.2</td>\n",
              "    </tr>\n",
              "    <tr>\n",
              "      <th>2</th>\n",
              "      <td>1970</td>\n",
              "      <td>66.8</td>\n",
              "    </tr>\n",
              "  </tbody>\n",
              "</table>\n",
              "</div>\n",
              "    <div class=\"colab-df-buttons\">\n",
              "\n",
              "  <div class=\"colab-df-container\">\n",
              "    <button class=\"colab-df-convert\" onclick=\"convertToInteractive('df-a61b5050-a68d-4b6c-857a-1f7369e8d29a')\"\n",
              "            title=\"Convert this dataframe to an interactive table.\"\n",
              "            style=\"display:none;\">\n",
              "\n",
              "  <svg xmlns=\"http://www.w3.org/2000/svg\" height=\"24px\" viewBox=\"0 -960 960 960\">\n",
              "    <path d=\"M120-120v-720h720v720H120Zm60-500h600v-160H180v160Zm220 220h160v-160H400v160Zm0 220h160v-160H400v160ZM180-400h160v-160H180v160Zm440 0h160v-160H620v160ZM180-180h160v-160H180v160Zm440 0h160v-160H620v160Z\"/>\n",
              "  </svg>\n",
              "    </button>\n",
              "\n",
              "  <style>\n",
              "    .colab-df-container {\n",
              "      display:flex;\n",
              "      gap: 12px;\n",
              "    }\n",
              "\n",
              "    .colab-df-convert {\n",
              "      background-color: #E8F0FE;\n",
              "      border: none;\n",
              "      border-radius: 50%;\n",
              "      cursor: pointer;\n",
              "      display: none;\n",
              "      fill: #1967D2;\n",
              "      height: 32px;\n",
              "      padding: 0 0 0 0;\n",
              "      width: 32px;\n",
              "    }\n",
              "\n",
              "    .colab-df-convert:hover {\n",
              "      background-color: #E2EBFA;\n",
              "      box-shadow: 0px 1px 2px rgba(60, 64, 67, 0.3), 0px 1px 3px 1px rgba(60, 64, 67, 0.15);\n",
              "      fill: #174EA6;\n",
              "    }\n",
              "\n",
              "    .colab-df-buttons div {\n",
              "      margin-bottom: 4px;\n",
              "    }\n",
              "\n",
              "    [theme=dark] .colab-df-convert {\n",
              "      background-color: #3B4455;\n",
              "      fill: #D2E3FC;\n",
              "    }\n",
              "\n",
              "    [theme=dark] .colab-df-convert:hover {\n",
              "      background-color: #434B5C;\n",
              "      box-shadow: 0px 1px 3px 1px rgba(0, 0, 0, 0.15);\n",
              "      filter: drop-shadow(0px 1px 2px rgba(0, 0, 0, 0.3));\n",
              "      fill: #FFFFFF;\n",
              "    }\n",
              "  </style>\n",
              "\n",
              "    <script>\n",
              "      const buttonEl =\n",
              "        document.querySelector('#df-a61b5050-a68d-4b6c-857a-1f7369e8d29a button.colab-df-convert');\n",
              "      buttonEl.style.display =\n",
              "        google.colab.kernel.accessAllowed ? 'block' : 'none';\n",
              "\n",
              "      async function convertToInteractive(key) {\n",
              "        const element = document.querySelector('#df-a61b5050-a68d-4b6c-857a-1f7369e8d29a');\n",
              "        const dataTable =\n",
              "          await google.colab.kernel.invokeFunction('convertToInteractive',\n",
              "                                                    [key], {});\n",
              "        if (!dataTable) return;\n",
              "\n",
              "        const docLinkHtml = 'Like what you see? Visit the ' +\n",
              "          '<a target=\"_blank\" href=https://colab.research.google.com/notebooks/data_table.ipynb>data table notebook</a>'\n",
              "          + ' to learn more about interactive tables.';\n",
              "        element.innerHTML = '';\n",
              "        dataTable['output_type'] = 'display_data';\n",
              "        await google.colab.output.renderOutput(dataTable, element);\n",
              "        const docLink = document.createElement('div');\n",
              "        docLink.innerHTML = docLinkHtml;\n",
              "        element.appendChild(docLink);\n",
              "      }\n",
              "    </script>\n",
              "  </div>\n",
              "\n",
              "\n",
              "<div id=\"df-3e676fc6-2f39-40a4-aeb8-3154e8c36771\">\n",
              "  <button class=\"colab-df-quickchart\" onclick=\"quickchart('df-3e676fc6-2f39-40a4-aeb8-3154e8c36771')\"\n",
              "            title=\"Suggest charts\"\n",
              "            style=\"display:none;\">\n",
              "\n",
              "<svg xmlns=\"http://www.w3.org/2000/svg\" height=\"24px\"viewBox=\"0 0 24 24\"\n",
              "     width=\"24px\">\n",
              "    <g>\n",
              "        <path d=\"M19 3H5c-1.1 0-2 .9-2 2v14c0 1.1.9 2 2 2h14c1.1 0 2-.9 2-2V5c0-1.1-.9-2-2-2zM9 17H7v-7h2v7zm4 0h-2V7h2v10zm4 0h-2v-4h2v4z\"/>\n",
              "    </g>\n",
              "</svg>\n",
              "  </button>\n",
              "\n",
              "<style>\n",
              "  .colab-df-quickchart {\n",
              "      --bg-color: #E8F0FE;\n",
              "      --fill-color: #1967D2;\n",
              "      --hover-bg-color: #E2EBFA;\n",
              "      --hover-fill-color: #174EA6;\n",
              "      --disabled-fill-color: #AAA;\n",
              "      --disabled-bg-color: #DDD;\n",
              "  }\n",
              "\n",
              "  [theme=dark] .colab-df-quickchart {\n",
              "      --bg-color: #3B4455;\n",
              "      --fill-color: #D2E3FC;\n",
              "      --hover-bg-color: #434B5C;\n",
              "      --hover-fill-color: #FFFFFF;\n",
              "      --disabled-bg-color: #3B4455;\n",
              "      --disabled-fill-color: #666;\n",
              "  }\n",
              "\n",
              "  .colab-df-quickchart {\n",
              "    background-color: var(--bg-color);\n",
              "    border: none;\n",
              "    border-radius: 50%;\n",
              "    cursor: pointer;\n",
              "    display: none;\n",
              "    fill: var(--fill-color);\n",
              "    height: 32px;\n",
              "    padding: 0;\n",
              "    width: 32px;\n",
              "  }\n",
              "\n",
              "  .colab-df-quickchart:hover {\n",
              "    background-color: var(--hover-bg-color);\n",
              "    box-shadow: 0 1px 2px rgba(60, 64, 67, 0.3), 0 1px 3px 1px rgba(60, 64, 67, 0.15);\n",
              "    fill: var(--button-hover-fill-color);\n",
              "  }\n",
              "\n",
              "  .colab-df-quickchart-complete:disabled,\n",
              "  .colab-df-quickchart-complete:disabled:hover {\n",
              "    background-color: var(--disabled-bg-color);\n",
              "    fill: var(--disabled-fill-color);\n",
              "    box-shadow: none;\n",
              "  }\n",
              "\n",
              "  .colab-df-spinner {\n",
              "    border: 2px solid var(--fill-color);\n",
              "    border-color: transparent;\n",
              "    border-bottom-color: var(--fill-color);\n",
              "    animation:\n",
              "      spin 1s steps(1) infinite;\n",
              "  }\n",
              "\n",
              "  @keyframes spin {\n",
              "    0% {\n",
              "      border-color: transparent;\n",
              "      border-bottom-color: var(--fill-color);\n",
              "      border-left-color: var(--fill-color);\n",
              "    }\n",
              "    20% {\n",
              "      border-color: transparent;\n",
              "      border-left-color: var(--fill-color);\n",
              "      border-top-color: var(--fill-color);\n",
              "    }\n",
              "    30% {\n",
              "      border-color: transparent;\n",
              "      border-left-color: var(--fill-color);\n",
              "      border-top-color: var(--fill-color);\n",
              "      border-right-color: var(--fill-color);\n",
              "    }\n",
              "    40% {\n",
              "      border-color: transparent;\n",
              "      border-right-color: var(--fill-color);\n",
              "      border-top-color: var(--fill-color);\n",
              "    }\n",
              "    60% {\n",
              "      border-color: transparent;\n",
              "      border-right-color: var(--fill-color);\n",
              "    }\n",
              "    80% {\n",
              "      border-color: transparent;\n",
              "      border-right-color: var(--fill-color);\n",
              "      border-bottom-color: var(--fill-color);\n",
              "    }\n",
              "    90% {\n",
              "      border-color: transparent;\n",
              "      border-bottom-color: var(--fill-color);\n",
              "    }\n",
              "  }\n",
              "</style>\n",
              "\n",
              "  <script>\n",
              "    async function quickchart(key) {\n",
              "      const quickchartButtonEl =\n",
              "        document.querySelector('#' + key + ' button');\n",
              "      quickchartButtonEl.disabled = true;  // To prevent multiple clicks.\n",
              "      quickchartButtonEl.classList.add('colab-df-spinner');\n",
              "      try {\n",
              "        const charts = await google.colab.kernel.invokeFunction(\n",
              "            'suggestCharts', [key], {});\n",
              "      } catch (error) {\n",
              "        console.error('Error during call to suggestCharts:', error);\n",
              "      }\n",
              "      quickchartButtonEl.classList.remove('colab-df-spinner');\n",
              "      quickchartButtonEl.classList.add('colab-df-quickchart-complete');\n",
              "    }\n",
              "    (() => {\n",
              "      let quickchartButtonEl =\n",
              "        document.querySelector('#df-3e676fc6-2f39-40a4-aeb8-3154e8c36771 button');\n",
              "      quickchartButtonEl.style.display =\n",
              "        google.colab.kernel.accessAllowed ? 'block' : 'none';\n",
              "    })();\n",
              "  </script>\n",
              "</div>\n",
              "\n",
              "    </div>\n",
              "  </div>\n"
            ],
            "application/vnd.google.colaboratory.intrinsic+json": {
              "type": "dataframe",
              "variable_name": "data",
              "summary": "{\n  \"name\": \"data\",\n  \"rows\": 52,\n  \"fields\": [\n    {\n      \"column\": \"YEAR\",\n      \"properties\": {\n        \"dtype\": \"int32\",\n        \"num_unique_values\": 52,\n        \"samples\": [\n          1987,\n          2009,\n          2015\n        ],\n        \"semantic_type\": \"\",\n        \"description\": \"\"\n      }\n    },\n    {\n      \"column\": \"SNOW\",\n      \"properties\": {\n        \"dtype\": \"number\",\n        \"std\": 26.544496564982847,\n        \"min\": 12.5,\n        \"max\": 141.1,\n        \"num_unique_values\": 51,\n        \"samples\": [\n          31.1,\n          85.8,\n          141.1\n        ],\n        \"semantic_type\": \"\",\n        \"description\": \"\"\n      }\n    }\n  ]\n}"
            }
          },
          "metadata": {},
          "execution_count": 16
        }
      ],
      "source": [
        "data = snow.reset_index()\n",
        "data.head(3)"
      ]
    },
    {
      "cell_type": "markdown",
      "metadata": {
        "id": "d6-_kia1DIL6"
      },
      "source": [
        "The result is a `DataFrame` with two columns, `YEAR` and `SNOW`, in a format we can use with StatsModels.\n",
        "\n",
        "As we did in the previous chapter, I'll center the data by subtracting off the mean."
      ]
    },
    {
      "cell_type": "code",
      "execution_count": 17,
      "metadata": {
        "execution": {
          "iopub.execute_input": "2021-04-16T19:38:44.994657Z",
          "iopub.status.busy": "2021-04-16T19:38:44.993833Z",
          "iopub.status.idle": "2021-04-16T19:38:44.996662Z",
          "shell.execute_reply": "2021-04-16T19:38:44.997259Z"
        },
        "id": "LRuUQI3JDIL6",
        "colab": {
          "base_uri": "https://localhost:8080/"
        },
        "outputId": "9b32cd99-b666-4df7-c546-9203a2662349"
      },
      "outputs": [
        {
          "output_type": "execute_result",
          "data": {
            "text/plain": [
              "1994"
            ]
          },
          "metadata": {},
          "execution_count": 17
        }
      ],
      "source": [
        "offset = round(data['YEAR'].mean())\n",
        "data['x'] = data['YEAR'] - offset\n",
        "offset"
      ]
    },
    {
      "cell_type": "markdown",
      "metadata": {
        "id": "5TxhTZwXDIL6"
      },
      "source": [
        "And I'll add a column to `data` so the dependent variable has a standard name."
      ]
    },
    {
      "cell_type": "code",
      "execution_count": 19,
      "metadata": {
        "execution": {
          "iopub.execute_input": "2021-04-16T19:38:45.002030Z",
          "iopub.status.busy": "2021-04-16T19:38:45.001189Z",
          "iopub.status.idle": "2021-04-16T19:38:45.002832Z",
          "shell.execute_reply": "2021-04-16T19:38:45.003449Z"
        },
        "id": "gRz02_mHDIL6"
      },
      "outputs": [],
      "source": [
        "data['y'] = data['SNOW']"
      ]
    },
    {
      "cell_type": "markdown",
      "metadata": {
        "id": "4IIkCkyTDIL-"
      },
      "source": [
        "Now, we can use StatsModels to compute the least squares fit to the data and estimate `slope` and `intercept`."
      ]
    },
    {
      "cell_type": "code",
      "execution_count": 20,
      "metadata": {
        "execution": {
          "iopub.execute_input": "2021-04-16T19:38:45.007222Z",
          "iopub.status.busy": "2021-04-16T19:38:45.006101Z",
          "iopub.status.idle": "2021-04-16T19:38:45.077844Z",
          "shell.execute_reply": "2021-04-16T19:38:45.078260Z"
        },
        "id": "6AngO48bDIL_",
        "colab": {
          "base_uri": "https://localhost:8080/"
        },
        "outputId": "b5673694-b147-4216-b41c-a96b57a30614"
      },
      "outputs": [
        {
          "output_type": "execute_result",
          "data": {
            "text/plain": [
              "Intercept    64.446325\n",
              "x             0.511880\n",
              "dtype: float64"
            ]
          },
          "metadata": {},
          "execution_count": 20
        }
      ],
      "source": [
        "import statsmodels.formula.api as smf\n",
        "\n",
        "formula = 'y ~ x'\n",
        "results = smf.ols(formula, data=data).fit()\n",
        "results.params"
      ]
    },
    {
      "cell_type": "markdown",
      "metadata": {
        "id": "pgeBzxFuDIL_"
      },
      "source": [
        "The intercept, about 64 inches, is the expected snowfall when `x=0`, which is the beginning of 1994.\n",
        "The estimated slope indicates that total snowfall is increasing at a rate of about 0.5 inches per year.  \n",
        "\n",
        "`results` also provides `resid`, which is an array of residuals, that is, the differences between the data and the fitted line.\n",
        "The standard deviation of the residuals is an estimate of `sigma`."
      ]
    },
    {
      "cell_type": "code",
      "execution_count": 21,
      "metadata": {
        "execution": {
          "iopub.execute_input": "2021-04-16T19:38:45.082559Z",
          "iopub.status.busy": "2021-04-16T19:38:45.081856Z",
          "iopub.status.idle": "2021-04-16T19:38:45.085047Z",
          "shell.execute_reply": "2021-04-16T19:38:45.084586Z"
        },
        "id": "vfYmiItPDIL_",
        "colab": {
          "base_uri": "https://localhost:8080/"
        },
        "outputId": "80c57dba-384c-4c62-9c80-4d6db45002d7"
      },
      "outputs": [
        {
          "output_type": "execute_result",
          "data": {
            "text/plain": [
              "25.385680731210623"
            ]
          },
          "metadata": {},
          "execution_count": 21
        }
      ],
      "source": [
        "results.resid.std()"
      ]
    },
    {
      "cell_type": "markdown",
      "metadata": {
        "id": "1TnXH2DPDIL_"
      },
      "source": [
        "We'll use these estimates to choose prior distributions for the parameters."
      ]
    },
    {
      "cell_type": "markdown",
      "metadata": {
        "id": "CavY19SdDIL_"
      },
      "source": [
        "## Priors\n",
        "\n",
        "I'll use uniform distributions for all three parameters."
      ]
    },
    {
      "cell_type": "code",
      "execution_count": 22,
      "metadata": {
        "execution": {
          "iopub.execute_input": "2021-04-16T19:38:45.090543Z",
          "iopub.status.busy": "2021-04-16T19:38:45.089992Z",
          "iopub.status.idle": "2021-04-16T19:38:45.091913Z",
          "shell.execute_reply": "2021-04-16T19:38:45.092335Z"
        },
        "id": "5DAQh4LLDIL_"
      },
      "outputs": [],
      "source": [
        "import numpy as np\n",
        "from utils import make_uniform\n",
        "\n",
        "qs = np.linspace(-0.5, 1.5, 51)\n",
        "prior_slope = make_uniform(qs, 'Slope')"
      ]
    },
    {
      "cell_type": "code",
      "execution_count": 23,
      "metadata": {
        "execution": {
          "iopub.execute_input": "2021-04-16T19:38:45.097282Z",
          "iopub.status.busy": "2021-04-16T19:38:45.096524Z",
          "iopub.status.idle": "2021-04-16T19:38:45.098971Z",
          "shell.execute_reply": "2021-04-16T19:38:45.098521Z"
        },
        "id": "YCth5lm8DIL_"
      },
      "outputs": [],
      "source": [
        "qs = np.linspace(54, 75, 41)\n",
        "prior_inter = make_uniform(qs, 'Intercept')"
      ]
    },
    {
      "cell_type": "code",
      "execution_count": 24,
      "metadata": {
        "execution": {
          "iopub.execute_input": "2021-04-16T19:38:45.103775Z",
          "iopub.status.busy": "2021-04-16T19:38:45.103183Z",
          "iopub.status.idle": "2021-04-16T19:38:45.105613Z",
          "shell.execute_reply": "2021-04-16T19:38:45.105017Z"
        },
        "id": "JsYP3YouDIL_"
      },
      "outputs": [],
      "source": [
        "qs = np.linspace(20, 35, 31)\n",
        "prior_sigma = make_uniform(qs, 'Sigma')"
      ]
    },
    {
      "cell_type": "markdown",
      "metadata": {
        "id": "NIGihb6FDIL_"
      },
      "source": [
        "I made the prior distributions different lengths for two reasons.  First, if we make a mistake and use the wrong distribution, it will be easier to catch the error if they are all different lengths.\n",
        "\n",
        "Second, it provides more precision for the most important parameter, `slope`, and spends less computational effort on the least important, `sigma`.\n",
        "\n",
        "In <<_ThreeParameterModel>> we made a joint distribution with three parameters.  I'll wrap that process in a function:"
      ]
    },
    {
      "cell_type": "code",
      "execution_count": 25,
      "metadata": {
        "execution": {
          "iopub.execute_input": "2021-04-16T19:38:45.110768Z",
          "iopub.status.busy": "2021-04-16T19:38:45.109913Z",
          "iopub.status.idle": "2021-04-16T19:38:45.111841Z",
          "shell.execute_reply": "2021-04-16T19:38:45.112302Z"
        },
        "id": "FBN-XYZRDIL_"
      },
      "outputs": [],
      "source": [
        "from utils import make_joint\n",
        "\n",
        "def make_joint3(pmf1, pmf2, pmf3):\n",
        "    \"\"\"Make a joint distribution with three parameters.\"\"\"\n",
        "    joint2 = make_joint(pmf2, pmf1).stack()\n",
        "    joint3 = make_joint(pmf3, joint2).stack()\n",
        "    return Pmf(joint3)"
      ]
    },
    {
      "cell_type": "markdown",
      "metadata": {
        "id": "0cOjUpJ-DIL_"
      },
      "source": [
        "And use it to make a `Pmf` that represents the joint distribution of the three parameters."
      ]
    },
    {
      "cell_type": "code",
      "execution_count": 26,
      "metadata": {
        "execution": {
          "iopub.execute_input": "2021-04-16T19:38:45.116443Z",
          "iopub.status.busy": "2021-04-16T19:38:45.115752Z",
          "iopub.status.idle": "2021-04-16T19:38:45.129978Z",
          "shell.execute_reply": "2021-04-16T19:38:45.129613Z"
        },
        "id": "XjPc6pZrDIL_",
        "colab": {
          "base_uri": "https://localhost:8080/",
          "height": 175
        },
        "outputId": "3cdc39d5-fc61-4a09-946d-5ce68c58e13e"
      },
      "outputs": [
        {
          "output_type": "execute_result",
          "data": {
            "text/plain": [
              "Slope  Intercept  Sigma\n",
              "-0.5   54.0       20.0     0.000015\n",
              "                  20.5     0.000015\n",
              "                  21.0     0.000015\n",
              "dtype: float64"
            ],
            "text/html": [
              "<div>\n",
              "<style scoped>\n",
              "    .dataframe tbody tr th:only-of-type {\n",
              "        vertical-align: middle;\n",
              "    }\n",
              "\n",
              "    .dataframe tbody tr th {\n",
              "        vertical-align: top;\n",
              "    }\n",
              "\n",
              "    .dataframe thead th {\n",
              "        text-align: right;\n",
              "    }\n",
              "</style>\n",
              "<table border=\"1\" class=\"dataframe\">\n",
              "  <thead>\n",
              "    <tr style=\"text-align: right;\">\n",
              "      <th></th>\n",
              "      <th></th>\n",
              "      <th></th>\n",
              "      <th>probs</th>\n",
              "    </tr>\n",
              "    <tr>\n",
              "      <th>Slope</th>\n",
              "      <th>Intercept</th>\n",
              "      <th>Sigma</th>\n",
              "      <th></th>\n",
              "    </tr>\n",
              "  </thead>\n",
              "  <tbody>\n",
              "    <tr>\n",
              "      <th rowspan=\"3\" valign=\"top\">-0.5</th>\n",
              "      <th rowspan=\"3\" valign=\"top\">54.0</th>\n",
              "      <th>20.0</th>\n",
              "      <td>0.000015</td>\n",
              "    </tr>\n",
              "    <tr>\n",
              "      <th>20.5</th>\n",
              "      <td>0.000015</td>\n",
              "    </tr>\n",
              "    <tr>\n",
              "      <th>21.0</th>\n",
              "      <td>0.000015</td>\n",
              "    </tr>\n",
              "  </tbody>\n",
              "</table>\n",
              "</div>"
            ]
          },
          "metadata": {},
          "execution_count": 26
        }
      ],
      "source": [
        "prior = make_joint3(prior_slope, prior_inter, prior_sigma)\n",
        "prior.head(3)"
      ]
    },
    {
      "cell_type": "markdown",
      "metadata": {
        "id": "OTKbkvC6DIL_"
      },
      "source": [
        "The index of `Pmf` has three columns, containing values of `slope`, `inter`, and `sigma`, in that order.\n",
        "\n",
        "With three parameters, the size of the joint distribution starts to get big.  Specifically, it is the product of the lengths of the prior distributions.  In this example, the prior distributions have 51, 41, and 31 values, so the length of the joint prior is 64,821."
      ]
    },
    {
      "cell_type": "code",
      "execution_count": 27,
      "metadata": {
        "execution": {
          "iopub.execute_input": "2021-04-16T19:38:45.133803Z",
          "iopub.status.busy": "2021-04-16T19:38:45.133137Z",
          "iopub.status.idle": "2021-04-16T19:38:45.135815Z",
          "shell.execute_reply": "2021-04-16T19:38:45.136173Z"
        },
        "tags": [],
        "id": "0LUXU4WVDIL_",
        "colab": {
          "base_uri": "https://localhost:8080/"
        },
        "outputId": "f2768bba-93b5-4f26-d4cc-81cfaeef81fd"
      },
      "outputs": [
        {
          "output_type": "execute_result",
          "data": {
            "text/plain": [
              "(51, 41, 31)"
            ]
          },
          "metadata": {},
          "execution_count": 27
        }
      ],
      "source": [
        "len(prior_slope), len(prior_inter), len(prior_sigma)"
      ]
    },
    {
      "cell_type": "code",
      "execution_count": 28,
      "metadata": {
        "execution": {
          "iopub.execute_input": "2021-04-16T19:38:45.139897Z",
          "iopub.status.busy": "2021-04-16T19:38:45.139320Z",
          "iopub.status.idle": "2021-04-16T19:38:45.141694Z",
          "shell.execute_reply": "2021-04-16T19:38:45.142063Z"
        },
        "tags": [],
        "id": "3XGFRuggDIL_",
        "colab": {
          "base_uri": "https://localhost:8080/"
        },
        "outputId": "cab2190e-7e6a-47a6-da61-9ac8458ebc70"
      },
      "outputs": [
        {
          "output_type": "execute_result",
          "data": {
            "text/plain": [
              "64821"
            ]
          },
          "metadata": {},
          "execution_count": 28
        }
      ],
      "source": [
        "len(prior_slope) * len(prior_inter) * len(prior_sigma)"
      ]
    },
    {
      "cell_type": "code",
      "execution_count": 29,
      "metadata": {
        "execution": {
          "iopub.execute_input": "2021-04-16T19:38:45.145315Z",
          "iopub.status.busy": "2021-04-16T19:38:45.144835Z",
          "iopub.status.idle": "2021-04-16T19:38:45.147028Z",
          "shell.execute_reply": "2021-04-16T19:38:45.147371Z"
        },
        "tags": [],
        "id": "Enjl_LY8DIL_",
        "colab": {
          "base_uri": "https://localhost:8080/"
        },
        "outputId": "e52be490-d138-4f54-852e-c175bd9366ab"
      },
      "outputs": [
        {
          "output_type": "execute_result",
          "data": {
            "text/plain": [
              "64821"
            ]
          },
          "metadata": {},
          "execution_count": 29
        }
      ],
      "source": [
        "len(prior)"
      ]
    },
    {
      "cell_type": "markdown",
      "metadata": {
        "id": "uaWu9UnWDIMA"
      },
      "source": [
        "## Likelihood\n",
        "\n",
        "Now we'll compute the likelihood of the data.\n",
        "To demonstrate the process, let's assume temporarily that the parameters are known."
      ]
    },
    {
      "cell_type": "code",
      "execution_count": 30,
      "metadata": {
        "execution": {
          "iopub.execute_input": "2021-04-16T19:38:45.150860Z",
          "iopub.status.busy": "2021-04-16T19:38:45.150270Z",
          "iopub.status.idle": "2021-04-16T19:38:45.153978Z",
          "shell.execute_reply": "2021-04-16T19:38:45.153346Z"
        },
        "id": "pknRx5cJDIMA"
      },
      "outputs": [],
      "source": [
        "inter = 64\n",
        "slope = 0.51\n",
        "sigma = 25"
      ]
    },
    {
      "cell_type": "markdown",
      "metadata": {
        "id": "ivYa4adPDIMA"
      },
      "source": [
        "I'll extract the `xs` and `ys` from `data` as `Series` objects:"
      ]
    },
    {
      "cell_type": "code",
      "execution_count": 31,
      "metadata": {
        "execution": {
          "iopub.execute_input": "2021-04-16T19:38:45.157932Z",
          "iopub.status.busy": "2021-04-16T19:38:45.157287Z",
          "iopub.status.idle": "2021-04-16T19:38:45.159173Z",
          "shell.execute_reply": "2021-04-16T19:38:45.159629Z"
        },
        "id": "U3jydLk5DIMA"
      },
      "outputs": [],
      "source": [
        "xs = data['x']\n",
        "ys = data['y']"
      ]
    },
    {
      "cell_type": "markdown",
      "metadata": {
        "id": "pUzJ6isvDIMA"
      },
      "source": [
        "And compute the \"residuals\", which are the differences between the actual values, `ys`, and the values we expect based on `slope` and `inter`."
      ]
    },
    {
      "cell_type": "code",
      "execution_count": 32,
      "metadata": {
        "execution": {
          "iopub.execute_input": "2021-04-16T19:38:45.164698Z",
          "iopub.status.busy": "2021-04-16T19:38:45.163879Z",
          "iopub.status.idle": "2021-04-16T19:38:45.166494Z",
          "shell.execute_reply": "2021-04-16T19:38:45.165985Z"
        },
        "id": "ebORmmtODIMA"
      },
      "outputs": [],
      "source": [
        "expected = slope * xs + inter\n",
        "resid = ys - expected"
      ]
    },
    {
      "cell_type": "markdown",
      "metadata": {
        "id": "Ft-FwsNADIMA"
      },
      "source": [
        "According to the model, the residuals should follow a normal distribution with mean 0 and standard deviation `sigma`.  So we can compute the likelihood of each residual value using `norm` from SciPy."
      ]
    },
    {
      "cell_type": "code",
      "execution_count": 33,
      "metadata": {
        "execution": {
          "iopub.execute_input": "2021-04-16T19:38:45.171835Z",
          "iopub.status.busy": "2021-04-16T19:38:45.171084Z",
          "iopub.status.idle": "2021-04-16T19:38:45.173013Z",
          "shell.execute_reply": "2021-04-16T19:38:45.173490Z"
        },
        "id": "pkeH_XAhDIMA"
      },
      "outputs": [],
      "source": [
        "densities = norm(0, sigma).pdf(resid)"
      ]
    },
    {
      "cell_type": "markdown",
      "metadata": {
        "id": "5MJNhIsGDIMA"
      },
      "source": [
        "The result is an array of probability densities, one for each element of the dataset; their product is the likelihood of the data."
      ]
    },
    {
      "cell_type": "code",
      "execution_count": 34,
      "metadata": {
        "execution": {
          "iopub.execute_input": "2021-04-16T19:38:45.177823Z",
          "iopub.status.busy": "2021-04-16T19:38:45.176986Z",
          "iopub.status.idle": "2021-04-16T19:38:45.179736Z",
          "shell.execute_reply": "2021-04-16T19:38:45.180173Z"
        },
        "id": "rnkU446TDIMA",
        "colab": {
          "base_uri": "https://localhost:8080/"
        },
        "outputId": "2127869b-b081-41f9-ade3-7ce640d03f94"
      },
      "outputs": [
        {
          "output_type": "execute_result",
          "data": {
            "text/plain": [
              "1.3551948769060997e-105"
            ]
          },
          "metadata": {},
          "execution_count": 34
        }
      ],
      "source": [
        "likelihood = densities.prod()\n",
        "likelihood"
      ]
    },
    {
      "cell_type": "markdown",
      "metadata": {
        "id": "KYeGq8HfDIMA"
      },
      "source": [
        "As we saw in the previous chapter, the likelihood of any particular dataset tends to be small.\n",
        "If it's too small, we might exceed the limits of floating-point arithmetic.\n",
        "When that happens, we can avoid the problem by computing likelihoods under a log transform.\n",
        "But in this example that's not necessary."
      ]
    },
    {
      "cell_type": "markdown",
      "metadata": {
        "id": "6P4uWQzoDIMA"
      },
      "source": [
        "## The Update\n",
        "\n",
        "Now we're ready to do the update.  First, we need to compute the likelihood of the data for each possible set of parameters."
      ]
    },
    {
      "cell_type": "code",
      "execution_count": 35,
      "metadata": {
        "execution": {
          "iopub.execute_input": "2021-04-16T19:38:45.185541Z",
          "iopub.status.busy": "2021-04-16T19:38:45.184543Z",
          "iopub.status.idle": "2021-04-16T19:39:24.492328Z",
          "shell.execute_reply": "2021-04-16T19:39:24.491834Z"
        },
        "id": "Iws84wsYDIMA"
      },
      "outputs": [],
      "source": [
        "likelihood = prior.copy()\n",
        "\n",
        "for slope, inter, sigma in prior.index:\n",
        "    expected = slope * xs + inter\n",
        "    resid = ys - expected\n",
        "    densities = norm.pdf(resid, 0, sigma)\n",
        "    likelihood[slope, inter, sigma] = densities.prod()"
      ]
    },
    {
      "cell_type": "markdown",
      "metadata": {
        "id": "qzW5Y8tYDIMA"
      },
      "source": [
        "This computation takes longer than many of the previous examples.\n",
        "We are approaching the limit of what we can do with grid approximations.\n",
        "\n",
        "Nevertheless, we can do the update in the usual way:"
      ]
    },
    {
      "cell_type": "code",
      "execution_count": 36,
      "metadata": {
        "execution": {
          "iopub.execute_input": "2021-04-16T19:39:24.496186Z",
          "iopub.status.busy": "2021-04-16T19:39:24.495332Z",
          "iopub.status.idle": "2021-04-16T19:39:24.505907Z",
          "shell.execute_reply": "2021-04-16T19:39:24.506555Z"
        },
        "tags": [],
        "id": "P9zXYekWDIMA",
        "colab": {
          "base_uri": "https://localhost:8080/"
        },
        "outputId": "652830b5-50e4-432b-c696-b75d17978f3b"
      },
      "outputs": [
        {
          "output_type": "execute_result",
          "data": {
            "text/plain": [
              "6.769832641515688e-107"
            ]
          },
          "metadata": {},
          "execution_count": 36
        }
      ],
      "source": [
        "posterior = prior * likelihood\n",
        "posterior.normalize()"
      ]
    },
    {
      "cell_type": "markdown",
      "metadata": {
        "id": "fMoD_lp1DIMA"
      },
      "source": [
        "The result is a `Pmf` with a three-level index containing values of `slope`, `inter`, and `sigma`.\n",
        "To get the marginal distributions from the joint posterior, we can use `Pmf.marginal`, which we saw in <<_ThreeParameterModel>>."
      ]
    },
    {
      "cell_type": "code",
      "execution_count": 37,
      "metadata": {
        "execution": {
          "iopub.execute_input": "2021-04-16T19:39:24.511934Z",
          "iopub.status.busy": "2021-04-16T19:39:24.510975Z",
          "iopub.status.idle": "2021-04-16T19:39:24.521557Z",
          "shell.execute_reply": "2021-04-16T19:39:24.521978Z"
        },
        "id": "Ja3yGEvTDIMA"
      },
      "outputs": [],
      "source": [
        "posterior_slope = posterior.marginal(0)\n",
        "posterior_inter = posterior.marginal(1)\n",
        "posterior_sigma = posterior.marginal(2)"
      ]
    },
    {
      "cell_type": "markdown",
      "metadata": {
        "id": "Yj5fUakSDIMB"
      },
      "source": [
        "Here's the posterior distribution for `sigma`:"
      ]
    },
    {
      "cell_type": "code",
      "execution_count": 38,
      "metadata": {
        "execution": {
          "iopub.execute_input": "2021-04-16T19:39:24.565248Z",
          "iopub.status.busy": "2021-04-16T19:39:24.537773Z",
          "iopub.status.idle": "2021-04-16T19:39:24.888743Z",
          "shell.execute_reply": "2021-04-16T19:39:24.888197Z"
        },
        "tags": [],
        "id": "Td3k50S1DIMC",
        "colab": {
          "base_uri": "https://localhost:8080/",
          "height": 487
        },
        "outputId": "d5f127da-6639-49df-b425-499189c25848"
      },
      "outputs": [
        {
          "output_type": "display_data",
          "data": {
            "text/plain": [
              "<Figure size 640x480 with 1 Axes>"
            ],
            "image/png": "[encoded data removed]"
          },
          "metadata": {}
        }
      ],
      "source": [
        "posterior_sigma.plot()\n",
        "\n",
        "decorate(xlabel='$\\sigma$, standard deviation of $\\epsilon$',\n",
        "         ylabel='PDF',\n",
        "         title='Posterior marginal distribution of $\\sigma$')"
      ]
    },
    {
      "cell_type": "markdown",
      "metadata": {
        "id": "iQ2biM_2DIMC"
      },
      "source": [
        "The most likely values for `sigma` are near 26 inches, which is consistent with our estimate based on the standard deviation of the data.\n",
        "\n",
        "However, to say whether snowfall is increasing or decreasing, we don't really care about `sigma`.  It is a \"nuisance parameter\", so-called because we have to estimate it as part of the model, but we don't need it to answer the questions we are interested in.\n",
        "\n",
        "Nevertheless, it is good to check the marginal distributions to make sure\n",
        "\n",
        "* The location is consistent with our expectations, and\n",
        "\n",
        "* The posterior probabilities are near 0 at the extremes of the range, which indicates that the prior distribution covers all parameters with non-negligible probability.\n",
        "\n",
        "In this example, the posterior distribution of `sigma` looks fine."
      ]
    },
    {
      "cell_type": "markdown",
      "metadata": {
        "id": "h9vt08xDDIMC"
      },
      "source": [
        "Here's the posterior distribution of `inter`:"
      ]
    },
    {
      "cell_type": "code",
      "execution_count": 39,
      "metadata": {
        "execution": {
          "iopub.execute_input": "2021-04-16T19:39:24.912873Z",
          "iopub.status.busy": "2021-04-16T19:39:24.909890Z",
          "iopub.status.idle": "2021-04-16T19:39:25.019756Z",
          "shell.execute_reply": "2021-04-16T19:39:25.019133Z"
        },
        "tags": [],
        "id": "A6rk4ssfDIMC",
        "colab": {
          "base_uri": "https://localhost:8080/",
          "height": 487
        },
        "outputId": "4d43efe6-e151-4516-d1a4-7054229c32a2"
      },
      "outputs": [
        {
          "output_type": "display_data",
          "data": {
            "text/plain": [
              "<Figure size 640x480 with 1 Axes>"
            ],
            "image/png": "[encoded data removed]"
          },
          "metadata": {}
        }
      ],
      "source": [
        "posterior_inter.plot(color='C1')\n",
        "decorate(xlabel='intercept (inches)',\n",
        "         ylabel='PDF',\n",
        "         title='Posterior marginal distribution of intercept')"
      ]
    },
    {
      "cell_type": "code",
      "execution_count": 40,
      "metadata": {
        "execution": {
          "iopub.execute_input": "2021-04-16T19:39:25.023742Z",
          "iopub.status.busy": "2021-04-16T19:39:25.023322Z",
          "iopub.status.idle": "2021-04-16T19:39:25.027308Z",
          "shell.execute_reply": "2021-04-16T19:39:25.027853Z"
        },
        "tags": [],
        "id": "PwVk-ePgDIMC",
        "colab": {
          "base_uri": "https://localhost:8080/"
        },
        "outputId": "52f352ca-0885-4115-a18c-2c6aebcd2086"
      },
      "outputs": [
        {
          "output_type": "stream",
          "name": "stdout",
          "text": [
            "64.448 [58.725 70.275]\n"
          ]
        }
      ],
      "source": [
        "from utils import summarize\n",
        "\n",
        "summarize(posterior_inter)"
      ]
    },
    {
      "cell_type": "markdown",
      "metadata": {
        "id": "3AO-xH6uDIMC"
      },
      "source": [
        "The posterior mean is about 64 inches, which is the expected amount of snow during the year at the midpoint of the range, 1994.\n",
        "\n",
        "And finally, here's the posterior distribution of `slope`:"
      ]
    },
    {
      "cell_type": "code",
      "execution_count": 41,
      "metadata": {
        "execution": {
          "iopub.execute_input": "2021-04-16T19:39:25.063785Z",
          "iopub.status.busy": "2021-04-16T19:39:25.044731Z",
          "iopub.status.idle": "2021-04-16T19:39:25.212957Z",
          "shell.execute_reply": "2021-04-16T19:39:25.213516Z"
        },
        "tags": [],
        "id": "ry_SMQXSDIMC",
        "colab": {
          "base_uri": "https://localhost:8080/",
          "height": 487
        },
        "outputId": "ef0f685e-68d3-4c09-c3b1-33fe96d110e1"
      },
      "outputs": [
        {
          "output_type": "display_data",
          "data": {
            "text/plain": [
              "<Figure size 640x480 with 1 Axes>"
            ],
            "image/png": "[encoded data removed]"
          },
          "metadata": {}
        }
      ],
      "source": [
        "posterior_slope.plot(color='C4')\n",
        "decorate(xlabel='Slope (inches per year)',\n",
        "         ylabel='PDF',\n",
        "         title='Posterior marginal distribution of slope')"
      ]
    },
    {
      "cell_type": "code",
      "execution_count": 42,
      "metadata": {
        "execution": {
          "iopub.execute_input": "2021-04-16T19:39:25.217691Z",
          "iopub.status.busy": "2021-04-16T19:39:25.217238Z",
          "iopub.status.idle": "2021-04-16T19:39:25.219918Z",
          "shell.execute_reply": "2021-04-16T19:39:25.219480Z"
        },
        "tags": [],
        "id": "xfJslct5DIMC",
        "colab": {
          "base_uri": "https://localhost:8080/"
        },
        "outputId": "65fc37ca-ea77-4ed9-99da-ea159aa09bba"
      },
      "outputs": [
        {
          "output_type": "stream",
          "name": "stdout",
          "text": [
            "0.512 [0.1 0.9]\n"
          ]
        }
      ],
      "source": [
        "summarize(posterior_slope)"
      ]
    },
    {
      "cell_type": "markdown",
      "metadata": {
        "id": "a4kZblFmDIMC"
      },
      "source": [
        "The posterior mean is about 0.51 inches, which is consistent with the estimate we got from least squared regression.  \n",
        "\n",
        "The 90% credible interval is from 0.1 to 0.9, which indicates that our uncertainty about this estimate is pretty high.  In fact, there is still a small posterior probability (about 2\\%) that the slope is negative."
      ]
    },
    {
      "cell_type": "code",
      "execution_count": 43,
      "metadata": {
        "execution": {
          "iopub.execute_input": "2021-04-16T19:39:25.224069Z",
          "iopub.status.busy": "2021-04-16T19:39:25.223483Z",
          "iopub.status.idle": "2021-04-16T19:39:25.226209Z",
          "shell.execute_reply": "2021-04-16T19:39:25.225770Z"
        },
        "tags": [],
        "id": "tychdHsUDIMC",
        "colab": {
          "base_uri": "https://localhost:8080/"
        },
        "outputId": "3c649a55-6ebb-4c7c-9caa-b150d47b77cf"
      },
      "outputs": [
        {
          "output_type": "execute_result",
          "data": {
            "text/plain": [
              "array(0.01840519)"
            ]
          },
          "metadata": {},
          "execution_count": 43
        }
      ],
      "source": [
        "posterior_slope.make_cdf()(0)"
      ]
    },
    {
      "cell_type": "markdown",
      "metadata": {
        "id": "eHwauIdKDIMC"
      },
      "source": [
        "However, it is more likely that my conjecture was wrong: we are actually getting more snow around here than we used to, increasing at a rate of about a half-inch per year, which is substantial.  On average, we get an additional 25 inches of snow per year than we did when I was young.\n",
        "\n",
        "This example shows that with slow-moving trends and noisy data, your instincts can be misleading.  \n",
        "\n",
        "Now, you might suspect that I overestimate the amount of snow when I was young because I enjoyed it, and underestimate it now because I don't.  But you would be mistaken.\n",
        "\n",
        "During the Blizzard of 1978, we did not have a snowblower and my brother and I had to shovel.  My sister got a pass for no good reason.  Our driveway was about 60 feet long and three cars wide near the garage.  And we had to shovel Mr. Crocker's driveway, too, for which we were not allowed to accept payment.  Furthermore, as I recall it was during this excavation that I accidentally hit my brother with a shovel on the head, and it bled a lot because, you know, scalp wounds.\n",
        "\n",
        "Anyway, the point is that I don't think I overestimate the amount of snow when I was young because I have fond memories of it."
      ]
    },
    {
      "cell_type": "markdown",
      "metadata": {
        "tags": [],
        "id": "3x1A9bMpDIMC"
      },
      "source": [
        "## Optimization\n",
        "\n",
        "The way we computed the likelihood in the previous section was pretty slow.  The problem is that we looped through every possible set of parameters in the prior distribution, and there were more than 60,000 of them.\n",
        "\n",
        "If we can do more work per iteration, and run the loop fewer times, we expect it to go faster.\n",
        "\n",
        "In order to do that, I'll unstack the prior distribution:"
      ]
    },
    {
      "cell_type": "code",
      "execution_count": 44,
      "metadata": {
        "execution": {
          "iopub.execute_input": "2021-04-16T19:39:25.229663Z",
          "iopub.status.busy": "2021-04-16T19:39:25.228880Z",
          "iopub.status.idle": "2021-04-16T19:39:25.265229Z",
          "shell.execute_reply": "2021-04-16T19:39:25.265554Z"
        },
        "tags": [],
        "id": "BgOpbL8IDIMC",
        "colab": {
          "base_uri": "https://localhost:8080/",
          "height": 224
        },
        "outputId": "26dc690f-9df6-458f-8886-59ceb2546b33"
      },
      "outputs": [
        {
          "output_type": "execute_result",
          "data": {
            "text/plain": [
              "Sigma                20.0      20.5      21.0      21.5      22.0      22.5  \\\n",
              "Slope Intercept                                                               \n",
              "-0.5  54.000     0.000015  0.000015  0.000015  0.000015  0.000015  0.000015   \n",
              "      54.525     0.000015  0.000015  0.000015  0.000015  0.000015  0.000015   \n",
              "      55.050     0.000015  0.000015  0.000015  0.000015  0.000015  0.000015   \n",
              "\n",
              "Sigma                23.0      23.5      24.0      24.5  ...      30.5  \\\n",
              "Slope Intercept                                          ...             \n",
              "-0.5  54.000     0.000015  0.000015  0.000015  0.000015  ...  0.000015   \n",
              "      54.525     0.000015  0.000015  0.000015  0.000015  ...  0.000015   \n",
              "      55.050     0.000015  0.000015  0.000015  0.000015  ...  0.000015   \n",
              "\n",
              "Sigma                31.0      31.5      32.0      32.5      33.0      33.5  \\\n",
              "Slope Intercept                                                               \n",
              "-0.5  54.000     0.000015  0.000015  0.000015  0.000015  0.000015  0.000015   \n",
              "      54.525     0.000015  0.000015  0.000015  0.000015  0.000015  0.000015   \n",
              "      55.050     0.000015  0.000015  0.000015  0.000015  0.000015  0.000015   \n",
              "\n",
              "Sigma                34.0      34.5      35.0  \n",
              "Slope Intercept                                \n",
              "-0.5  54.000     0.000015  0.000015  0.000015  \n",
              "      54.525     0.000015  0.000015  0.000015  \n",
              "      55.050     0.000015  0.000015  0.000015  \n",
              "\n",
              "[3 rows x 31 columns]"
            ],
            "text/html": [
              "\n",
              "  <div id=\"df-8b8dfa88-1556-42a5-8e45-eca2dab78d57\" class=\"colab-df-container\">\n",
              "    <div>\n",
              "<style scoped>\n",
              "    .dataframe tbody tr th:only-of-type {\n",
              "        vertical-align: middle;\n",
              "    }\n",
              "\n",
              "    .dataframe tbody tr th {\n",
              "        vertical-align: top;\n",
              "    }\n",
              "\n",
              "    .dataframe thead th {\n",
              "        text-align: right;\n",
              "    }\n",
              "</style>\n",
              "<table border=\"1\" class=\"dataframe\">\n",
              "  <thead>\n",
              "    <tr style=\"text-align: right;\">\n",
              "      <th></th>\n",
              "      <th>Sigma</th>\n",
              "      <th>20.0</th>\n",
              "      <th>20.5</th>\n",
              "      <th>21.0</th>\n",
              "      <th>21.5</th>\n",
              "      <th>22.0</th>\n",
              "      <th>22.5</th>\n",
              "      <th>23.0</th>\n",
              "      <th>23.5</th>\n",
              "      <th>24.0</th>\n",
              "      <th>24.5</th>\n",
              "      <th>...</th>\n",
              "      <th>30.5</th>\n",
              "      <th>31.0</th>\n",
              "      <th>31.5</th>\n",
              "      <th>32.0</th>\n",
              "      <th>32.5</th>\n",
              "      <th>33.0</th>\n",
              "      <th>33.5</th>\n",
              "      <th>34.0</th>\n",
              "      <th>34.5</th>\n",
              "      <th>35.0</th>\n",
              "    </tr>\n",
              "    <tr>\n",
              "      <th>Slope</th>\n",
              "      <th>Intercept</th>\n",
              "      <th></th>\n",
              "      <th></th>\n",
              "      <th></th>\n",
              "      <th></th>\n",
              "      <th></th>\n",
              "      <th></th>\n",
              "      <th></th>\n",
              "      <th></th>\n",
              "      <th></th>\n",
              "      <th></th>\n",
              "      <th></th>\n",
              "      <th></th>\n",
              "      <th></th>\n",
              "      <th></th>\n",
              "      <th></th>\n",
              "      <th></th>\n",
              "      <th></th>\n",
              "      <th></th>\n",
              "      <th></th>\n",
              "      <th></th>\n",
              "      <th></th>\n",
              "    </tr>\n",
              "  </thead>\n",
              "  <tbody>\n",
              "    <tr>\n",
              "      <th rowspan=\"3\" valign=\"top\">-0.5</th>\n",
              "      <th>54.000</th>\n",
              "      <td>0.000015</td>\n",
              "      <td>0.000015</td>\n",
              "      <td>0.000015</td>\n",
              "      <td>0.000015</td>\n",
              "      <td>0.000015</td>\n",
              "      <td>0.000015</td>\n",
              "      <td>0.000015</td>\n",
              "      <td>0.000015</td>\n",
              "      <td>0.000015</td>\n",
              "      <td>0.000015</td>\n",
              "      <td>...</td>\n",
              "      <td>0.000015</td>\n",
              "      <td>0.000015</td>\n",
              "      <td>0.000015</td>\n",
              "      <td>0.000015</td>\n",
              "      <td>0.000015</td>\n",
              "      <td>0.000015</td>\n",
              "      <td>0.000015</td>\n",
              "      <td>0.000015</td>\n",
              "      <td>0.000015</td>\n",
              "      <td>0.000015</td>\n",
              "    </tr>\n",
              "    <tr>\n",
              "      <th>54.525</th>\n",
              "      <td>0.000015</td>\n",
              "      <td>0.000015</td>\n",
              "      <td>0.000015</td>\n",
              "      <td>0.000015</td>\n",
              "      <td>0.000015</td>\n",
              "      <td>0.000015</td>\n",
              "      <td>0.000015</td>\n",
              "      <td>0.000015</td>\n",
              "      <td>0.000015</td>\n",
              "      <td>0.000015</td>\n",
              "      <td>...</td>\n",
              "      <td>0.000015</td>\n",
              "      <td>0.000015</td>\n",
              "      <td>0.000015</td>\n",
              "      <td>0.000015</td>\n",
              "      <td>0.000015</td>\n",
              "      <td>0.000015</td>\n",
              "      <td>0.000015</td>\n",
              "      <td>0.000015</td>\n",
              "      <td>0.000015</td>\n",
              "      <td>0.000015</td>\n",
              "    </tr>\n",
              "    <tr>\n",
              "      <th>55.050</th>\n",
              "      <td>0.000015</td>\n",
              "      <td>0.000015</td>\n",
              "      <td>0.000015</td>\n",
              "      <td>0.000015</td>\n",
              "      <td>0.000015</td>\n",
              "      <td>0.000015</td>\n",
              "      <td>0.000015</td>\n",
              "      <td>0.000015</td>\n",
              "      <td>0.000015</td>\n",
              "      <td>0.000015</td>\n",
              "      <td>...</td>\n",
              "      <td>0.000015</td>\n",
              "      <td>0.000015</td>\n",
              "      <td>0.000015</td>\n",
              "      <td>0.000015</td>\n",
              "      <td>0.000015</td>\n",
              "      <td>0.000015</td>\n",
              "      <td>0.000015</td>\n",
              "      <td>0.000015</td>\n",
              "      <td>0.000015</td>\n",
              "      <td>0.000015</td>\n",
              "    </tr>\n",
              "  </tbody>\n",
              "</table>\n",
              "<p>3 rows × 31 columns</p>\n",
              "</div>\n",
              "    <div class=\"colab-df-buttons\">\n",
              "\n",
              "  <div class=\"colab-df-container\">\n",
              "    <button class=\"colab-df-convert\" onclick=\"convertToInteractive('df-8b8dfa88-1556-42a5-8e45-eca2dab78d57')\"\n",
              "            title=\"Convert this dataframe to an interactive table.\"\n",
              "            style=\"display:none;\">\n",
              "\n",
              "  <svg xmlns=\"http://www.w3.org/2000/svg\" height=\"24px\" viewBox=\"0 -960 960 960\">\n",
              "    <path d=\"M120-120v-720h720v720H120Zm60-500h600v-160H180v160Zm220 220h160v-160H400v160Zm0 220h160v-160H400v160ZM180-400h160v-160H180v160Zm440 0h160v-160H620v160ZM180-180h160v-160H180v160Zm440 0h160v-160H620v160Z\"/>\n",
              "  </svg>\n",
              "    </button>\n",
              "\n",
              "  <style>\n",
              "    .colab-df-container {\n",
              "      display:flex;\n",
              "      gap: 12px;\n",
              "    }\n",
              "\n",
              "    .colab-df-convert {\n",
              "      background-color: #E8F0FE;\n",
              "      border: none;\n",
              "      border-radius: 50%;\n",
              "      cursor: pointer;\n",
              "      display: none;\n",
              "      fill: #1967D2;\n",
              "      height: 32px;\n",
              "      padding: 0 0 0 0;\n",
              "      width: 32px;\n",
              "    }\n",
              "\n",
              "    .colab-df-convert:hover {\n",
              "      background-color: #E2EBFA;\n",
              "      box-shadow: 0px 1px 2px rgba(60, 64, 67, 0.3), 0px 1px 3px 1px rgba(60, 64, 67, 0.15);\n",
              "      fill: #174EA6;\n",
              "    }\n",
              "\n",
              "    .colab-df-buttons div {\n",
              "      margin-bottom: 4px;\n",
              "    }\n",
              "\n",
              "    [theme=dark] .colab-df-convert {\n",
              "      background-color: #3B4455;\n",
              "      fill: #D2E3FC;\n",
              "    }\n",
              "\n",
              "    [theme=dark] .colab-df-convert:hover {\n",
              "      background-color: #434B5C;\n",
              "      box-shadow: 0px 1px 3px 1px rgba(0, 0, 0, 0.15);\n",
              "      filter: drop-shadow(0px 1px 2px rgba(0, 0, 0, 0.3));\n",
              "      fill: #FFFFFF;\n",
              "    }\n",
              "  </style>\n",
              "\n",
              "    <script>\n",
              "      const buttonEl =\n",
              "        document.querySelector('#df-8b8dfa88-1556-42a5-8e45-eca2dab78d57 button.colab-df-convert');\n",
              "      buttonEl.style.display =\n",
              "        google.colab.kernel.accessAllowed ? 'block' : 'none';\n",
              "\n",
              "      async function convertToInteractive(key) {\n",
              "        const element = document.querySelector('#df-8b8dfa88-1556-42a5-8e45-eca2dab78d57');\n",
              "        const dataTable =\n",
              "          await google.colab.kernel.invokeFunction('convertToInteractive',\n",
              "                                                    [key], {});\n",
              "        if (!dataTable) return;\n",
              "\n",
              "        const docLinkHtml = 'Like what you see? Visit the ' +\n",
              "          '<a target=\"_blank\" href=https://colab.research.google.com/notebooks/data_table.ipynb>data table notebook</a>'\n",
              "          + ' to learn more about interactive tables.';\n",
              "        element.innerHTML = '';\n",
              "        dataTable['output_type'] = 'display_data';\n",
              "        await google.colab.output.renderOutput(dataTable, element);\n",
              "        const docLink = document.createElement('div');\n",
              "        docLink.innerHTML = docLinkHtml;\n",
              "        element.appendChild(docLink);\n",
              "      }\n",
              "    </script>\n",
              "  </div>\n",
              "\n",
              "\n",
              "<div id=\"df-dac217b6-6738-4bf7-8de5-f1f4d0b14e4c\">\n",
              "  <button class=\"colab-df-quickchart\" onclick=\"quickchart('df-dac217b6-6738-4bf7-8de5-f1f4d0b14e4c')\"\n",
              "            title=\"Suggest charts\"\n",
              "            style=\"display:none;\">\n",
              "\n",
              "<svg xmlns=\"http://www.w3.org/2000/svg\" height=\"24px\"viewBox=\"0 0 24 24\"\n",
              "     width=\"24px\">\n",
              "    <g>\n",
              "        <path d=\"M19 3H5c-1.1 0-2 .9-2 2v14c0 1.1.9 2 2 2h14c1.1 0 2-.9 2-2V5c0-1.1-.9-2-2-2zM9 17H7v-7h2v7zm4 0h-2V7h2v10zm4 0h-2v-4h2v4z\"/>\n",
              "    </g>\n",
              "</svg>\n",
              "  </button>\n",
              "\n",
              "<style>\n",
              "  .colab-df-quickchart {\n",
              "      --bg-color: #E8F0FE;\n",
              "      --fill-color: #1967D2;\n",
              "      --hover-bg-color: #E2EBFA;\n",
              "      --hover-fill-color: #174EA6;\n",
              "      --disabled-fill-color: #AAA;\n",
              "      --disabled-bg-color: #DDD;\n",
              "  }\n",
              "\n",
              "  [theme=dark] .colab-df-quickchart {\n",
              "      --bg-color: #3B4455;\n",
              "      --fill-color: #D2E3FC;\n",
              "      --hover-bg-color: #434B5C;\n",
              "      --hover-fill-color: #FFFFFF;\n",
              "      --disabled-bg-color: #3B4455;\n",
              "      --disabled-fill-color: #666;\n",
              "  }\n",
              "\n",
              "  .colab-df-quickchart {\n",
              "    background-color: var(--bg-color);\n",
              "    border: none;\n",
              "    border-radius: 50%;\n",
              "    cursor: pointer;\n",
              "    display: none;\n",
              "    fill: var(--fill-color);\n",
              "    height: 32px;\n",
              "    padding: 0;\n",
              "    width: 32px;\n",
              "  }\n",
              "\n",
              "  .colab-df-quickchart:hover {\n",
              "    background-color: var(--hover-bg-color);\n",
              "    box-shadow: 0 1px 2px rgba(60, 64, 67, 0.3), 0 1px 3px 1px rgba(60, 64, 67, 0.15);\n",
              "    fill: var(--button-hover-fill-color);\n",
              "  }\n",
              "\n",
              "  .colab-df-quickchart-complete:disabled,\n",
              "  .colab-df-quickchart-complete:disabled:hover {\n",
              "    background-color: var(--disabled-bg-color);\n",
              "    fill: var(--disabled-fill-color);\n",
              "    box-shadow: none;\n",
              "  }\n",
              "\n",
              "  .colab-df-spinner {\n",
              "    border: 2px solid var(--fill-color);\n",
              "    border-color: transparent;\n",
              "    border-bottom-color: var(--fill-color);\n",
              "    animation:\n",
              "      spin 1s steps(1) infinite;\n",
              "  }\n",
              "\n",
              "  @keyframes spin {\n",
              "    0% {\n",
              "      border-color: transparent;\n",
              "      border-bottom-color: var(--fill-color);\n",
              "      border-left-color: var(--fill-color);\n",
              "    }\n",
              "    20% {\n",
              "      border-color: transparent;\n",
              "      border-left-color: var(--fill-color);\n",
              "      border-top-color: var(--fill-color);\n",
              "    }\n",
              "    30% {\n",
              "      border-color: transparent;\n",
              "      border-left-color: var(--fill-color);\n",
              "      border-top-color: var(--fill-color);\n",
              "      border-right-color: var(--fill-color);\n",
              "    }\n",
              "    40% {\n",
              "      border-color: transparent;\n",
              "      border-right-color: var(--fill-color);\n",
              "      border-top-color: var(--fill-color);\n",
              "    }\n",
              "    60% {\n",
              "      border-color: transparent;\n",
              "      border-right-color: var(--fill-color);\n",
              "    }\n",
              "    80% {\n",
              "      border-color: transparent;\n",
              "      border-right-color: var(--fill-color);\n",
              "      border-bottom-color: var(--fill-color);\n",
              "    }\n",
              "    90% {\n",
              "      border-color: transparent;\n",
              "      border-bottom-color: var(--fill-color);\n",
              "    }\n",
              "  }\n",
              "</style>\n",
              "\n",
              "  <script>\n",
              "    async function quickchart(key) {\n",
              "      const quickchartButtonEl =\n",
              "        document.querySelector('#' + key + ' button');\n",
              "      quickchartButtonEl.disabled = true;  // To prevent multiple clicks.\n",
              "      quickchartButtonEl.classList.add('colab-df-spinner');\n",
              "      try {\n",
              "        const charts = await google.colab.kernel.invokeFunction(\n",
              "            'suggestCharts', [key], {});\n",
              "      } catch (error) {\n",
              "        console.error('Error during call to suggestCharts:', error);\n",
              "      }\n",
              "      quickchartButtonEl.classList.remove('colab-df-spinner');\n",
              "      quickchartButtonEl.classList.add('colab-df-quickchart-complete');\n",
              "    }\n",
              "    (() => {\n",
              "      let quickchartButtonEl =\n",
              "        document.querySelector('#df-dac217b6-6738-4bf7-8de5-f1f4d0b14e4c button');\n",
              "      quickchartButtonEl.style.display =\n",
              "        google.colab.kernel.accessAllowed ? 'block' : 'none';\n",
              "    })();\n",
              "  </script>\n",
              "</div>\n",
              "\n",
              "    </div>\n",
              "  </div>\n"
            ],
            "application/vnd.google.colaboratory.intrinsic+json": {
              "type": "dataframe",
              "variable_name": "joint3"
            }
          },
          "metadata": {},
          "execution_count": 44
        }
      ],
      "source": [
        "joint3 = prior.unstack()\n",
        "joint3.head(3)"
      ]
    },
    {
      "cell_type": "markdown",
      "metadata": {
        "tags": [],
        "id": "nuyNA0YmDIMC"
      },
      "source": [
        "The result is a `DataFrame` with `slope` and `intercept` down the rows and `sigmas` across the columns.\n",
        "\n",
        "The following is a version of `likelihood_regression` that takes the joint prior distribution in this form and returns the posterior distribution in the same form."
      ]
    },
    {
      "cell_type": "code",
      "execution_count": 45,
      "metadata": {
        "execution": {
          "iopub.execute_input": "2021-04-16T19:39:25.270539Z",
          "iopub.status.busy": "2021-04-16T19:39:25.270009Z",
          "iopub.status.idle": "2021-04-16T19:39:25.272082Z",
          "shell.execute_reply": "2021-04-16T19:39:25.271704Z"
        },
        "tags": [],
        "id": "lxKFIgW6DIMC"
      },
      "outputs": [],
      "source": [
        "from utils import normalize\n",
        "\n",
        "def update_optimized(prior, data):\n",
        "    \"\"\"Posterior distribution of regression parameters\n",
        "    `slope`, `inter`, and `sigma`.\n",
        "\n",
        "    prior: Pmf representing the joint prior\n",
        "    data: DataFrame with columns `x` and `y`\n",
        "\n",
        "    returns: Pmf representing the joint posterior\n",
        "    \"\"\"\n",
        "    xs = data['x']\n",
        "    ys = data['y']\n",
        "    sigmas = prior.columns\n",
        "    likelihood = prior.copy()\n",
        "\n",
        "    for slope, inter in prior.index:\n",
        "        expected = slope * xs + inter\n",
        "        resid = ys - expected\n",
        "        resid_mesh, sigma_mesh = np.meshgrid(resid, sigmas)\n",
        "        densities = norm.pdf(resid_mesh, 0, sigma_mesh)\n",
        "        likelihood.loc[slope, inter] = densities.prod(axis=1)\n",
        "\n",
        "    posterior = prior * likelihood\n",
        "    normalize(posterior)\n",
        "    return posterior"
      ]
    },
    {
      "cell_type": "markdown",
      "metadata": {
        "tags": [],
        "id": "qUMM8NknDIMD"
      },
      "source": [
        "This version loops through all possible pairs of `slope` and `inter`, so the loop runs about 2000 times."
      ]
    },
    {
      "cell_type": "code",
      "execution_count": 46,
      "metadata": {
        "execution": {
          "iopub.execute_input": "2021-04-16T19:39:25.276199Z",
          "iopub.status.busy": "2021-04-16T19:39:25.275543Z",
          "iopub.status.idle": "2021-04-16T19:39:25.278211Z",
          "shell.execute_reply": "2021-04-16T19:39:25.278659Z"
        },
        "tags": [],
        "id": "nSEf3_FpDIMD",
        "colab": {
          "base_uri": "https://localhost:8080/"
        },
        "outputId": "b90d2e8b-b5ce-4697-ac50-bb140f5ec8d7"
      },
      "outputs": [
        {
          "output_type": "execute_result",
          "data": {
            "text/plain": [
              "2091"
            ]
          },
          "metadata": {},
          "execution_count": 46
        }
      ],
      "source": [
        "len(prior_slope) * len(prior_inter)"
      ]
    },
    {
      "cell_type": "markdown",
      "metadata": {
        "tags": [],
        "id": "BESbYlEQDIMD"
      },
      "source": [
        "Each time through the loop, it uses a grid mesh to compute the likelihood of the data for all values of `sigma`.  The result is an array with one column for each data point and one row for each value of `sigma`.  Taking the product across the columns (`axis=1`) yields the probability of the data for each value of sigma, which we assign as a row in `likelihood`."
      ]
    },
    {
      "cell_type": "code",
      "execution_count": 47,
      "metadata": {
        "execution": {
          "iopub.execute_input": "2021-04-16T19:39:25.282991Z",
          "iopub.status.busy": "2021-04-16T19:39:25.282462Z",
          "iopub.status.idle": "2021-04-16T19:39:27.180270Z",
          "shell.execute_reply": "2021-04-16T19:39:27.179860Z"
        },
        "tags": [],
        "id": "-FQGlGBUDIMD",
        "colab": {
          "base_uri": "https://localhost:8080/"
        },
        "outputId": "86d3bc7d-936c-40fe-af1a-66047545e253"
      },
      "outputs": [
        {
          "output_type": "stream",
          "name": "stdout",
          "text": [
            "CPU times: user 2.61 s, sys: 17.2 ms, total: 2.63 s\n",
            "Wall time: 5.55 s\n"
          ]
        }
      ],
      "source": [
        "%time posterior_opt = update_optimized(joint3, data)"
      ]
    },
    {
      "cell_type": "markdown",
      "metadata": {
        "tags": [],
        "id": "JC8eqm-aDIMD"
      },
      "source": [
        "We get the same result either way."
      ]
    },
    {
      "cell_type": "code",
      "execution_count": 48,
      "metadata": {
        "execution": {
          "iopub.execute_input": "2021-04-16T19:39:27.185227Z",
          "iopub.status.busy": "2021-04-16T19:39:27.184354Z",
          "iopub.status.idle": "2021-04-16T19:39:27.188848Z",
          "shell.execute_reply": "2021-04-16T19:39:27.189315Z"
        },
        "tags": [],
        "id": "StA5AKDcDIMD",
        "colab": {
          "base_uri": "https://localhost:8080/"
        },
        "outputId": "c6b3d42d-5c1e-4a3a-ce30-3e1bd4e670b7"
      },
      "outputs": [
        {
          "output_type": "execute_result",
          "data": {
            "text/plain": [
              "True"
            ]
          },
          "metadata": {},
          "execution_count": 48
        }
      ],
      "source": [
        "np.allclose(posterior, posterior_opt.stack())"
      ]
    },
    {
      "cell_type": "markdown",
      "metadata": {
        "tags": [],
        "id": "mQLfJOEPDIMD"
      },
      "source": [
        "But this version is about 25 times faster than the previous version.  \n",
        "\n",
        "This optimization works because many functions in NumPy and SciPy are written in C, so they run fast compared to Python.  If you can do more work each time you call these functions, and less time running the loop in Python, your code will often run substantially faster.\n",
        "\n",
        "In this version of the posterior distribution, `slope` and `inter` run down the rows and `sigma` runs across the columns.  So we can use `marginal` to get the posterior joint distribution of `slope` and `intercept`."
      ]
    },
    {
      "cell_type": "code",
      "execution_count": 49,
      "metadata": {
        "execution": {
          "iopub.execute_input": "2021-04-16T19:39:27.192910Z",
          "iopub.status.busy": "2021-04-16T19:39:27.192447Z",
          "iopub.status.idle": "2021-04-16T19:39:27.200629Z",
          "shell.execute_reply": "2021-04-16T19:39:27.200147Z"
        },
        "tags": [],
        "id": "u0mk3gnnDIMD",
        "colab": {
          "base_uri": "https://localhost:8080/",
          "height": 175
        },
        "outputId": "664d3d25-6b8b-4866-973f-cb94db0e47bb"
      },
      "outputs": [
        {
          "output_type": "execute_result",
          "data": {
            "text/plain": [
              "Slope  Intercept\n",
              "-0.5   54.000       7.633362e-08\n",
              "       54.525       1.013295e-07\n",
              "       55.050       1.327249e-07\n",
              "dtype: float64"
            ],
            "text/html": [
              "<div>\n",
              "<style scoped>\n",
              "    .dataframe tbody tr th:only-of-type {\n",
              "        vertical-align: middle;\n",
              "    }\n",
              "\n",
              "    .dataframe tbody tr th {\n",
              "        vertical-align: top;\n",
              "    }\n",
              "\n",
              "    .dataframe thead th {\n",
              "        text-align: right;\n",
              "    }\n",
              "</style>\n",
              "<table border=\"1\" class=\"dataframe\">\n",
              "  <thead>\n",
              "    <tr style=\"text-align: right;\">\n",
              "      <th></th>\n",
              "      <th></th>\n",
              "      <th>probs</th>\n",
              "    </tr>\n",
              "    <tr>\n",
              "      <th>Slope</th>\n",
              "      <th>Intercept</th>\n",
              "      <th></th>\n",
              "    </tr>\n",
              "  </thead>\n",
              "  <tbody>\n",
              "    <tr>\n",
              "      <th rowspan=\"3\" valign=\"top\">-0.5</th>\n",
              "      <th>54.000</th>\n",
              "      <td>7.633362e-08</td>\n",
              "    </tr>\n",
              "    <tr>\n",
              "      <th>54.525</th>\n",
              "      <td>1.013295e-07</td>\n",
              "    </tr>\n",
              "    <tr>\n",
              "      <th>55.050</th>\n",
              "      <td>1.327249e-07</td>\n",
              "    </tr>\n",
              "  </tbody>\n",
              "</table>\n",
              "</div>"
            ]
          },
          "metadata": {},
          "execution_count": 49
        }
      ],
      "source": [
        "from utils import marginal\n",
        "\n",
        "posterior2 = marginal(posterior_opt, 1)\n",
        "posterior2.head(3)"
      ]
    },
    {
      "cell_type": "markdown",
      "metadata": {
        "tags": [],
        "id": "ClO2pDWuDIMD"
      },
      "source": [
        "The result is a `Pmf` with two columns in the index.\n",
        "To plot it, we have to unstack it."
      ]
    },
    {
      "cell_type": "code",
      "execution_count": 50,
      "metadata": {
        "execution": {
          "iopub.execute_input": "2021-04-16T19:39:27.204066Z",
          "iopub.status.busy": "2021-04-16T19:39:27.203624Z",
          "iopub.status.idle": "2021-04-16T19:39:27.226398Z",
          "shell.execute_reply": "2021-04-16T19:39:27.225993Z"
        },
        "tags": [],
        "id": "6EA5cIfqDIMD",
        "colab": {
          "base_uri": "https://localhost:8080/",
          "height": 276
        },
        "outputId": "5368f44c-672f-42ef-ceac-9259385baaca"
      },
      "outputs": [
        {
          "output_type": "execute_result",
          "data": {
            "text/plain": [
              "Slope             -0.50         -0.46         -0.42         -0.38  \\\n",
              "Intercept                                                           \n",
              "54.000     7.633362e-08  1.244120e-07  1.999617e-07  3.168007e-07   \n",
              "54.525     1.013295e-07  1.658787e-07  2.678095e-07  4.262364e-07   \n",
              "55.050     1.327249e-07  2.182169e-07  3.538722e-07  5.657543e-07   \n",
              "\n",
              "Slope             -0.34         -0.30     -0.26     -0.22     -0.18     -0.14  \\\n",
              "Intercept                                                                       \n",
              "54.000     4.945131e-07  7.601557e-07  0.000001  0.000002  0.000003  0.000004   \n",
              "54.525     6.684267e-07  1.032304e-06  0.000002  0.000002  0.000003  0.000005   \n",
              "55.050     8.912797e-07  1.382827e-06  0.000002  0.000003  0.000005  0.000007   \n",
              "\n",
              "Slope      ...      1.14      1.18      1.22          1.26          1.30  \\\n",
              "Intercept  ...                                                             \n",
              "54.000     ...  0.000003  0.000002  0.000001  9.123148e-07  5.975833e-07   \n",
              "54.525     ...  0.000004  0.000003  0.000002  1.272146e-06  8.301525e-07   \n",
              "55.050     ...  0.000006  0.000004  0.000003  1.750579e-06  1.138148e-06   \n",
              "\n",
              "Slope              1.34          1.38          1.42          1.46  \\\n",
              "Intercept                                                           \n",
              "54.000     3.853761e-07  2.448104e-07  1.532653e-07  9.460588e-08   \n",
              "54.525     5.333476e-07  3.375444e-07  2.105422e-07  1.294898e-07   \n",
              "55.050     7.285261e-07  4.593750e-07  2.854925e-07  1.749592e-07   \n",
              "\n",
              "Slope              1.50  \n",
              "Intercept                \n",
              "54.000     5.760046e-08  \n",
              "54.525     7.856004e-08  \n",
              "55.050     1.057750e-07  \n",
              "\n",
              "[3 rows x 51 columns]"
            ],
            "text/html": [
              "\n",
              "  <div id=\"df-8400fef4-90df-40b7-8c14-4c3684d3a62a\" class=\"colab-df-container\">\n",
              "    <div>\n",
              "<style scoped>\n",
              "    .dataframe tbody tr th:only-of-type {\n",
              "        vertical-align: middle;\n",
              "    }\n",
              "\n",
              "    .dataframe tbody tr th {\n",
              "        vertical-align: top;\n",
              "    }\n",
              "\n",
              "    .dataframe thead th {\n",
              "        text-align: right;\n",
              "    }\n",
              "</style>\n",
              "<table border=\"1\" class=\"dataframe\">\n",
              "  <thead>\n",
              "    <tr style=\"text-align: right;\">\n",
              "      <th>Slope</th>\n",
              "      <th>-0.50</th>\n",
              "      <th>-0.46</th>\n",
              "      <th>-0.42</th>\n",
              "      <th>-0.38</th>\n",
              "      <th>-0.34</th>\n",
              "      <th>-0.30</th>\n",
              "      <th>-0.26</th>\n",
              "      <th>-0.22</th>\n",
              "      <th>-0.18</th>\n",
              "      <th>-0.14</th>\n",
              "      <th>...</th>\n",
              "      <th>1.14</th>\n",
              "      <th>1.18</th>\n",
              "      <th>1.22</th>\n",
              "      <th>1.26</th>\n",
              "      <th>1.30</th>\n",
              "      <th>1.34</th>\n",
              "      <th>1.38</th>\n",
              "      <th>1.42</th>\n",
              "      <th>1.46</th>\n",
              "      <th>1.50</th>\n",
              "    </tr>\n",
              "    <tr>\n",
              "      <th>Intercept</th>\n",
              "      <th></th>\n",
              "      <th></th>\n",
              "      <th></th>\n",
              "      <th></th>\n",
              "      <th></th>\n",
              "      <th></th>\n",
              "      <th></th>\n",
              "      <th></th>\n",
              "      <th></th>\n",
              "      <th></th>\n",
              "      <th></th>\n",
              "      <th></th>\n",
              "      <th></th>\n",
              "      <th></th>\n",
              "      <th></th>\n",
              "      <th></th>\n",
              "      <th></th>\n",
              "      <th></th>\n",
              "      <th></th>\n",
              "      <th></th>\n",
              "      <th></th>\n",
              "    </tr>\n",
              "  </thead>\n",
              "  <tbody>\n",
              "    <tr>\n",
              "      <th>54.000</th>\n",
              "      <td>7.633362e-08</td>\n",
              "      <td>1.244120e-07</td>\n",
              "      <td>1.999617e-07</td>\n",
              "      <td>3.168007e-07</td>\n",
              "      <td>4.945131e-07</td>\n",
              "      <td>7.601557e-07</td>\n",
              "      <td>0.000001</td>\n",
              "      <td>0.000002</td>\n",
              "      <td>0.000003</td>\n",
              "      <td>0.000004</td>\n",
              "      <td>...</td>\n",
              "      <td>0.000003</td>\n",
              "      <td>0.000002</td>\n",
              "      <td>0.000001</td>\n",
              "      <td>9.123148e-07</td>\n",
              "      <td>5.975833e-07</td>\n",
              "      <td>3.853761e-07</td>\n",
              "      <td>2.448104e-07</td>\n",
              "      <td>1.532653e-07</td>\n",
              "      <td>9.460588e-08</td>\n",
              "      <td>5.760046e-08</td>\n",
              "    </tr>\n",
              "    <tr>\n",
              "      <th>54.525</th>\n",
              "      <td>1.013295e-07</td>\n",
              "      <td>1.658787e-07</td>\n",
              "      <td>2.678095e-07</td>\n",
              "      <td>4.262364e-07</td>\n",
              "      <td>6.684267e-07</td>\n",
              "      <td>1.032304e-06</td>\n",
              "      <td>0.000002</td>\n",
              "      <td>0.000002</td>\n",
              "      <td>0.000003</td>\n",
              "      <td>0.000005</td>\n",
              "      <td>...</td>\n",
              "      <td>0.000004</td>\n",
              "      <td>0.000003</td>\n",
              "      <td>0.000002</td>\n",
              "      <td>1.272146e-06</td>\n",
              "      <td>8.301525e-07</td>\n",
              "      <td>5.333476e-07</td>\n",
              "      <td>3.375444e-07</td>\n",
              "      <td>2.105422e-07</td>\n",
              "      <td>1.294898e-07</td>\n",
              "      <td>7.856004e-08</td>\n",
              "    </tr>\n",
              "    <tr>\n",
              "      <th>55.050</th>\n",
              "      <td>1.327249e-07</td>\n",
              "      <td>2.182169e-07</td>\n",
              "      <td>3.538722e-07</td>\n",
              "      <td>5.657543e-07</td>\n",
              "      <td>8.912797e-07</td>\n",
              "      <td>1.382827e-06</td>\n",
              "      <td>0.000002</td>\n",
              "      <td>0.000003</td>\n",
              "      <td>0.000005</td>\n",
              "      <td>0.000007</td>\n",
              "      <td>...</td>\n",
              "      <td>0.000006</td>\n",
              "      <td>0.000004</td>\n",
              "      <td>0.000003</td>\n",
              "      <td>1.750579e-06</td>\n",
              "      <td>1.138148e-06</td>\n",
              "      <td>7.285261e-07</td>\n",
              "      <td>4.593750e-07</td>\n",
              "      <td>2.854925e-07</td>\n",
              "      <td>1.749592e-07</td>\n",
              "      <td>1.057750e-07</td>\n",
              "    </tr>\n",
              "  </tbody>\n",
              "</table>\n",
              "<p>3 rows × 51 columns</p>\n",
              "</div>\n",
              "    <div class=\"colab-df-buttons\">\n",
              "\n",
              "  <div class=\"colab-df-container\">\n",
              "    <button class=\"colab-df-convert\" onclick=\"convertToInteractive('df-8400fef4-90df-40b7-8c14-4c3684d3a62a')\"\n",
              "            title=\"Convert this dataframe to an interactive table.\"\n",
              "            style=\"display:none;\">\n",
              "\n",
              "  <svg xmlns=\"http://www.w3.org/2000/svg\" height=\"24px\" viewBox=\"0 -960 960 960\">\n",
              "    <path d=\"M120-120v-720h720v720H120Zm60-500h600v-160H180v160Zm220 220h160v-160H400v160Zm0 220h160v-160H400v160ZM180-400h160v-160H180v160Zm440 0h160v-160H620v160ZM180-180h160v-160H180v160Zm440 0h160v-160H620v160Z\"/>\n",
              "  </svg>\n",
              "    </button>\n",
              "\n",
              "  <style>\n",
              "    .colab-df-container {\n",
              "      display:flex;\n",
              "      gap: 12px;\n",
              "    }\n",
              "\n",
              "    .colab-df-convert {\n",
              "      background-color: #E8F0FE;\n",
              "      border: none;\n",
              "      border-radius: 50%;\n",
              "      cursor: pointer;\n",
              "      display: none;\n",
              "      fill: #1967D2;\n",
              "      height: 32px;\n",
              "      padding: 0 0 0 0;\n",
              "      width: 32px;\n",
              "    }\n",
              "\n",
              "    .colab-df-convert:hover {\n",
              "      background-color: #E2EBFA;\n",
              "      box-shadow: 0px 1px 2px rgba(60, 64, 67, 0.3), 0px 1px 3px 1px rgba(60, 64, 67, 0.15);\n",
              "      fill: #174EA6;\n",
              "    }\n",
              "\n",
              "    .colab-df-buttons div {\n",
              "      margin-bottom: 4px;\n",
              "    }\n",
              "\n",
              "    [theme=dark] .colab-df-convert {\n",
              "      background-color: #3B4455;\n",
              "      fill: #D2E3FC;\n",
              "    }\n",
              "\n",
              "    [theme=dark] .colab-df-convert:hover {\n",
              "      background-color: #434B5C;\n",
              "      box-shadow: 0px 1px 3px 1px rgba(0, 0, 0, 0.15);\n",
              "      filter: drop-shadow(0px 1px 2px rgba(0, 0, 0, 0.3));\n",
              "      fill: #FFFFFF;\n",
              "    }\n",
              "  </style>\n",
              "\n",
              "    <script>\n",
              "      const buttonEl =\n",
              "        document.querySelector('#df-8400fef4-90df-40b7-8c14-4c3684d3a62a button.colab-df-convert');\n",
              "      buttonEl.style.display =\n",
              "        google.colab.kernel.accessAllowed ? 'block' : 'none';\n",
              "\n",
              "      async function convertToInteractive(key) {\n",
              "        const element = document.querySelector('#df-8400fef4-90df-40b7-8c14-4c3684d3a62a');\n",
              "        const dataTable =\n",
              "          await google.colab.kernel.invokeFunction('convertToInteractive',\n",
              "                                                    [key], {});\n",
              "        if (!dataTable) return;\n",
              "\n",
              "        const docLinkHtml = 'Like what you see? Visit the ' +\n",
              "          '<a target=\"_blank\" href=https://colab.research.google.com/notebooks/data_table.ipynb>data table notebook</a>'\n",
              "          + ' to learn more about interactive tables.';\n",
              "        element.innerHTML = '';\n",
              "        dataTable['output_type'] = 'display_data';\n",
              "        await google.colab.output.renderOutput(dataTable, element);\n",
              "        const docLink = document.createElement('div');\n",
              "        docLink.innerHTML = docLinkHtml;\n",
              "        element.appendChild(docLink);\n",
              "      }\n",
              "    </script>\n",
              "  </div>\n",
              "\n",
              "\n",
              "<div id=\"df-cd49c6ac-e3d5-4333-96ed-385c958f9e4a\">\n",
              "  <button class=\"colab-df-quickchart\" onclick=\"quickchart('df-cd49c6ac-e3d5-4333-96ed-385c958f9e4a')\"\n",
              "            title=\"Suggest charts\"\n",
              "            style=\"display:none;\">\n",
              "\n",
              "<svg xmlns=\"http://www.w3.org/2000/svg\" height=\"24px\"viewBox=\"0 0 24 24\"\n",
              "     width=\"24px\">\n",
              "    <g>\n",
              "        <path d=\"M19 3H5c-1.1 0-2 .9-2 2v14c0 1.1.9 2 2 2h14c1.1 0 2-.9 2-2V5c0-1.1-.9-2-2-2zM9 17H7v-7h2v7zm4 0h-2V7h2v10zm4 0h-2v-4h2v4z\"/>\n",
              "    </g>\n",
              "</svg>\n",
              "  </button>\n",
              "\n",
              "<style>\n",
              "  .colab-df-quickchart {\n",
              "      --bg-color: #E8F0FE;\n",
              "      --fill-color: #1967D2;\n",
              "      --hover-bg-color: #E2EBFA;\n",
              "      --hover-fill-color: #174EA6;\n",
              "      --disabled-fill-color: #AAA;\n",
              "      --disabled-bg-color: #DDD;\n",
              "  }\n",
              "\n",
              "  [theme=dark] .colab-df-quickchart {\n",
              "      --bg-color: #3B4455;\n",
              "      --fill-color: #D2E3FC;\n",
              "      --hover-bg-color: #434B5C;\n",
              "      --hover-fill-color: #FFFFFF;\n",
              "      --disabled-bg-color: #3B4455;\n",
              "      --disabled-fill-color: #666;\n",
              "  }\n",
              "\n",
              "  .colab-df-quickchart {\n",
              "    background-color: var(--bg-color);\n",
              "    border: none;\n",
              "    border-radius: 50%;\n",
              "    cursor: pointer;\n",
              "    display: none;\n",
              "    fill: var(--fill-color);\n",
              "    height: 32px;\n",
              "    padding: 0;\n",
              "    width: 32px;\n",
              "  }\n",
              "\n",
              "  .colab-df-quickchart:hover {\n",
              "    background-color: var(--hover-bg-color);\n",
              "    box-shadow: 0 1px 2px rgba(60, 64, 67, 0.3), 0 1px 3px 1px rgba(60, 64, 67, 0.15);\n",
              "    fill: var(--button-hover-fill-color);\n",
              "  }\n",
              "\n",
              "  .colab-df-quickchart-complete:disabled,\n",
              "  .colab-df-quickchart-complete:disabled:hover {\n",
              "    background-color: var(--disabled-bg-color);\n",
              "    fill: var(--disabled-fill-color);\n",
              "    box-shadow: none;\n",
              "  }\n",
              "\n",
              "  .colab-df-spinner {\n",
              "    border: 2px solid var(--fill-color);\n",
              "    border-color: transparent;\n",
              "    border-bottom-color: var(--fill-color);\n",
              "    animation:\n",
              "      spin 1s steps(1) infinite;\n",
              "  }\n",
              "\n",
              "  @keyframes spin {\n",
              "    0% {\n",
              "      border-color: transparent;\n",
              "      border-bottom-color: var(--fill-color);\n",
              "      border-left-color: var(--fill-color);\n",
              "    }\n",
              "    20% {\n",
              "      border-color: transparent;\n",
              "      border-left-color: var(--fill-color);\n",
              "      border-top-color: var(--fill-color);\n",
              "    }\n",
              "    30% {\n",
              "      border-color: transparent;\n",
              "      border-left-color: var(--fill-color);\n",
              "      border-top-color: var(--fill-color);\n",
              "      border-right-color: var(--fill-color);\n",
              "    }\n",
              "    40% {\n",
              "      border-color: transparent;\n",
              "      border-right-color: var(--fill-color);\n",
              "      border-top-color: var(--fill-color);\n",
              "    }\n",
              "    60% {\n",
              "      border-color: transparent;\n",
              "      border-right-color: var(--fill-color);\n",
              "    }\n",
              "    80% {\n",
              "      border-color: transparent;\n",
              "      border-right-color: var(--fill-color);\n",
              "      border-bottom-color: var(--fill-color);\n",
              "    }\n",
              "    90% {\n",
              "      border-color: transparent;\n",
              "      border-bottom-color: var(--fill-color);\n",
              "    }\n",
              "  }\n",
              "</style>\n",
              "\n",
              "  <script>\n",
              "    async function quickchart(key) {\n",
              "      const quickchartButtonEl =\n",
              "        document.querySelector('#' + key + ' button');\n",
              "      quickchartButtonEl.disabled = true;  // To prevent multiple clicks.\n",
              "      quickchartButtonEl.classList.add('colab-df-spinner');\n",
              "      try {\n",
              "        const charts = await google.colab.kernel.invokeFunction(\n",
              "            'suggestCharts', [key], {});\n",
              "      } catch (error) {\n",
              "        console.error('Error during call to suggestCharts:', error);\n",
              "      }\n",
              "      quickchartButtonEl.classList.remove('colab-df-spinner');\n",
              "      quickchartButtonEl.classList.add('colab-df-quickchart-complete');\n",
              "    }\n",
              "    (() => {\n",
              "      let quickchartButtonEl =\n",
              "        document.querySelector('#df-cd49c6ac-e3d5-4333-96ed-385c958f9e4a button');\n",
              "      quickchartButtonEl.style.display =\n",
              "        google.colab.kernel.accessAllowed ? 'block' : 'none';\n",
              "    })();\n",
              "  </script>\n",
              "</div>\n",
              "\n",
              "    </div>\n",
              "  </div>\n"
            ],
            "application/vnd.google.colaboratory.intrinsic+json": {
              "type": "dataframe",
              "variable_name": "joint_posterior"
            }
          },
          "metadata": {},
          "execution_count": 50
        }
      ],
      "source": [
        "joint_posterior = posterior2.unstack().transpose()\n",
        "joint_posterior.head(3)"
      ]
    },
    {
      "cell_type": "markdown",
      "metadata": {
        "tags": [],
        "id": "5wEoLdBUDIMD"
      },
      "source": [
        "Here's what it looks like."
      ]
    },
    {
      "cell_type": "code",
      "execution_count": 51,
      "metadata": {
        "execution": {
          "iopub.execute_input": "2021-04-16T19:39:27.240820Z",
          "iopub.status.busy": "2021-04-16T19:39:27.240115Z",
          "iopub.status.idle": "2021-04-16T19:39:27.414765Z",
          "shell.execute_reply": "2021-04-16T19:39:27.414340Z"
        },
        "tags": [],
        "id": "3hs31MZZDIMD",
        "colab": {
          "base_uri": "https://localhost:8080/",
          "height": 487
        },
        "outputId": "26c3febc-85a7-49ce-a5c0-961bc00bcbdf"
      },
      "outputs": [
        {
          "output_type": "display_data",
          "data": {
            "text/plain": [
              "<Figure size 640x480 with 1 Axes>"
            ],
            "image/png": "[encoded data removed]"
          },
          "metadata": {}
        }
      ],
      "source": [
        "from utils import plot_contour\n",
        "\n",
        "plot_contour(joint_posterior)\n",
        "decorate(title='Posterior joint distribution of slope and intercept')"
      ]
    },
    {
      "cell_type": "markdown",
      "metadata": {
        "tags": [],
        "id": "rCPCdS0yDIMD"
      },
      "source": [
        "The ovals in the contour plot are aligned with the axes, which indicates that there is no correlation between `slope` and `inter` in the posterior distribution, which is what we expect since we centered the values.\n",
        "\n",
        "In this example, the motivating question is about the slope of the line, so we answered it by looking at the posterior distribution of slope.\n",
        "\n",
        "In the next example, the motivating question is about prediction, so we'll use the joint posterior distribution to generate predictive distributions."
      ]
    },
    {
      "cell_type": "markdown",
      "metadata": {
        "id": "0muZ-aI7DIMD"
      },
      "source": [
        "## Marathon World Record\n",
        "\n",
        "For many running events, if you plot the world record pace over time, the result is a remarkably straight line.  People, [including me](http://allendowney.blogspot.com/2011/04/two-hour-marathon-in-2045.html), have speculated about possible reasons for this phenomenon.\n",
        "\n",
        "People have also speculated about when, if ever, the world record time for the marathon will be less than two hours.\n",
        "(Note: In 2019 Eliud Kipchoge ran the marathon distance in under two hours, which is an astonishing achievement that I fully appreciate, but for several reasons it did not count as a world record).\n",
        "\n",
        "So, as a second example of Bayesian regression, we'll consider the world record progression for the marathon (for male runners), estimate the parameters of a linear model, and use the model to predict when a runner will break the two-hour barrier.  "
      ]
    },
    {
      "cell_type": "markdown",
      "metadata": {
        "tags": [],
        "id": "3vdHyv7ADIMD"
      },
      "source": [
        "The following cell downloads a web page from Wikipedia that includes a table of marathon world records, and uses Pandas to put the data in a `DataFrame`."
      ]
    },
    {
      "cell_type": "code",
      "execution_count": 52,
      "metadata": {
        "execution": {
          "iopub.execute_input": "2021-04-16T19:39:27.418039Z",
          "iopub.status.busy": "2021-04-16T19:39:27.417570Z",
          "iopub.status.idle": "2021-04-16T19:39:27.824997Z",
          "shell.execute_reply": "2021-04-16T19:39:27.825376Z"
        },
        "tags": [],
        "id": "7BNM9OpjDIMD",
        "colab": {
          "base_uri": "https://localhost:8080/"
        },
        "outputId": "186401f1-7c49-4ce1-e53e-6538cb1b2cd6"
      },
      "outputs": [
        {
          "output_type": "execute_result",
          "data": {
            "text/plain": [
              "5"
            ]
          },
          "metadata": {},
          "execution_count": 52
        }
      ],
      "source": [
        "url = 'https://en.wikipedia.org/wiki/Marathon_world_record_progression#Men'\n",
        "tables = pd.read_html(url)\n",
        "len(tables)"
      ]
    },
    {
      "cell_type": "markdown",
      "metadata": {
        "tags": [],
        "id": "I4qSmxTwDIMD"
      },
      "source": [
        "If that doesn't work, I have made a copy of this page available.  The following cell downloads and parses it."
      ]
    },
    {
      "cell_type": "code",
      "execution_count": null,
      "metadata": {
        "execution": {
          "iopub.execute_input": "2021-04-16T19:39:27.828135Z",
          "iopub.status.busy": "2021-04-16T19:39:27.827662Z",
          "iopub.status.idle": "2021-04-16T19:39:27.829786Z",
          "shell.execute_reply": "2021-04-16T19:39:27.829411Z"
        },
        "tags": [],
        "id": "dKsxkN02DIMD"
      },
      "outputs": [],
      "source": [
        "#import os\n",
        "\n",
        "#datafile = 'Marathon_world_record_progression.html'\n",
        "#download('https://github.com/AllenDowney/ThinkBayes2/raw/master/data/Marathon_world_record_progression.html')\n",
        "\n",
        "#tables = pd.read_html(datafile)\n",
        "#len(tables)"
      ]
    },
    {
      "cell_type": "markdown",
      "metadata": {
        "tags": [],
        "id": "8NdvrHYvDIME"
      },
      "source": [
        "The first table is the one we want."
      ]
    },
    {
      "cell_type": "code",
      "execution_count": 53,
      "metadata": {
        "execution": {
          "iopub.execute_input": "2021-04-16T19:39:27.838976Z",
          "iopub.status.busy": "2021-04-16T19:39:27.838551Z",
          "iopub.status.idle": "2021-04-16T19:39:27.842313Z",
          "shell.execute_reply": "2021-04-16T19:39:27.842643Z"
        },
        "tags": [],
        "id": "9hOABGJzDIME",
        "colab": {
          "base_uri": "https://localhost:8080/",
          "height": 143
        },
        "outputId": "c3aa2be2-ddff-4733-ac0c-4fd18816983d"
      },
      "outputs": [
        {
          "output_type": "execute_result",
          "data": {
            "text/plain": [
              "       Time            Name Nationality                Date       Event/Place  \\\n",
              "49  2:01:39  Eliud Kipchoge       Kenya  September 16, 2018   Berlin Marathon   \n",
              "50  2:01:09  Eliud Kipchoge       Kenya  September 25, 2022   Berlin Marathon   \n",
              "51  2:00:35   Kelvin Kiptum       Kenya     October 8, 2023  Chicago Marathon   \n",
              "\n",
              "                 Source                                              Notes  \n",
              "49             IAAF[88]                                                NaN  \n",
              "50  World Athletics[89]                                                NaN  \n",
              "51  World Athletics[90]  First man to break 2:01:00 in a record-eligibl...  "
            ],
            "text/html": [
              "\n",
              "  <div id=\"df-2ea48880-c1d1-4420-bec6-dafede0798d7\" class=\"colab-df-container\">\n",
              "    <div>\n",
              "<style scoped>\n",
              "    .dataframe tbody tr th:only-of-type {\n",
              "        vertical-align: middle;\n",
              "    }\n",
              "\n",
              "    .dataframe tbody tr th {\n",
              "        vertical-align: top;\n",
              "    }\n",
              "\n",
              "    .dataframe thead th {\n",
              "        text-align: right;\n",
              "    }\n",
              "</style>\n",
              "<table border=\"1\" class=\"dataframe\">\n",
              "  <thead>\n",
              "    <tr style=\"text-align: right;\">\n",
              "      <th></th>\n",
              "      <th>Time</th>\n",
              "      <th>Name</th>\n",
              "      <th>Nationality</th>\n",
              "      <th>Date</th>\n",
              "      <th>Event/Place</th>\n",
              "      <th>Source</th>\n",
              "      <th>Notes</th>\n",
              "    </tr>\n",
              "  </thead>\n",
              "  <tbody>\n",
              "    <tr>\n",
              "      <th>49</th>\n",
              "      <td>2:01:39</td>\n",
              "      <td>Eliud Kipchoge</td>\n",
              "      <td>Kenya</td>\n",
              "      <td>September 16, 2018</td>\n",
              "      <td>Berlin Marathon</td>\n",
              "      <td>IAAF[88]</td>\n",
              "      <td>NaN</td>\n",
              "    </tr>\n",
              "    <tr>\n",
              "      <th>50</th>\n",
              "      <td>2:01:09</td>\n",
              "      <td>Eliud Kipchoge</td>\n",
              "      <td>Kenya</td>\n",
              "      <td>September 25, 2022</td>\n",
              "      <td>Berlin Marathon</td>\n",
              "      <td>World Athletics[89]</td>\n",
              "      <td>NaN</td>\n",
              "    </tr>\n",
              "    <tr>\n",
              "      <th>51</th>\n",
              "      <td>2:00:35</td>\n",
              "      <td>Kelvin Kiptum</td>\n",
              "      <td>Kenya</td>\n",
              "      <td>October 8, 2023</td>\n",
              "      <td>Chicago Marathon</td>\n",
              "      <td>World Athletics[90]</td>\n",
              "      <td>First man to break 2:01:00 in a record-eligibl...</td>\n",
              "    </tr>\n",
              "  </tbody>\n",
              "</table>\n",
              "</div>\n",
              "    <div class=\"colab-df-buttons\">\n",
              "\n",
              "  <div class=\"colab-df-container\">\n",
              "    <button class=\"colab-df-convert\" onclick=\"convertToInteractive('df-2ea48880-c1d1-4420-bec6-dafede0798d7')\"\n",
              "            title=\"Convert this dataframe to an interactive table.\"\n",
              "            style=\"display:none;\">\n",
              "\n",
              "  <svg xmlns=\"http://www.w3.org/2000/svg\" height=\"24px\" viewBox=\"0 -960 960 960\">\n",
              "    <path d=\"M120-120v-720h720v720H120Zm60-500h600v-160H180v160Zm220 220h160v-160H400v160Zm0 220h160v-160H400v160ZM180-400h160v-160H180v160Zm440 0h160v-160H620v160ZM180-180h160v-160H180v160Zm440 0h160v-160H620v160Z\"/>\n",
              "  </svg>\n",
              "    </button>\n",
              "\n",
              "  <style>\n",
              "    .colab-df-container {\n",
              "      display:flex;\n",
              "      gap: 12px;\n",
              "    }\n",
              "\n",
              "    .colab-df-convert {\n",
              "      background-color: #E8F0FE;\n",
              "      border: none;\n",
              "      border-radius: 50%;\n",
              "      cursor: pointer;\n",
              "      display: none;\n",
              "      fill: #1967D2;\n",
              "      height: 32px;\n",
              "      padding: 0 0 0 0;\n",
              "      width: 32px;\n",
              "    }\n",
              "\n",
              "    .colab-df-convert:hover {\n",
              "      background-color: #E2EBFA;\n",
              "      box-shadow: 0px 1px 2px rgba(60, 64, 67, 0.3), 0px 1px 3px 1px rgba(60, 64, 67, 0.15);\n",
              "      fill: #174EA6;\n",
              "    }\n",
              "\n",
              "    .colab-df-buttons div {\n",
              "      margin-bottom: 4px;\n",
              "    }\n",
              "\n",
              "    [theme=dark] .colab-df-convert {\n",
              "      background-color: #3B4455;\n",
              "      fill: #D2E3FC;\n",
              "    }\n",
              "\n",
              "    [theme=dark] .colab-df-convert:hover {\n",
              "      background-color: #434B5C;\n",
              "      box-shadow: 0px 1px 3px 1px rgba(0, 0, 0, 0.15);\n",
              "      filter: drop-shadow(0px 1px 2px rgba(0, 0, 0, 0.3));\n",
              "      fill: #FFFFFF;\n",
              "    }\n",
              "  </style>\n",
              "\n",
              "    <script>\n",
              "      const buttonEl =\n",
              "        document.querySelector('#df-2ea48880-c1d1-4420-bec6-dafede0798d7 button.colab-df-convert');\n",
              "      buttonEl.style.display =\n",
              "        google.colab.kernel.accessAllowed ? 'block' : 'none';\n",
              "\n",
              "      async function convertToInteractive(key) {\n",
              "        const element = document.querySelector('#df-2ea48880-c1d1-4420-bec6-dafede0798d7');\n",
              "        const dataTable =\n",
              "          await google.colab.kernel.invokeFunction('convertToInteractive',\n",
              "                                                    [key], {});\n",
              "        if (!dataTable) return;\n",
              "\n",
              "        const docLinkHtml = 'Like what you see? Visit the ' +\n",
              "          '<a target=\"_blank\" href=https://colab.research.google.com/notebooks/data_table.ipynb>data table notebook</a>'\n",
              "          + ' to learn more about interactive tables.';\n",
              "        element.innerHTML = '';\n",
              "        dataTable['output_type'] = 'display_data';\n",
              "        await google.colab.output.renderOutput(dataTable, element);\n",
              "        const docLink = document.createElement('div');\n",
              "        docLink.innerHTML = docLinkHtml;\n",
              "        element.appendChild(docLink);\n",
              "      }\n",
              "    </script>\n",
              "  </div>\n",
              "\n",
              "\n",
              "<div id=\"df-1b2b9ac8-ca29-4947-b1bb-91bb1734ca90\">\n",
              "  <button class=\"colab-df-quickchart\" onclick=\"quickchart('df-1b2b9ac8-ca29-4947-b1bb-91bb1734ca90')\"\n",
              "            title=\"Suggest charts\"\n",
              "            style=\"display:none;\">\n",
              "\n",
              "<svg xmlns=\"http://www.w3.org/2000/svg\" height=\"24px\"viewBox=\"0 0 24 24\"\n",
              "     width=\"24px\">\n",
              "    <g>\n",
              "        <path d=\"M19 3H5c-1.1 0-2 .9-2 2v14c0 1.1.9 2 2 2h14c1.1 0 2-.9 2-2V5c0-1.1-.9-2-2-2zM9 17H7v-7h2v7zm4 0h-2V7h2v10zm4 0h-2v-4h2v4z\"/>\n",
              "    </g>\n",
              "</svg>\n",
              "  </button>\n",
              "\n",
              "<style>\n",
              "  .colab-df-quickchart {\n",
              "      --bg-color: #E8F0FE;\n",
              "      --fill-color: #1967D2;\n",
              "      --hover-bg-color: #E2EBFA;\n",
              "      --hover-fill-color: #174EA6;\n",
              "      --disabled-fill-color: #AAA;\n",
              "      --disabled-bg-color: #DDD;\n",
              "  }\n",
              "\n",
              "  [theme=dark] .colab-df-quickchart {\n",
              "      --bg-color: #3B4455;\n",
              "      --fill-color: #D2E3FC;\n",
              "      --hover-bg-color: #434B5C;\n",
              "      --hover-fill-color: #FFFFFF;\n",
              "      --disabled-bg-color: #3B4455;\n",
              "      --disabled-fill-color: #666;\n",
              "  }\n",
              "\n",
              "  .colab-df-quickchart {\n",
              "    background-color: var(--bg-color);\n",
              "    border: none;\n",
              "    border-radius: 50%;\n",
              "    cursor: pointer;\n",
              "    display: none;\n",
              "    fill: var(--fill-color);\n",
              "    height: 32px;\n",
              "    padding: 0;\n",
              "    width: 32px;\n",
              "  }\n",
              "\n",
              "  .colab-df-quickchart:hover {\n",
              "    background-color: var(--hover-bg-color);\n",
              "    box-shadow: 0 1px 2px rgba(60, 64, 67, 0.3), 0 1px 3px 1px rgba(60, 64, 67, 0.15);\n",
              "    fill: var(--button-hover-fill-color);\n",
              "  }\n",
              "\n",
              "  .colab-df-quickchart-complete:disabled,\n",
              "  .colab-df-quickchart-complete:disabled:hover {\n",
              "    background-color: var(--disabled-bg-color);\n",
              "    fill: var(--disabled-fill-color);\n",
              "    box-shadow: none;\n",
              "  }\n",
              "\n",
              "  .colab-df-spinner {\n",
              "    border: 2px solid var(--fill-color);\n",
              "    border-color: transparent;\n",
              "    border-bottom-color: var(--fill-color);\n",
              "    animation:\n",
              "      spin 1s steps(1) infinite;\n",
              "  }\n",
              "\n",
              "  @keyframes spin {\n",
              "    0% {\n",
              "      border-color: transparent;\n",
              "      border-bottom-color: var(--fill-color);\n",
              "      border-left-color: var(--fill-color);\n",
              "    }\n",
              "    20% {\n",
              "      border-color: transparent;\n",
              "      border-left-color: var(--fill-color);\n",
              "      border-top-color: var(--fill-color);\n",
              "    }\n",
              "    30% {\n",
              "      border-color: transparent;\n",
              "      border-left-color: var(--fill-color);\n",
              "      border-top-color: var(--fill-color);\n",
              "      border-right-color: var(--fill-color);\n",
              "    }\n",
              "    40% {\n",
              "      border-color: transparent;\n",
              "      border-right-color: var(--fill-color);\n",
              "      border-top-color: var(--fill-color);\n",
              "    }\n",
              "    60% {\n",
              "      border-color: transparent;\n",
              "      border-right-color: var(--fill-color);\n",
              "    }\n",
              "    80% {\n",
              "      border-color: transparent;\n",
              "      border-right-color: var(--fill-color);\n",
              "      border-bottom-color: var(--fill-color);\n",
              "    }\n",
              "    90% {\n",
              "      border-color: transparent;\n",
              "      border-bottom-color: var(--fill-color);\n",
              "    }\n",
              "  }\n",
              "</style>\n",
              "\n",
              "  <script>\n",
              "    async function quickchart(key) {\n",
              "      const quickchartButtonEl =\n",
              "        document.querySelector('#' + key + ' button');\n",
              "      quickchartButtonEl.disabled = true;  // To prevent multiple clicks.\n",
              "      quickchartButtonEl.classList.add('colab-df-spinner');\n",
              "      try {\n",
              "        const charts = await google.colab.kernel.invokeFunction(\n",
              "            'suggestCharts', [key], {});\n",
              "      } catch (error) {\n",
              "        console.error('Error during call to suggestCharts:', error);\n",
              "      }\n",
              "      quickchartButtonEl.classList.remove('colab-df-spinner');\n",
              "      quickchartButtonEl.classList.add('colab-df-quickchart-complete');\n",
              "    }\n",
              "    (() => {\n",
              "      let quickchartButtonEl =\n",
              "        document.querySelector('#df-1b2b9ac8-ca29-4947-b1bb-91bb1734ca90 button');\n",
              "      quickchartButtonEl.style.display =\n",
              "        google.colab.kernel.accessAllowed ? 'block' : 'none';\n",
              "    })();\n",
              "  </script>\n",
              "</div>\n",
              "\n",
              "    </div>\n",
              "  </div>\n"
            ],
            "application/vnd.google.colaboratory.intrinsic+json": {
              "type": "dataframe",
              "repr_error": "0"
            }
          },
          "metadata": {},
          "execution_count": 53
        }
      ],
      "source": [
        "table = tables[0]\n",
        "table.tail(3)"
      ]
    },
    {
      "cell_type": "markdown",
      "metadata": {
        "tags": [],
        "id": "BwD2j0znDIME"
      },
      "source": [
        "We can use Pandas to parse the dates.\n",
        "A few of them include notes that cause parsing problems, but the argument `errors='coerce'` tells Pandas to fill invalid dates with `NaT`, which is a version of `NaN` that represents \"not a time\"."
      ]
    },
    {
      "cell_type": "code",
      "execution_count": 54,
      "metadata": {
        "execution": {
          "iopub.execute_input": "2021-04-16T19:39:27.853767Z",
          "iopub.status.busy": "2021-04-16T19:39:27.853247Z",
          "iopub.status.idle": "2021-04-16T19:39:27.855693Z",
          "shell.execute_reply": "2021-04-16T19:39:27.856161Z"
        },
        "tags": [],
        "id": "zSsdYOGQDIME",
        "colab": {
          "base_uri": "https://localhost:8080/"
        },
        "outputId": "3920f091-9f89-4b4f-9e88-e4c676d9cd62"
      },
      "outputs": [
        {
          "output_type": "execute_result",
          "data": {
            "text/plain": [
              "0   1908-07-24\n",
              "1   1909-01-01\n",
              "2   1909-02-12\n",
              "3   1909-05-08\n",
              "4          NaT\n",
              "Name: date, dtype: datetime64[ns]"
            ]
          },
          "metadata": {},
          "execution_count": 54
        }
      ],
      "source": [
        "table['date'] = pd.to_datetime(table['Date'], errors='coerce')\n",
        "table['date'].head()"
      ]
    },
    {
      "cell_type": "markdown",
      "metadata": {
        "tags": [],
        "id": "CPkgrh4UDIME"
      },
      "source": [
        "We can also use Pandas to parse the record times."
      ]
    },
    {
      "cell_type": "code",
      "execution_count": 55,
      "metadata": {
        "execution": {
          "iopub.execute_input": "2021-04-16T19:39:27.860393Z",
          "iopub.status.busy": "2021-04-16T19:39:27.859869Z",
          "iopub.status.idle": "2021-04-16T19:39:27.861986Z",
          "shell.execute_reply": "2021-04-16T19:39:27.861604Z"
        },
        "tags": [],
        "id": "Zowrir2SDIME"
      },
      "outputs": [],
      "source": [
        "table['time'] = pd.to_timedelta(table['Time'])"
      ]
    },
    {
      "cell_type": "markdown",
      "metadata": {
        "tags": [],
        "id": "1ysj2EfLDIME"
      },
      "source": [
        "And convert the times to paces in miles per hour."
      ]
    },
    {
      "cell_type": "code",
      "execution_count": 56,
      "metadata": {
        "execution": {
          "iopub.execute_input": "2021-04-16T19:39:27.868089Z",
          "iopub.status.busy": "2021-04-16T19:39:27.867544Z",
          "iopub.status.idle": "2021-04-16T19:39:27.869998Z",
          "shell.execute_reply": "2021-04-16T19:39:27.870375Z"
        },
        "tags": [],
        "id": "DPNIyYofDIME",
        "colab": {
          "base_uri": "https://localhost:8080/"
        },
        "outputId": "25d7e2b3-d77d-4127-eacf-3c6f7e8b5e75"
      },
      "outputs": [
        {
          "output_type": "execute_result",
          "data": {
            "text/plain": [
              "0    8.967143\n",
              "1    9.099504\n",
              "2    9.419942\n",
              "3    9.465508\n",
              "4    9.672854\n",
              "Name: y, dtype: float64"
            ]
          },
          "metadata": {},
          "execution_count": 56
        }
      ],
      "source": [
        "table['y'] = 26.2 / table['time'].dt.total_seconds() * 3600\n",
        "table['y'].head()"
      ]
    },
    {
      "cell_type": "markdown",
      "metadata": {
        "tags": [],
        "id": "vENca3ktDIME"
      },
      "source": [
        "The following function plots the results."
      ]
    },
    {
      "cell_type": "code",
      "execution_count": 57,
      "metadata": {
        "execution": {
          "iopub.execute_input": "2021-04-16T19:39:27.874390Z",
          "iopub.status.busy": "2021-04-16T19:39:27.873871Z",
          "iopub.status.idle": "2021-04-16T19:39:27.876092Z",
          "shell.execute_reply": "2021-04-16T19:39:27.875730Z"
        },
        "tags": [],
        "id": "CaERgC5dDIME"
      },
      "outputs": [],
      "source": [
        "def plot_speeds(df):\n",
        "    \"\"\"Plot marathon world record speed as a function of time.\n",
        "\n",
        "    df: DataFrame with date and mph\n",
        "    \"\"\"\n",
        "    plt.axhline(13.1, color='C5', ls='--')\n",
        "    plt.plot(df['date'], df['y'], 'o',\n",
        "             label='World record speed',\n",
        "             color='C1', alpha=0.5)\n",
        "\n",
        "    decorate(xlabel='Date',\n",
        "             ylabel='Speed (mph)')"
      ]
    },
    {
      "cell_type": "markdown",
      "metadata": {
        "tags": [],
        "id": "Ej87HyELDIME"
      },
      "source": [
        "Here's what the results look like.\n",
        "The dashed line shows the speed required for a two-hour marathon, 13.1 miles per hour."
      ]
    },
    {
      "cell_type": "code",
      "execution_count": 58,
      "metadata": {
        "execution": {
          "iopub.execute_input": "2021-04-16T19:39:27.896251Z",
          "iopub.status.busy": "2021-04-16T19:39:27.894071Z",
          "iopub.status.idle": "2021-04-16T19:39:28.025535Z",
          "shell.execute_reply": "2021-04-16T19:39:28.026172Z"
        },
        "tags": [],
        "id": "GaYHKDayDIME",
        "colab": {
          "base_uri": "https://localhost:8080/",
          "height": 487
        },
        "outputId": "311cfd89-9c32-4c65-c309-c5a2bd8ae3bc"
      },
      "outputs": [
        {
          "output_type": "display_data",
          "data": {
            "text/plain": [
              "<Figure size 640x480 with 1 Axes>"
            ],
            "image/png": "[encoded data removed]"
          },
          "metadata": {}
        }
      ],
      "source": [
        "plot_speeds(table)"
      ]
    },
    {
      "cell_type": "markdown",
      "metadata": {
        "tags": [],
        "id": "53AV_YkTDIME"
      },
      "source": [
        "It's not a perfectly straight line.  In the early years of the marathon, the record speed increased quickly; since about 1970, it has been increasing more slowly.\n",
        "\n",
        "For our analysis, let's focus on the recent progression, starting in 1970."
      ]
    },
    {
      "cell_type": "code",
      "execution_count": 60,
      "metadata": {
        "execution": {
          "iopub.execute_input": "2021-04-16T19:39:28.039659Z",
          "iopub.status.busy": "2021-04-16T19:39:28.039051Z",
          "iopub.status.idle": "2021-04-16T19:39:28.041586Z",
          "shell.execute_reply": "2021-04-16T19:39:28.041953Z"
        },
        "tags": [],
        "id": "MjqPEm4ZDIME",
        "colab": {
          "base_uri": "https://localhost:8080/",
          "height": 206
        },
        "outputId": "b8052279-90dd-4da2-f347-365c7fbef6ff"
      },
      "outputs": [
        {
          "output_type": "execute_result",
          "data": {
            "text/plain": [
              "         Time                Name     Nationality              Date  \\\n",
              "32  2:09:28.8            Ron Hill  United Kingdom     July 23, 1970   \n",
              "33    2:09:12        Ian Thompson  United Kingdom  January 31, 1974   \n",
              "34  2:09:05.6          Shigeru So           Japan  February 5, 1978   \n",
              "35    2:09:01      Gerard Nijboer     Netherlands    April 26, 1980   \n",
              "36    2:08:18  Robert De Castella       Australia  December 6, 1981   \n",
              "\n",
              "                                     Event/Place              Source Notes  \\\n",
              "32        Edinburgh Commonwealth Games, Scotland            ARRS[20]   NaN   \n",
              "33  Christchurch Commonwealth Games, New Zealand            ARRS[20]   NaN   \n",
              "34                           Beppu-Ōita Marathon            ARRS[20]   NaN   \n",
              "35                            Amsterdam Marathon            ARRS[20]   NaN   \n",
              "36                              Fukuoka Marathon  IAAF,[52] ARRS[20]   NaN   \n",
              "\n",
              "         date                   time          y  \n",
              "32 1970-07-23 0 days 02:09:28.800000  12.140871  \n",
              "33 1974-01-31        0 days 02:09:12  12.167183  \n",
              "34 1978-02-05 0 days 02:09:05.600000  12.177236  \n",
              "35 1980-04-26        0 days 02:09:01  12.184472  \n",
              "36 1981-12-06        0 days 02:08:18  12.252533  "
            ],
            "text/html": [
              "\n",
              "  <div id=\"df-167cbd8c-3546-46d7-9a7f-00b05b04a411\" class=\"colab-df-container\">\n",
              "    <div>\n",
              "<style scoped>\n",
              "    .dataframe tbody tr th:only-of-type {\n",
              "        vertical-align: middle;\n",
              "    }\n",
              "\n",
              "    .dataframe tbody tr th {\n",
              "        vertical-align: top;\n",
              "    }\n",
              "\n",
              "    .dataframe thead th {\n",
              "        text-align: right;\n",
              "    }\n",
              "</style>\n",
              "<table border=\"1\" class=\"dataframe\">\n",
              "  <thead>\n",
              "    <tr style=\"text-align: right;\">\n",
              "      <th></th>\n",
              "      <th>Time</th>\n",
              "      <th>Name</th>\n",
              "      <th>Nationality</th>\n",
              "      <th>Date</th>\n",
              "      <th>Event/Place</th>\n",
              "      <th>Source</th>\n",
              "      <th>Notes</th>\n",
              "      <th>date</th>\n",
              "      <th>time</th>\n",
              "      <th>y</th>\n",
              "    </tr>\n",
              "  </thead>\n",
              "  <tbody>\n",
              "    <tr>\n",
              "      <th>32</th>\n",
              "      <td>2:09:28.8</td>\n",
              "      <td>Ron Hill</td>\n",
              "      <td>United Kingdom</td>\n",
              "      <td>July 23, 1970</td>\n",
              "      <td>Edinburgh Commonwealth Games, Scotland</td>\n",
              "      <td>ARRS[20]</td>\n",
              "      <td>NaN</td>\n",
              "      <td>1970-07-23</td>\n",
              "      <td>0 days 02:09:28.800000</td>\n",
              "      <td>12.140871</td>\n",
              "    </tr>\n",
              "    <tr>\n",
              "      <th>33</th>\n",
              "      <td>2:09:12</td>\n",
              "      <td>Ian Thompson</td>\n",
              "      <td>United Kingdom</td>\n",
              "      <td>January 31, 1974</td>\n",
              "      <td>Christchurch Commonwealth Games, New Zealand</td>\n",
              "      <td>ARRS[20]</td>\n",
              "      <td>NaN</td>\n",
              "      <td>1974-01-31</td>\n",
              "      <td>0 days 02:09:12</td>\n",
              "      <td>12.167183</td>\n",
              "    </tr>\n",
              "    <tr>\n",
              "      <th>34</th>\n",
              "      <td>2:09:05.6</td>\n",
              "      <td>Shigeru So</td>\n",
              "      <td>Japan</td>\n",
              "      <td>February 5, 1978</td>\n",
              "      <td>Beppu-Ōita Marathon</td>\n",
              "      <td>ARRS[20]</td>\n",
              "      <td>NaN</td>\n",
              "      <td>1978-02-05</td>\n",
              "      <td>0 days 02:09:05.600000</td>\n",
              "      <td>12.177236</td>\n",
              "    </tr>\n",
              "    <tr>\n",
              "      <th>35</th>\n",
              "      <td>2:09:01</td>\n",
              "      <td>Gerard Nijboer</td>\n",
              "      <td>Netherlands</td>\n",
              "      <td>April 26, 1980</td>\n",
              "      <td>Amsterdam Marathon</td>\n",
              "      <td>ARRS[20]</td>\n",
              "      <td>NaN</td>\n",
              "      <td>1980-04-26</td>\n",
              "      <td>0 days 02:09:01</td>\n",
              "      <td>12.184472</td>\n",
              "    </tr>\n",
              "    <tr>\n",
              "      <th>36</th>\n",
              "      <td>2:08:18</td>\n",
              "      <td>Robert De Castella</td>\n",
              "      <td>Australia</td>\n",
              "      <td>December 6, 1981</td>\n",
              "      <td>Fukuoka Marathon</td>\n",
              "      <td>IAAF,[52] ARRS[20]</td>\n",
              "      <td>NaN</td>\n",
              "      <td>1981-12-06</td>\n",
              "      <td>0 days 02:08:18</td>\n",
              "      <td>12.252533</td>\n",
              "    </tr>\n",
              "  </tbody>\n",
              "</table>\n",
              "</div>\n",
              "    <div class=\"colab-df-buttons\">\n",
              "\n",
              "  <div class=\"colab-df-container\">\n",
              "    <button class=\"colab-df-convert\" onclick=\"convertToInteractive('df-167cbd8c-3546-46d7-9a7f-00b05b04a411')\"\n",
              "            title=\"Convert this dataframe to an interactive table.\"\n",
              "            style=\"display:none;\">\n",
              "\n",
              "  <svg xmlns=\"http://www.w3.org/2000/svg\" height=\"24px\" viewBox=\"0 -960 960 960\">\n",
              "    <path d=\"M120-120v-720h720v720H120Zm60-500h600v-160H180v160Zm220 220h160v-160H400v160Zm0 220h160v-160H400v160ZM180-400h160v-160H180v160Zm440 0h160v-160H620v160ZM180-180h160v-160H180v160Zm440 0h160v-160H620v160Z\"/>\n",
              "  </svg>\n",
              "    </button>\n",
              "\n",
              "  <style>\n",
              "    .colab-df-container {\n",
              "      display:flex;\n",
              "      gap: 12px;\n",
              "    }\n",
              "\n",
              "    .colab-df-convert {\n",
              "      background-color: #E8F0FE;\n",
              "      border: none;\n",
              "      border-radius: 50%;\n",
              "      cursor: pointer;\n",
              "      display: none;\n",
              "      fill: #1967D2;\n",
              "      height: 32px;\n",
              "      padding: 0 0 0 0;\n",
              "      width: 32px;\n",
              "    }\n",
              "\n",
              "    .colab-df-convert:hover {\n",
              "      background-color: #E2EBFA;\n",
              "      box-shadow: 0px 1px 2px rgba(60, 64, 67, 0.3), 0px 1px 3px 1px rgba(60, 64, 67, 0.15);\n",
              "      fill: #174EA6;\n",
              "    }\n",
              "\n",
              "    .colab-df-buttons div {\n",
              "      margin-bottom: 4px;\n",
              "    }\n",
              "\n",
              "    [theme=dark] .colab-df-convert {\n",
              "      background-color: #3B4455;\n",
              "      fill: #D2E3FC;\n",
              "    }\n",
              "\n",
              "    [theme=dark] .colab-df-convert:hover {\n",
              "      background-color: #434B5C;\n",
              "      box-shadow: 0px 1px 3px 1px rgba(0, 0, 0, 0.15);\n",
              "      filter: drop-shadow(0px 1px 2px rgba(0, 0, 0, 0.3));\n",
              "      fill: #FFFFFF;\n",
              "    }\n",
              "  </style>\n",
              "\n",
              "    <script>\n",
              "      const buttonEl =\n",
              "        document.querySelector('#df-167cbd8c-3546-46d7-9a7f-00b05b04a411 button.colab-df-convert');\n",
              "      buttonEl.style.display =\n",
              "        google.colab.kernel.accessAllowed ? 'block' : 'none';\n",
              "\n",
              "      async function convertToInteractive(key) {\n",
              "        const element = document.querySelector('#df-167cbd8c-3546-46d7-9a7f-00b05b04a411');\n",
              "        const dataTable =\n",
              "          await google.colab.kernel.invokeFunction('convertToInteractive',\n",
              "                                                    [key], {});\n",
              "        if (!dataTable) return;\n",
              "\n",
              "        const docLinkHtml = 'Like what you see? Visit the ' +\n",
              "          '<a target=\"_blank\" href=https://colab.research.google.com/notebooks/data_table.ipynb>data table notebook</a>'\n",
              "          + ' to learn more about interactive tables.';\n",
              "        element.innerHTML = '';\n",
              "        dataTable['output_type'] = 'display_data';\n",
              "        await google.colab.output.renderOutput(dataTable, element);\n",
              "        const docLink = document.createElement('div');\n",
              "        docLink.innerHTML = docLinkHtml;\n",
              "        element.appendChild(docLink);\n",
              "      }\n",
              "    </script>\n",
              "  </div>\n",
              "\n",
              "\n",
              "<div id=\"df-f572daef-ae35-466f-93e1-e663d90de422\">\n",
              "  <button class=\"colab-df-quickchart\" onclick=\"quickchart('df-f572daef-ae35-466f-93e1-e663d90de422')\"\n",
              "            title=\"Suggest charts\"\n",
              "            style=\"display:none;\">\n",
              "\n",
              "<svg xmlns=\"http://www.w3.org/2000/svg\" height=\"24px\"viewBox=\"0 0 24 24\"\n",
              "     width=\"24px\">\n",
              "    <g>\n",
              "        <path d=\"M19 3H5c-1.1 0-2 .9-2 2v14c0 1.1.9 2 2 2h14c1.1 0 2-.9 2-2V5c0-1.1-.9-2-2-2zM9 17H7v-7h2v7zm4 0h-2V7h2v10zm4 0h-2v-4h2v4z\"/>\n",
              "    </g>\n",
              "</svg>\n",
              "  </button>\n",
              "\n",
              "<style>\n",
              "  .colab-df-quickchart {\n",
              "      --bg-color: #E8F0FE;\n",
              "      --fill-color: #1967D2;\n",
              "      --hover-bg-color: #E2EBFA;\n",
              "      --hover-fill-color: #174EA6;\n",
              "      --disabled-fill-color: #AAA;\n",
              "      --disabled-bg-color: #DDD;\n",
              "  }\n",
              "\n",
              "  [theme=dark] .colab-df-quickchart {\n",
              "      --bg-color: #3B4455;\n",
              "      --fill-color: #D2E3FC;\n",
              "      --hover-bg-color: #434B5C;\n",
              "      --hover-fill-color: #FFFFFF;\n",
              "      --disabled-bg-color: #3B4455;\n",
              "      --disabled-fill-color: #666;\n",
              "  }\n",
              "\n",
              "  .colab-df-quickchart {\n",
              "    background-color: var(--bg-color);\n",
              "    border: none;\n",
              "    border-radius: 50%;\n",
              "    cursor: pointer;\n",
              "    display: none;\n",
              "    fill: var(--fill-color);\n",
              "    height: 32px;\n",
              "    padding: 0;\n",
              "    width: 32px;\n",
              "  }\n",
              "\n",
              "  .colab-df-quickchart:hover {\n",
              "    background-color: var(--hover-bg-color);\n",
              "    box-shadow: 0 1px 2px rgba(60, 64, 67, 0.3), 0 1px 3px 1px rgba(60, 64, 67, 0.15);\n",
              "    fill: var(--button-hover-fill-color);\n",
              "  }\n",
              "\n",
              "  .colab-df-quickchart-complete:disabled,\n",
              "  .colab-df-quickchart-complete:disabled:hover {\n",
              "    background-color: var(--disabled-bg-color);\n",
              "    fill: var(--disabled-fill-color);\n",
              "    box-shadow: none;\n",
              "  }\n",
              "\n",
              "  .colab-df-spinner {\n",
              "    border: 2px solid var(--fill-color);\n",
              "    border-color: transparent;\n",
              "    border-bottom-color: var(--fill-color);\n",
              "    animation:\n",
              "      spin 1s steps(1) infinite;\n",
              "  }\n",
              "\n",
              "  @keyframes spin {\n",
              "    0% {\n",
              "      border-color: transparent;\n",
              "      border-bottom-color: var(--fill-color);\n",
              "      border-left-color: var(--fill-color);\n",
              "    }\n",
              "    20% {\n",
              "      border-color: transparent;\n",
              "      border-left-color: var(--fill-color);\n",
              "      border-top-color: var(--fill-color);\n",
              "    }\n",
              "    30% {\n",
              "      border-color: transparent;\n",
              "      border-left-color: var(--fill-color);\n",
              "      border-top-color: var(--fill-color);\n",
              "      border-right-color: var(--fill-color);\n",
              "    }\n",
              "    40% {\n",
              "      border-color: transparent;\n",
              "      border-right-color: var(--fill-color);\n",
              "      border-top-color: var(--fill-color);\n",
              "    }\n",
              "    60% {\n",
              "      border-color: transparent;\n",
              "      border-right-color: var(--fill-color);\n",
              "    }\n",
              "    80% {\n",
              "      border-color: transparent;\n",
              "      border-right-color: var(--fill-color);\n",
              "      border-bottom-color: var(--fill-color);\n",
              "    }\n",
              "    90% {\n",
              "      border-color: transparent;\n",
              "      border-bottom-color: var(--fill-color);\n",
              "    }\n",
              "  }\n",
              "</style>\n",
              "\n",
              "  <script>\n",
              "    async function quickchart(key) {\n",
              "      const quickchartButtonEl =\n",
              "        document.querySelector('#' + key + ' button');\n",
              "      quickchartButtonEl.disabled = true;  // To prevent multiple clicks.\n",
              "      quickchartButtonEl.classList.add('colab-df-spinner');\n",
              "      try {\n",
              "        const charts = await google.colab.kernel.invokeFunction(\n",
              "            'suggestCharts', [key], {});\n",
              "      } catch (error) {\n",
              "        console.error('Error during call to suggestCharts:', error);\n",
              "      }\n",
              "      quickchartButtonEl.classList.remove('colab-df-spinner');\n",
              "      quickchartButtonEl.classList.add('colab-df-quickchart-complete');\n",
              "    }\n",
              "    (() => {\n",
              "      let quickchartButtonEl =\n",
              "        document.querySelector('#df-f572daef-ae35-466f-93e1-e663d90de422 button');\n",
              "      quickchartButtonEl.style.display =\n",
              "        google.colab.kernel.accessAllowed ? 'block' : 'none';\n",
              "    })();\n",
              "  </script>\n",
              "</div>\n",
              "\n",
              "    </div>\n",
              "  </div>\n"
            ],
            "application/vnd.google.colaboratory.intrinsic+json": {
              "type": "dataframe",
              "variable_name": "data",
              "repr_error": "0"
            }
          },
          "metadata": {},
          "execution_count": 60
        }
      ],
      "source": [
        "recent = table['date'] > pd.to_datetime('1970')\n",
        "data = table.loc[recent].copy()\n",
        "data.head()"
      ]
    },
    {
      "cell_type": "markdown",
      "metadata": {
        "id": "rfqNRykZDIME"
      },
      "source": [
        "In the notebook for this chapter, you can see how I loaded and cleaned the data.  The result is a `DataFrame` that contains the following columns (and additional information we won't use):\n",
        "\n",
        "* `date`, which is a Pandas `Timestamp` representing the date when the world record was broken, and\n",
        "\n",
        "* `speed`, which records the record-breaking pace in mph.\n",
        "\n",
        "Here's what the results look like, starting in 1970:"
      ]
    },
    {
      "cell_type": "code",
      "execution_count": 61,
      "metadata": {
        "execution": {
          "iopub.execute_input": "2021-04-16T19:39:28.057142Z",
          "iopub.status.busy": "2021-04-16T19:39:28.056331Z",
          "iopub.status.idle": "2021-04-16T19:39:28.210918Z",
          "shell.execute_reply": "2021-04-16T19:39:28.210485Z"
        },
        "tags": [],
        "id": "jER2XvXfDIME",
        "colab": {
          "base_uri": "https://localhost:8080/",
          "height": 487
        },
        "outputId": "dda8742f-4e48-4fbf-e0d0-db9956d841e4"
      },
      "outputs": [
        {
          "output_type": "display_data",
          "data": {
            "text/plain": [
              "<Figure size 640x480 with 1 Axes>"
            ],
            "image/png": "[encoded data removed]"
          },
          "metadata": {}
        }
      ],
      "source": [
        "plot_speeds(data)"
      ]
    },
    {
      "cell_type": "markdown",
      "metadata": {
        "id": "oClivh_hDIME"
      },
      "source": [
        "The data points fall approximately on a line, although it's possible that the slope is increasing.\n",
        "\n",
        "To prepare the data for regression, I'll subtract away the approximate midpoint of the time interval, 1995."
      ]
    },
    {
      "cell_type": "code",
      "execution_count": 62,
      "metadata": {
        "execution": {
          "iopub.execute_input": "2021-04-16T19:39:28.214686Z",
          "iopub.status.busy": "2021-04-16T19:39:28.214200Z",
          "iopub.status.idle": "2021-04-16T19:39:28.215796Z",
          "shell.execute_reply": "2021-04-16T19:39:28.216157Z"
        },
        "id": "EMR7lJkqDIME"
      },
      "outputs": [],
      "source": [
        "offset = pd.to_datetime('1995')\n",
        "timedelta = table['date'] - offset"
      ]
    },
    {
      "cell_type": "markdown",
      "metadata": {
        "id": "W2OBboCPDIME"
      },
      "source": [
        "When we subtract two `Timestamp` objects, the result is a \"time delta\", which we can convert to seconds and then to years."
      ]
    },
    {
      "cell_type": "code",
      "execution_count": 63,
      "metadata": {
        "execution": {
          "iopub.execute_input": "2021-04-16T19:39:28.221866Z",
          "iopub.status.busy": "2021-04-16T19:39:28.220942Z",
          "iopub.status.idle": "2021-04-16T19:39:28.223586Z",
          "shell.execute_reply": "2021-04-16T19:39:28.223108Z"
        },
        "id": "WMgah_qEDIME"
      },
      "outputs": [],
      "source": [
        "data['x'] = timedelta.dt.total_seconds() / 3600 / 24 / 365.24"
      ]
    },
    {
      "cell_type": "code",
      "execution_count": 64,
      "metadata": {
        "execution": {
          "iopub.execute_input": "2021-04-16T19:39:28.231701Z",
          "iopub.status.busy": "2021-04-16T19:39:28.231064Z",
          "iopub.status.idle": "2021-04-16T19:39:28.234172Z",
          "shell.execute_reply": "2021-04-16T19:39:28.233719Z"
        },
        "tags": [],
        "id": "8LpLyubFDIME",
        "colab": {
          "base_uri": "https://localhost:8080/"
        },
        "outputId": "b9b9e926-8b6c-4488-c2dc-b072554a86c7"
      },
      "outputs": [
        {
          "output_type": "execute_result",
          "data": {
            "text/plain": [
              "count    20.000000\n",
              "mean      3.491814\n",
              "std      16.864451\n",
              "min     -24.444201\n",
              "25%     -10.914741\n",
              "50%       6.046709\n",
              "75%      17.234558\n",
              "max      28.767386\n",
              "Name: x, dtype: float64"
            ]
          },
          "metadata": {},
          "execution_count": 64
        }
      ],
      "source": [
        "data['x'].describe()"
      ]
    },
    {
      "cell_type": "markdown",
      "metadata": {
        "id": "UgP-LRHJDIMF"
      },
      "source": [
        "As in the previous example, I'll use least squares regression to compute point estimates for the parameters, which will help with choosing priors."
      ]
    },
    {
      "cell_type": "code",
      "execution_count": 65,
      "metadata": {
        "execution": {
          "iopub.execute_input": "2021-04-16T19:39:28.243896Z",
          "iopub.status.busy": "2021-04-16T19:39:28.243090Z",
          "iopub.status.idle": "2021-04-16T19:39:28.246900Z",
          "shell.execute_reply": "2021-04-16T19:39:28.246348Z"
        },
        "id": "GjayekfCDIMF",
        "colab": {
          "base_uri": "https://localhost:8080/"
        },
        "outputId": "9496618d-9ac9-47e1-a06c-e9516ceea139"
      },
      "outputs": [
        {
          "output_type": "execute_result",
          "data": {
            "text/plain": [
              "Intercept    12.467888\n",
              "x             0.016465\n",
              "dtype: float64"
            ]
          },
          "metadata": {},
          "execution_count": 65
        }
      ],
      "source": [
        "import statsmodels.formula.api as smf\n",
        "\n",
        "formula = 'y ~ x'\n",
        "results = smf.ols(formula, data=data).fit()\n",
        "results.params"
      ]
    },
    {
      "cell_type": "markdown",
      "metadata": {
        "id": "2r2B200nDIMF"
      },
      "source": [
        "The estimated intercept is about 12.5 mph, which is the interpolated world record pace for 1995.  The estimated slope is about 0.015 mph per year, which is the rate the world record pace is increasing, according to the model.\n",
        "\n",
        "Again, we can use the standard deviation of the residuals as a point estimate for `sigma`."
      ]
    },
    {
      "cell_type": "code",
      "execution_count": 66,
      "metadata": {
        "execution": {
          "iopub.execute_input": "2021-04-16T19:39:28.251555Z",
          "iopub.status.busy": "2021-04-16T19:39:28.250995Z",
          "iopub.status.idle": "2021-04-16T19:39:28.253487Z",
          "shell.execute_reply": "2021-04-16T19:39:28.253872Z"
        },
        "id": "Zx-oJvjyDIMF",
        "colab": {
          "base_uri": "https://localhost:8080/"
        },
        "outputId": "ab7b0f89-2628-49a9-962f-ed918585378c"
      },
      "outputs": [
        {
          "output_type": "execute_result",
          "data": {
            "text/plain": [
              "0.04921878329328621"
            ]
          },
          "metadata": {},
          "execution_count": 66
        }
      ],
      "source": [
        "results.resid.std()"
      ]
    },
    {
      "cell_type": "markdown",
      "metadata": {
        "id": "4gU0BjyKDIMF"
      },
      "source": [
        "These parameters give us a good idea where we should put the prior distributions."
      ]
    },
    {
      "cell_type": "markdown",
      "metadata": {
        "id": "RaNUhV3SDIMF"
      },
      "source": [
        "## The Priors\n",
        "\n",
        "Here are the prior distributions I chose for `slope`, `intercept`, and `sigma`."
      ]
    },
    {
      "cell_type": "code",
      "execution_count": 67,
      "metadata": {
        "execution": {
          "iopub.execute_input": "2021-04-16T19:39:28.258022Z",
          "iopub.status.busy": "2021-04-16T19:39:28.257434Z",
          "iopub.status.idle": "2021-04-16T19:39:28.259420Z",
          "shell.execute_reply": "2021-04-16T19:39:28.259062Z"
        },
        "id": "ntyYFRmfDIMF"
      },
      "outputs": [],
      "source": [
        "qs = np.linspace(0.012, 0.018, 51)\n",
        "prior_slope = make_uniform(qs, 'Slope')"
      ]
    },
    {
      "cell_type": "code",
      "execution_count": 68,
      "metadata": {
        "execution": {
          "iopub.execute_input": "2021-04-16T19:39:28.263808Z",
          "iopub.status.busy": "2021-04-16T19:39:28.263043Z",
          "iopub.status.idle": "2021-04-16T19:39:28.265744Z",
          "shell.execute_reply": "2021-04-16T19:39:28.265217Z"
        },
        "id": "93Y5Q_KzDIMF"
      },
      "outputs": [],
      "source": [
        "qs = np.linspace(12.4, 12.5, 41)\n",
        "prior_inter = make_uniform(qs, 'Intercept')"
      ]
    },
    {
      "cell_type": "code",
      "execution_count": 69,
      "metadata": {
        "execution": {
          "iopub.execute_input": "2021-04-16T19:39:28.270542Z",
          "iopub.status.busy": "2021-04-16T19:39:28.269999Z",
          "iopub.status.idle": "2021-04-16T19:39:28.272030Z",
          "shell.execute_reply": "2021-04-16T19:39:28.272481Z"
        },
        "id": "T0okqOAFDIMF"
      },
      "outputs": [],
      "source": [
        "qs = np.linspace(0.01, 0.21, 31)\n",
        "prior_sigma = make_uniform(qs, 'Sigma')"
      ]
    },
    {
      "cell_type": "markdown",
      "metadata": {
        "id": "94y8jtMCDIMF"
      },
      "source": [
        "And here's the joint prior distribution."
      ]
    },
    {
      "cell_type": "code",
      "execution_count": 70,
      "metadata": {
        "execution": {
          "iopub.execute_input": "2021-04-16T19:39:28.277187Z",
          "iopub.status.busy": "2021-04-16T19:39:28.276205Z",
          "iopub.status.idle": "2021-04-16T19:39:28.287288Z",
          "shell.execute_reply": "2021-04-16T19:39:28.287636Z"
        },
        "id": "1lrtuhuVDIMF",
        "colab": {
          "base_uri": "https://localhost:8080/",
          "height": 175
        },
        "outputId": "50ef4f95-a973-4807-a622-bb1ea971e9ca"
      },
      "outputs": [
        {
          "output_type": "execute_result",
          "data": {
            "text/plain": [
              "Slope  Intercept  Sigma   \n",
              "0.012  12.4       0.010000    0.000015\n",
              "                  0.016667    0.000015\n",
              "                  0.023333    0.000015\n",
              "dtype: float64"
            ],
            "text/html": [
              "<div>\n",
              "<style scoped>\n",
              "    .dataframe tbody tr th:only-of-type {\n",
              "        vertical-align: middle;\n",
              "    }\n",
              "\n",
              "    .dataframe tbody tr th {\n",
              "        vertical-align: top;\n",
              "    }\n",
              "\n",
              "    .dataframe thead th {\n",
              "        text-align: right;\n",
              "    }\n",
              "</style>\n",
              "<table border=\"1\" class=\"dataframe\">\n",
              "  <thead>\n",
              "    <tr style=\"text-align: right;\">\n",
              "      <th></th>\n",
              "      <th></th>\n",
              "      <th></th>\n",
              "      <th>probs</th>\n",
              "    </tr>\n",
              "    <tr>\n",
              "      <th>Slope</th>\n",
              "      <th>Intercept</th>\n",
              "      <th>Sigma</th>\n",
              "      <th></th>\n",
              "    </tr>\n",
              "  </thead>\n",
              "  <tbody>\n",
              "    <tr>\n",
              "      <th rowspan=\"3\" valign=\"top\">0.012</th>\n",
              "      <th rowspan=\"3\" valign=\"top\">12.4</th>\n",
              "      <th>0.010000</th>\n",
              "      <td>0.000015</td>\n",
              "    </tr>\n",
              "    <tr>\n",
              "      <th>0.016667</th>\n",
              "      <td>0.000015</td>\n",
              "    </tr>\n",
              "    <tr>\n",
              "      <th>0.023333</th>\n",
              "      <td>0.000015</td>\n",
              "    </tr>\n",
              "  </tbody>\n",
              "</table>\n",
              "</div>"
            ]
          },
          "metadata": {},
          "execution_count": 70
        }
      ],
      "source": [
        "prior = make_joint3(prior_slope, prior_inter, prior_sigma)\n",
        "prior.head()"
      ]
    },
    {
      "cell_type": "markdown",
      "metadata": {
        "id": "SbPqRr7IDIMF"
      },
      "source": [
        "Now we can compute likelihoods as in the previous example:"
      ]
    },
    {
      "cell_type": "code",
      "execution_count": 71,
      "metadata": {
        "execution": {
          "iopub.execute_input": "2021-04-16T19:39:28.292255Z",
          "iopub.status.busy": "2021-04-16T19:39:28.291742Z",
          "iopub.status.idle": "2021-04-16T19:40:08.384282Z",
          "shell.execute_reply": "2021-04-16T19:40:08.384694Z"
        },
        "id": "fBhvP64-DIMF"
      },
      "outputs": [],
      "source": [
        "xs = data['x']\n",
        "ys = data['y']\n",
        "likelihood = prior.copy()\n",
        "\n",
        "for slope, inter, sigma in prior.index:\n",
        "    expected = slope * xs + inter\n",
        "    resid = ys - expected\n",
        "    densities = norm.pdf(resid, 0, sigma)\n",
        "    likelihood[slope, inter, sigma] = densities.prod()"
      ]
    },
    {
      "cell_type": "markdown",
      "metadata": {
        "id": "4HvpZRTXDIMF"
      },
      "source": [
        "Now we can do the update in the usual way."
      ]
    },
    {
      "cell_type": "code",
      "execution_count": 72,
      "metadata": {
        "execution": {
          "iopub.execute_input": "2021-04-16T19:40:08.387896Z",
          "iopub.status.busy": "2021-04-16T19:40:08.387383Z",
          "iopub.status.idle": "2021-04-16T19:40:08.394693Z",
          "shell.execute_reply": "2021-04-16T19:40:08.395061Z"
        },
        "tags": [],
        "id": "K4mkjYQmDIMF",
        "colab": {
          "base_uri": "https://localhost:8080/"
        },
        "outputId": "61b5dc07-c35b-420e-f973-b87c2257acff"
      },
      "outputs": [
        {
          "output_type": "execute_result",
          "data": {
            "text/plain": [
              "881359817814.0253"
            ]
          },
          "metadata": {},
          "execution_count": 72
        }
      ],
      "source": [
        "posterior = prior * likelihood\n",
        "posterior.normalize()"
      ]
    },
    {
      "cell_type": "markdown",
      "metadata": {
        "id": "2wrI-VhfDIMF"
      },
      "source": [
        "And unpack the marginals:"
      ]
    },
    {
      "cell_type": "code",
      "execution_count": 73,
      "metadata": {
        "execution": {
          "iopub.execute_input": "2021-04-16T19:40:08.398478Z",
          "iopub.status.busy": "2021-04-16T19:40:08.397965Z",
          "iopub.status.idle": "2021-04-16T19:40:08.406205Z",
          "shell.execute_reply": "2021-04-16T19:40:08.406577Z"
        },
        "id": "WOgRNMcBDIMF"
      },
      "outputs": [],
      "source": [
        "posterior_slope = posterior.marginal(0)\n",
        "posterior_inter = posterior.marginal(1)\n",
        "posterior_sigma = posterior.marginal(2)"
      ]
    },
    {
      "cell_type": "code",
      "execution_count": 74,
      "metadata": {
        "execution": {
          "iopub.execute_input": "2021-04-16T19:40:08.429912Z",
          "iopub.status.busy": "2021-04-16T19:40:08.424037Z",
          "iopub.status.idle": "2021-04-16T19:40:08.536904Z",
          "shell.execute_reply": "2021-04-16T19:40:08.536549Z"
        },
        "tags": [],
        "id": "c5jkejeLDIMF",
        "colab": {
          "base_uri": "https://localhost:8080/",
          "height": 449
        },
        "outputId": "efa6ec1e-768b-493b-cfcd-8a255339488a"
      },
      "outputs": [
        {
          "output_type": "display_data",
          "data": {
            "text/plain": [
              "<Figure size 640x480 with 1 Axes>"
            ],
            "image/png": "[encoded data removed]"
          },
          "metadata": {}
        }
      ],
      "source": [
        "posterior_sigma.plot();"
      ]
    },
    {
      "cell_type": "markdown",
      "metadata": {
        "id": "3KldORYADIMF"
      },
      "source": [
        "Here's the posterior distribution of `inter`:"
      ]
    },
    {
      "cell_type": "code",
      "execution_count": 75,
      "metadata": {
        "execution": {
          "iopub.execute_input": "2021-04-16T19:40:08.558330Z",
          "iopub.status.busy": "2021-04-16T19:40:08.557823Z",
          "iopub.status.idle": "2021-04-16T19:40:08.711888Z",
          "shell.execute_reply": "2021-04-16T19:40:08.712426Z"
        },
        "tags": [],
        "id": "_APIKppJDIMF",
        "colab": {
          "base_uri": "https://localhost:8080/",
          "height": 487
        },
        "outputId": "fc3d8bc7-4585-43dc-a7ee-6207124ed52f"
      },
      "outputs": [
        {
          "output_type": "display_data",
          "data": {
            "text/plain": [
              "<Figure size 640x480 with 1 Axes>"
            ],
            "image/png": "[encoded data removed]"
          },
          "metadata": {}
        }
      ],
      "source": [
        "posterior_inter.plot(color='C1')\n",
        "decorate(xlabel='intercept',\n",
        "         ylabel='PDF',\n",
        "         title='Posterior marginal distribution of intercept')"
      ]
    },
    {
      "cell_type": "code",
      "execution_count": 76,
      "metadata": {
        "execution": {
          "iopub.execute_input": "2021-04-16T19:40:08.717982Z",
          "iopub.status.busy": "2021-04-16T19:40:08.717261Z",
          "iopub.status.idle": "2021-04-16T19:40:08.721465Z",
          "shell.execute_reply": "2021-04-16T19:40:08.720768Z"
        },
        "tags": [],
        "id": "YElpNyB2DIMF",
        "colab": {
          "base_uri": "https://localhost:8080/"
        },
        "outputId": "8e0c6234-ab49-45f0-845e-d5f44d479a0c"
      },
      "outputs": [
        {
          "output_type": "stream",
          "name": "stdout",
          "text": [
            "12.468 [12.4475 12.4875]\n"
          ]
        }
      ],
      "source": [
        "summarize(posterior_inter)"
      ]
    },
    {
      "cell_type": "markdown",
      "metadata": {
        "id": "YQlgjcU4DIMF"
      },
      "source": [
        "The posterior mean is about 12.5 mph, which is the world record marathon pace the model predicts for the midpoint of the date range, 1994.\n",
        "\n",
        "And here's the posterior distribution of `slope`."
      ]
    },
    {
      "cell_type": "code",
      "execution_count": 77,
      "metadata": {
        "execution": {
          "iopub.execute_input": "2021-04-16T19:40:08.774456Z",
          "iopub.status.busy": "2021-04-16T19:40:08.760561Z",
          "iopub.status.idle": "2021-04-16T19:40:08.957028Z",
          "shell.execute_reply": "2021-04-16T19:40:08.957858Z"
        },
        "tags": [],
        "id": "sLMDXcS7DIMG",
        "colab": {
          "base_uri": "https://localhost:8080/",
          "height": 487
        },
        "outputId": "ea44bd85-ab8f-4452-ff9c-57c0749bea94"
      },
      "outputs": [
        {
          "output_type": "display_data",
          "data": {
            "text/plain": [
              "<Figure size 640x480 with 1 Axes>"
            ],
            "image/png": "[encoded data removed]"
          },
          "metadata": {}
        }
      ],
      "source": [
        "posterior_slope.plot(color='C4')\n",
        "decorate(xlabel='Slope',\n",
        "         ylabel='PDF',\n",
        "         title='Posterior marginal distribution of slope')"
      ]
    },
    {
      "cell_type": "code",
      "execution_count": 78,
      "metadata": {
        "execution": {
          "iopub.execute_input": "2021-04-16T19:40:08.966418Z",
          "iopub.status.busy": "2021-04-16T19:40:08.965585Z",
          "iopub.status.idle": "2021-04-16T19:40:08.972250Z",
          "shell.execute_reply": "2021-04-16T19:40:08.972843Z"
        },
        "tags": [],
        "id": "FsocALEDDIMG",
        "colab": {
          "base_uri": "https://localhost:8080/"
        },
        "outputId": "f65f77b1-6912-450c-c7e8-42de4285f9c6"
      },
      "outputs": [
        {
          "output_type": "stream",
          "name": "stdout",
          "text": [
            "0.016 [0.01524 0.01752]\n"
          ]
        }
      ],
      "source": [
        "summarize(posterior_slope)"
      ]
    },
    {
      "cell_type": "markdown",
      "metadata": {
        "id": "qar51y8bDIMG"
      },
      "source": [
        "The posterior mean is about 0.015 mph per year, or 0.15 mph per decade.\n",
        "\n",
        "That's interesting, but it doesn't answer the question we're interested in: When will there be a two-hour marathon? To answer that, we have to make predictions."
      ]
    },
    {
      "cell_type": "markdown",
      "metadata": {
        "id": "RgZxLMLVDIMG"
      },
      "source": [
        "## Prediction\n",
        "\n",
        "To generate predictions, I'll draw a sample from the posterior distribution of parameters, then use the regression equation to combine the parameters with the data.\n",
        "\n",
        "`Pmf` provides `choice`, which we can use to draw a random sample with replacement, using the posterior probabilities as weights."
      ]
    },
    {
      "cell_type": "code",
      "execution_count": 79,
      "metadata": {
        "execution": {
          "iopub.execute_input": "2021-04-16T19:40:08.976629Z",
          "iopub.status.busy": "2021-04-16T19:40:08.975627Z",
          "iopub.status.idle": "2021-04-16T19:40:08.979423Z",
          "shell.execute_reply": "2021-04-16T19:40:08.980266Z"
        },
        "tags": [],
        "id": "fW4cMT5BDIMG"
      },
      "outputs": [],
      "source": [
        "np.random.seed(17)"
      ]
    },
    {
      "cell_type": "code",
      "execution_count": 80,
      "metadata": {
        "execution": {
          "iopub.execute_input": "2021-04-16T19:40:08.983792Z",
          "iopub.status.busy": "2021-04-16T19:40:08.983006Z",
          "iopub.status.idle": "2021-04-16T19:40:08.987959Z",
          "shell.execute_reply": "2021-04-16T19:40:08.988740Z"
        },
        "id": "aLnPUhj-DIMG"
      },
      "outputs": [],
      "source": [
        "sample = posterior.choice(101)"
      ]
    },
    {
      "cell_type": "markdown",
      "metadata": {
        "id": "822Ft6YxDIMG"
      },
      "source": [
        "The result is an array of tuples.  Looping through the sample, we can use the regression equation to generate predictions for a range of `xs`."
      ]
    },
    {
      "cell_type": "code",
      "execution_count": 81,
      "metadata": {
        "execution": {
          "iopub.execute_input": "2021-04-16T19:40:08.995701Z",
          "iopub.status.busy": "2021-04-16T19:40:08.994987Z",
          "iopub.status.idle": "2021-04-16T19:40:09.151613Z",
          "shell.execute_reply": "2021-04-16T19:40:09.151148Z"
        },
        "id": "f5tjuDr3DIMG"
      },
      "outputs": [],
      "source": [
        "xs = np.arange(-25, 50, 2)\n",
        "pred = np.empty((len(sample), len(xs)))\n",
        "\n",
        "for i, (slope, inter, sigma) in enumerate(sample):\n",
        "    epsilon = norm(0, sigma).rvs(len(xs))\n",
        "    pred[i] = inter + slope * xs + epsilon"
      ]
    },
    {
      "cell_type": "markdown",
      "metadata": {
        "id": "Ib9s1V-lDIMG"
      },
      "source": [
        "Each prediction is an array with the same length as `xs`, which I store as a row in `pred`.  So the result has one row for each sample and one column for each value of `x`.\n",
        "\n",
        "We can use `percentile` to compute the 5th, 50th, and 95th percentiles in each column."
      ]
    },
    {
      "cell_type": "code",
      "execution_count": 82,
      "metadata": {
        "execution": {
          "iopub.execute_input": "2021-04-16T19:40:09.158240Z",
          "iopub.status.busy": "2021-04-16T19:40:09.157499Z",
          "iopub.status.idle": "2021-04-16T19:40:09.161662Z",
          "shell.execute_reply": "2021-04-16T19:40:09.162303Z"
        },
        "id": "ebsu-1YVDIMG"
      },
      "outputs": [],
      "source": [
        "low, median, high = np.percentile(pred, [5, 50, 95], axis=0)"
      ]
    },
    {
      "cell_type": "markdown",
      "metadata": {
        "id": "KTE1Xv27DIMG"
      },
      "source": [
        "To show the results, I'll plot the median of the predictions as a line and the 90% credible interval as a shaded area."
      ]
    },
    {
      "cell_type": "code",
      "execution_count": 83,
      "metadata": {
        "execution": {
          "iopub.execute_input": "2021-04-16T19:40:09.193803Z",
          "iopub.status.busy": "2021-04-16T19:40:09.193041Z",
          "iopub.status.idle": "2021-04-16T19:40:09.467845Z",
          "shell.execute_reply": "2021-04-16T19:40:09.468385Z"
        },
        "tags": [],
        "id": "ay8UhJBSDIMG",
        "colab": {
          "base_uri": "https://localhost:8080/",
          "height": 486
        },
        "outputId": "81023b8a-017e-4092-b040-1a0159ed709b"
      },
      "outputs": [
        {
          "output_type": "display_data",
          "data": {
            "text/plain": [
              "<Figure size 640x480 with 1 Axes>"
            ],
            "image/png": "[encoded data removed]"
          },
          "metadata": {}
        }
      ],
      "source": [
        "times = pd.to_timedelta(xs*365.24, unit='days') + offset\n",
        "\n",
        "plt.fill_between(times, low, high,\n",
        "                 color='C2', alpha=0.1)\n",
        "plt.plot(times, median, color='C2')\n",
        "\n",
        "plot_speeds(data)"
      ]
    },
    {
      "cell_type": "markdown",
      "metadata": {
        "id": "FhmpkhZaDIMG"
      },
      "source": [
        "The dashed line shows the two-hour marathon pace, which is 13.1 miles per hour.\n",
        "Visually we can estimate that the prediction line hits the target pace between 2030 and 2040.\n",
        "\n",
        "To make this more precise, we can use interpolation to see when the predictions cross the finish line.  SciPy provides `interp1d`, which does linear interpolation by default."
      ]
    },
    {
      "cell_type": "code",
      "execution_count": 84,
      "metadata": {
        "execution": {
          "iopub.execute_input": "2021-04-16T19:40:09.477523Z",
          "iopub.status.busy": "2021-04-16T19:40:09.475247Z",
          "iopub.status.idle": "2021-04-16T19:40:09.489783Z",
          "shell.execute_reply": "2021-04-16T19:40:09.488592Z"
        },
        "id": "_meUwzgKDIMG"
      },
      "outputs": [],
      "source": [
        "from scipy.interpolate import interp1d\n",
        "\n",
        "future = np.array([interp1d(high, xs)(13.1),\n",
        "                   interp1d(median, xs)(13.1),\n",
        "                   interp1d(low, xs)(13.1)])"
      ]
    },
    {
      "cell_type": "code",
      "execution_count": 85,
      "metadata": {
        "execution": {
          "iopub.execute_input": "2021-04-16T19:40:09.501330Z",
          "iopub.status.busy": "2021-04-16T19:40:09.500502Z",
          "iopub.status.idle": "2021-04-16T19:40:09.504183Z",
          "shell.execute_reply": "2021-04-16T19:40:09.504946Z"
        },
        "tags": [],
        "id": "rDClIixjDIMG",
        "colab": {
          "base_uri": "https://localhost:8080/",
          "height": 143
        },
        "outputId": "85773387-f1ec-4696-b80a-4593460a337f"
      },
      "outputs": [
        {
          "output_type": "execute_result",
          "data": {
            "text/plain": [
              "                            datetime\n",
              "early  2026-12-13 03:14:27.202306911\n",
              "median 2033-04-08 05:07:46.556428575\n",
              "late   2039-10-31 21:59:58.551758900"
            ],
            "text/html": [
              "\n",
              "  <div id=\"df-c13b7f73-d09d-4765-83fa-4f086f884def\" class=\"colab-df-container\">\n",
              "    <div>\n",
              "<style scoped>\n",
              "    .dataframe tbody tr th:only-of-type {\n",
              "        vertical-align: middle;\n",
              "    }\n",
              "\n",
              "    .dataframe tbody tr th {\n",
              "        vertical-align: top;\n",
              "    }\n",
              "\n",
              "    .dataframe thead th {\n",
              "        text-align: right;\n",
              "    }\n",
              "</style>\n",
              "<table border=\"1\" class=\"dataframe\">\n",
              "  <thead>\n",
              "    <tr style=\"text-align: right;\">\n",
              "      <th></th>\n",
              "      <th>datetime</th>\n",
              "    </tr>\n",
              "  </thead>\n",
              "  <tbody>\n",
              "    <tr>\n",
              "      <th>early</th>\n",
              "      <td>2026-12-13 03:14:27.202306911</td>\n",
              "    </tr>\n",
              "    <tr>\n",
              "      <th>median</th>\n",
              "      <td>2033-04-08 05:07:46.556428575</td>\n",
              "    </tr>\n",
              "    <tr>\n",
              "      <th>late</th>\n",
              "      <td>2039-10-31 21:59:58.551758900</td>\n",
              "    </tr>\n",
              "  </tbody>\n",
              "</table>\n",
              "</div>\n",
              "    <div class=\"colab-df-buttons\">\n",
              "\n",
              "  <div class=\"colab-df-container\">\n",
              "    <button class=\"colab-df-convert\" onclick=\"convertToInteractive('df-c13b7f73-d09d-4765-83fa-4f086f884def')\"\n",
              "            title=\"Convert this dataframe to an interactive table.\"\n",
              "            style=\"display:none;\">\n",
              "\n",
              "  <svg xmlns=\"http://www.w3.org/2000/svg\" height=\"24px\" viewBox=\"0 -960 960 960\">\n",
              "    <path d=\"M120-120v-720h720v720H120Zm60-500h600v-160H180v160Zm220 220h160v-160H400v160Zm0 220h160v-160H400v160ZM180-400h160v-160H180v160Zm440 0h160v-160H620v160ZM180-180h160v-160H180v160Zm440 0h160v-160H620v160Z\"/>\n",
              "  </svg>\n",
              "    </button>\n",
              "\n",
              "  <style>\n",
              "    .colab-df-container {\n",
              "      display:flex;\n",
              "      gap: 12px;\n",
              "    }\n",
              "\n",
              "    .colab-df-convert {\n",
              "      background-color: #E8F0FE;\n",
              "      border: none;\n",
              "      border-radius: 50%;\n",
              "      cursor: pointer;\n",
              "      display: none;\n",
              "      fill: #1967D2;\n",
              "      height: 32px;\n",
              "      padding: 0 0 0 0;\n",
              "      width: 32px;\n",
              "    }\n",
              "\n",
              "    .colab-df-convert:hover {\n",
              "      background-color: #E2EBFA;\n",
              "      box-shadow: 0px 1px 2px rgba(60, 64, 67, 0.3), 0px 1px 3px 1px rgba(60, 64, 67, 0.15);\n",
              "      fill: #174EA6;\n",
              "    }\n",
              "\n",
              "    .colab-df-buttons div {\n",
              "      margin-bottom: 4px;\n",
              "    }\n",
              "\n",
              "    [theme=dark] .colab-df-convert {\n",
              "      background-color: #3B4455;\n",
              "      fill: #D2E3FC;\n",
              "    }\n",
              "\n",
              "    [theme=dark] .colab-df-convert:hover {\n",
              "      background-color: #434B5C;\n",
              "      box-shadow: 0px 1px 3px 1px rgba(0, 0, 0, 0.15);\n",
              "      filter: drop-shadow(0px 1px 2px rgba(0, 0, 0, 0.3));\n",
              "      fill: #FFFFFF;\n",
              "    }\n",
              "  </style>\n",
              "\n",
              "    <script>\n",
              "      const buttonEl =\n",
              "        document.querySelector('#df-c13b7f73-d09d-4765-83fa-4f086f884def button.colab-df-convert');\n",
              "      buttonEl.style.display =\n",
              "        google.colab.kernel.accessAllowed ? 'block' : 'none';\n",
              "\n",
              "      async function convertToInteractive(key) {\n",
              "        const element = document.querySelector('#df-c13b7f73-d09d-4765-83fa-4f086f884def');\n",
              "        const dataTable =\n",
              "          await google.colab.kernel.invokeFunction('convertToInteractive',\n",
              "                                                    [key], {});\n",
              "        if (!dataTable) return;\n",
              "\n",
              "        const docLinkHtml = 'Like what you see? Visit the ' +\n",
              "          '<a target=\"_blank\" href=https://colab.research.google.com/notebooks/data_table.ipynb>data table notebook</a>'\n",
              "          + ' to learn more about interactive tables.';\n",
              "        element.innerHTML = '';\n",
              "        dataTable['output_type'] = 'display_data';\n",
              "        await google.colab.output.renderOutput(dataTable, element);\n",
              "        const docLink = document.createElement('div');\n",
              "        docLink.innerHTML = docLinkHtml;\n",
              "        element.appendChild(docLink);\n",
              "      }\n",
              "    </script>\n",
              "  </div>\n",
              "\n",
              "\n",
              "<div id=\"df-962a3cca-cb86-4679-acc6-c1c89e4d0293\">\n",
              "  <button class=\"colab-df-quickchart\" onclick=\"quickchart('df-962a3cca-cb86-4679-acc6-c1c89e4d0293')\"\n",
              "            title=\"Suggest charts\"\n",
              "            style=\"display:none;\">\n",
              "\n",
              "<svg xmlns=\"http://www.w3.org/2000/svg\" height=\"24px\"viewBox=\"0 0 24 24\"\n",
              "     width=\"24px\">\n",
              "    <g>\n",
              "        <path d=\"M19 3H5c-1.1 0-2 .9-2 2v14c0 1.1.9 2 2 2h14c1.1 0 2-.9 2-2V5c0-1.1-.9-2-2-2zM9 17H7v-7h2v7zm4 0h-2V7h2v10zm4 0h-2v-4h2v4z\"/>\n",
              "    </g>\n",
              "</svg>\n",
              "  </button>\n",
              "\n",
              "<style>\n",
              "  .colab-df-quickchart {\n",
              "      --bg-color: #E8F0FE;\n",
              "      --fill-color: #1967D2;\n",
              "      --hover-bg-color: #E2EBFA;\n",
              "      --hover-fill-color: #174EA6;\n",
              "      --disabled-fill-color: #AAA;\n",
              "      --disabled-bg-color: #DDD;\n",
              "  }\n",
              "\n",
              "  [theme=dark] .colab-df-quickchart {\n",
              "      --bg-color: #3B4455;\n",
              "      --fill-color: #D2E3FC;\n",
              "      --hover-bg-color: #434B5C;\n",
              "      --hover-fill-color: #FFFFFF;\n",
              "      --disabled-bg-color: #3B4455;\n",
              "      --disabled-fill-color: #666;\n",
              "  }\n",
              "\n",
              "  .colab-df-quickchart {\n",
              "    background-color: var(--bg-color);\n",
              "    border: none;\n",
              "    border-radius: 50%;\n",
              "    cursor: pointer;\n",
              "    display: none;\n",
              "    fill: var(--fill-color);\n",
              "    height: 32px;\n",
              "    padding: 0;\n",
              "    width: 32px;\n",
              "  }\n",
              "\n",
              "  .colab-df-quickchart:hover {\n",
              "    background-color: var(--hover-bg-color);\n",
              "    box-shadow: 0 1px 2px rgba(60, 64, 67, 0.3), 0 1px 3px 1px rgba(60, 64, 67, 0.15);\n",
              "    fill: var(--button-hover-fill-color);\n",
              "  }\n",
              "\n",
              "  .colab-df-quickchart-complete:disabled,\n",
              "  .colab-df-quickchart-complete:disabled:hover {\n",
              "    background-color: var(--disabled-bg-color);\n",
              "    fill: var(--disabled-fill-color);\n",
              "    box-shadow: none;\n",
              "  }\n",
              "\n",
              "  .colab-df-spinner {\n",
              "    border: 2px solid var(--fill-color);\n",
              "    border-color: transparent;\n",
              "    border-bottom-color: var(--fill-color);\n",
              "    animation:\n",
              "      spin 1s steps(1) infinite;\n",
              "  }\n",
              "\n",
              "  @keyframes spin {\n",
              "    0% {\n",
              "      border-color: transparent;\n",
              "      border-bottom-color: var(--fill-color);\n",
              "      border-left-color: var(--fill-color);\n",
              "    }\n",
              "    20% {\n",
              "      border-color: transparent;\n",
              "      border-left-color: var(--fill-color);\n",
              "      border-top-color: var(--fill-color);\n",
              "    }\n",
              "    30% {\n",
              "      border-color: transparent;\n",
              "      border-left-color: var(--fill-color);\n",
              "      border-top-color: var(--fill-color);\n",
              "      border-right-color: var(--fill-color);\n",
              "    }\n",
              "    40% {\n",
              "      border-color: transparent;\n",
              "      border-right-color: var(--fill-color);\n",
              "      border-top-color: var(--fill-color);\n",
              "    }\n",
              "    60% {\n",
              "      border-color: transparent;\n",
              "      border-right-color: var(--fill-color);\n",
              "    }\n",
              "    80% {\n",
              "      border-color: transparent;\n",
              "      border-right-color: var(--fill-color);\n",
              "      border-bottom-color: var(--fill-color);\n",
              "    }\n",
              "    90% {\n",
              "      border-color: transparent;\n",
              "      border-bottom-color: var(--fill-color);\n",
              "    }\n",
              "  }\n",
              "</style>\n",
              "\n",
              "  <script>\n",
              "    async function quickchart(key) {\n",
              "      const quickchartButtonEl =\n",
              "        document.querySelector('#' + key + ' button');\n",
              "      quickchartButtonEl.disabled = true;  // To prevent multiple clicks.\n",
              "      quickchartButtonEl.classList.add('colab-df-spinner');\n",
              "      try {\n",
              "        const charts = await google.colab.kernel.invokeFunction(\n",
              "            'suggestCharts', [key], {});\n",
              "      } catch (error) {\n",
              "        console.error('Error during call to suggestCharts:', error);\n",
              "      }\n",
              "      quickchartButtonEl.classList.remove('colab-df-spinner');\n",
              "      quickchartButtonEl.classList.add('colab-df-quickchart-complete');\n",
              "    }\n",
              "    (() => {\n",
              "      let quickchartButtonEl =\n",
              "        document.querySelector('#df-962a3cca-cb86-4679-acc6-c1c89e4d0293 button');\n",
              "      quickchartButtonEl.style.display =\n",
              "        google.colab.kernel.accessAllowed ? 'block' : 'none';\n",
              "    })();\n",
              "  </script>\n",
              "</div>\n",
              "\n",
              "    </div>\n",
              "  </div>\n"
            ],
            "application/vnd.google.colaboratory.intrinsic+json": {
              "type": "dataframe",
              "summary": "{\n  \"name\": \"             index=['early', 'median', 'late'])\",\n  \"rows\": 3,\n  \"fields\": [\n    {\n      \"column\": \"datetime\",\n      \"properties\": {\n        \"dtype\": \"date\",\n        \"min\": \"2026-12-13 03:14:27.202306911\",\n        \"max\": \"2039-10-31 21:59:58.551758900\",\n        \"num_unique_values\": 3,\n        \"samples\": [\n          \"2026-12-13 03:14:27.202306911\",\n          \"2033-04-08 05:07:46.556428575\",\n          \"2039-10-31 21:59:58.551758900\"\n        ],\n        \"semantic_type\": \"\",\n        \"description\": \"\"\n      }\n    }\n  ]\n}"
            }
          },
          "metadata": {},
          "execution_count": 85
        }
      ],
      "source": [
        "dts = pd.to_timedelta(future*365.24, unit='day') + offset\n",
        "pd.DataFrame(dict(datetime=dts),\n",
        "             index=['early', 'median', 'late'])"
      ]
    },
    {
      "cell_type": "markdown",
      "metadata": {
        "id": "iJaAd1RhDIMG"
      },
      "source": [
        "The median prediction is 2036, with a 90% credible interval from 2032 to 2043.  So there is about a 5% chance we'll see a two-hour marathon before 2032."
      ]
    },
    {
      "cell_type": "markdown",
      "metadata": {
        "id": "ZhUKPpDIDIMG"
      },
      "source": [
        "## Summary\n",
        "\n",
        "This chapter introduces Bayesian regression, which is based on the same model as least squares regression; the difference is that it produces a posterior distribution for the parameters rather than point estimates.\n",
        "\n",
        "In the first example, we looked at changes in snowfall in Norfolk County, Massachusetts, and concluded that we get more snowfall now than when I was young, contrary to my expectation.\n",
        "\n",
        "In the second example, we looked at the progression of world record pace for the men's marathon, computed the joint posterior distribution of the regression parameters, and used it to generate predictions for the next 20 years.\n",
        "\n",
        "These examples have three parameters, so it takes a little longer to compute the likelihood of the data.\n",
        "With more than three parameters, it becomes impractical to use grid algorithms.  \n",
        "\n",
        "In the next few chapters, we'll explore other algorithms that reduce the amount of computation we need to do a Bayesian update, which makes it possible to use models with more parameters.\n",
        "\n",
        "But first, you might want to work on these exercises."
      ]
    },
    {
      "cell_type": "markdown",
      "metadata": {
        "id": "g2EtnbNTDIMG"
      },
      "source": [
        "## Exercises\n"
      ]
    },
    {
      "cell_type": "markdown",
      "metadata": {
        "id": "wjJsEhpADIMG"
      },
      "source": [
        "**Exercise:** I am under the impression that it is warmer around here than it used to be.  In this exercise, you can put my conjecture to the test.\n",
        "\n",
        "We'll use the same dataset we used to model snowfall; it also includes daily low and high temperatures in Norfolk County, Massachusetts during my lifetime."
      ]
    },
    {
      "cell_type": "markdown",
      "metadata": {
        "tags": [],
        "id": "AN-LVRMADIMG"
      },
      "source": [
        "Here's the data."
      ]
    },
    {
      "cell_type": "code",
      "execution_count": 86,
      "metadata": {
        "execution": {
          "iopub.execute_input": "2021-04-16T19:40:09.508642Z",
          "iopub.status.busy": "2021-04-16T19:40:09.507790Z",
          "iopub.status.idle": "2021-04-16T19:40:09.598819Z",
          "shell.execute_reply": "2021-04-16T19:40:09.596426Z"
        },
        "tags": [],
        "id": "SKN0WfbdDIMH",
        "colab": {
          "base_uri": "https://localhost:8080/",
          "height": 143
        },
        "outputId": "fc5ea3c4-737f-4e6d-c8e1-800c789379c2"
      },
      "outputs": [
        {
          "output_type": "execute_result",
          "data": {
            "text/plain": [
              "       STATION                   NAME       DATE  PRCP  SNOW  SNWD  TMAX  \\\n",
              "0  USC00190736  BLUE HILL COOP, MA US 1967-05-11  0.43   0.0   0.0    57   \n",
              "1  USC00190736  BLUE HILL COOP, MA US 1967-05-12  0.00   0.0   0.0    58   \n",
              "2  USC00190736  BLUE HILL COOP, MA US 1967-05-13  0.00   0.0   0.0    64   \n",
              "\n",
              "   TMIN  TOBS  WESD  WT01  WT03  WT04  WT05  WT06  WT08  WT09  WT11  WT16  \\\n",
              "0  36.0   NaN   NaN   NaN   NaN   NaN   NaN   NaN   NaN   NaN   NaN   NaN   \n",
              "1  39.0   NaN   NaN   NaN   NaN   NaN   NaN   NaN   NaN   NaN   NaN   NaN   \n",
              "2  38.0   NaN   NaN   NaN   NaN   NaN   NaN   NaN   NaN   NaN   NaN   NaN   \n",
              "\n",
              "   WT18  \n",
              "0   NaN  \n",
              "1   NaN  \n",
              "2   NaN  "
            ],
            "text/html": [
              "\n",
              "  <div id=\"df-cbf5aab2-5bd4-410d-83bf-7a7b88390982\" class=\"colab-df-container\">\n",
              "    <div>\n",
              "<style scoped>\n",
              "    .dataframe tbody tr th:only-of-type {\n",
              "        vertical-align: middle;\n",
              "    }\n",
              "\n",
              "    .dataframe tbody tr th {\n",
              "        vertical-align: top;\n",
              "    }\n",
              "\n",
              "    .dataframe thead th {\n",
              "        text-align: right;\n",
              "    }\n",
              "</style>\n",
              "<table border=\"1\" class=\"dataframe\">\n",
              "  <thead>\n",
              "    <tr style=\"text-align: right;\">\n",
              "      <th></th>\n",
              "      <th>STATION</th>\n",
              "      <th>NAME</th>\n",
              "      <th>DATE</th>\n",
              "      <th>PRCP</th>\n",
              "      <th>SNOW</th>\n",
              "      <th>SNWD</th>\n",
              "      <th>TMAX</th>\n",
              "      <th>TMIN</th>\n",
              "      <th>TOBS</th>\n",
              "      <th>WESD</th>\n",
              "      <th>WT01</th>\n",
              "      <th>WT03</th>\n",
              "      <th>WT04</th>\n",
              "      <th>WT05</th>\n",
              "      <th>WT06</th>\n",
              "      <th>WT08</th>\n",
              "      <th>WT09</th>\n",
              "      <th>WT11</th>\n",
              "      <th>WT16</th>\n",
              "      <th>WT18</th>\n",
              "    </tr>\n",
              "  </thead>\n",
              "  <tbody>\n",
              "    <tr>\n",
              "      <th>0</th>\n",
              "      <td>USC00190736</td>\n",
              "      <td>BLUE HILL COOP, MA US</td>\n",
              "      <td>1967-05-11</td>\n",
              "      <td>0.43</td>\n",
              "      <td>0.0</td>\n",
              "      <td>0.0</td>\n",
              "      <td>57</td>\n",
              "      <td>36.0</td>\n",
              "      <td>NaN</td>\n",
              "      <td>NaN</td>\n",
              "      <td>NaN</td>\n",
              "      <td>NaN</td>\n",
              "      <td>NaN</td>\n",
              "      <td>NaN</td>\n",
              "      <td>NaN</td>\n",
              "      <td>NaN</td>\n",
              "      <td>NaN</td>\n",
              "      <td>NaN</td>\n",
              "      <td>NaN</td>\n",
              "      <td>NaN</td>\n",
              "    </tr>\n",
              "    <tr>\n",
              "      <th>1</th>\n",
              "      <td>USC00190736</td>\n",
              "      <td>BLUE HILL COOP, MA US</td>\n",
              "      <td>1967-05-12</td>\n",
              "      <td>0.00</td>\n",
              "      <td>0.0</td>\n",
              "      <td>0.0</td>\n",
              "      <td>58</td>\n",
              "      <td>39.0</td>\n",
              "      <td>NaN</td>\n",
              "      <td>NaN</td>\n",
              "      <td>NaN</td>\n",
              "      <td>NaN</td>\n",
              "      <td>NaN</td>\n",
              "      <td>NaN</td>\n",
              "      <td>NaN</td>\n",
              "      <td>NaN</td>\n",
              "      <td>NaN</td>\n",
              "      <td>NaN</td>\n",
              "      <td>NaN</td>\n",
              "      <td>NaN</td>\n",
              "    </tr>\n",
              "    <tr>\n",
              "      <th>2</th>\n",
              "      <td>USC00190736</td>\n",
              "      <td>BLUE HILL COOP, MA US</td>\n",
              "      <td>1967-05-13</td>\n",
              "      <td>0.00</td>\n",
              "      <td>0.0</td>\n",
              "      <td>0.0</td>\n",
              "      <td>64</td>\n",
              "      <td>38.0</td>\n",
              "      <td>NaN</td>\n",
              "      <td>NaN</td>\n",
              "      <td>NaN</td>\n",
              "      <td>NaN</td>\n",
              "      <td>NaN</td>\n",
              "      <td>NaN</td>\n",
              "      <td>NaN</td>\n",
              "      <td>NaN</td>\n",
              "      <td>NaN</td>\n",
              "      <td>NaN</td>\n",
              "      <td>NaN</td>\n",
              "      <td>NaN</td>\n",
              "    </tr>\n",
              "  </tbody>\n",
              "</table>\n",
              "</div>\n",
              "    <div class=\"colab-df-buttons\">\n",
              "\n",
              "  <div class=\"colab-df-container\">\n",
              "    <button class=\"colab-df-convert\" onclick=\"convertToInteractive('df-cbf5aab2-5bd4-410d-83bf-7a7b88390982')\"\n",
              "            title=\"Convert this dataframe to an interactive table.\"\n",
              "            style=\"display:none;\">\n",
              "\n",
              "  <svg xmlns=\"http://www.w3.org/2000/svg\" height=\"24px\" viewBox=\"0 -960 960 960\">\n",
              "    <path d=\"M120-120v-720h720v720H120Zm60-500h600v-160H180v160Zm220 220h160v-160H400v160Zm0 220h160v-160H400v160ZM180-400h160v-160H180v160Zm440 0h160v-160H620v160ZM180-180h160v-160H180v160Zm440 0h160v-160H620v160Z\"/>\n",
              "  </svg>\n",
              "    </button>\n",
              "\n",
              "  <style>\n",
              "    .colab-df-container {\n",
              "      display:flex;\n",
              "      gap: 12px;\n",
              "    }\n",
              "\n",
              "    .colab-df-convert {\n",
              "      background-color: #E8F0FE;\n",
              "      border: none;\n",
              "      border-radius: 50%;\n",
              "      cursor: pointer;\n",
              "      display: none;\n",
              "      fill: #1967D2;\n",
              "      height: 32px;\n",
              "      padding: 0 0 0 0;\n",
              "      width: 32px;\n",
              "    }\n",
              "\n",
              "    .colab-df-convert:hover {\n",
              "      background-color: #E2EBFA;\n",
              "      box-shadow: 0px 1px 2px rgba(60, 64, 67, 0.3), 0px 1px 3px 1px rgba(60, 64, 67, 0.15);\n",
              "      fill: #174EA6;\n",
              "    }\n",
              "\n",
              "    .colab-df-buttons div {\n",
              "      margin-bottom: 4px;\n",
              "    }\n",
              "\n",
              "    [theme=dark] .colab-df-convert {\n",
              "      background-color: #3B4455;\n",
              "      fill: #D2E3FC;\n",
              "    }\n",
              "\n",
              "    [theme=dark] .colab-df-convert:hover {\n",
              "      background-color: #434B5C;\n",
              "      box-shadow: 0px 1px 3px 1px rgba(0, 0, 0, 0.15);\n",
              "      filter: drop-shadow(0px 1px 2px rgba(0, 0, 0, 0.3));\n",
              "      fill: #FFFFFF;\n",
              "    }\n",
              "  </style>\n",
              "\n",
              "    <script>\n",
              "      const buttonEl =\n",
              "        document.querySelector('#df-cbf5aab2-5bd4-410d-83bf-7a7b88390982 button.colab-df-convert');\n",
              "      buttonEl.style.display =\n",
              "        google.colab.kernel.accessAllowed ? 'block' : 'none';\n",
              "\n",
              "      async function convertToInteractive(key) {\n",
              "        const element = document.querySelector('#df-cbf5aab2-5bd4-410d-83bf-7a7b88390982');\n",
              "        const dataTable =\n",
              "          await google.colab.kernel.invokeFunction('convertToInteractive',\n",
              "                                                    [key], {});\n",
              "        if (!dataTable) return;\n",
              "\n",
              "        const docLinkHtml = 'Like what you see? Visit the ' +\n",
              "          '<a target=\"_blank\" href=https://colab.research.google.com/notebooks/data_table.ipynb>data table notebook</a>'\n",
              "          + ' to learn more about interactive tables.';\n",
              "        element.innerHTML = '';\n",
              "        dataTable['output_type'] = 'display_data';\n",
              "        await google.colab.output.renderOutput(dataTable, element);\n",
              "        const docLink = document.createElement('div');\n",
              "        docLink.innerHTML = docLinkHtml;\n",
              "        element.appendChild(docLink);\n",
              "      }\n",
              "    </script>\n",
              "  </div>\n",
              "\n",
              "\n",
              "<div id=\"df-4d25dcbe-d3b7-4f89-b8bc-17b3308dfa34\">\n",
              "  <button class=\"colab-df-quickchart\" onclick=\"quickchart('df-4d25dcbe-d3b7-4f89-b8bc-17b3308dfa34')\"\n",
              "            title=\"Suggest charts\"\n",
              "            style=\"display:none;\">\n",
              "\n",
              "<svg xmlns=\"http://www.w3.org/2000/svg\" height=\"24px\"viewBox=\"0 0 24 24\"\n",
              "     width=\"24px\">\n",
              "    <g>\n",
              "        <path d=\"M19 3H5c-1.1 0-2 .9-2 2v14c0 1.1.9 2 2 2h14c1.1 0 2-.9 2-2V5c0-1.1-.9-2-2-2zM9 17H7v-7h2v7zm4 0h-2V7h2v10zm4 0h-2v-4h2v4z\"/>\n",
              "    </g>\n",
              "</svg>\n",
              "  </button>\n",
              "\n",
              "<style>\n",
              "  .colab-df-quickchart {\n",
              "      --bg-color: #E8F0FE;\n",
              "      --fill-color: #1967D2;\n",
              "      --hover-bg-color: #E2EBFA;\n",
              "      --hover-fill-color: #174EA6;\n",
              "      --disabled-fill-color: #AAA;\n",
              "      --disabled-bg-color: #DDD;\n",
              "  }\n",
              "\n",
              "  [theme=dark] .colab-df-quickchart {\n",
              "      --bg-color: #3B4455;\n",
              "      --fill-color: #D2E3FC;\n",
              "      --hover-bg-color: #434B5C;\n",
              "      --hover-fill-color: #FFFFFF;\n",
              "      --disabled-bg-color: #3B4455;\n",
              "      --disabled-fill-color: #666;\n",
              "  }\n",
              "\n",
              "  .colab-df-quickchart {\n",
              "    background-color: var(--bg-color);\n",
              "    border: none;\n",
              "    border-radius: 50%;\n",
              "    cursor: pointer;\n",
              "    display: none;\n",
              "    fill: var(--fill-color);\n",
              "    height: 32px;\n",
              "    padding: 0;\n",
              "    width: 32px;\n",
              "  }\n",
              "\n",
              "  .colab-df-quickchart:hover {\n",
              "    background-color: var(--hover-bg-color);\n",
              "    box-shadow: 0 1px 2px rgba(60, 64, 67, 0.3), 0 1px 3px 1px rgba(60, 64, 67, 0.15);\n",
              "    fill: var(--button-hover-fill-color);\n",
              "  }\n",
              "\n",
              "  .colab-df-quickchart-complete:disabled,\n",
              "  .colab-df-quickchart-complete:disabled:hover {\n",
              "    background-color: var(--disabled-bg-color);\n",
              "    fill: var(--disabled-fill-color);\n",
              "    box-shadow: none;\n",
              "  }\n",
              "\n",
              "  .colab-df-spinner {\n",
              "    border: 2px solid var(--fill-color);\n",
              "    border-color: transparent;\n",
              "    border-bottom-color: var(--fill-color);\n",
              "    animation:\n",
              "      spin 1s steps(1) infinite;\n",
              "  }\n",
              "\n",
              "  @keyframes spin {\n",
              "    0% {\n",
              "      border-color: transparent;\n",
              "      border-bottom-color: var(--fill-color);\n",
              "      border-left-color: var(--fill-color);\n",
              "    }\n",
              "    20% {\n",
              "      border-color: transparent;\n",
              "      border-left-color: var(--fill-color);\n",
              "      border-top-color: var(--fill-color);\n",
              "    }\n",
              "    30% {\n",
              "      border-color: transparent;\n",
              "      border-left-color: var(--fill-color);\n",
              "      border-top-color: var(--fill-color);\n",
              "      border-right-color: var(--fill-color);\n",
              "    }\n",
              "    40% {\n",
              "      border-color: transparent;\n",
              "      border-right-color: var(--fill-color);\n",
              "      border-top-color: var(--fill-color);\n",
              "    }\n",
              "    60% {\n",
              "      border-color: transparent;\n",
              "      border-right-color: var(--fill-color);\n",
              "    }\n",
              "    80% {\n",
              "      border-color: transparent;\n",
              "      border-right-color: var(--fill-color);\n",
              "      border-bottom-color: var(--fill-color);\n",
              "    }\n",
              "    90% {\n",
              "      border-color: transparent;\n",
              "      border-bottom-color: var(--fill-color);\n",
              "    }\n",
              "  }\n",
              "</style>\n",
              "\n",
              "  <script>\n",
              "    async function quickchart(key) {\n",
              "      const quickchartButtonEl =\n",
              "        document.querySelector('#' + key + ' button');\n",
              "      quickchartButtonEl.disabled = true;  // To prevent multiple clicks.\n",
              "      quickchartButtonEl.classList.add('colab-df-spinner');\n",
              "      try {\n",
              "        const charts = await google.colab.kernel.invokeFunction(\n",
              "            'suggestCharts', [key], {});\n",
              "      } catch (error) {\n",
              "        console.error('Error during call to suggestCharts:', error);\n",
              "      }\n",
              "      quickchartButtonEl.classList.remove('colab-df-spinner');\n",
              "      quickchartButtonEl.classList.add('colab-df-quickchart-complete');\n",
              "    }\n",
              "    (() => {\n",
              "      let quickchartButtonEl =\n",
              "        document.querySelector('#df-4d25dcbe-d3b7-4f89-b8bc-17b3308dfa34 button');\n",
              "      quickchartButtonEl.style.display =\n",
              "        google.colab.kernel.accessAllowed ? 'block' : 'none';\n",
              "    })();\n",
              "  </script>\n",
              "</div>\n",
              "\n",
              "    </div>\n",
              "  </div>\n"
            ],
            "application/vnd.google.colaboratory.intrinsic+json": {
              "type": "dataframe",
              "variable_name": "df",
              "summary": "{\n  \"name\": \"df\",\n  \"rows\": 19360,\n  \"fields\": [\n    {\n      \"column\": \"STATION\",\n      \"properties\": {\n        \"dtype\": \"category\",\n        \"num_unique_values\": 1,\n        \"samples\": [\n          \"USC00190736\"\n        ],\n        \"semantic_type\": \"\",\n        \"description\": \"\"\n      }\n    },\n    {\n      \"column\": \"NAME\",\n      \"properties\": {\n        \"dtype\": \"category\",\n        \"num_unique_values\": 1,\n        \"samples\": [\n          \"BLUE HILL COOP, MA US\"\n        ],\n        \"semantic_type\": \"\",\n        \"description\": \"\"\n      }\n    },\n    {\n      \"column\": \"DATE\",\n      \"properties\": {\n        \"dtype\": \"date\",\n        \"min\": \"1967-05-11 00:00:00\",\n        \"max\": \"2020-05-11 00:00:00\",\n        \"num_unique_values\": 19360,\n        \"samples\": [\n          \"1993-11-01 00:00:00\"\n        ],\n        \"semantic_type\": \"\",\n        \"description\": \"\"\n      }\n    },\n    {\n      \"column\": \"PRCP\",\n      \"properties\": {\n        \"dtype\": \"number\",\n        \"std\": 0.3822388882851296,\n        \"min\": 0.0,\n        \"max\": 7.1,\n        \"num_unique_values\": 295,\n        \"samples\": [\n          1.92\n        ],\n        \"semantic_type\": \"\",\n        \"description\": \"\"\n      }\n    },\n    {\n      \"column\": \"SNOW\",\n      \"properties\": {\n        \"dtype\": \"number\",\n        \"std\": 1.0798209886982229,\n        \"min\": 0.0,\n        \"max\": 27.4,\n        \"num_unique_values\": 135,\n        \"samples\": [\n          4.6\n        ],\n        \"semantic_type\": \"\",\n        \"description\": \"\"\n      }\n    },\n    {\n      \"column\": \"SNWD\",\n      \"properties\": {\n        \"dtype\": \"number\",\n        \"std\": 3.7700562857144573,\n        \"min\": 0.0,\n        \"max\": 45.0,\n        \"num_unique_values\": 46,\n        \"samples\": [\n          29.0\n        ],\n        \"semantic_type\": \"\",\n        \"description\": \"\"\n      }\n    },\n    {\n      \"column\": \"TMAX\",\n      \"properties\": {\n        \"dtype\": \"number\",\n        \"std\": 18,\n        \"min\": 2,\n        \"max\": 101,\n        \"num_unique_values\": 100,\n        \"samples\": [\n          17\n        ],\n        \"semantic_type\": \"\",\n        \"description\": \"\"\n      }\n    },\n    {\n      \"column\": \"TMIN\",\n      \"properties\": {\n        \"dtype\": \"number\",\n        \"std\": 17.386208291337443,\n        \"min\": -14.0,\n        \"max\": 79.0,\n        \"num_unique_values\": 93,\n        \"samples\": [\n          22.0\n        ],\n        \"semantic_type\": \"\",\n        \"description\": \"\"\n      }\n    },\n    {\n      \"column\": \"TOBS\",\n      \"properties\": {\n        \"dtype\": \"number\",\n        \"std\": 17.902912961698405,\n        \"min\": -13.0,\n        \"max\": 84.0,\n        \"num_unique_values\": 95,\n        \"samples\": [\n          77.0\n        ],\n        \"semantic_type\": \"\",\n        \"description\": \"\"\n      }\n    },\n    {\n      \"column\": \"WESD\",\n      \"properties\": {\n        \"dtype\": \"number\",\n        \"std\": 1.5004789032388008,\n        \"min\": 0.0,\n        \"max\": 10.0,\n        \"num_unique_values\": 15,\n        \"samples\": [\n          2.8\n        ],\n        \"semantic_type\": \"\",\n        \"description\": \"\"\n      }\n    },\n    {\n      \"column\": \"WT01\",\n      \"properties\": {\n        \"dtype\": \"number\",\n        \"std\": 0.0,\n        \"min\": 1.0,\n        \"max\": 1.0,\n        \"num_unique_values\": 1,\n        \"samples\": [\n          1.0\n        ],\n        \"semantic_type\": \"\",\n        \"description\": \"\"\n      }\n    },\n    {\n      \"column\": \"WT03\",\n      \"properties\": {\n        \"dtype\": \"number\",\n        \"std\": 0.0,\n        \"min\": 1.0,\n        \"max\": 1.0,\n        \"num_unique_values\": 1,\n        \"samples\": [\n          1.0\n        ],\n        \"semantic_type\": \"\",\n        \"description\": \"\"\n      }\n    },\n    {\n      \"column\": \"WT04\",\n      \"properties\": {\n        \"dtype\": \"number\",\n        \"std\": 0.0,\n        \"min\": 1.0,\n        \"max\": 1.0,\n        \"num_unique_values\": 1,\n        \"samples\": [\n          1.0\n        ],\n        \"semantic_type\": \"\",\n        \"description\": \"\"\n      }\n    },\n    {\n      \"column\": \"WT05\",\n      \"properties\": {\n        \"dtype\": \"number\",\n        \"std\": 0.0,\n        \"min\": 1.0,\n        \"max\": 1.0,\n        \"num_unique_values\": 1,\n        \"samples\": [\n          1.0\n        ],\n        \"semantic_type\": \"\",\n        \"description\": \"\"\n      }\n    },\n    {\n      \"column\": \"WT06\",\n      \"properties\": {\n        \"dtype\": \"number\",\n        \"std\": 0.0,\n        \"min\": 1.0,\n        \"max\": 1.0,\n        \"num_unique_values\": 1,\n        \"samples\": [\n          1.0\n        ],\n        \"semantic_type\": \"\",\n        \"description\": \"\"\n      }\n    },\n    {\n      \"column\": \"WT08\",\n      \"properties\": {\n        \"dtype\": \"number\",\n        \"std\": 0.0,\n        \"min\": 1.0,\n        \"max\": 1.0,\n        \"num_unique_values\": 1,\n        \"samples\": [\n          1.0\n        ],\n        \"semantic_type\": \"\",\n        \"description\": \"\"\n      }\n    },\n    {\n      \"column\": \"WT09\",\n      \"properties\": {\n        \"dtype\": \"number\",\n        \"std\": 0.0,\n        \"min\": 1.0,\n        \"max\": 1.0,\n        \"num_unique_values\": 1,\n        \"samples\": [\n          1.0\n        ],\n        \"semantic_type\": \"\",\n        \"description\": \"\"\n      }\n    },\n    {\n      \"column\": \"WT11\",\n      \"properties\": {\n        \"dtype\": \"number\",\n        \"std\": 0.0,\n        \"min\": 1.0,\n        \"max\": 1.0,\n        \"num_unique_values\": 1,\n        \"samples\": [\n          1.0\n        ],\n        \"semantic_type\": \"\",\n        \"description\": \"\"\n      }\n    },\n    {\n      \"column\": \"WT16\",\n      \"properties\": {\n        \"dtype\": \"number\",\n        \"std\": 0.0,\n        \"min\": 1.0,\n        \"max\": 1.0,\n        \"num_unique_values\": 1,\n        \"samples\": [\n          1.0\n        ],\n        \"semantic_type\": \"\",\n        \"description\": \"\"\n      }\n    },\n    {\n      \"column\": \"WT18\",\n      \"properties\": {\n        \"dtype\": \"number\",\n        \"std\": 0.0,\n        \"min\": 1.0,\n        \"max\": 1.0,\n        \"num_unique_values\": 1,\n        \"samples\": [\n          1.0\n        ],\n        \"semantic_type\": \"\",\n        \"description\": \"\"\n      }\n    }\n  ]\n}"
            }
          },
          "metadata": {},
          "execution_count": 86
        }
      ],
      "source": [
        "df = pd.read_csv('2239075.csv', parse_dates=[2])\n",
        "df.head(3)"
      ]
    },
    {
      "cell_type": "markdown",
      "metadata": {
        "tags": [],
        "id": "XLLP7TfFDIMH"
      },
      "source": [
        "Again, I'll create a column that contains the year part of the dates."
      ]
    },
    {
      "cell_type": "code",
      "execution_count": 87,
      "metadata": {
        "execution": {
          "iopub.execute_input": "2021-04-16T19:40:09.605621Z",
          "iopub.status.busy": "2021-04-16T19:40:09.604420Z",
          "iopub.status.idle": "2021-04-16T19:40:09.610189Z",
          "shell.execute_reply": "2021-04-16T19:40:09.610858Z"
        },
        "tags": [],
        "id": "50_cqFv3DIMH"
      },
      "outputs": [],
      "source": [
        "df['YEAR'] = df['DATE'].dt.year"
      ]
    },
    {
      "cell_type": "markdown",
      "metadata": {
        "tags": [],
        "id": "OjeUJxBhDIMH"
      },
      "source": [
        "This dataset includes `TMIN` and `TMAX`, which are the daily low and high temperatures in degrees F.\n",
        "I'll create a new column with the daily midpoint of the low and high temperatures."
      ]
    },
    {
      "cell_type": "code",
      "execution_count": 88,
      "metadata": {
        "execution": {
          "iopub.execute_input": "2021-04-16T19:40:09.620934Z",
          "iopub.status.busy": "2021-04-16T19:40:09.620132Z",
          "iopub.status.idle": "2021-04-16T19:40:09.624087Z",
          "shell.execute_reply": "2021-04-16T19:40:09.625038Z"
        },
        "tags": [],
        "id": "LmsblJlGDIMH"
      },
      "outputs": [],
      "source": [
        "df['TMID'] = (df['TMIN'] + df['TMAX']) / 2"
      ]
    },
    {
      "cell_type": "markdown",
      "metadata": {
        "tags": [],
        "id": "2CyCyBGqDIMH"
      },
      "source": [
        "Now we can group by year and compute the mean of these daily temperatures."
      ]
    },
    {
      "cell_type": "code",
      "execution_count": 89,
      "metadata": {
        "execution": {
          "iopub.execute_input": "2021-04-16T19:40:09.634750Z",
          "iopub.status.busy": "2021-04-16T19:40:09.632057Z",
          "iopub.status.idle": "2021-04-16T19:40:09.638953Z",
          "shell.execute_reply": "2021-04-16T19:40:09.639856Z"
        },
        "tags": [],
        "id": "5zQpMTnEDIMH",
        "colab": {
          "base_uri": "https://localhost:8080/"
        },
        "outputId": "cfdec5f1-5dfc-4c73-f6a3-bcfbfcad55d6"
      },
      "outputs": [
        {
          "output_type": "execute_result",
          "data": {
            "text/plain": [
              "54"
            ]
          },
          "metadata": {},
          "execution_count": 89
        }
      ],
      "source": [
        "tmid = df.groupby('YEAR')['TMID'].mean()\n",
        "len(tmid)"
      ]
    },
    {
      "cell_type": "markdown",
      "metadata": {
        "tags": [],
        "id": "LG-ihTpLDIMH"
      },
      "source": [
        "Again, I'll drop the first and last years, which are incomplete."
      ]
    },
    {
      "cell_type": "code",
      "execution_count": 91,
      "metadata": {
        "execution": {
          "iopub.execute_input": "2021-04-16T19:40:09.646871Z",
          "iopub.status.busy": "2021-04-16T19:40:09.642980Z",
          "iopub.status.idle": "2021-04-16T19:40:09.653320Z",
          "shell.execute_reply": "2021-04-16T19:40:09.654470Z"
        },
        "tags": [],
        "id": "9bX1JKpcDIMH",
        "colab": {
          "base_uri": "https://localhost:8080/"
        },
        "outputId": "ec6b6b86-453b-4175-dff4-735f5dcfa25a"
      },
      "outputs": [
        {
          "output_type": "execute_result",
          "data": {
            "text/plain": [
              "52"
            ]
          },
          "metadata": {},
          "execution_count": 91
        }
      ],
      "source": [
        "complete = tmid.iloc[1:-1]\n",
        "len(complete)"
      ]
    },
    {
      "cell_type": "markdown",
      "metadata": {
        "tags": [],
        "id": "liHzjm3qDIMH"
      },
      "source": [
        "Here's what the time series looks like."
      ]
    },
    {
      "cell_type": "code",
      "execution_count": 92,
      "metadata": {
        "execution": {
          "iopub.execute_input": "2021-04-16T19:40:09.672386Z",
          "iopub.status.busy": "2021-04-16T19:40:09.671591Z",
          "iopub.status.idle": "2021-04-16T19:40:09.886776Z",
          "shell.execute_reply": "2021-04-16T19:40:09.887123Z"
        },
        "tags": [],
        "id": "B_ZUYMhVDIMH",
        "colab": {
          "base_uri": "https://localhost:8080/",
          "height": 486
        },
        "outputId": "3e68ceeb-a103-4110-97da-1095ddf6213d"
      },
      "outputs": [
        {
          "output_type": "display_data",
          "data": {
            "text/plain": [
              "<Figure size 640x480 with 1 Axes>"
            ],
            "image/png": "[encoded data removed]"
          },
          "metadata": {}
        }
      ],
      "source": [
        "complete.plot(ls='', marker='o', alpha=0.5)\n",
        "\n",
        "decorate(xlabel='Year',\n",
        "         ylabel='Annual average of daily temperature (deg F)')"
      ]
    },
    {
      "cell_type": "markdown",
      "metadata": {
        "tags": [],
        "id": "Q3DNTuwaDIMH"
      },
      "source": [
        "As we did with the snow data, I'll convert the `Series` to a `DataFrame` to prepare it for regression."
      ]
    },
    {
      "cell_type": "code",
      "execution_count": 93,
      "metadata": {
        "execution": {
          "iopub.execute_input": "2021-04-16T19:40:09.899059Z",
          "iopub.status.busy": "2021-04-16T19:40:09.898484Z",
          "iopub.status.idle": "2021-04-16T19:40:09.901665Z",
          "shell.execute_reply": "2021-04-16T19:40:09.902018Z"
        },
        "tags": [],
        "id": "AR3UVMDQDIMH",
        "colab": {
          "base_uri": "https://localhost:8080/",
          "height": 206
        },
        "outputId": "cd9e2b6c-7c93-4fa0-e715-db5c0e2f12db"
      },
      "outputs": [
        {
          "output_type": "execute_result",
          "data": {
            "text/plain": [
              "   YEAR       TMID\n",
              "0  1968  48.071038\n",
              "1  1969  48.687671\n",
              "2  1970  48.258904\n",
              "3  1971  48.804110\n",
              "4  1972  47.112022"
            ],
            "text/html": [
              "\n",
              "  <div id=\"df-25d2ad66-7339-4453-bb0a-69657fffa4f8\" class=\"colab-df-container\">\n",
              "    <div>\n",
              "<style scoped>\n",
              "    .dataframe tbody tr th:only-of-type {\n",
              "        vertical-align: middle;\n",
              "    }\n",
              "\n",
              "    .dataframe tbody tr th {\n",
              "        vertical-align: top;\n",
              "    }\n",
              "\n",
              "    .dataframe thead th {\n",
              "        text-align: right;\n",
              "    }\n",
              "</style>\n",
              "<table border=\"1\" class=\"dataframe\">\n",
              "  <thead>\n",
              "    <tr style=\"text-align: right;\">\n",
              "      <th></th>\n",
              "      <th>YEAR</th>\n",
              "      <th>TMID</th>\n",
              "    </tr>\n",
              "  </thead>\n",
              "  <tbody>\n",
              "    <tr>\n",
              "      <th>0</th>\n",
              "      <td>1968</td>\n",
              "      <td>48.071038</td>\n",
              "    </tr>\n",
              "    <tr>\n",
              "      <th>1</th>\n",
              "      <td>1969</td>\n",
              "      <td>48.687671</td>\n",
              "    </tr>\n",
              "    <tr>\n",
              "      <th>2</th>\n",
              "      <td>1970</td>\n",
              "      <td>48.258904</td>\n",
              "    </tr>\n",
              "    <tr>\n",
              "      <th>3</th>\n",
              "      <td>1971</td>\n",
              "      <td>48.804110</td>\n",
              "    </tr>\n",
              "    <tr>\n",
              "      <th>4</th>\n",
              "      <td>1972</td>\n",
              "      <td>47.112022</td>\n",
              "    </tr>\n",
              "  </tbody>\n",
              "</table>\n",
              "</div>\n",
              "    <div class=\"colab-df-buttons\">\n",
              "\n",
              "  <div class=\"colab-df-container\">\n",
              "    <button class=\"colab-df-convert\" onclick=\"convertToInteractive('df-25d2ad66-7339-4453-bb0a-69657fffa4f8')\"\n",
              "            title=\"Convert this dataframe to an interactive table.\"\n",
              "            style=\"display:none;\">\n",
              "\n",
              "  <svg xmlns=\"http://www.w3.org/2000/svg\" height=\"24px\" viewBox=\"0 -960 960 960\">\n",
              "    <path d=\"M120-120v-720h720v720H120Zm60-500h600v-160H180v160Zm220 220h160v-160H400v160Zm0 220h160v-160H400v160ZM180-400h160v-160H180v160Zm440 0h160v-160H620v160ZM180-180h160v-160H180v160Zm440 0h160v-160H620v160Z\"/>\n",
              "  </svg>\n",
              "    </button>\n",
              "\n",
              "  <style>\n",
              "    .colab-df-container {\n",
              "      display:flex;\n",
              "      gap: 12px;\n",
              "    }\n",
              "\n",
              "    .colab-df-convert {\n",
              "      background-color: #E8F0FE;\n",
              "      border: none;\n",
              "      border-radius: 50%;\n",
              "      cursor: pointer;\n",
              "      display: none;\n",
              "      fill: #1967D2;\n",
              "      height: 32px;\n",
              "      padding: 0 0 0 0;\n",
              "      width: 32px;\n",
              "    }\n",
              "\n",
              "    .colab-df-convert:hover {\n",
              "      background-color: #E2EBFA;\n",
              "      box-shadow: 0px 1px 2px rgba(60, 64, 67, 0.3), 0px 1px 3px 1px rgba(60, 64, 67, 0.15);\n",
              "      fill: #174EA6;\n",
              "    }\n",
              "\n",
              "    .colab-df-buttons div {\n",
              "      margin-bottom: 4px;\n",
              "    }\n",
              "\n",
              "    [theme=dark] .colab-df-convert {\n",
              "      background-color: #3B4455;\n",
              "      fill: #D2E3FC;\n",
              "    }\n",
              "\n",
              "    [theme=dark] .colab-df-convert:hover {\n",
              "      background-color: #434B5C;\n",
              "      box-shadow: 0px 1px 3px 1px rgba(0, 0, 0, 0.15);\n",
              "      filter: drop-shadow(0px 1px 2px rgba(0, 0, 0, 0.3));\n",
              "      fill: #FFFFFF;\n",
              "    }\n",
              "  </style>\n",
              "\n",
              "    <script>\n",
              "      const buttonEl =\n",
              "        document.querySelector('#df-25d2ad66-7339-4453-bb0a-69657fffa4f8 button.colab-df-convert');\n",
              "      buttonEl.style.display =\n",
              "        google.colab.kernel.accessAllowed ? 'block' : 'none';\n",
              "\n",
              "      async function convertToInteractive(key) {\n",
              "        const element = document.querySelector('#df-25d2ad66-7339-4453-bb0a-69657fffa4f8');\n",
              "        const dataTable =\n",
              "          await google.colab.kernel.invokeFunction('convertToInteractive',\n",
              "                                                    [key], {});\n",
              "        if (!dataTable) return;\n",
              "\n",
              "        const docLinkHtml = 'Like what you see? Visit the ' +\n",
              "          '<a target=\"_blank\" href=https://colab.research.google.com/notebooks/data_table.ipynb>data table notebook</a>'\n",
              "          + ' to learn more about interactive tables.';\n",
              "        element.innerHTML = '';\n",
              "        dataTable['output_type'] = 'display_data';\n",
              "        await google.colab.output.renderOutput(dataTable, element);\n",
              "        const docLink = document.createElement('div');\n",
              "        docLink.innerHTML = docLinkHtml;\n",
              "        element.appendChild(docLink);\n",
              "      }\n",
              "    </script>\n",
              "  </div>\n",
              "\n",
              "\n",
              "<div id=\"df-a9f25b75-736e-4ff9-977b-2741febaaf2b\">\n",
              "  <button class=\"colab-df-quickchart\" onclick=\"quickchart('df-a9f25b75-736e-4ff9-977b-2741febaaf2b')\"\n",
              "            title=\"Suggest charts\"\n",
              "            style=\"display:none;\">\n",
              "\n",
              "<svg xmlns=\"http://www.w3.org/2000/svg\" height=\"24px\"viewBox=\"0 0 24 24\"\n",
              "     width=\"24px\">\n",
              "    <g>\n",
              "        <path d=\"M19 3H5c-1.1 0-2 .9-2 2v14c0 1.1.9 2 2 2h14c1.1 0 2-.9 2-2V5c0-1.1-.9-2-2-2zM9 17H7v-7h2v7zm4 0h-2V7h2v10zm4 0h-2v-4h2v4z\"/>\n",
              "    </g>\n",
              "</svg>\n",
              "  </button>\n",
              "\n",
              "<style>\n",
              "  .colab-df-quickchart {\n",
              "      --bg-color: #E8F0FE;\n",
              "      --fill-color: #1967D2;\n",
              "      --hover-bg-color: #E2EBFA;\n",
              "      --hover-fill-color: #174EA6;\n",
              "      --disabled-fill-color: #AAA;\n",
              "      --disabled-bg-color: #DDD;\n",
              "  }\n",
              "\n",
              "  [theme=dark] .colab-df-quickchart {\n",
              "      --bg-color: #3B4455;\n",
              "      --fill-color: #D2E3FC;\n",
              "      --hover-bg-color: #434B5C;\n",
              "      --hover-fill-color: #FFFFFF;\n",
              "      --disabled-bg-color: #3B4455;\n",
              "      --disabled-fill-color: #666;\n",
              "  }\n",
              "\n",
              "  .colab-df-quickchart {\n",
              "    background-color: var(--bg-color);\n",
              "    border: none;\n",
              "    border-radius: 50%;\n",
              "    cursor: pointer;\n",
              "    display: none;\n",
              "    fill: var(--fill-color);\n",
              "    height: 32px;\n",
              "    padding: 0;\n",
              "    width: 32px;\n",
              "  }\n",
              "\n",
              "  .colab-df-quickchart:hover {\n",
              "    background-color: var(--hover-bg-color);\n",
              "    box-shadow: 0 1px 2px rgba(60, 64, 67, 0.3), 0 1px 3px 1px rgba(60, 64, 67, 0.15);\n",
              "    fill: var(--button-hover-fill-color);\n",
              "  }\n",
              "\n",
              "  .colab-df-quickchart-complete:disabled,\n",
              "  .colab-df-quickchart-complete:disabled:hover {\n",
              "    background-color: var(--disabled-bg-color);\n",
              "    fill: var(--disabled-fill-color);\n",
              "    box-shadow: none;\n",
              "  }\n",
              "\n",
              "  .colab-df-spinner {\n",
              "    border: 2px solid var(--fill-color);\n",
              "    border-color: transparent;\n",
              "    border-bottom-color: var(--fill-color);\n",
              "    animation:\n",
              "      spin 1s steps(1) infinite;\n",
              "  }\n",
              "\n",
              "  @keyframes spin {\n",
              "    0% {\n",
              "      border-color: transparent;\n",
              "      border-bottom-color: var(--fill-color);\n",
              "      border-left-color: var(--fill-color);\n",
              "    }\n",
              "    20% {\n",
              "      border-color: transparent;\n",
              "      border-left-color: var(--fill-color);\n",
              "      border-top-color: var(--fill-color);\n",
              "    }\n",
              "    30% {\n",
              "      border-color: transparent;\n",
              "      border-left-color: var(--fill-color);\n",
              "      border-top-color: var(--fill-color);\n",
              "      border-right-color: var(--fill-color);\n",
              "    }\n",
              "    40% {\n",
              "      border-color: transparent;\n",
              "      border-right-color: var(--fill-color);\n",
              "      border-top-color: var(--fill-color);\n",
              "    }\n",
              "    60% {\n",
              "      border-color: transparent;\n",
              "      border-right-color: var(--fill-color);\n",
              "    }\n",
              "    80% {\n",
              "      border-color: transparent;\n",
              "      border-right-color: var(--fill-color);\n",
              "      border-bottom-color: var(--fill-color);\n",
              "    }\n",
              "    90% {\n",
              "      border-color: transparent;\n",
              "      border-bottom-color: var(--fill-color);\n",
              "    }\n",
              "  }\n",
              "</style>\n",
              "\n",
              "  <script>\n",
              "    async function quickchart(key) {\n",
              "      const quickchartButtonEl =\n",
              "        document.querySelector('#' + key + ' button');\n",
              "      quickchartButtonEl.disabled = true;  // To prevent multiple clicks.\n",
              "      quickchartButtonEl.classList.add('colab-df-spinner');\n",
              "      try {\n",
              "        const charts = await google.colab.kernel.invokeFunction(\n",
              "            'suggestCharts', [key], {});\n",
              "      } catch (error) {\n",
              "        console.error('Error during call to suggestCharts:', error);\n",
              "      }\n",
              "      quickchartButtonEl.classList.remove('colab-df-spinner');\n",
              "      quickchartButtonEl.classList.add('colab-df-quickchart-complete');\n",
              "    }\n",
              "    (() => {\n",
              "      let quickchartButtonEl =\n",
              "        document.querySelector('#df-a9f25b75-736e-4ff9-977b-2741febaaf2b button');\n",
              "      quickchartButtonEl.style.display =\n",
              "        google.colab.kernel.accessAllowed ? 'block' : 'none';\n",
              "    })();\n",
              "  </script>\n",
              "</div>\n",
              "\n",
              "    </div>\n",
              "  </div>\n"
            ],
            "application/vnd.google.colaboratory.intrinsic+json": {
              "type": "dataframe",
              "variable_name": "data",
              "summary": "{\n  \"name\": \"data\",\n  \"rows\": 52,\n  \"fields\": [\n    {\n      \"column\": \"YEAR\",\n      \"properties\": {\n        \"dtype\": \"int32\",\n        \"num_unique_values\": 52,\n        \"samples\": [\n          1987,\n          2009,\n          2015\n        ],\n        \"semantic_type\": \"\",\n        \"description\": \"\"\n      }\n    },\n    {\n      \"column\": \"TMID\",\n      \"properties\": {\n        \"dtype\": \"number\",\n        \"std\": 1.2389114009625752,\n        \"min\": 47.112021857923494,\n        \"max\": 52.35109289617486,\n        \"num_unique_values\": 52,\n        \"samples\": [\n          48.8027397260274,\n          48.704109589041096,\n          50.01917808219178\n        ],\n        \"semantic_type\": \"\",\n        \"description\": \"\"\n      }\n    }\n  ]\n}"
            }
          },
          "metadata": {},
          "execution_count": 93
        }
      ],
      "source": [
        "data = complete.reset_index()\n",
        "data.head()"
      ]
    },
    {
      "cell_type": "code",
      "execution_count": 94,
      "metadata": {
        "execution": {
          "iopub.execute_input": "2021-04-16T19:40:09.907118Z",
          "iopub.status.busy": "2021-04-16T19:40:09.906333Z",
          "iopub.status.idle": "2021-04-16T19:40:09.910678Z",
          "shell.execute_reply": "2021-04-16T19:40:09.910015Z"
        },
        "tags": [],
        "id": "UBi8i8XtDIMH",
        "colab": {
          "base_uri": "https://localhost:8080/"
        },
        "outputId": "4a31b5f2-c094-40b3-d219-c0342c590c90"
      },
      "outputs": [
        {
          "output_type": "execute_result",
          "data": {
            "text/plain": [
              "1994"
            ]
          },
          "metadata": {},
          "execution_count": 94
        }
      ],
      "source": [
        "offset = round(data['YEAR'].mean())\n",
        "offset"
      ]
    },
    {
      "cell_type": "code",
      "execution_count": 95,
      "metadata": {
        "execution": {
          "iopub.execute_input": "2021-04-16T19:40:09.918655Z",
          "iopub.status.busy": "2021-04-16T19:40:09.917835Z",
          "iopub.status.idle": "2021-04-16T19:40:09.922722Z",
          "shell.execute_reply": "2021-04-16T19:40:09.921649Z"
        },
        "tags": [],
        "id": "gz2cLuM3DIMH",
        "colab": {
          "base_uri": "https://localhost:8080/"
        },
        "outputId": "3888accf-0956-4a21-8497-5d00c6e92e05"
      },
      "outputs": [
        {
          "output_type": "execute_result",
          "data": {
            "text/plain": [
              "-0.5"
            ]
          },
          "metadata": {},
          "execution_count": 95
        }
      ],
      "source": [
        "data['x'] = data['YEAR'] - offset\n",
        "data['x'].mean()"
      ]
    },
    {
      "cell_type": "code",
      "execution_count": 96,
      "metadata": {
        "execution": {
          "iopub.execute_input": "2021-04-16T19:40:09.929320Z",
          "iopub.status.busy": "2021-04-16T19:40:09.928415Z",
          "iopub.status.idle": "2021-04-16T19:40:09.935474Z",
          "shell.execute_reply": "2021-04-16T19:40:09.936590Z"
        },
        "tags": [],
        "id": "VFEyzIsODIMH",
        "colab": {
          "base_uri": "https://localhost:8080/"
        },
        "outputId": "2b31f80b-bf39-4f39-f5d2-43ec87a93e57"
      },
      "outputs": [
        {
          "output_type": "execute_result",
          "data": {
            "text/plain": [
              "1.2389114009625752"
            ]
          },
          "metadata": {},
          "execution_count": 96
        }
      ],
      "source": [
        "data['y'] = data['TMID']\n",
        "data['y'].std()"
      ]
    },
    {
      "cell_type": "markdown",
      "metadata": {
        "tags": [],
        "id": "uD84z3BeDIMH"
      },
      "source": [
        "Now we can use StatsModels to estimate the parameters."
      ]
    },
    {
      "cell_type": "code",
      "execution_count": 97,
      "metadata": {
        "execution": {
          "iopub.execute_input": "2021-04-16T19:40:09.950115Z",
          "iopub.status.busy": "2021-04-16T19:40:09.948247Z",
          "iopub.status.idle": "2021-04-16T19:40:09.955668Z",
          "shell.execute_reply": "2021-04-16T19:40:09.954729Z"
        },
        "tags": [],
        "id": "F6jHKIBuDIMH",
        "colab": {
          "base_uri": "https://localhost:8080/"
        },
        "outputId": "6008b571-94e4-472a-e976-67fc447f33fe"
      },
      "outputs": [
        {
          "output_type": "execute_result",
          "data": {
            "text/plain": [
              "Intercept    49.430172\n",
              "x             0.044252\n",
              "dtype: float64"
            ]
          },
          "metadata": {},
          "execution_count": 97
        }
      ],
      "source": [
        "import statsmodels.formula.api as smf\n",
        "\n",
        "formula = 'y ~ x'\n",
        "results = smf.ols(formula, data=data).fit()\n",
        "results.params"
      ]
    },
    {
      "cell_type": "markdown",
      "metadata": {
        "tags": [],
        "id": "jE3EbysZDIMH"
      },
      "source": [
        "And compute the standard deviation of the parameters."
      ]
    },
    {
      "cell_type": "code",
      "execution_count": 98,
      "metadata": {
        "execution": {
          "iopub.execute_input": "2021-04-16T19:40:09.961504Z",
          "iopub.status.busy": "2021-04-16T19:40:09.960803Z",
          "iopub.status.idle": "2021-04-16T19:40:09.965281Z",
          "shell.execute_reply": "2021-04-16T19:40:09.964756Z"
        },
        "tags": [],
        "id": "FRVNDLbBDIMH",
        "colab": {
          "base_uri": "https://localhost:8080/"
        },
        "outputId": "7e7fc1ef-3b14-4f14-a8e6-dde245ee58d5"
      },
      "outputs": [
        {
          "output_type": "execute_result",
          "data": {
            "text/plain": [
              "1.041705765390206"
            ]
          },
          "metadata": {},
          "execution_count": 98
        }
      ],
      "source": [
        "results.resid.std()"
      ]
    },
    {
      "cell_type": "markdown",
      "metadata": {
        "tags": [],
        "id": "rEXdoh9DDIMH"
      },
      "source": [
        "According to the least squares regression model, annual average temperature is increasing by about 0.044 degrees F per year.\n",
        "\n",
        "To quantify the uncertainty of these parameters and generate predictions for the future, we can use Bayesian regression."
      ]
    },
    {
      "cell_type": "markdown",
      "metadata": {
        "id": "IkXywNUrDIMH"
      },
      "source": [
        "1. Use StatsModels to generate point estimates for the regression parameters.\n",
        "\n",
        "2. Choose priors for `slope`, `intercept`, and `sigma` based on these estimates, and use `make_joint3` to make a joint prior distribution.\n",
        "\n",
        "3. Compute the likelihood of the data and compute the posterior distribution of the parameters.\n",
        "\n",
        "4. Extract the posterior distribution of `slope`.  How confident are we that temperature is increasing?\n",
        "\n",
        "5. Draw a sample of parameters from the posterior distribution and use it to generate predictions up to 2067.\n",
        "\n",
        "6. Plot the median of the predictions and a 90% credible interval along with the observed data.  \n",
        "\n",
        "Does the model fit the data well?  How much do we expect annual average temperatures to increase over my (expected) lifetime?"
      ]
    },
    {
      "cell_type": "code",
      "execution_count": 99,
      "metadata": {
        "execution": {
          "iopub.execute_input": "2021-04-16T19:40:09.973077Z",
          "iopub.status.busy": "2021-04-16T19:40:09.972198Z",
          "iopub.status.idle": "2021-04-16T19:40:09.976051Z",
          "shell.execute_reply": "2021-04-16T19:40:09.976805Z"
        },
        "id": "fd5X841PDIMI"
      },
      "outputs": [],
      "source": [
        "qs = np.linspace(0, 0.1, num=51)\n",
        "prior_slope = make_uniform(qs, 'Slope')"
      ]
    },
    {
      "cell_type": "code",
      "execution_count": 100,
      "metadata": {
        "execution": {
          "iopub.execute_input": "2021-04-16T19:40:09.983354Z",
          "iopub.status.busy": "2021-04-16T19:40:09.982599Z",
          "iopub.status.idle": "2021-04-16T19:40:09.987585Z",
          "shell.execute_reply": "2021-04-16T19:40:09.986707Z"
        },
        "id": "Q6LfAamqDIMI"
      },
      "outputs": [],
      "source": [
        "qs = np.linspace(48, 52, num=41)\n",
        "prior_inter = make_uniform(qs, 'Intercept')"
      ]
    },
    {
      "cell_type": "code",
      "execution_count": 101,
      "metadata": {
        "execution": {
          "iopub.execute_input": "2021-04-16T19:40:09.994924Z",
          "iopub.status.busy": "2021-04-16T19:40:09.993916Z",
          "iopub.status.idle": "2021-04-16T19:40:09.997161Z",
          "shell.execute_reply": "2021-04-16T19:40:09.996368Z"
        },
        "id": "fxeNwdkTDIMI"
      },
      "outputs": [],
      "source": [
        "qs = np.linspace(0.5, 2, num=31)\n",
        "prior_sigma = make_uniform(qs, 'Sigma')"
      ]
    },
    {
      "cell_type": "code",
      "execution_count": 102,
      "metadata": {
        "execution": {
          "iopub.execute_input": "2021-04-16T19:40:10.005414Z",
          "iopub.status.busy": "2021-04-16T19:40:10.003358Z",
          "iopub.status.idle": "2021-04-16T19:40:10.031755Z",
          "shell.execute_reply": "2021-04-16T19:40:10.030704Z"
        },
        "id": "8sfXQfsxDIMI",
        "colab": {
          "base_uri": "https://localhost:8080/",
          "height": 175
        },
        "outputId": "fcd6e3d2-90d6-4351-fe2d-5f61f7d36192"
      },
      "outputs": [
        {
          "output_type": "execute_result",
          "data": {
            "text/plain": [
              "Slope  Intercept  Sigma\n",
              "0.0    48.0       0.50     0.000015\n",
              "                  0.55     0.000015\n",
              "                  0.60     0.000015\n",
              "dtype: float64"
            ],
            "text/html": [
              "<div>\n",
              "<style scoped>\n",
              "    .dataframe tbody tr th:only-of-type {\n",
              "        vertical-align: middle;\n",
              "    }\n",
              "\n",
              "    .dataframe tbody tr th {\n",
              "        vertical-align: top;\n",
              "    }\n",
              "\n",
              "    .dataframe thead th {\n",
              "        text-align: right;\n",
              "    }\n",
              "</style>\n",
              "<table border=\"1\" class=\"dataframe\">\n",
              "  <thead>\n",
              "    <tr style=\"text-align: right;\">\n",
              "      <th></th>\n",
              "      <th></th>\n",
              "      <th></th>\n",
              "      <th>probs</th>\n",
              "    </tr>\n",
              "    <tr>\n",
              "      <th>Slope</th>\n",
              "      <th>Intercept</th>\n",
              "      <th>Sigma</th>\n",
              "      <th></th>\n",
              "    </tr>\n",
              "  </thead>\n",
              "  <tbody>\n",
              "    <tr>\n",
              "      <th rowspan=\"3\" valign=\"top\">0.0</th>\n",
              "      <th rowspan=\"3\" valign=\"top\">48.0</th>\n",
              "      <th>0.50</th>\n",
              "      <td>0.000015</td>\n",
              "    </tr>\n",
              "    <tr>\n",
              "      <th>0.55</th>\n",
              "      <td>0.000015</td>\n",
              "    </tr>\n",
              "    <tr>\n",
              "      <th>0.60</th>\n",
              "      <td>0.000015</td>\n",
              "    </tr>\n",
              "  </tbody>\n",
              "</table>\n",
              "</div>"
            ]
          },
          "metadata": {},
          "execution_count": 102
        }
      ],
      "source": [
        "prior = make_joint3(prior_slope, prior_inter, prior_sigma)\n",
        "prior.head()"
      ]
    },
    {
      "cell_type": "code",
      "execution_count": 104,
      "metadata": {
        "execution": {
          "iopub.execute_input": "2021-04-16T19:40:10.145345Z",
          "iopub.status.busy": "2021-04-16T19:40:10.038506Z",
          "iopub.status.idle": "2021-04-16T19:40:51.077178Z",
          "shell.execute_reply": "2021-04-16T19:40:51.076708Z"
        },
        "id": "zcp6OE7rDIMI"
      },
      "outputs": [],
      "source": [
        "# The likelihood\n",
        "\n",
        "xs = data['x']\n",
        "ys = data['y']\n",
        "likelihood = prior.copy()\n",
        "\n",
        "for slope, inter, sigma in prior.index:\n",
        "    expected = slope * xs + inter\n",
        "    resid = ys - expected\n",
        "    densities = norm.pdf(resid, 0, sigma)\n",
        "    likelihood[slope, inter, sigma] = densities.prod()"
      ]
    },
    {
      "cell_type": "code",
      "execution_count": 105,
      "metadata": {
        "execution": {
          "iopub.execute_input": "2021-04-16T19:40:51.080748Z",
          "iopub.status.busy": "2021-04-16T19:40:51.080082Z",
          "iopub.status.idle": "2021-04-16T19:40:51.088787Z",
          "shell.execute_reply": "2021-04-16T19:40:51.088316Z"
        },
        "id": "QpiHrazKDIMI",
        "colab": {
          "base_uri": "https://localhost:8080/"
        },
        "outputId": "02757d60-18c2-4074-9a62-4bc93a32018f"
      },
      "outputs": [
        {
          "output_type": "execute_result",
          "data": {
            "text/plain": [
              "6.471589606597477e-36"
            ]
          },
          "metadata": {},
          "execution_count": 105
        }
      ],
      "source": [
        "posterior = prior * likelihood\n",
        "posterior.normalize()"
      ]
    },
    {
      "cell_type": "code",
      "execution_count": 106,
      "metadata": {
        "execution": {
          "iopub.execute_input": "2021-04-16T19:40:51.092397Z",
          "iopub.status.busy": "2021-04-16T19:40:51.091793Z",
          "iopub.status.idle": "2021-04-16T19:40:51.100270Z",
          "shell.execute_reply": "2021-04-16T19:40:51.099775Z"
        },
        "id": "A3octkeHDIMI"
      },
      "outputs": [],
      "source": [
        "posterior_slope = posterior.marginal(0)\n",
        "posterior_inter = posterior.marginal(1)\n",
        "posterior_sigma = posterior.marginal(2)"
      ]
    },
    {
      "cell_type": "code",
      "execution_count": 107,
      "metadata": {
        "execution": {
          "iopub.execute_input": "2021-04-16T19:40:51.135977Z",
          "iopub.status.busy": "2021-04-16T19:40:51.118308Z",
          "iopub.status.idle": "2021-04-16T19:40:51.267312Z",
          "shell.execute_reply": "2021-04-16T19:40:51.267692Z"
        },
        "id": "Iep9nLF3DIMI",
        "colab": {
          "base_uri": "https://localhost:8080/",
          "height": 487
        },
        "outputId": "920d5b0b-5d8f-48d6-bd8c-5c442c6678b5"
      },
      "outputs": [
        {
          "output_type": "display_data",
          "data": {
            "text/plain": [
              "<Figure size 640x480 with 1 Axes>"
            ],
            "image/png": "[encoded data removed]"
          },
          "metadata": {}
        }
      ],
      "source": [
        "posterior_sigma.plot()\n",
        "\n",
        "decorate(xlabel='$\\sigma$, standard deviation of $\\epsilon$',\n",
        "         ylabel='PDF',\n",
        "         title='Posterior marginal distribution of $\\sigma$')"
      ]
    },
    {
      "cell_type": "code",
      "execution_count": 108,
      "metadata": {
        "execution": {
          "iopub.execute_input": "2021-04-16T19:40:51.272380Z",
          "iopub.status.busy": "2021-04-16T19:40:51.271814Z",
          "iopub.status.idle": "2021-04-16T19:40:51.274600Z",
          "shell.execute_reply": "2021-04-16T19:40:51.274242Z"
        },
        "id": "y8smt7qjDIMI",
        "colab": {
          "base_uri": "https://localhost:8080/",
          "height": 487
        },
        "outputId": "c5e5a52d-6b7d-4606-8f85-63bf6367a150"
      },
      "outputs": [
        {
          "output_type": "display_data",
          "data": {
            "text/plain": [
              "<Figure size 640x480 with 1 Axes>"
            ],
            "image/png": "[encoded data removed]"
          },
          "metadata": {}
        }
      ],
      "source": [
        "posterior_inter.plot(color='C1')\n",
        "decorate(xlabel='intercept (inches)',\n",
        "         ylabel='PDF',\n",
        "         title='Posterior marginal distribution of intercept')"
      ]
    },
    {
      "cell_type": "code",
      "execution_count": 109,
      "metadata": {
        "execution": {
          "iopub.execute_input": "2021-04-16T19:40:51.306721Z",
          "iopub.status.busy": "2021-04-16T19:40:51.295008Z",
          "iopub.status.idle": "2021-04-16T19:40:51.412801Z",
          "shell.execute_reply": "2021-04-16T19:40:51.413372Z"
        },
        "id": "xytnILDMDIMI",
        "colab": {
          "base_uri": "https://localhost:8080/"
        },
        "outputId": "c93e5b83-6ff7-4813-da87-886ae94d8d9c"
      },
      "outputs": [
        {
          "output_type": "stream",
          "name": "stdout",
          "text": [
            "49.43 [49.2 49.7]\n"
          ]
        }
      ],
      "source": [
        "from utils import summarize\n",
        "\n",
        "summarize(posterior_inter)"
      ]
    },
    {
      "cell_type": "code",
      "source": [
        "posterior_inter.mean(), posterior_inter.credible_interval(0.9)"
      ],
      "metadata": {
        "colab": {
          "base_uri": "https://localhost:8080/"
        },
        "id": "fvzXenfPUoqt",
        "outputId": "c860894a-4dff-4b39-e188-c3ef10f89184"
      },
      "execution_count": 112,
      "outputs": [
        {
          "output_type": "execute_result",
          "data": {
            "text/plain": [
              "(49.430172755332116, array([49.2, 49.7]))"
            ]
          },
          "metadata": {},
          "execution_count": 112
        }
      ]
    },
    {
      "cell_type": "code",
      "execution_count": 110,
      "metadata": {
        "execution": {
          "iopub.execute_input": "2021-04-16T19:40:51.417909Z",
          "iopub.status.busy": "2021-04-16T19:40:51.417437Z",
          "iopub.status.idle": "2021-04-16T19:40:51.422135Z",
          "shell.execute_reply": "2021-04-16T19:40:51.421776Z"
        },
        "id": "bKz2ocvhDIMI",
        "colab": {
          "base_uri": "https://localhost:8080/",
          "height": 505
        },
        "outputId": "8b4cb614-ffe4-41bc-c638-c3fe8af441b8"
      },
      "outputs": [
        {
          "output_type": "stream",
          "name": "stdout",
          "text": [
            "0.044 [0.028 0.06 ]\n"
          ]
        },
        {
          "output_type": "display_data",
          "data": {
            "text/plain": [
              "<Figure size 640x480 with 1 Axes>"
            ],
            "image/png": "[encoded data removed]"
          },
          "metadata": {}
        }
      ],
      "source": [
        "posterior_slope.plot(color='C4')\n",
        "decorate(xlabel='Slope (inches per year)',\n",
        "         ylabel='PDF',\n",
        "         title='Posterior marginal distribution of slope')"
      ]
    },
    {
      "cell_type": "code",
      "execution_count": 111,
      "metadata": {
        "execution": {
          "iopub.execute_input": "2021-04-16T19:40:51.428829Z",
          "iopub.status.busy": "2021-04-16T19:40:51.426223Z",
          "iopub.status.idle": "2021-04-16T19:40:51.498420Z",
          "shell.execute_reply": "2021-04-16T19:40:51.498841Z"
        },
        "id": "7aIcWHbpDIMI",
        "colab": {
          "base_uri": "https://localhost:8080/"
        },
        "outputId": "4f93a365-37bd-44a2-fa27-7b88e78bfe1e"
      },
      "outputs": [
        {
          "output_type": "stream",
          "name": "stdout",
          "text": [
            "0.044 [0.028 0.06 ]\n"
          ]
        }
      ],
      "source": [
        "summarize(posterior_slope)"
      ]
    },
    {
      "cell_type": "code",
      "execution_count": 114,
      "metadata": {
        "execution": {
          "iopub.execute_input": "2021-04-16T19:40:51.502786Z",
          "iopub.status.busy": "2021-04-16T19:40:51.502071Z",
          "iopub.status.idle": "2021-04-16T19:40:51.505269Z",
          "shell.execute_reply": "2021-04-16T19:40:51.505614Z"
        },
        "id": "7A0FJSi9DIMI",
        "colab": {
          "base_uri": "https://localhost:8080/"
        },
        "outputId": "1c3a694b-ca92-4371-eb5a-42fa898f095c"
      },
      "outputs": [
        {
          "output_type": "execute_result",
          "data": {
            "text/plain": [
              "(101, 50)"
            ]
          },
          "metadata": {},
          "execution_count": 114
        }
      ],
      "source": [
        "sample = posterior.choice(101)\n",
        "\n",
        "years = np.arange(1967, 2067, 2)\n",
        "xs = years - offset\n",
        "\n",
        "pred = np.empty((len(sample), len(xs)))\n",
        "for i, (slope, inter, sigma) in enumerate(sample):\n",
        "    pred[i] = inter + slope * xs + norm(0, sigma).rvs(len(xs))\n",
        "\n",
        "pred.shape"
      ]
    },
    {
      "cell_type": "code",
      "execution_count": 115,
      "metadata": {
        "execution": {
          "iopub.execute_input": "2021-04-16T19:40:51.522757Z",
          "iopub.status.busy": "2021-04-16T19:40:51.520923Z",
          "iopub.status.idle": "2021-04-16T19:40:51.650753Z",
          "shell.execute_reply": "2021-04-16T19:40:51.651267Z"
        },
        "id": "OtYILB18DIMI",
        "colab": {
          "base_uri": "https://localhost:8080/"
        },
        "outputId": "2e57f218-cf1d-4298-a1e5-81d8c2a1c805"
      },
      "outputs": [
        {
          "output_type": "execute_result",
          "data": {
            "text/plain": [
              "(50,)"
            ]
          },
          "metadata": {},
          "execution_count": 115
        }
      ],
      "source": [
        "low, median, high = np.percentile(pred, [5, 50, 95], axis=0)\n",
        "median.shape"
      ]
    },
    {
      "cell_type": "code",
      "execution_count": 116,
      "metadata": {
        "execution": {
          "iopub.execute_input": "2021-04-16T19:40:51.654627Z",
          "iopub.status.busy": "2021-04-16T19:40:51.654214Z",
          "iopub.status.idle": "2021-04-16T19:40:51.658356Z",
          "shell.execute_reply": "2021-04-16T19:40:51.658836Z"
        },
        "id": "R_oq0dzEDIMI",
        "colab": {
          "base_uri": "https://localhost:8080/",
          "height": 487
        },
        "outputId": "ad707a34-19d3-4baf-cfb0-ce0479e869a6"
      },
      "outputs": [
        {
          "output_type": "display_data",
          "data": {
            "text/plain": [
              "<Figure size 640x480 with 1 Axes>"
            ],
            "image/png": "[encoded data removed]"
          },
          "metadata": {}
        }
      ],
      "source": [
        "plt.fill_between(years, low, high, alpha=0.1)\n",
        "plt.plot(years, median, color='C0')\n",
        "\n",
        "complete.plot(ls='', marker='o', alpha=0.5)\n",
        "\n",
        "decorate(xlabel='Year',\n",
        "         ylabel='Annual average of daily temperature (deg F)')"
      ]
    },
    {
      "cell_type": "code",
      "execution_count": 117,
      "metadata": {
        "id": "FB6-0mtXDIMI",
        "colab": {
          "base_uri": "https://localhost:8080/"
        },
        "outputId": "2f8284ad-d104-4a73-f4ce-8daf0fac7c90"
      },
      "outputs": [
        {
          "output_type": "execute_result",
          "data": {
            "text/plain": [
              "4.264154393858554"
            ]
          },
          "metadata": {},
          "execution_count": 117
        }
      ],
      "source": [
        "# median increase over my lifetime in degrees F\n",
        "\n",
        "median[-1] - median[0]"
      ]
    },
    {
      "cell_type": "code",
      "source": [],
      "metadata": {
        "id": "xFJt_KA1VOUa"
      },
      "execution_count": null,
      "outputs": []
    }
  ],
  "metadata": {
    "celltoolbar": "Tags",
    "kernelspec": {
      "display_name": "Python 3 (ipykernel)",
      "language": "python",
      "name": "python3"
    },
    "language_info": {
      "codemirror_mode": {
        "name": "ipython",
        "version": 3
      },
      "file_extension": ".py",
      "mimetype": "text/x-python",
      "name": "python",
      "nbconvert_exporter": "python",
      "pygments_lexer": "ipython3",
      "version": "3.10.12"
    },
    "colab": {
      "provenance": []
    }
  },
  "nbformat": 4,
  "nbformat_minor": 0
}